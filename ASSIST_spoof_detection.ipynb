{
  "cells": [
    {
      "cell_type": "markdown",
      "metadata": {
        "id": "view-in-github",
        "colab_type": "text"
      },
      "source": [
        "<a href=\"https://colab.research.google.com/github/gautamHCSCV/AI-ML/blob/main/ASSIST_spoof_detection.ipynb\" target=\"_parent\"><img src=\"https://colab.research.google.com/assets/colab-badge.svg\" alt=\"Open In Colab\"/></a>"
      ]
    },
    {
      "cell_type": "code",
      "source": [
        "import torch\n",
        "import torch.nn as nn\n",
        "import torch.optim as optim\n",
        "from torch.utils.data import Dataset, DataLoader\n",
        "import librosa\n",
        "import numpy as np\n",
        "import os"
      ],
      "metadata": {
        "id": "Kwq9Hx_aE1-7"
      },
      "execution_count": 1,
      "outputs": []
    },
    {
      "cell_type": "code",
      "source": [
        "from google.colab import drive\n",
        "drive.mount('/content/drive')"
      ],
      "metadata": {
        "colab": {
          "base_uri": "https://localhost:8080/"
        },
        "id": "JLKgn4r_5SzM",
        "outputId": "60bf07e4-a462-4a42-8c89-0f03ec13d7f4"
      },
      "execution_count": 2,
      "outputs": [
        {
          "output_type": "stream",
          "name": "stdout",
          "text": [
            "Drive already mounted at /content/drive; to attempt to forcibly remount, call drive.mount(\"/content/drive\", force_remount=True).\n"
          ]
        }
      ]
    },
    {
      "cell_type": "code",
      "source": [
        "import torch.nn as nn\n",
        "\n",
        "class ASSIST(nn.Module):\n",
        "    def __init__(self):\n",
        "        super(ASSIST, self).__init__()\n",
        "        \n",
        "        # define the convolutional layers\n",
        "        self.conv1 = nn.Conv1d(in_channels=1, out_channels=16, kernel_size=5, stride=2, padding=2)\n",
        "        self.bn1 = nn.BatchNorm1d(num_features=16)\n",
        "        self.pool1 = nn.MaxPool1d(kernel_size=2, stride=2)\n",
        "        \n",
        "        self.conv2 = nn.Conv1d(in_channels=16, out_channels=32, kernel_size=5, stride=2, padding=2)\n",
        "        self.bn2 = nn.BatchNorm1d(num_features=32)\n",
        "        self.pool2 = nn.MaxPool1d(kernel_size=2, stride=2)\n",
        "        \n",
        "        self.conv3 = nn.Conv1d(in_channels=32, out_channels=64, kernel_size=5, stride=2, padding=2)\n",
        "        self.bn3 = nn.BatchNorm1d(num_features=64)\n",
        "        self.pool3 = nn.MaxPool1d(kernel_size=2, stride=2)\n",
        "        \n",
        "        # define the fully connected layers\n",
        "        self.fc1 = nn.Linear(in_features=80000, out_features=128)\n",
        "        self.dropout = nn.Dropout(p=0.5)\n",
        "        self.fc2 = nn.Linear(in_features=128, out_features=2)\n",
        "        \n",
        "    def forward(self, x):\n",
        "        # apply the convolutional layers\n",
        "        x = x.view(x.shape[0],1, x.shape[1])\n",
        "\n",
        "        x = self.conv1(x)\n",
        "        x = self.bn1(x)\n",
        "        x = nn.functional.relu(x)\n",
        "        x = self.pool1(x)\n",
        "        \n",
        "        x = self.conv2(x)\n",
        "        x = self.bn2(x)\n",
        "        x = nn.functional.relu(x)\n",
        "        x = self.pool2(x)\n",
        "        \n",
        "        x = self.conv3(x)\n",
        "        x = self.bn3(x)\n",
        "        x = nn.functional.relu(x)\n",
        "        x = self.pool3(x)\n",
        "        \n",
        "        # reshape the output of the convolutional layers\n",
        "        x = x.view(x.size(0), -1)\n",
        "        \n",
        "        # apply the fully connected layers\n",
        "        x = self.fc1(x)\n",
        "        x = nn.functional.relu(x)\n",
        "        x = self.dropout(x)\n",
        "        x = self.fc2(x)\n",
        "        \n",
        "        return x\n"
      ],
      "metadata": {
        "id": "y03CaINwe12N"
      },
      "execution_count": 3,
      "outputs": []
    },
    {
      "cell_type": "code",
      "source": [
        "path = '/content/drive/MyDrive/DAI/Spoof Detection/'\n",
        "os.listdir(path)"
      ],
      "metadata": {
        "id": "r1LC6bs60znL",
        "colab": {
          "base_uri": "https://localhost:8080/"
        },
        "outputId": "ad2cec0e-24b4-4a7a-9555-8874d64353fb"
      },
      "execution_count": 4,
      "outputs": [
        {
          "output_type": "execute_result",
          "data": {
            "text/plain": [
              "['Audio_english', 'TTS_english']"
            ]
          },
          "metadata": {},
          "execution_count": 4
        }
      ]
    },
    {
      "cell_type": "code",
      "source": [
        "class AudioDataset(Dataset):\n",
        "    def __init__(self, real_audio_dir, fake_audio_dir):\n",
        "        self.real_audio_dir = real_audio_dir\n",
        "        self.fake_audio_dir = fake_audio_dir\n",
        "        self.real_audio_files = os.listdir(self.real_audio_dir)\n",
        "        self.fake_audio_files = os.listdir(self.fake_audio_dir)\n",
        "        self.sample_rate = 16000 # sample rate for all audio files\n",
        "        \n",
        "    def __len__(self):\n",
        "        return len(self.real_audio_files) + len(self.fake_audio_files)\n",
        "    \n",
        "    def __getitem__(self, idx):\n",
        "        if idx < len(self.real_audio_files):\n",
        "            audio_file = self.real_audio_files[idx]\n",
        "            label = 0 # 0 for real audio\n",
        "            audio_path = os.path.join(self.real_audio_dir, audio_file)\n",
        "        else:\n",
        "            audio_file = self.fake_audio_files[idx - len(self.real_audio_files)]\n",
        "            label = 1 # 1 for fake audio\n",
        "            audio_path = os.path.join(self.fake_audio_dir, audio_file)\n",
        "        \n",
        "        waveform, sr = librosa.load(audio_path, sr=self.sample_rate)\n",
        "        waveform = torch.from_numpy(waveform).float()\n",
        "        waveform_length = waveform.shape[0]\n",
        "        \n",
        "        # pad or truncate the waveform to have the same length\n",
        "        target_length = self.sample_rate * 5 # 5 seconds\n",
        "        if waveform_length < target_length:\n",
        "            num_missing_samples = target_length - waveform_length\n",
        "            padding = torch.zeros(num_missing_samples)\n",
        "            waveform = torch.cat((waveform, padding))\n",
        "        else:\n",
        "            waveform = waveform[:target_length]\n",
        "        \n",
        "        return waveform, label\n",
        "            \n",
        "# Define the data loaders\n",
        "dataset = AudioDataset(path+'Audio_english', path+'TTS_english')\n",
        "#test_dataset = AudioDataset('path/to/testing/data')\n",
        "\n",
        "print(len(dataset))\n",
        "\n",
        "train_dataset,test_dataset = torch.utils.data.dataset.random_split(dataset,[700,87])\n",
        "\n",
        "\n",
        "train_loader = DataLoader(train_dataset, batch_size=32, shuffle=True)\n",
        "test_loader = DataLoader(test_dataset, batch_size=32, shuffle=False)"
      ],
      "metadata": {
        "colab": {
          "base_uri": "https://localhost:8080/"
        },
        "id": "PelEX-vRe14E",
        "outputId": "793a374d-c027-4ba7-9656-213e42440274"
      },
      "execution_count": 5,
      "outputs": [
        {
          "output_type": "stream",
          "name": "stdout",
          "text": [
            "787\n"
          ]
        }
      ]
    },
    {
      "cell_type": "code",
      "source": [
        "a = iter(test_loader)\n",
        "b = next(a)\n",
        "print(b[0].shape)\n",
        "print(b[1])"
      ],
      "metadata": {
        "colab": {
          "base_uri": "https://localhost:8080/"
        },
        "id": "4PhDxgPLkd43",
        "outputId": "dddc33a5-6be1-4bb7-cb88-582e8c68a55c"
      },
      "execution_count": 6,
      "outputs": [
        {
          "output_type": "stream",
          "name": "stdout",
          "text": [
            "torch.Size([32, 80000])\n",
            "tensor([1, 0, 1, 0, 1, 1, 1, 1, 1, 0, 1, 0, 1, 0, 0, 0, 0, 1, 1, 1, 0, 1, 1, 1,\n",
            "        0, 0, 1, 0, 0, 1, 1, 0])\n"
          ]
        }
      ]
    },
    {
      "cell_type": "code",
      "source": [
        "def train(model, train_loader, test_loader, num_epochs):\n",
        "    device = torch.device(\"cuda:0\" if torch.cuda.is_available() else \"cpu\")\n",
        "    model.to(device)\n",
        "    criterion = nn.CrossEntropyLoss()\n",
        "    optimizer = optim.Adam(model.parameters(), lr=0.001)\n",
        "    \n",
        "    for epoch in range(num_epochs):\n",
        "        model.train()\n",
        "        train_loss = 0\n",
        "        train_acc = 0\n",
        "        \n",
        "        for data, label in train_loader:\n",
        "            data = data.to(device)\n",
        "            label = label.to(device)\n",
        "            optimizer.zero_grad()\n",
        "            output = model(data)\n",
        "            loss = criterion(output, label)\n",
        "            loss.backward()\n",
        "            optimizer.step()\n",
        "            train_loss += loss.item()\n",
        "            pred = output.argmax(dim=1, keepdim=True)\n",
        "            train_acc += pred.eq(label.view_as(pred)).sum().item()\n",
        "        \n",
        "        train_loss /= len(train_loader.dataset)\n",
        "        train_acc /= len(train_loader.dataset)\n",
        "        \n",
        "        model.eval()\n",
        "        test_loss = 0\n",
        "        test_acc = 0\n",
        "        \n",
        "        with torch.no_grad():\n",
        "            for data, label in test_loader:\n",
        "                data = data.to(device)\n",
        "                label = label.to(device)\n",
        "                output = model(data)\n",
        "                loss = criterion(output, label)\n",
        "                test_loss += loss.item()\n",
        "                pred = output.argmax(dim=1, keepdim=True)\n",
        "                test_acc += pred.eq(label.view_as(pred)).sum().item()\n",
        "        \n",
        "        test_loss /= len(test_loader.dataset)\n",
        "        test_acc /= len(test_loader.dataset)\n",
        "        \n",
        "        print(f\"Epoch {epoch+1}: Train Loss = {train_loss:.4f}, Train Accuracy = {train_acc:.4f}, Test Loss = {test_loss:.4f}, Test Accuracy = {test_acc:.4f}\")\n",
        "\n",
        "# Train the model\n",
        "model = ASSIST()\n",
        "train(model, train_loader, test_loader, num_epochs=10)"
      ],
      "metadata": {
        "colab": {
          "base_uri": "https://localhost:8080/"
        },
        "id": "C46mGnIUfCjz",
        "outputId": "20a84e7f-3e01-4684-9c9b-a1cc6bb2bed8"
      },
      "execution_count": null,
      "outputs": [
        {
          "output_type": "stream",
          "name": "stdout",
          "text": [
            "Epoch 1: Train Loss = 0.0640, Train Accuracy = 0.8471, Test Loss = 0.2689, Test Accuracy = 0.5977\n"
          ]
        }
      ]
    },
    {
      "cell_type": "code",
      "source": [],
      "metadata": {
        "id": "Pjhg461jfCnd"
      },
      "execution_count": null,
      "outputs": []
    },
    {
      "cell_type": "code",
      "source": [],
      "metadata": {
        "id": "t_pNO2P2e1_V"
      },
      "execution_count": null,
      "outputs": []
    }
  ],
  "metadata": {
    "colab": {
      "provenance": [],
      "include_colab_link": true
    },
    "kernelspec": {
      "display_name": "Python 3",
      "language": "python",
      "name": "python3"
    },
    "language_info": {
      "codemirror_mode": {
        "name": "ipython",
        "version": 3
      },
      "file_extension": ".py",
      "mimetype": "text/x-python",
      "name": "python",
      "nbconvert_exporter": "python",
      "pygments_lexer": "ipython3",
      "version": "3.7.4"
    },
    "accelerator": "GPU",
    "gpuClass": "standard"
  },
  "nbformat": 4,
  "nbformat_minor": 0
}