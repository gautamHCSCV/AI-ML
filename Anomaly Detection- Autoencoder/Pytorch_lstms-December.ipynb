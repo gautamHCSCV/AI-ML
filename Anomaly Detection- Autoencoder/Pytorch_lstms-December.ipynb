{
 "cells": [
  {
   "cell_type": "code",
   "execution_count": 1,
   "metadata": {},
   "outputs": [],
   "source": [
    "# Importing relevant libraries\n",
    "import numpy as np\n",
    "import matplotlib.pyplot as plt\n",
    "import pandas as pd\n",
    "from datetime import timedelta\n",
    "import os\n",
    "import sklearn.metrics as metrics\n",
    "from sklearn.preprocessing import MinMaxScaler\n",
    "import warnings \n",
    "warnings.filterwarnings('ignore')"
   ]
  },
  {
   "cell_type": "code",
   "execution_count": 2,
   "metadata": {},
   "outputs": [],
   "source": [
    "import torch\n",
    "import torch.nn as nn\n",
    "import torch.optim as optim\n",
    "import torchvision\n",
    "import torch.nn.functional as F\n",
    "from torch.utils.data import Dataset, DataLoader\n",
    "import torchvision.models as models"
   ]
  },
  {
   "cell_type": "code",
   "execution_count": 3,
   "metadata": {},
   "outputs": [
    {
     "name": "stdout",
     "output_type": "stream",
     "text": [
      "(2907222, 32)\n"
     ]
    },
    {
     "data": {
      "text/html": [
       "<div>\n",
       "<style scoped>\n",
       "    .dataframe tbody tr th:only-of-type {\n",
       "        vertical-align: middle;\n",
       "    }\n",
       "\n",
       "    .dataframe tbody tr th {\n",
       "        vertical-align: top;\n",
       "    }\n",
       "\n",
       "    .dataframe thead th {\n",
       "        text-align: right;\n",
       "    }\n",
       "</style>\n",
       "<table border=\"1\" class=\"dataframe\">\n",
       "  <thead>\n",
       "    <tr style=\"text-align: right;\">\n",
       "      <th></th>\n",
       "      <th>RS4B_ROAST.Campaign</th>\n",
       "      <th>RS4B_ROAST.Batch</th>\n",
       "      <th>RS4B_ROAST.Lot</th>\n",
       "      <th>244B_XV114.Out2</th>\n",
       "      <th>244B.CoffeeTargetTemperature</th>\n",
       "      <th>244B_RTOComms.TE8R051</th>\n",
       "      <th>244B_SC220.OutputVoltage</th>\n",
       "      <th>244B_RTOComms.XV285</th>\n",
       "      <th>244B_FCV110.Output</th>\n",
       "      <th>244B_Sequences.Roasting</th>\n",
       "      <th>...</th>\n",
       "      <th>244B_RTOComms.XV2854</th>\n",
       "      <th>244B_FCV129.Output</th>\n",
       "      <th>244B_FCV545.Output</th>\n",
       "      <th>244B_SC220.SpdHz</th>\n",
       "      <th>244B_PDT100.AIn</th>\n",
       "      <th>244B_TE202.AIn</th>\n",
       "      <th>244B_FQTI200.AIn</th>\n",
       "      <th>244B_TE200.AIn</th>\n",
       "      <th>244B_MachineModes.ModeMaster</th>\n",
       "      <th>244B_MachineModes.ModeDrum</th>\n",
       "    </tr>\n",
       "    <tr>\n",
       "      <th>DateTime</th>\n",
       "      <th></th>\n",
       "      <th></th>\n",
       "      <th></th>\n",
       "      <th></th>\n",
       "      <th></th>\n",
       "      <th></th>\n",
       "      <th></th>\n",
       "      <th></th>\n",
       "      <th></th>\n",
       "      <th></th>\n",
       "      <th></th>\n",
       "      <th></th>\n",
       "      <th></th>\n",
       "      <th></th>\n",
       "      <th></th>\n",
       "      <th></th>\n",
       "      <th></th>\n",
       "      <th></th>\n",
       "      <th></th>\n",
       "      <th></th>\n",
       "      <th></th>\n",
       "    </tr>\n",
       "  </thead>\n",
       "  <tbody>\n",
       "    <tr>\n",
       "      <th>2020-12-01 05:03:04.719</th>\n",
       "      <td>HOU 000119553</td>\n",
       "      <td>RS4B-RST000028</td>\n",
       "      <td>GRP113917</td>\n",
       "      <td>1.0</td>\n",
       "      <td>364.700012</td>\n",
       "      <td>324.299988</td>\n",
       "      <td>248.591751</td>\n",
       "      <td>99.786369</td>\n",
       "      <td>15.0</td>\n",
       "      <td>0.0</td>\n",
       "      <td>...</td>\n",
       "      <td>52.950912</td>\n",
       "      <td>30.0</td>\n",
       "      <td>100.0</td>\n",
       "      <td>32.150002</td>\n",
       "      <td>2.0</td>\n",
       "      <td>314.600006</td>\n",
       "      <td>-2.563555</td>\n",
       "      <td>260.200012</td>\n",
       "      <td>30.0</td>\n",
       "      <td>280.0</td>\n",
       "    </tr>\n",
       "    <tr>\n",
       "      <th>2020-12-01 05:03:04.782</th>\n",
       "      <td>HOU 000119553</td>\n",
       "      <td>RS4B-RST000028</td>\n",
       "      <td>GRP113917</td>\n",
       "      <td>1.0</td>\n",
       "      <td>363.900024</td>\n",
       "      <td>324.299988</td>\n",
       "      <td>248.591751</td>\n",
       "      <td>99.783318</td>\n",
       "      <td>15.0</td>\n",
       "      <td>0.0</td>\n",
       "      <td>...</td>\n",
       "      <td>55.794899</td>\n",
       "      <td>30.0</td>\n",
       "      <td>100.0</td>\n",
       "      <td>32.150002</td>\n",
       "      <td>2.0</td>\n",
       "      <td>314.600006</td>\n",
       "      <td>-2.441481</td>\n",
       "      <td>260.200012</td>\n",
       "      <td>30.0</td>\n",
       "      <td>280.0</td>\n",
       "    </tr>\n",
       "    <tr>\n",
       "      <th>2020-12-01 05:03:04.798</th>\n",
       "      <td>HOU 000119553</td>\n",
       "      <td>RS4B-RST000028</td>\n",
       "      <td>GRP113917</td>\n",
       "      <td>1.0</td>\n",
       "      <td>363.900024</td>\n",
       "      <td>324.299988</td>\n",
       "      <td>260.682373</td>\n",
       "      <td>99.783318</td>\n",
       "      <td>15.0</td>\n",
       "      <td>0.0</td>\n",
       "      <td>...</td>\n",
       "      <td>55.794899</td>\n",
       "      <td>30.0</td>\n",
       "      <td>100.0</td>\n",
       "      <td>33.712109</td>\n",
       "      <td>2.0</td>\n",
       "      <td>314.000000</td>\n",
       "      <td>-2.441481</td>\n",
       "      <td>259.899994</td>\n",
       "      <td>30.0</td>\n",
       "      <td>280.0</td>\n",
       "    </tr>\n",
       "    <tr>\n",
       "      <th>2020-12-01 05:03:05.226</th>\n",
       "      <td>HOU 000119553</td>\n",
       "      <td>RS4B-RST000028</td>\n",
       "      <td>GRP113917</td>\n",
       "      <td>1.0</td>\n",
       "      <td>363.700012</td>\n",
       "      <td>324.299988</td>\n",
       "      <td>260.682373</td>\n",
       "      <td>99.783318</td>\n",
       "      <td>15.0</td>\n",
       "      <td>0.0</td>\n",
       "      <td>...</td>\n",
       "      <td>55.794899</td>\n",
       "      <td>30.0</td>\n",
       "      <td>100.0</td>\n",
       "      <td>33.712109</td>\n",
       "      <td>2.0</td>\n",
       "      <td>314.000000</td>\n",
       "      <td>-2.441481</td>\n",
       "      <td>259.899994</td>\n",
       "      <td>30.0</td>\n",
       "      <td>280.0</td>\n",
       "    </tr>\n",
       "    <tr>\n",
       "      <th>2020-12-01 05:03:05.295</th>\n",
       "      <td>HOU 000119553</td>\n",
       "      <td>RS4B-RST000028</td>\n",
       "      <td>GRP113917</td>\n",
       "      <td>1.0</td>\n",
       "      <td>363.700012</td>\n",
       "      <td>323.700012</td>\n",
       "      <td>276.203430</td>\n",
       "      <td>99.786369</td>\n",
       "      <td>15.0</td>\n",
       "      <td>0.0</td>\n",
       "      <td>...</td>\n",
       "      <td>59.110016</td>\n",
       "      <td>30.0</td>\n",
       "      <td>100.0</td>\n",
       "      <td>35.703255</td>\n",
       "      <td>2.0</td>\n",
       "      <td>313.500000</td>\n",
       "      <td>-2.441481</td>\n",
       "      <td>259.399994</td>\n",
       "      <td>30.0</td>\n",
       "      <td>280.0</td>\n",
       "    </tr>\n",
       "  </tbody>\n",
       "</table>\n",
       "<p>5 rows × 32 columns</p>\n",
       "</div>"
      ],
      "text/plain": [
       "                        RS4B_ROAST.Campaign RS4B_ROAST.Batch RS4B_ROAST.Lot  \\\n",
       "DateTime                                                                      \n",
       "2020-12-01 05:03:04.719       HOU 000119553   RS4B-RST000028      GRP113917   \n",
       "2020-12-01 05:03:04.782       HOU 000119553   RS4B-RST000028      GRP113917   \n",
       "2020-12-01 05:03:04.798       HOU 000119553   RS4B-RST000028      GRP113917   \n",
       "2020-12-01 05:03:05.226       HOU 000119553   RS4B-RST000028      GRP113917   \n",
       "2020-12-01 05:03:05.295       HOU 000119553   RS4B-RST000028      GRP113917   \n",
       "\n",
       "                         244B_XV114.Out2  244B.CoffeeTargetTemperature  \\\n",
       "DateTime                                                                 \n",
       "2020-12-01 05:03:04.719              1.0                    364.700012   \n",
       "2020-12-01 05:03:04.782              1.0                    363.900024   \n",
       "2020-12-01 05:03:04.798              1.0                    363.900024   \n",
       "2020-12-01 05:03:05.226              1.0                    363.700012   \n",
       "2020-12-01 05:03:05.295              1.0                    363.700012   \n",
       "\n",
       "                         244B_RTOComms.TE8R051  244B_SC220.OutputVoltage  \\\n",
       "DateTime                                                                   \n",
       "2020-12-01 05:03:04.719             324.299988                248.591751   \n",
       "2020-12-01 05:03:04.782             324.299988                248.591751   \n",
       "2020-12-01 05:03:04.798             324.299988                260.682373   \n",
       "2020-12-01 05:03:05.226             324.299988                260.682373   \n",
       "2020-12-01 05:03:05.295             323.700012                276.203430   \n",
       "\n",
       "                         244B_RTOComms.XV285  244B_FCV110.Output  \\\n",
       "DateTime                                                           \n",
       "2020-12-01 05:03:04.719            99.786369                15.0   \n",
       "2020-12-01 05:03:04.782            99.783318                15.0   \n",
       "2020-12-01 05:03:04.798            99.783318                15.0   \n",
       "2020-12-01 05:03:05.226            99.783318                15.0   \n",
       "2020-12-01 05:03:05.295            99.786369                15.0   \n",
       "\n",
       "                         244B_Sequences.Roasting  ...  244B_RTOComms.XV2854  \\\n",
       "DateTime                                          ...                         \n",
       "2020-12-01 05:03:04.719                      0.0  ...             52.950912   \n",
       "2020-12-01 05:03:04.782                      0.0  ...             55.794899   \n",
       "2020-12-01 05:03:04.798                      0.0  ...             55.794899   \n",
       "2020-12-01 05:03:05.226                      0.0  ...             55.794899   \n",
       "2020-12-01 05:03:05.295                      0.0  ...             59.110016   \n",
       "\n",
       "                         244B_FCV129.Output  244B_FCV545.Output  \\\n",
       "DateTime                                                          \n",
       "2020-12-01 05:03:04.719                30.0               100.0   \n",
       "2020-12-01 05:03:04.782                30.0               100.0   \n",
       "2020-12-01 05:03:04.798                30.0               100.0   \n",
       "2020-12-01 05:03:05.226                30.0               100.0   \n",
       "2020-12-01 05:03:05.295                30.0               100.0   \n",
       "\n",
       "                         244B_SC220.SpdHz  244B_PDT100.AIn  244B_TE202.AIn  \\\n",
       "DateTime                                                                     \n",
       "2020-12-01 05:03:04.719         32.150002              2.0      314.600006   \n",
       "2020-12-01 05:03:04.782         32.150002              2.0      314.600006   \n",
       "2020-12-01 05:03:04.798         33.712109              2.0      314.000000   \n",
       "2020-12-01 05:03:05.226         33.712109              2.0      314.000000   \n",
       "2020-12-01 05:03:05.295         35.703255              2.0      313.500000   \n",
       "\n",
       "                         244B_FQTI200.AIn  244B_TE200.AIn  \\\n",
       "DateTime                                                    \n",
       "2020-12-01 05:03:04.719         -2.563555      260.200012   \n",
       "2020-12-01 05:03:04.782         -2.441481      260.200012   \n",
       "2020-12-01 05:03:04.798         -2.441481      259.899994   \n",
       "2020-12-01 05:03:05.226         -2.441481      259.899994   \n",
       "2020-12-01 05:03:05.295         -2.441481      259.399994   \n",
       "\n",
       "                         244B_MachineModes.ModeMaster  \\\n",
       "DateTime                                                \n",
       "2020-12-01 05:03:04.719                          30.0   \n",
       "2020-12-01 05:03:04.782                          30.0   \n",
       "2020-12-01 05:03:04.798                          30.0   \n",
       "2020-12-01 05:03:05.226                          30.0   \n",
       "2020-12-01 05:03:05.295                          30.0   \n",
       "\n",
       "                         244B_MachineModes.ModeDrum  \n",
       "DateTime                                             \n",
       "2020-12-01 05:03:04.719                       280.0  \n",
       "2020-12-01 05:03:04.782                       280.0  \n",
       "2020-12-01 05:03:04.798                       280.0  \n",
       "2020-12-01 05:03:05.226                       280.0  \n",
       "2020-12-01 05:03:05.295                       280.0  \n",
       "\n",
       "[5 rows x 32 columns]"
      ]
     },
     "execution_count": 3,
     "metadata": {},
     "output_type": "execute_result"
    }
   ],
   "source": [
    "df = pd.read_csv(\"Data/Anomaly_data/244B_15dec2020_selectd.csv\")\n",
    "df.columns = ['DateTime','RS4B_ROAST.Campaign','RS4B_ROAST.Batch','RS4B_ROAST.Lot','244B_XV114.Out2','244B.CoffeeTargetTemperature',\n",
    "              '244B_RTOComms.TE8R051','244B_SC220.OutputVoltage','244B_RTOComms.XV285','244B_FCV110.Output','244B_Sequences.Roasting',\n",
    "              '244B_FCV110.Feedback','244B_VST220.AIn','244B_CO270.AIn','244B_TE118.AIn','244B_TE117.AIn','244B_TE116.AIn',\n",
    "              '244B_SC220.SpdFB','244B_SC220.SpdSP','244B_SC150.SpdSP','244B_RTOComms.XV2853','244B_FCV127.Output','244B_FCV129.Feedback',\n",
    "              '244B_RTOComms.XV2854','244B_FCV129.Output','244B_FCV545.Output','244B_SC220.SpdHz','244B_PDT100.AIn','244B_TE202.AIn',\n",
    "              '244B_FQTI200.AIn','244B_TE200.AIn','244B_MachineModes.ModeMaster','244B_MachineModes.ModeDrum']\n",
    "df.dropna(axis=0,inplace=True)\n",
    "df[\"DateTime\"]=pd.to_datetime(df.DateTime)\n",
    "df.index = df.DateTime\n",
    "df.drop(['DateTime'],axis=1,inplace = True)\n",
    "print(df.shape)\n",
    "df.head()"
   ]
  },
  {
   "cell_type": "code",
   "execution_count": 4,
   "metadata": {},
   "outputs": [],
   "source": [
    "# Reading the Data\n",
    "# df=pd.read_csv(\"Data/244B_Feb2022_selctd_tags.csv\")\n",
    "# df.columns=[\"DateTime\", \"244B_XV114.Out2\", \"244B_TE116.AIn\", \"244B_TE117.AIn\", \"244B_TE118.AIn\", \"244B_TE200.AIn\" ,\"244B_TE201.AIn\" ,\"244B_TE202.AIn\", \"244B_SC220.SpdFB\", \"244B_SC220.SpdSP\", \"244B_CO270.AIn\", \"244B_PDT100.AIn\", \"244B_MachineModes.ModeMaster\", \"244B_MachineModes.ModeDrum\", \"RS4B_ROAST.Batch\" ,\"RS4B_ROAST.Campaign\", \"RS4B_ROAST.Lot\", \"244B_CLoop.CurveRaw\"]\n",
    "# df.dropna(axis=0,inplace=True)\n",
    "# df[\"DateTime\"]=pd.to_datetime(df.DateTime)\n",
    "# df.index = df.DateTime\n",
    "# df.drop(['DateTime'],axis=1,inplace = True)\n",
    "# print(df.shape)"
   ]
  },
  {
   "cell_type": "code",
   "execution_count": 5,
   "metadata": {
    "scrolled": true
   },
   "outputs": [
    {
     "name": "stdout",
     "output_type": "stream",
     "text": [
      "(1927887, 29)\n"
     ]
    },
    {
     "data": {
      "text/html": [
       "<div>\n",
       "<style scoped>\n",
       "    .dataframe tbody tr th:only-of-type {\n",
       "        vertical-align: middle;\n",
       "    }\n",
       "\n",
       "    .dataframe tbody tr th {\n",
       "        vertical-align: top;\n",
       "    }\n",
       "\n",
       "    .dataframe thead th {\n",
       "        text-align: right;\n",
       "    }\n",
       "</style>\n",
       "<table border=\"1\" class=\"dataframe\">\n",
       "  <thead>\n",
       "    <tr style=\"text-align: right;\">\n",
       "      <th></th>\n",
       "      <th>RS4B_ROAST.Campaign</th>\n",
       "      <th>RS4B_ROAST.Batch</th>\n",
       "      <th>RS4B_ROAST.Lot</th>\n",
       "      <th>244B.CoffeeTargetTemperature</th>\n",
       "      <th>244B_RTOComms.TE8R051</th>\n",
       "      <th>244B_SC220.OutputVoltage</th>\n",
       "      <th>244B_RTOComms.XV285</th>\n",
       "      <th>244B_FCV110.Output</th>\n",
       "      <th>244B_Sequences.Roasting</th>\n",
       "      <th>244B_FCV110.Feedback</th>\n",
       "      <th>...</th>\n",
       "      <th>244B_FCV127.Output</th>\n",
       "      <th>244B_FCV129.Feedback</th>\n",
       "      <th>244B_RTOComms.XV2854</th>\n",
       "      <th>244B_FCV129.Output</th>\n",
       "      <th>244B_FCV545.Output</th>\n",
       "      <th>244B_SC220.SpdHz</th>\n",
       "      <th>244B_PDT100.AIn</th>\n",
       "      <th>244B_TE202.AIn</th>\n",
       "      <th>244B_FQTI200.AIn</th>\n",
       "      <th>244B_TE200.AIn</th>\n",
       "    </tr>\n",
       "    <tr>\n",
       "      <th>DateTime</th>\n",
       "      <th></th>\n",
       "      <th></th>\n",
       "      <th></th>\n",
       "      <th></th>\n",
       "      <th></th>\n",
       "      <th></th>\n",
       "      <th></th>\n",
       "      <th></th>\n",
       "      <th></th>\n",
       "      <th></th>\n",
       "      <th></th>\n",
       "      <th></th>\n",
       "      <th></th>\n",
       "      <th></th>\n",
       "      <th></th>\n",
       "      <th></th>\n",
       "      <th></th>\n",
       "      <th></th>\n",
       "      <th></th>\n",
       "      <th></th>\n",
       "      <th></th>\n",
       "    </tr>\n",
       "  </thead>\n",
       "  <tbody>\n",
       "    <tr>\n",
       "      <th>2020-12-01 05:03:09.683</th>\n",
       "      <td>HOU 000119553</td>\n",
       "      <td>RS4B-RST000028</td>\n",
       "      <td>GRP113917</td>\n",
       "      <td>0.0</td>\n",
       "      <td>323.0</td>\n",
       "      <td>285.078033</td>\n",
       "      <td>99.786369</td>\n",
       "      <td>100.0</td>\n",
       "      <td>0.0</td>\n",
       "      <td>29.840998</td>\n",
       "      <td>...</td>\n",
       "      <td>0.0</td>\n",
       "      <td>29.197058</td>\n",
       "      <td>62.583195</td>\n",
       "      <td>30.0</td>\n",
       "      <td>54.755676</td>\n",
       "      <td>37.407848</td>\n",
       "      <td>-2.051393</td>\n",
       "      <td>310.399994</td>\n",
       "      <td>-2.441481</td>\n",
       "      <td>258.700012</td>\n",
       "    </tr>\n",
       "    <tr>\n",
       "      <th>2020-12-01 05:03:09.691</th>\n",
       "      <td>HOU 000119553</td>\n",
       "      <td>RS4B-RST000028</td>\n",
       "      <td>GRP113917</td>\n",
       "      <td>0.0</td>\n",
       "      <td>323.0</td>\n",
       "      <td>285.078033</td>\n",
       "      <td>99.786369</td>\n",
       "      <td>100.0</td>\n",
       "      <td>0.0</td>\n",
       "      <td>29.840998</td>\n",
       "      <td>...</td>\n",
       "      <td>0.0</td>\n",
       "      <td>29.197058</td>\n",
       "      <td>59.777493</td>\n",
       "      <td>30.0</td>\n",
       "      <td>54.755676</td>\n",
       "      <td>37.407848</td>\n",
       "      <td>-2.051393</td>\n",
       "      <td>310.399994</td>\n",
       "      <td>-2.441481</td>\n",
       "      <td>258.700012</td>\n",
       "    </tr>\n",
       "    <tr>\n",
       "      <th>2020-12-01 05:03:09.693</th>\n",
       "      <td>HOU 000119553</td>\n",
       "      <td>RS4B-RST000028</td>\n",
       "      <td>GRP113917</td>\n",
       "      <td>0.0</td>\n",
       "      <td>323.0</td>\n",
       "      <td>271.029022</td>\n",
       "      <td>99.786369</td>\n",
       "      <td>100.0</td>\n",
       "      <td>0.0</td>\n",
       "      <td>29.840998</td>\n",
       "      <td>...</td>\n",
       "      <td>0.0</td>\n",
       "      <td>29.197058</td>\n",
       "      <td>59.777493</td>\n",
       "      <td>30.0</td>\n",
       "      <td>54.755676</td>\n",
       "      <td>35.632324</td>\n",
       "      <td>-2.051393</td>\n",
       "      <td>310.399994</td>\n",
       "      <td>-2.441481</td>\n",
       "      <td>258.700012</td>\n",
       "    </tr>\n",
       "    <tr>\n",
       "      <th>2020-12-01 05:03:09.695</th>\n",
       "      <td>HOU 000119553</td>\n",
       "      <td>RS4B-RST000028</td>\n",
       "      <td>GRP113917</td>\n",
       "      <td>0.0</td>\n",
       "      <td>323.0</td>\n",
       "      <td>271.029022</td>\n",
       "      <td>99.786369</td>\n",
       "      <td>100.0</td>\n",
       "      <td>0.0</td>\n",
       "      <td>29.840998</td>\n",
       "      <td>...</td>\n",
       "      <td>0.0</td>\n",
       "      <td>29.197058</td>\n",
       "      <td>59.777493</td>\n",
       "      <td>30.0</td>\n",
       "      <td>54.755676</td>\n",
       "      <td>35.632324</td>\n",
       "      <td>-2.051393</td>\n",
       "      <td>310.399994</td>\n",
       "      <td>-2.441481</td>\n",
       "      <td>258.700012</td>\n",
       "    </tr>\n",
       "    <tr>\n",
       "      <th>2020-12-01 05:03:09.696</th>\n",
       "      <td>HOU 000119553</td>\n",
       "      <td>RS4B-RST000028</td>\n",
       "      <td>GRP113917</td>\n",
       "      <td>0.0</td>\n",
       "      <td>323.0</td>\n",
       "      <td>271.029022</td>\n",
       "      <td>99.786369</td>\n",
       "      <td>100.0</td>\n",
       "      <td>0.0</td>\n",
       "      <td>29.840998</td>\n",
       "      <td>...</td>\n",
       "      <td>0.0</td>\n",
       "      <td>29.197058</td>\n",
       "      <td>59.777493</td>\n",
       "      <td>30.0</td>\n",
       "      <td>54.755676</td>\n",
       "      <td>35.632324</td>\n",
       "      <td>-2.051393</td>\n",
       "      <td>310.399994</td>\n",
       "      <td>-2.441481</td>\n",
       "      <td>258.700012</td>\n",
       "    </tr>\n",
       "  </tbody>\n",
       "</table>\n",
       "<p>5 rows × 29 columns</p>\n",
       "</div>"
      ],
      "text/plain": [
       "                        RS4B_ROAST.Campaign RS4B_ROAST.Batch RS4B_ROAST.Lot  \\\n",
       "DateTime                                                                      \n",
       "2020-12-01 05:03:09.683       HOU 000119553   RS4B-RST000028      GRP113917   \n",
       "2020-12-01 05:03:09.691       HOU 000119553   RS4B-RST000028      GRP113917   \n",
       "2020-12-01 05:03:09.693       HOU 000119553   RS4B-RST000028      GRP113917   \n",
       "2020-12-01 05:03:09.695       HOU 000119553   RS4B-RST000028      GRP113917   \n",
       "2020-12-01 05:03:09.696       HOU 000119553   RS4B-RST000028      GRP113917   \n",
       "\n",
       "                         244B.CoffeeTargetTemperature  244B_RTOComms.TE8R051  \\\n",
       "DateTime                                                                       \n",
       "2020-12-01 05:03:09.683                           0.0                  323.0   \n",
       "2020-12-01 05:03:09.691                           0.0                  323.0   \n",
       "2020-12-01 05:03:09.693                           0.0                  323.0   \n",
       "2020-12-01 05:03:09.695                           0.0                  323.0   \n",
       "2020-12-01 05:03:09.696                           0.0                  323.0   \n",
       "\n",
       "                         244B_SC220.OutputVoltage  244B_RTOComms.XV285  \\\n",
       "DateTime                                                                 \n",
       "2020-12-01 05:03:09.683                285.078033            99.786369   \n",
       "2020-12-01 05:03:09.691                285.078033            99.786369   \n",
       "2020-12-01 05:03:09.693                271.029022            99.786369   \n",
       "2020-12-01 05:03:09.695                271.029022            99.786369   \n",
       "2020-12-01 05:03:09.696                271.029022            99.786369   \n",
       "\n",
       "                         244B_FCV110.Output  244B_Sequences.Roasting  \\\n",
       "DateTime                                                               \n",
       "2020-12-01 05:03:09.683               100.0                      0.0   \n",
       "2020-12-01 05:03:09.691               100.0                      0.0   \n",
       "2020-12-01 05:03:09.693               100.0                      0.0   \n",
       "2020-12-01 05:03:09.695               100.0                      0.0   \n",
       "2020-12-01 05:03:09.696               100.0                      0.0   \n",
       "\n",
       "                         244B_FCV110.Feedback  ...  244B_FCV127.Output  \\\n",
       "DateTime                                       ...                       \n",
       "2020-12-01 05:03:09.683             29.840998  ...                 0.0   \n",
       "2020-12-01 05:03:09.691             29.840998  ...                 0.0   \n",
       "2020-12-01 05:03:09.693             29.840998  ...                 0.0   \n",
       "2020-12-01 05:03:09.695             29.840998  ...                 0.0   \n",
       "2020-12-01 05:03:09.696             29.840998  ...                 0.0   \n",
       "\n",
       "                         244B_FCV129.Feedback  244B_RTOComms.XV2854  \\\n",
       "DateTime                                                              \n",
       "2020-12-01 05:03:09.683             29.197058             62.583195   \n",
       "2020-12-01 05:03:09.691             29.197058             59.777493   \n",
       "2020-12-01 05:03:09.693             29.197058             59.777493   \n",
       "2020-12-01 05:03:09.695             29.197058             59.777493   \n",
       "2020-12-01 05:03:09.696             29.197058             59.777493   \n",
       "\n",
       "                         244B_FCV129.Output  244B_FCV545.Output  \\\n",
       "DateTime                                                          \n",
       "2020-12-01 05:03:09.683                30.0           54.755676   \n",
       "2020-12-01 05:03:09.691                30.0           54.755676   \n",
       "2020-12-01 05:03:09.693                30.0           54.755676   \n",
       "2020-12-01 05:03:09.695                30.0           54.755676   \n",
       "2020-12-01 05:03:09.696                30.0           54.755676   \n",
       "\n",
       "                         244B_SC220.SpdHz  244B_PDT100.AIn  244B_TE202.AIn  \\\n",
       "DateTime                                                                     \n",
       "2020-12-01 05:03:09.683         37.407848        -2.051393      310.399994   \n",
       "2020-12-01 05:03:09.691         37.407848        -2.051393      310.399994   \n",
       "2020-12-01 05:03:09.693         35.632324        -2.051393      310.399994   \n",
       "2020-12-01 05:03:09.695         35.632324        -2.051393      310.399994   \n",
       "2020-12-01 05:03:09.696         35.632324        -2.051393      310.399994   \n",
       "\n",
       "                         244B_FQTI200.AIn  244B_TE200.AIn  \n",
       "DateTime                                                   \n",
       "2020-12-01 05:03:09.683         -2.441481      258.700012  \n",
       "2020-12-01 05:03:09.691         -2.441481      258.700012  \n",
       "2020-12-01 05:03:09.693         -2.441481      258.700012  \n",
       "2020-12-01 05:03:09.695         -2.441481      258.700012  \n",
       "2020-12-01 05:03:09.696         -2.441481      258.700012  \n",
       "\n",
       "[5 rows x 29 columns]"
      ]
     },
     "execution_count": 5,
     "metadata": {},
     "output_type": "execute_result"
    }
   ],
   "source": [
    "df = df[(df['244B_MachineModes.ModeDrum'] >= 230) & (df['244B_MachineModes.ModeDrum'] <= 250) & (df['244B_MachineModes.ModeMaster'] == 30)] \n",
    "df.drop(['244B_MachineModes.ModeMaster','244B_MachineModes.ModeDrum','244B_XV114.Out2'],axis=1,inplace=True)\n",
    "print(df.shape)\n",
    "df.head()"
   ]
  },
  {
   "cell_type": "code",
   "execution_count": 6,
   "metadata": {},
   "outputs": [
    {
     "data": {
      "text/html": [
       "<div>\n",
       "<style scoped>\n",
       "    .dataframe tbody tr th:only-of-type {\n",
       "        vertical-align: middle;\n",
       "    }\n",
       "\n",
       "    .dataframe tbody tr th {\n",
       "        vertical-align: top;\n",
       "    }\n",
       "\n",
       "    .dataframe thead th {\n",
       "        text-align: right;\n",
       "    }\n",
       "</style>\n",
       "<table border=\"1\" class=\"dataframe\">\n",
       "  <thead>\n",
       "    <tr style=\"text-align: right;\">\n",
       "      <th></th>\n",
       "      <th>RS4B_ROAST.Campaign</th>\n",
       "      <th>RS4B_ROAST.Batch</th>\n",
       "      <th>RS4B_ROAST.Lot</th>\n",
       "      <th>244B.CoffeeTargetTemperature</th>\n",
       "      <th>244B_RTOComms.TE8R051</th>\n",
       "      <th>244B_SC220.OutputVoltage</th>\n",
       "      <th>244B_RTOComms.XV285</th>\n",
       "      <th>244B_FCV110.Output</th>\n",
       "      <th>244B_Sequences.Roasting</th>\n",
       "      <th>244B_FCV110.Feedback</th>\n",
       "      <th>...</th>\n",
       "      <th>244B_FCV129.Output</th>\n",
       "      <th>244B_FCV545.Output</th>\n",
       "      <th>244B_SC220.SpdHz</th>\n",
       "      <th>244B_PDT100.AIn</th>\n",
       "      <th>244B_TE202.AIn</th>\n",
       "      <th>244B_FQTI200.AIn</th>\n",
       "      <th>244B_TE200.AIn</th>\n",
       "      <th>cycle</th>\n",
       "      <th>batch</th>\n",
       "      <th>coffee_type</th>\n",
       "    </tr>\n",
       "    <tr>\n",
       "      <th>DateTime</th>\n",
       "      <th></th>\n",
       "      <th></th>\n",
       "      <th></th>\n",
       "      <th></th>\n",
       "      <th></th>\n",
       "      <th></th>\n",
       "      <th></th>\n",
       "      <th></th>\n",
       "      <th></th>\n",
       "      <th></th>\n",
       "      <th></th>\n",
       "      <th></th>\n",
       "      <th></th>\n",
       "      <th></th>\n",
       "      <th></th>\n",
       "      <th></th>\n",
       "      <th></th>\n",
       "      <th></th>\n",
       "      <th></th>\n",
       "      <th></th>\n",
       "      <th></th>\n",
       "    </tr>\n",
       "  </thead>\n",
       "  <tbody>\n",
       "    <tr>\n",
       "      <th>2020-12-01 05:03:09.683</th>\n",
       "      <td>HOU 000119553</td>\n",
       "      <td>RS4B-RST000028</td>\n",
       "      <td>GRP113917</td>\n",
       "      <td>0.0</td>\n",
       "      <td>323.0</td>\n",
       "      <td>285.078033</td>\n",
       "      <td>99.786369</td>\n",
       "      <td>100.0</td>\n",
       "      <td>0.0</td>\n",
       "      <td>29.840998</td>\n",
       "      <td>...</td>\n",
       "      <td>30.0</td>\n",
       "      <td>54.755676</td>\n",
       "      <td>37.407848</td>\n",
       "      <td>-2.051393</td>\n",
       "      <td>310.399994</td>\n",
       "      <td>-2.441481</td>\n",
       "      <td>258.700012</td>\n",
       "      <td>27</td>\n",
       "      <td>0</td>\n",
       "      <td>8</td>\n",
       "    </tr>\n",
       "    <tr>\n",
       "      <th>2020-12-01 05:03:09.691</th>\n",
       "      <td>HOU 000119553</td>\n",
       "      <td>RS4B-RST000028</td>\n",
       "      <td>GRP113917</td>\n",
       "      <td>0.0</td>\n",
       "      <td>323.0</td>\n",
       "      <td>285.078033</td>\n",
       "      <td>99.786369</td>\n",
       "      <td>100.0</td>\n",
       "      <td>0.0</td>\n",
       "      <td>29.840998</td>\n",
       "      <td>...</td>\n",
       "      <td>30.0</td>\n",
       "      <td>54.755676</td>\n",
       "      <td>37.407848</td>\n",
       "      <td>-2.051393</td>\n",
       "      <td>310.399994</td>\n",
       "      <td>-2.441481</td>\n",
       "      <td>258.700012</td>\n",
       "      <td>27</td>\n",
       "      <td>0</td>\n",
       "      <td>8</td>\n",
       "    </tr>\n",
       "    <tr>\n",
       "      <th>2020-12-01 05:03:09.693</th>\n",
       "      <td>HOU 000119553</td>\n",
       "      <td>RS4B-RST000028</td>\n",
       "      <td>GRP113917</td>\n",
       "      <td>0.0</td>\n",
       "      <td>323.0</td>\n",
       "      <td>271.029022</td>\n",
       "      <td>99.786369</td>\n",
       "      <td>100.0</td>\n",
       "      <td>0.0</td>\n",
       "      <td>29.840998</td>\n",
       "      <td>...</td>\n",
       "      <td>30.0</td>\n",
       "      <td>54.755676</td>\n",
       "      <td>35.632324</td>\n",
       "      <td>-2.051393</td>\n",
       "      <td>310.399994</td>\n",
       "      <td>-2.441481</td>\n",
       "      <td>258.700012</td>\n",
       "      <td>27</td>\n",
       "      <td>0</td>\n",
       "      <td>8</td>\n",
       "    </tr>\n",
       "    <tr>\n",
       "      <th>2020-12-01 05:03:09.695</th>\n",
       "      <td>HOU 000119553</td>\n",
       "      <td>RS4B-RST000028</td>\n",
       "      <td>GRP113917</td>\n",
       "      <td>0.0</td>\n",
       "      <td>323.0</td>\n",
       "      <td>271.029022</td>\n",
       "      <td>99.786369</td>\n",
       "      <td>100.0</td>\n",
       "      <td>0.0</td>\n",
       "      <td>29.840998</td>\n",
       "      <td>...</td>\n",
       "      <td>30.0</td>\n",
       "      <td>54.755676</td>\n",
       "      <td>35.632324</td>\n",
       "      <td>-2.051393</td>\n",
       "      <td>310.399994</td>\n",
       "      <td>-2.441481</td>\n",
       "      <td>258.700012</td>\n",
       "      <td>27</td>\n",
       "      <td>0</td>\n",
       "      <td>8</td>\n",
       "    </tr>\n",
       "    <tr>\n",
       "      <th>2020-12-01 05:03:09.696</th>\n",
       "      <td>HOU 000119553</td>\n",
       "      <td>RS4B-RST000028</td>\n",
       "      <td>GRP113917</td>\n",
       "      <td>0.0</td>\n",
       "      <td>323.0</td>\n",
       "      <td>271.029022</td>\n",
       "      <td>99.786369</td>\n",
       "      <td>100.0</td>\n",
       "      <td>0.0</td>\n",
       "      <td>29.840998</td>\n",
       "      <td>...</td>\n",
       "      <td>30.0</td>\n",
       "      <td>54.755676</td>\n",
       "      <td>35.632324</td>\n",
       "      <td>-2.051393</td>\n",
       "      <td>310.399994</td>\n",
       "      <td>-2.441481</td>\n",
       "      <td>258.700012</td>\n",
       "      <td>27</td>\n",
       "      <td>0</td>\n",
       "      <td>8</td>\n",
       "    </tr>\n",
       "  </tbody>\n",
       "</table>\n",
       "<p>5 rows × 32 columns</p>\n",
       "</div>"
      ],
      "text/plain": [
       "                        RS4B_ROAST.Campaign RS4B_ROAST.Batch RS4B_ROAST.Lot  \\\n",
       "DateTime                                                                      \n",
       "2020-12-01 05:03:09.683       HOU 000119553   RS4B-RST000028      GRP113917   \n",
       "2020-12-01 05:03:09.691       HOU 000119553   RS4B-RST000028      GRP113917   \n",
       "2020-12-01 05:03:09.693       HOU 000119553   RS4B-RST000028      GRP113917   \n",
       "2020-12-01 05:03:09.695       HOU 000119553   RS4B-RST000028      GRP113917   \n",
       "2020-12-01 05:03:09.696       HOU 000119553   RS4B-RST000028      GRP113917   \n",
       "\n",
       "                         244B.CoffeeTargetTemperature  244B_RTOComms.TE8R051  \\\n",
       "DateTime                                                                       \n",
       "2020-12-01 05:03:09.683                           0.0                  323.0   \n",
       "2020-12-01 05:03:09.691                           0.0                  323.0   \n",
       "2020-12-01 05:03:09.693                           0.0                  323.0   \n",
       "2020-12-01 05:03:09.695                           0.0                  323.0   \n",
       "2020-12-01 05:03:09.696                           0.0                  323.0   \n",
       "\n",
       "                         244B_SC220.OutputVoltage  244B_RTOComms.XV285  \\\n",
       "DateTime                                                                 \n",
       "2020-12-01 05:03:09.683                285.078033            99.786369   \n",
       "2020-12-01 05:03:09.691                285.078033            99.786369   \n",
       "2020-12-01 05:03:09.693                271.029022            99.786369   \n",
       "2020-12-01 05:03:09.695                271.029022            99.786369   \n",
       "2020-12-01 05:03:09.696                271.029022            99.786369   \n",
       "\n",
       "                         244B_FCV110.Output  244B_Sequences.Roasting  \\\n",
       "DateTime                                                               \n",
       "2020-12-01 05:03:09.683               100.0                      0.0   \n",
       "2020-12-01 05:03:09.691               100.0                      0.0   \n",
       "2020-12-01 05:03:09.693               100.0                      0.0   \n",
       "2020-12-01 05:03:09.695               100.0                      0.0   \n",
       "2020-12-01 05:03:09.696               100.0                      0.0   \n",
       "\n",
       "                         244B_FCV110.Feedback  ...  244B_FCV129.Output  \\\n",
       "DateTime                                       ...                       \n",
       "2020-12-01 05:03:09.683             29.840998  ...                30.0   \n",
       "2020-12-01 05:03:09.691             29.840998  ...                30.0   \n",
       "2020-12-01 05:03:09.693             29.840998  ...                30.0   \n",
       "2020-12-01 05:03:09.695             29.840998  ...                30.0   \n",
       "2020-12-01 05:03:09.696             29.840998  ...                30.0   \n",
       "\n",
       "                         244B_FCV545.Output  244B_SC220.SpdHz  \\\n",
       "DateTime                                                        \n",
       "2020-12-01 05:03:09.683           54.755676         37.407848   \n",
       "2020-12-01 05:03:09.691           54.755676         37.407848   \n",
       "2020-12-01 05:03:09.693           54.755676         35.632324   \n",
       "2020-12-01 05:03:09.695           54.755676         35.632324   \n",
       "2020-12-01 05:03:09.696           54.755676         35.632324   \n",
       "\n",
       "                         244B_PDT100.AIn  244B_TE202.AIn  244B_FQTI200.AIn  \\\n",
       "DateTime                                                                     \n",
       "2020-12-01 05:03:09.683        -2.051393      310.399994         -2.441481   \n",
       "2020-12-01 05:03:09.691        -2.051393      310.399994         -2.441481   \n",
       "2020-12-01 05:03:09.693        -2.051393      310.399994         -2.441481   \n",
       "2020-12-01 05:03:09.695        -2.051393      310.399994         -2.441481   \n",
       "2020-12-01 05:03:09.696        -2.051393      310.399994         -2.441481   \n",
       "\n",
       "                         244B_TE200.AIn  cycle  batch  coffee_type  \n",
       "DateTime                                                            \n",
       "2020-12-01 05:03:09.683      258.700012     27      0            8  \n",
       "2020-12-01 05:03:09.691      258.700012     27      0            8  \n",
       "2020-12-01 05:03:09.693      258.700012     27      0            8  \n",
       "2020-12-01 05:03:09.695      258.700012     27      0            8  \n",
       "2020-12-01 05:03:09.696      258.700012     27      0            8  \n",
       "\n",
       "[5 rows x 32 columns]"
      ]
     },
     "execution_count": 6,
     "metadata": {},
     "output_type": "execute_result"
    }
   ],
   "source": [
    "# iteration batch [0,24] ->then cycle [0,17]\n",
    "# length = 1000 data points, RS4B_ROAST.Campaign\n",
    "\n",
    "from sklearn.preprocessing import LabelEncoder\n",
    "enc1 = LabelEncoder()\n",
    "df['cycle'] = enc1.fit_transform(df['RS4B_ROAST.Batch'])\n",
    "enc = LabelEncoder()\n",
    "df['batch'] = enc.fit_transform(df['RS4B_ROAST.Lot'])\n",
    "enc2 = LabelEncoder()\n",
    "df['coffee_type'] = enc2.fit_transform(df['RS4B_ROAST.Campaign'])\n",
    "df.head()"
   ]
  },
  {
   "cell_type": "code",
   "execution_count": 7,
   "metadata": {},
   "outputs": [
    {
     "name": "stdout",
     "output_type": "stream",
     "text": [
      "(410434, 29)\n"
     ]
    },
    {
     "data": {
      "text/html": [
       "<div>\n",
       "<style scoped>\n",
       "    .dataframe tbody tr th:only-of-type {\n",
       "        vertical-align: middle;\n",
       "    }\n",
       "\n",
       "    .dataframe tbody tr th {\n",
       "        vertical-align: top;\n",
       "    }\n",
       "\n",
       "    .dataframe thead th {\n",
       "        text-align: right;\n",
       "    }\n",
       "</style>\n",
       "<table border=\"1\" class=\"dataframe\">\n",
       "  <thead>\n",
       "    <tr style=\"text-align: right;\">\n",
       "      <th></th>\n",
       "      <th>244B.CoffeeTargetTemperature</th>\n",
       "      <th>244B_RTOComms.TE8R051</th>\n",
       "      <th>244B_SC220.OutputVoltage</th>\n",
       "      <th>244B_RTOComms.XV285</th>\n",
       "      <th>244B_FCV110.Output</th>\n",
       "      <th>244B_Sequences.Roasting</th>\n",
       "      <th>244B_FCV110.Feedback</th>\n",
       "      <th>244B_VST220.AIn</th>\n",
       "      <th>244B_CO270.AIn</th>\n",
       "      <th>244B_TE118.AIn</th>\n",
       "      <th>...</th>\n",
       "      <th>244B_FCV129.Output</th>\n",
       "      <th>244B_FCV545.Output</th>\n",
       "      <th>244B_SC220.SpdHz</th>\n",
       "      <th>244B_PDT100.AIn</th>\n",
       "      <th>244B_TE202.AIn</th>\n",
       "      <th>244B_FQTI200.AIn</th>\n",
       "      <th>244B_TE200.AIn</th>\n",
       "      <th>cycle</th>\n",
       "      <th>batch</th>\n",
       "      <th>coffee_type</th>\n",
       "    </tr>\n",
       "    <tr>\n",
       "      <th>DateTime</th>\n",
       "      <th></th>\n",
       "      <th></th>\n",
       "      <th></th>\n",
       "      <th></th>\n",
       "      <th></th>\n",
       "      <th></th>\n",
       "      <th></th>\n",
       "      <th></th>\n",
       "      <th></th>\n",
       "      <th></th>\n",
       "      <th></th>\n",
       "      <th></th>\n",
       "      <th></th>\n",
       "      <th></th>\n",
       "      <th></th>\n",
       "      <th></th>\n",
       "      <th></th>\n",
       "      <th></th>\n",
       "      <th></th>\n",
       "      <th></th>\n",
       "      <th></th>\n",
       "    </tr>\n",
       "  </thead>\n",
       "  <tbody>\n",
       "    <tr>\n",
       "      <th>2020-12-01 05:03:09.500</th>\n",
       "      <td>0.0</td>\n",
       "      <td>323.000000</td>\n",
       "      <td>271.029022</td>\n",
       "      <td>99.786369</td>\n",
       "      <td>100.0</td>\n",
       "      <td>0.0</td>\n",
       "      <td>29.840998</td>\n",
       "      <td>0.070223</td>\n",
       "      <td>112.613297</td>\n",
       "      <td>783.449982</td>\n",
       "      <td>...</td>\n",
       "      <td>30.0</td>\n",
       "      <td>54.755676</td>\n",
       "      <td>35.632324</td>\n",
       "      <td>-2.051393</td>\n",
       "      <td>310.399994</td>\n",
       "      <td>-2.441481</td>\n",
       "      <td>258.700012</td>\n",
       "      <td>27.0</td>\n",
       "      <td>0.0</td>\n",
       "      <td>8.0</td>\n",
       "    </tr>\n",
       "    <tr>\n",
       "      <th>2020-12-01 05:03:10.200</th>\n",
       "      <td>0.0</td>\n",
       "      <td>322.449997</td>\n",
       "      <td>262.341843</td>\n",
       "      <td>99.786369</td>\n",
       "      <td>100.0</td>\n",
       "      <td>0.0</td>\n",
       "      <td>53.608814</td>\n",
       "      <td>0.068667</td>\n",
       "      <td>112.613297</td>\n",
       "      <td>782.549988</td>\n",
       "      <td>...</td>\n",
       "      <td>30.0</td>\n",
       "      <td>54.755676</td>\n",
       "      <td>34.386465</td>\n",
       "      <td>-2.051393</td>\n",
       "      <td>310.399994</td>\n",
       "      <td>-2.441481</td>\n",
       "      <td>259.150009</td>\n",
       "      <td>27.0</td>\n",
       "      <td>0.0</td>\n",
       "      <td>8.0</td>\n",
       "    </tr>\n",
       "    <tr>\n",
       "      <th>2020-12-01 05:03:10.900</th>\n",
       "      <td>0.0</td>\n",
       "      <td>321.899994</td>\n",
       "      <td>253.041153</td>\n",
       "      <td>70.625938</td>\n",
       "      <td>100.0</td>\n",
       "      <td>0.0</td>\n",
       "      <td>65.211952</td>\n",
       "      <td>0.067721</td>\n",
       "      <td>107.119965</td>\n",
       "      <td>781.400024</td>\n",
       "      <td>...</td>\n",
       "      <td>100.0</td>\n",
       "      <td>54.755676</td>\n",
       "      <td>33.028042</td>\n",
       "      <td>-2.051393</td>\n",
       "      <td>310.700012</td>\n",
       "      <td>-2.441481</td>\n",
       "      <td>259.899994</td>\n",
       "      <td>27.0</td>\n",
       "      <td>0.0</td>\n",
       "      <td>8.0</td>\n",
       "    </tr>\n",
       "    <tr>\n",
       "      <th>2020-12-01 05:03:11.600</th>\n",
       "      <td>0.0</td>\n",
       "      <td>321.899994</td>\n",
       "      <td>253.331543</td>\n",
       "      <td>54.817348</td>\n",
       "      <td>100.0</td>\n",
       "      <td>0.0</td>\n",
       "      <td>88.253426</td>\n",
       "      <td>0.066286</td>\n",
       "      <td>121.768852</td>\n",
       "      <td>780.799988</td>\n",
       "      <td>...</td>\n",
       "      <td>100.0</td>\n",
       "      <td>40.160736</td>\n",
       "      <td>33.000759</td>\n",
       "      <td>-2.051393</td>\n",
       "      <td>310.700012</td>\n",
       "      <td>-2.441481</td>\n",
       "      <td>260.500000</td>\n",
       "      <td>27.0</td>\n",
       "      <td>0.0</td>\n",
       "      <td>8.0</td>\n",
       "    </tr>\n",
       "    <tr>\n",
       "      <th>2020-12-01 05:03:12.300</th>\n",
       "      <td>0.0</td>\n",
       "      <td>321.899994</td>\n",
       "      <td>253.331543</td>\n",
       "      <td>51.857052</td>\n",
       "      <td>100.0</td>\n",
       "      <td>0.0</td>\n",
       "      <td>99.026459</td>\n",
       "      <td>0.064302</td>\n",
       "      <td>122.684410</td>\n",
       "      <td>779.599976</td>\n",
       "      <td>...</td>\n",
       "      <td>100.0</td>\n",
       "      <td>40.160736</td>\n",
       "      <td>33.000130</td>\n",
       "      <td>-1.849116</td>\n",
       "      <td>310.899994</td>\n",
       "      <td>-2.441481</td>\n",
       "      <td>261.600006</td>\n",
       "      <td>27.0</td>\n",
       "      <td>0.0</td>\n",
       "      <td>8.0</td>\n",
       "    </tr>\n",
       "  </tbody>\n",
       "</table>\n",
       "<p>5 rows × 29 columns</p>\n",
       "</div>"
      ],
      "text/plain": [
       "                         244B.CoffeeTargetTemperature  244B_RTOComms.TE8R051  \\\n",
       "DateTime                                                                       \n",
       "2020-12-01 05:03:09.500                           0.0             323.000000   \n",
       "2020-12-01 05:03:10.200                           0.0             322.449997   \n",
       "2020-12-01 05:03:10.900                           0.0             321.899994   \n",
       "2020-12-01 05:03:11.600                           0.0             321.899994   \n",
       "2020-12-01 05:03:12.300                           0.0             321.899994   \n",
       "\n",
       "                         244B_SC220.OutputVoltage  244B_RTOComms.XV285  \\\n",
       "DateTime                                                                 \n",
       "2020-12-01 05:03:09.500                271.029022            99.786369   \n",
       "2020-12-01 05:03:10.200                262.341843            99.786369   \n",
       "2020-12-01 05:03:10.900                253.041153            70.625938   \n",
       "2020-12-01 05:03:11.600                253.331543            54.817348   \n",
       "2020-12-01 05:03:12.300                253.331543            51.857052   \n",
       "\n",
       "                         244B_FCV110.Output  244B_Sequences.Roasting  \\\n",
       "DateTime                                                               \n",
       "2020-12-01 05:03:09.500               100.0                      0.0   \n",
       "2020-12-01 05:03:10.200               100.0                      0.0   \n",
       "2020-12-01 05:03:10.900               100.0                      0.0   \n",
       "2020-12-01 05:03:11.600               100.0                      0.0   \n",
       "2020-12-01 05:03:12.300               100.0                      0.0   \n",
       "\n",
       "                         244B_FCV110.Feedback  244B_VST220.AIn  \\\n",
       "DateTime                                                         \n",
       "2020-12-01 05:03:09.500             29.840998         0.070223   \n",
       "2020-12-01 05:03:10.200             53.608814         0.068667   \n",
       "2020-12-01 05:03:10.900             65.211952         0.067721   \n",
       "2020-12-01 05:03:11.600             88.253426         0.066286   \n",
       "2020-12-01 05:03:12.300             99.026459         0.064302   \n",
       "\n",
       "                         244B_CO270.AIn  244B_TE118.AIn  ...  \\\n",
       "DateTime                                                 ...   \n",
       "2020-12-01 05:03:09.500      112.613297      783.449982  ...   \n",
       "2020-12-01 05:03:10.200      112.613297      782.549988  ...   \n",
       "2020-12-01 05:03:10.900      107.119965      781.400024  ...   \n",
       "2020-12-01 05:03:11.600      121.768852      780.799988  ...   \n",
       "2020-12-01 05:03:12.300      122.684410      779.599976  ...   \n",
       "\n",
       "                         244B_FCV129.Output  244B_FCV545.Output  \\\n",
       "DateTime                                                          \n",
       "2020-12-01 05:03:09.500                30.0           54.755676   \n",
       "2020-12-01 05:03:10.200                30.0           54.755676   \n",
       "2020-12-01 05:03:10.900               100.0           54.755676   \n",
       "2020-12-01 05:03:11.600               100.0           40.160736   \n",
       "2020-12-01 05:03:12.300               100.0           40.160736   \n",
       "\n",
       "                         244B_SC220.SpdHz  244B_PDT100.AIn  244B_TE202.AIn  \\\n",
       "DateTime                                                                     \n",
       "2020-12-01 05:03:09.500         35.632324        -2.051393      310.399994   \n",
       "2020-12-01 05:03:10.200         34.386465        -2.051393      310.399994   \n",
       "2020-12-01 05:03:10.900         33.028042        -2.051393      310.700012   \n",
       "2020-12-01 05:03:11.600         33.000759        -2.051393      310.700012   \n",
       "2020-12-01 05:03:12.300         33.000130        -1.849116      310.899994   \n",
       "\n",
       "                         244B_FQTI200.AIn  244B_TE200.AIn  cycle  batch  \\\n",
       "DateTime                                                                  \n",
       "2020-12-01 05:03:09.500         -2.441481      258.700012   27.0    0.0   \n",
       "2020-12-01 05:03:10.200         -2.441481      259.150009   27.0    0.0   \n",
       "2020-12-01 05:03:10.900         -2.441481      259.899994   27.0    0.0   \n",
       "2020-12-01 05:03:11.600         -2.441481      260.500000   27.0    0.0   \n",
       "2020-12-01 05:03:12.300         -2.441481      261.600006   27.0    0.0   \n",
       "\n",
       "                         coffee_type  \n",
       "DateTime                              \n",
       "2020-12-01 05:03:09.500          8.0  \n",
       "2020-12-01 05:03:10.200          8.0  \n",
       "2020-12-01 05:03:10.900          8.0  \n",
       "2020-12-01 05:03:11.600          8.0  \n",
       "2020-12-01 05:03:12.300          8.0  \n",
       "\n",
       "[5 rows x 29 columns]"
      ]
     },
     "execution_count": 7,
     "metadata": {},
     "output_type": "execute_result"
    }
   ],
   "source": [
    "df = df.resample(\"0.7S\").median()\n",
    "df.dropna(axis=0,inplace=True)\n",
    "print(df.shape)\n",
    "df.head()"
   ]
  },
  {
   "cell_type": "code",
   "execution_count": 8,
   "metadata": {},
   "outputs": [
    {
     "data": {
      "text/plain": [
       "(28.0, 36.0, 15.0)"
      ]
     },
     "execution_count": 8,
     "metadata": {},
     "output_type": "execute_result"
    }
   ],
   "source": [
    "max(df.batch),max(df.cycle),max(df.coffee_type)"
   ]
  },
  {
   "cell_type": "code",
   "execution_count": 9,
   "metadata": {},
   "outputs": [
    {
     "name": "stdout",
     "output_type": "stream",
     "text": [
      "['244B.CoffeeTargetTemperature', '244B_SC220.OutputVoltage', '244B_Sequences.Roasting', '244B_CO270.AIn', '244B_TE118.AIn', '244B_TE117.AIn', '244B_TE116.AIn', '244B_TE202.AIn', '244B_FQTI200.AIn', '244B_TE200.AIn']\n"
     ]
    }
   ],
   "source": [
    "to_scale = []\n",
    "for i in df.columns:\n",
    "    if df[i].dtype != 'object' and max(df[i])-min(df[i])>100:\n",
    "        to_scale.append(i)\n",
    "print(to_scale)"
   ]
  },
  {
   "cell_type": "code",
   "execution_count": 10,
   "metadata": {
    "scrolled": true
   },
   "outputs": [
    {
     "data": {
      "text/html": [
       "<div>\n",
       "<style scoped>\n",
       "    .dataframe tbody tr th:only-of-type {\n",
       "        vertical-align: middle;\n",
       "    }\n",
       "\n",
       "    .dataframe tbody tr th {\n",
       "        vertical-align: top;\n",
       "    }\n",
       "\n",
       "    .dataframe thead th {\n",
       "        text-align: right;\n",
       "    }\n",
       "</style>\n",
       "<table border=\"1\" class=\"dataframe\">\n",
       "  <thead>\n",
       "    <tr style=\"text-align: right;\">\n",
       "      <th></th>\n",
       "      <th>244B.CoffeeTargetTemperature</th>\n",
       "      <th>244B_RTOComms.TE8R051</th>\n",
       "      <th>244B_SC220.OutputVoltage</th>\n",
       "      <th>244B_RTOComms.XV285</th>\n",
       "      <th>244B_FCV110.Output</th>\n",
       "      <th>244B_Sequences.Roasting</th>\n",
       "      <th>244B_FCV110.Feedback</th>\n",
       "      <th>244B_VST220.AIn</th>\n",
       "      <th>244B_CO270.AIn</th>\n",
       "      <th>244B_TE118.AIn</th>\n",
       "      <th>...</th>\n",
       "      <th>244B_FCV129.Output</th>\n",
       "      <th>244B_FCV545.Output</th>\n",
       "      <th>244B_SC220.SpdHz</th>\n",
       "      <th>244B_PDT100.AIn</th>\n",
       "      <th>244B_TE202.AIn</th>\n",
       "      <th>244B_FQTI200.AIn</th>\n",
       "      <th>244B_TE200.AIn</th>\n",
       "      <th>cycle</th>\n",
       "      <th>batch</th>\n",
       "      <th>coffee_type</th>\n",
       "    </tr>\n",
       "    <tr>\n",
       "      <th>DateTime</th>\n",
       "      <th></th>\n",
       "      <th></th>\n",
       "      <th></th>\n",
       "      <th></th>\n",
       "      <th></th>\n",
       "      <th></th>\n",
       "      <th></th>\n",
       "      <th></th>\n",
       "      <th></th>\n",
       "      <th></th>\n",
       "      <th></th>\n",
       "      <th></th>\n",
       "      <th></th>\n",
       "      <th></th>\n",
       "      <th></th>\n",
       "      <th></th>\n",
       "      <th></th>\n",
       "      <th></th>\n",
       "      <th></th>\n",
       "      <th></th>\n",
       "      <th></th>\n",
       "    </tr>\n",
       "  </thead>\n",
       "  <tbody>\n",
       "    <tr>\n",
       "      <th>2020-12-01 05:03:09.500</th>\n",
       "      <td>0.0</td>\n",
       "      <td>323.000000</td>\n",
       "      <td>39.039566</td>\n",
       "      <td>99.786369</td>\n",
       "      <td>100.0</td>\n",
       "      <td>0.0</td>\n",
       "      <td>29.840998</td>\n",
       "      <td>0.070223</td>\n",
       "      <td>0.479117</td>\n",
       "      <td>45.355805</td>\n",
       "      <td>...</td>\n",
       "      <td>30.0</td>\n",
       "      <td>54.755676</td>\n",
       "      <td>35.632324</td>\n",
       "      <td>-2.051393</td>\n",
       "      <td>37.428892</td>\n",
       "      <td>0.051258</td>\n",
       "      <td>23.031655</td>\n",
       "      <td>27.0</td>\n",
       "      <td>0.0</td>\n",
       "      <td>8.0</td>\n",
       "    </tr>\n",
       "    <tr>\n",
       "      <th>2020-12-01 05:03:10.200</th>\n",
       "      <td>0.0</td>\n",
       "      <td>322.449997</td>\n",
       "      <td>35.173420</td>\n",
       "      <td>99.786369</td>\n",
       "      <td>100.0</td>\n",
       "      <td>0.0</td>\n",
       "      <td>53.608814</td>\n",
       "      <td>0.068667</td>\n",
       "      <td>0.479117</td>\n",
       "      <td>45.220974</td>\n",
       "      <td>...</td>\n",
       "      <td>30.0</td>\n",
       "      <td>54.755676</td>\n",
       "      <td>34.386465</td>\n",
       "      <td>-2.051393</td>\n",
       "      <td>37.428892</td>\n",
       "      <td>0.051258</td>\n",
       "      <td>23.362779</td>\n",
       "      <td>27.0</td>\n",
       "      <td>0.0</td>\n",
       "      <td>8.0</td>\n",
       "    </tr>\n",
       "    <tr>\n",
       "      <th>2020-12-01 05:03:10.900</th>\n",
       "      <td>0.0</td>\n",
       "      <td>321.899994</td>\n",
       "      <td>31.034236</td>\n",
       "      <td>70.625938</td>\n",
       "      <td>100.0</td>\n",
       "      <td>0.0</td>\n",
       "      <td>65.211952</td>\n",
       "      <td>0.067721</td>\n",
       "      <td>0.458286</td>\n",
       "      <td>45.048695</td>\n",
       "      <td>...</td>\n",
       "      <td>100.0</td>\n",
       "      <td>54.755676</td>\n",
       "      <td>33.028042</td>\n",
       "      <td>-2.051393</td>\n",
       "      <td>37.599551</td>\n",
       "      <td>0.051258</td>\n",
       "      <td>23.914644</td>\n",
       "      <td>27.0</td>\n",
       "      <td>0.0</td>\n",
       "      <td>8.0</td>\n",
       "    </tr>\n",
       "    <tr>\n",
       "      <th>2020-12-01 05:03:11.600</th>\n",
       "      <td>0.0</td>\n",
       "      <td>321.899994</td>\n",
       "      <td>31.163471</td>\n",
       "      <td>54.817348</td>\n",
       "      <td>100.0</td>\n",
       "      <td>0.0</td>\n",
       "      <td>88.253426</td>\n",
       "      <td>0.066286</td>\n",
       "      <td>0.513835</td>\n",
       "      <td>44.958802</td>\n",
       "      <td>...</td>\n",
       "      <td>100.0</td>\n",
       "      <td>40.160736</td>\n",
       "      <td>33.000759</td>\n",
       "      <td>-2.051393</td>\n",
       "      <td>37.599551</td>\n",
       "      <td>0.051258</td>\n",
       "      <td>24.356150</td>\n",
       "      <td>27.0</td>\n",
       "      <td>0.0</td>\n",
       "      <td>8.0</td>\n",
       "    </tr>\n",
       "    <tr>\n",
       "      <th>2020-12-01 05:03:12.300</th>\n",
       "      <td>0.0</td>\n",
       "      <td>321.899994</td>\n",
       "      <td>31.163471</td>\n",
       "      <td>51.857052</td>\n",
       "      <td>100.0</td>\n",
       "      <td>0.0</td>\n",
       "      <td>99.026459</td>\n",
       "      <td>0.064302</td>\n",
       "      <td>0.517307</td>\n",
       "      <td>44.779025</td>\n",
       "      <td>...</td>\n",
       "      <td>100.0</td>\n",
       "      <td>40.160736</td>\n",
       "      <td>33.000130</td>\n",
       "      <td>-1.849116</td>\n",
       "      <td>37.713306</td>\n",
       "      <td>0.051258</td>\n",
       "      <td>25.165573</td>\n",
       "      <td>27.0</td>\n",
       "      <td>0.0</td>\n",
       "      <td>8.0</td>\n",
       "    </tr>\n",
       "  </tbody>\n",
       "</table>\n",
       "<p>5 rows × 29 columns</p>\n",
       "</div>"
      ],
      "text/plain": [
       "                         244B.CoffeeTargetTemperature  244B_RTOComms.TE8R051  \\\n",
       "DateTime                                                                       \n",
       "2020-12-01 05:03:09.500                           0.0             323.000000   \n",
       "2020-12-01 05:03:10.200                           0.0             322.449997   \n",
       "2020-12-01 05:03:10.900                           0.0             321.899994   \n",
       "2020-12-01 05:03:11.600                           0.0             321.899994   \n",
       "2020-12-01 05:03:12.300                           0.0             321.899994   \n",
       "\n",
       "                         244B_SC220.OutputVoltage  244B_RTOComms.XV285  \\\n",
       "DateTime                                                                 \n",
       "2020-12-01 05:03:09.500                 39.039566            99.786369   \n",
       "2020-12-01 05:03:10.200                 35.173420            99.786369   \n",
       "2020-12-01 05:03:10.900                 31.034236            70.625938   \n",
       "2020-12-01 05:03:11.600                 31.163471            54.817348   \n",
       "2020-12-01 05:03:12.300                 31.163471            51.857052   \n",
       "\n",
       "                         244B_FCV110.Output  244B_Sequences.Roasting  \\\n",
       "DateTime                                                               \n",
       "2020-12-01 05:03:09.500               100.0                      0.0   \n",
       "2020-12-01 05:03:10.200               100.0                      0.0   \n",
       "2020-12-01 05:03:10.900               100.0                      0.0   \n",
       "2020-12-01 05:03:11.600               100.0                      0.0   \n",
       "2020-12-01 05:03:12.300               100.0                      0.0   \n",
       "\n",
       "                         244B_FCV110.Feedback  244B_VST220.AIn  \\\n",
       "DateTime                                                         \n",
       "2020-12-01 05:03:09.500             29.840998         0.070223   \n",
       "2020-12-01 05:03:10.200             53.608814         0.068667   \n",
       "2020-12-01 05:03:10.900             65.211952         0.067721   \n",
       "2020-12-01 05:03:11.600             88.253426         0.066286   \n",
       "2020-12-01 05:03:12.300             99.026459         0.064302   \n",
       "\n",
       "                         244B_CO270.AIn  244B_TE118.AIn  ...  \\\n",
       "DateTime                                                 ...   \n",
       "2020-12-01 05:03:09.500        0.479117       45.355805  ...   \n",
       "2020-12-01 05:03:10.200        0.479117       45.220974  ...   \n",
       "2020-12-01 05:03:10.900        0.458286       45.048695  ...   \n",
       "2020-12-01 05:03:11.600        0.513835       44.958802  ...   \n",
       "2020-12-01 05:03:12.300        0.517307       44.779025  ...   \n",
       "\n",
       "                         244B_FCV129.Output  244B_FCV545.Output  \\\n",
       "DateTime                                                          \n",
       "2020-12-01 05:03:09.500                30.0           54.755676   \n",
       "2020-12-01 05:03:10.200                30.0           54.755676   \n",
       "2020-12-01 05:03:10.900               100.0           54.755676   \n",
       "2020-12-01 05:03:11.600               100.0           40.160736   \n",
       "2020-12-01 05:03:12.300               100.0           40.160736   \n",
       "\n",
       "                         244B_SC220.SpdHz  244B_PDT100.AIn  244B_TE202.AIn  \\\n",
       "DateTime                                                                     \n",
       "2020-12-01 05:03:09.500         35.632324        -2.051393       37.428892   \n",
       "2020-12-01 05:03:10.200         34.386465        -2.051393       37.428892   \n",
       "2020-12-01 05:03:10.900         33.028042        -2.051393       37.599551   \n",
       "2020-12-01 05:03:11.600         33.000759        -2.051393       37.599551   \n",
       "2020-12-01 05:03:12.300         33.000130        -1.849116       37.713306   \n",
       "\n",
       "                         244B_FQTI200.AIn  244B_TE200.AIn  cycle  batch  \\\n",
       "DateTime                                                                  \n",
       "2020-12-01 05:03:09.500          0.051258       23.031655   27.0    0.0   \n",
       "2020-12-01 05:03:10.200          0.051258       23.362779   27.0    0.0   \n",
       "2020-12-01 05:03:10.900          0.051258       23.914644   27.0    0.0   \n",
       "2020-12-01 05:03:11.600          0.051258       24.356150   27.0    0.0   \n",
       "2020-12-01 05:03:12.300          0.051258       25.165573   27.0    0.0   \n",
       "\n",
       "                         coffee_type  \n",
       "DateTime                              \n",
       "2020-12-01 05:03:09.500          8.0  \n",
       "2020-12-01 05:03:10.200          8.0  \n",
       "2020-12-01 05:03:10.900          8.0  \n",
       "2020-12-01 05:03:11.600          8.0  \n",
       "2020-12-01 05:03:12.300          8.0  \n",
       "\n",
       "[5 rows x 29 columns]"
      ]
     },
     "execution_count": 10,
     "metadata": {},
     "output_type": "execute_result"
    }
   ],
   "source": [
    "scaler = MinMaxScaler(feature_range=(0, 100))\n",
    "df[list(to_scale)] = scaler.fit_transform(df[list(to_scale)])\n",
    "df.head()"
   ]
  },
  {
   "cell_type": "code",
   "execution_count": 11,
   "metadata": {},
   "outputs": [
    {
     "data": {
      "text/plain": [
       "\"\\ni = 0\\nc = df.iloc[i]['cycle']\\nb = df.iloc[i]['batch']\\nmini = 1500\\ncount = 0\\nwhile i<len(df):\\n    if df.iloc[i]['batch']!=b:\\n        b = df.iloc[i]['batch']\\n        #print(c,':',count)\\n        mini = min(mini,count)\\n        count=0\\n        \\n    if df.iloc[i]['cycle']!=c:\\n        if count>0: \\n            #print(c,':',count,end = '  ')\\n            mini = min(mini,count)\\n        c = df.iloc[i]['cycle']\\n        count=0\\n    count+=1\\n    i+=1\\nprint('\\n',mini)\""
      ]
     },
     "execution_count": 11,
     "metadata": {},
     "output_type": "execute_result"
    }
   ],
   "source": [
    "'''\n",
    "i = 0\n",
    "c = df.iloc[i]['cycle']\n",
    "b = df.iloc[i]['batch']\n",
    "mini = 1500\n",
    "count = 0\n",
    "while i<len(df):\n",
    "    if df.iloc[i]['batch']!=b:\n",
    "        b = df.iloc[i]['batch']\n",
    "        #print(c,':',count)\n",
    "        mini = min(mini,count)\n",
    "        count=0\n",
    "        \n",
    "    if df.iloc[i]['cycle']!=c:\n",
    "        if count>0: \n",
    "            #print(c,':',count,end = '  ')\n",
    "            mini = min(mini,count)\n",
    "        c = df.iloc[i]['cycle']\n",
    "        count=0\n",
    "    count+=1\n",
    "    i+=1\n",
    "print('\\n',mini)'''"
   ]
  },
  {
   "cell_type": "code",
   "execution_count": null,
   "metadata": {},
   "outputs": [],
   "source": []
  },
  {
   "cell_type": "markdown",
   "metadata": {},
   "source": [
    "# Auto-Encoder model"
   ]
  },
  {
   "cell_type": "code",
   "execution_count": 12,
   "metadata": {},
   "outputs": [],
   "source": [
    "class Autoencoder(nn.Module):\n",
    "    def __init__(self, output_len = 14,**kwargs):\n",
    "        super().__init__()\n",
    "        self.output_len = output_len\n",
    "        self.batch,self.a,self.b = kwargs[\"input_shape\"]\n",
    "        self.layer_dim = 3\n",
    "        self.hidden_dim = 16\n",
    "        self.encoder = nn.LSTM(self.b, hidden_size = self.hidden_dim, num_layers=self.layer_dim, batch_first=True)\n",
    "        self.hidden = nn.Linear(self.hidden_dim*self.a, 16*self.a)\n",
    "        self.decoder = nn.Linear(16*self.a, self.output_len*self.a)\n",
    "\n",
    "    def forward(self, x):\n",
    "        batch = x.shape[0]\n",
    "        x, (hn,cn) = self.encoder(x)\n",
    "        x = x.reshape((batch,-1))\n",
    "        #print(x.shape)\n",
    "        x = self.hidden(x)\n",
    "        x = self.decoder(x)\n",
    "        out = x.view(batch,self.a,self.output_len)\n",
    "        return out"
   ]
  },
  {
   "cell_type": "code",
   "execution_count": 13,
   "metadata": {},
   "outputs": [
    {
     "name": "stdout",
     "output_type": "stream",
     "text": [
      "torch.Size([1, 1000, 14])\n"
     ]
    }
   ],
   "source": [
    "model = Autoencoder(input_shape=(1,1000,27))\n",
    "inp = torch.randn(1,1000,27)\n",
    "out = model(inp)\n",
    "print(out.shape)"
   ]
  },
  {
   "cell_type": "code",
   "execution_count": 14,
   "metadata": {},
   "outputs": [
    {
     "data": {
      "text/plain": [
       "480037232"
      ]
     },
     "execution_count": 14,
     "metadata": {},
     "output_type": "execute_result"
    }
   ],
   "source": [
    "pytorch_total_params = sum(p.numel() for p in model.parameters() if p.requires_grad)\n",
    "pytorch_total_params"
   ]
  },
  {
   "cell_type": "markdown",
   "metadata": {},
   "source": [
    "# Training and validation"
   ]
  },
  {
   "cell_type": "code",
   "execution_count": 15,
   "metadata": {},
   "outputs": [
    {
     "data": {
      "text/plain": [
       "Index(['244B.CoffeeTargetTemperature', '244B_RTOComms.TE8R051',\n",
       "       '244B_SC220.OutputVoltage', '244B_RTOComms.XV285', '244B_FCV110.Output',\n",
       "       '244B_Sequences.Roasting', '244B_FCV110.Feedback', '244B_VST220.AIn',\n",
       "       '244B_CO270.AIn', '244B_TE118.AIn', '244B_TE117.AIn', '244B_TE116.AIn',\n",
       "       '244B_SC220.SpdFB', '244B_SC220.SpdSP', '244B_SC150.SpdSP',\n",
       "       '244B_RTOComms.XV2853', '244B_FCV127.Output', '244B_FCV129.Feedback',\n",
       "       '244B_RTOComms.XV2854', '244B_FCV129.Output', '244B_FCV545.Output',\n",
       "       '244B_SC220.SpdHz', '244B_PDT100.AIn', '244B_TE202.AIn',\n",
       "       '244B_FQTI200.AIn', '244B_TE200.AIn', 'cycle', 'batch', 'coffee_type'],\n",
       "      dtype='object')"
      ]
     },
     "execution_count": 15,
     "metadata": {},
     "output_type": "execute_result"
    }
   ],
   "source": [
    "df.columns"
   ]
  },
  {
   "cell_type": "code",
   "execution_count": 16,
   "metadata": {},
   "outputs": [
    {
     "name": "stdout",
     "output_type": "stream",
     "text": [
      "14 27\n"
     ]
    }
   ],
   "source": [
    "input_column = ['244B.CoffeeTargetTemperature', '244B_RTOComms.TE8R051',\n",
    "       '244B_SC220.OutputVoltage', '244B_RTOComms.XV285', '244B_FCV110.Output',\n",
    "       '244B_Sequences.Roasting', '244B_FCV110.Feedback', '244B_VST220.AIn',\n",
    "       '244B_CO270.AIn', '244B_TE118.AIn', '244B_TE117.AIn', '244B_TE116.AIn',\n",
    "       '244B_SC220.SpdFB', '244B_SC220.SpdSP', '244B_SC150.SpdSP',\n",
    "       '244B_RTOComms.XV2853', '244B_FCV127.Output', '244B_FCV129.Feedback',\n",
    "       '244B_RTOComms.XV2854', '244B_FCV129.Output', '244B_FCV545.Output',\n",
    "       '244B_SC220.SpdHz', '244B_PDT100.AIn', '244B_TE202.AIn',\n",
    "       '244B_FQTI200.AIn', '244B_TE200.AIn', 'batch']\n",
    "\n",
    "to_reconstruct = ['244B_TE116.AIn', '244B_TE117.AIn', '244B_TE118.AIn','244B_TE200.AIn', '244B_TE202.AIn',\n",
    "                '244B_CO270.AIn', '244B_PDT100.AIn','244B_FCV127.Output','244B_FCV129.Output', '244B_FCV545.Output',\n",
    "       '244B_SC220.SpdHz','244B_VST220.AIn', '244B_SC150.SpdSP','244B_FQTI200.AIn']\n",
    "\n",
    "target_column = []\n",
    "\n",
    "for i in df.columns:\n",
    "    if i in to_reconstruct:\n",
    "        target_column.append(i)\n",
    "        \n",
    "print(len(target_column),len(input_column))"
   ]
  },
  {
   "cell_type": "code",
   "execution_count": 17,
   "metadata": {},
   "outputs": [
    {
     "data": {
      "text/plain": [
       "[<matplotlib.lines.Line2D at 0x7f4938678390>]"
      ]
     },
     "execution_count": 17,
     "metadata": {},
     "output_type": "execute_result"
    },
    {
     "data": {
      "image/png": "[encoded data removed]",
      "text/plain": [
       "<Figure size 432x288 with 1 Axes>"
      ]
     },
     "metadata": {
      "needs_background": "light"
     },
     "output_type": "display_data"
    }
   ],
   "source": [
    "plt.plot(range(len(df)),df['244B_CO270.AIn'])"
   ]
  },
  {
   "cell_type": "code",
   "execution_count": 18,
   "metadata": {},
   "outputs": [
    {
     "name": "stdout",
     "output_type": "stream",
     "text": [
      "(86, 950, 27) (86, 950, 14)\n"
     ]
    }
   ],
   "source": [
    "df = df.iloc[:10**5,:]\n",
    "i=st=count = 0\n",
    "c = df.iloc[i]['cycle']\n",
    "b = df.iloc[i]['batch']\n",
    "l = 950\n",
    "\n",
    "x_data = []\n",
    "y_data = []\n",
    "\n",
    "while i<len(df):\n",
    "    if df.iloc[i]['batch']!=b:\n",
    "        b = df.iloc[i]['batch']\n",
    "        x_data.append(np.array(df[input_column][i-l:i]))\n",
    "        y_data.append(np.array(df[target_column][i-l:i]))\n",
    "        st = i\n",
    "        \n",
    "    if df.iloc[i]['cycle']!=c:\n",
    "        if i-st>=l: \n",
    "            x_data.append(np.array(df[input_column][i-l:i]))\n",
    "            y_data.append(np.array(df[target_column][i-l:i]))\n",
    "        c = df.iloc[i]['cycle']\n",
    "        st = i\n",
    "    i+=1\n",
    "x_data = np.array(x_data)\n",
    "y_data = np.array(y_data)\n",
    "print(x_data.shape,y_data.shape)"
   ]
  },
  {
   "cell_type": "code",
   "execution_count": 19,
   "metadata": {},
   "outputs": [
    {
     "data": {
      "text/plain": [
       "[<matplotlib.lines.Line2D at 0x7f4937e64898>]"
      ]
     },
     "execution_count": 19,
     "metadata": {},
     "output_type": "execute_result"
    },
    {
     "data": {
      "image/png": "[encoded data removed]",
      "text/plain": [
       "<Figure size 432x288 with 1 Axes>"
      ]
     },
     "metadata": {
      "needs_background": "light"
     },
     "output_type": "display_data"
    }
   ],
   "source": [
    "plt.plot(y_data[:,:,1].reshape(-1,1))"
   ]
  },
  {
   "cell_type": "code",
   "execution_count": 20,
   "metadata": {},
   "outputs": [],
   "source": [
    "class Custom_data(Dataset):\n",
    "    def __init__(self, x,y):\n",
    "        self.x = x\n",
    "        self.y = y\n",
    "    def __len__(self):\n",
    "        return len(self.y)\n",
    "\n",
    "    def __getitem__(self, item):\n",
    "        return self.x[item],self.y[item]\n",
    "data = Custom_data(x_data,y_data)\n",
    "#test_data = Custom_data(x_test,y_test)"
   ]
  },
  {
   "cell_type": "code",
   "execution_count": 32,
   "metadata": {},
   "outputs": [],
   "source": [
    "train_loader = torch.utils.data.DataLoader(\n",
    "    data, batch_size=1, shuffle=True, num_workers=4, pin_memory=True)\n",
    "\n",
    "# test_loader = torch.utils.data.DataLoader(\n",
    "#     test_data, batch_size=32, shuffle=False, num_workers=4)"
   ]
  },
  {
   "cell_type": "code",
   "execution_count": 33,
   "metadata": {},
   "outputs": [
    {
     "name": "stdout",
     "output_type": "stream",
     "text": [
      "torch.Size([1, 4800, 27]) torch.Size([1, 4800, 14])\n"
     ]
    }
   ],
   "source": [
    "a = iter(train_loader)\n",
    "b = next(a)\n",
    "print(b[0].shape,b[1].shape)"
   ]
  },
  {
   "cell_type": "code",
   "execution_count": null,
   "metadata": {},
   "outputs": [],
   "source": []
  },
  {
   "cell_type": "code",
   "execution_count": 21,
   "metadata": {},
   "outputs": [
    {
     "data": {
      "text/plain": [
       "<All keys matched successfully>"
      ]
     },
     "execution_count": 21,
     "metadata": {},
     "output_type": "execute_result"
    }
   ],
   "source": [
    "os.environ[\"CUDA_DEVICE_ORDER\"]=\"PCI_BUS_ID\"\n",
    "device = torch.device(\"cuda:3\" if torch.cuda.is_available() else \"cpu\")\n",
    "\n",
    "# create a model from `AE` autoencoder class\n",
    "# load it to the specified device, either gpu or cpu\n",
    "\n",
    "model = Autoencoder(output_len=14,input_shape = (1,950,27))\n",
    "\n",
    "model = model.to(device)\n",
    "model.load_state_dict(torch.load('saved_models/rca_tags_sampled.pt'))"
   ]
  },
  {
   "cell_type": "code",
   "execution_count": 22,
   "metadata": {},
   "outputs": [],
   "source": [
    "threshold = 80.6\n",
    "optimizer = optim.Adam(model.parameters(), lr=1e-3)\n",
    "# mean-squared error loss\n",
    "criterion = nn.MSELoss()"
   ]
  },
  {
   "cell_type": "code",
   "execution_count": 23,
   "metadata": {},
   "outputs": [],
   "source": [
    "def predict(model, data, threshold):\n",
    "    dl = torch.utils.data.DataLoader(data, batch_size=1, shuffle=False, num_workers=2)\n",
    "    anomalous = []\n",
    "    errors = []\n",
    "    model.eval()\n",
    "    with torch.no_grad():\n",
    "        for idx,(x,y) in enumerate(dl):\n",
    "            x = torch.from_numpy(x.numpy()).float().to(device)\n",
    "            y = torch.from_numpy(y.numpy()).float().to(device)\n",
    "            outputs = model(x)\n",
    "            test_loss = criterion(outputs, y).item()\n",
    "            errors.append(test_loss)\n",
    "            if test_loss>threshold:\n",
    "                anomalous.append(idx)\n",
    "    #return anomalous,outputs.cpu().numpy(), batch_features.cpu().numpy()\n",
    "    return anomalous,errors"
   ]
  },
  {
   "cell_type": "code",
   "execution_count": 24,
   "metadata": {},
   "outputs": [],
   "source": [
    "anomaly, errors = predict(model, data, threshold=125)"
   ]
  },
  {
   "cell_type": "code",
   "execution_count": 25,
   "metadata": {},
   "outputs": [
    {
     "name": "stdout",
     "output_type": "stream",
     "text": [
      "50\n"
     ]
    },
    {
     "data": {
      "text/plain": [
       "[<matplotlib.lines.Line2D at 0x7f4938ec2630>]"
      ]
     },
     "execution_count": 25,
     "metadata": {},
     "output_type": "execute_result"
    },
    {
     "data": {
      "image/png": "[encoded data removed]",
      "text/plain": [
       "<Figure size 432x288 with 1 Axes>"
      ]
     },
     "metadata": {
      "needs_background": "light"
     },
     "output_type": "display_data"
    }
   ],
   "source": [
    "print(errors.index(max(errors)))\n",
    "plt.plot(errors)"
   ]
  },
  {
   "cell_type": "code",
   "execution_count": 26,
   "metadata": {},
   "outputs": [
    {
     "name": "stdout",
     "output_type": "stream",
     "text": [
      "[50, 80]\n"
     ]
    }
   ],
   "source": [
    "print(anomaly)"
   ]
  },
  {
   "cell_type": "code",
   "execution_count": 27,
   "metadata": {},
   "outputs": [
    {
     "name": "stdout",
     "output_type": "stream",
     "text": [
      "index: 50 142.2526397705078 time: 2020-12-02 07:05:46.800000 to 2020-12-02 07:17:52\n",
      "index: 80 125.68675231933594 time: 2020-12-03 14:39:11.900000 to 2020-12-03 14:50:50.500000\n"
     ]
    }
   ],
   "source": [
    "for i in anomaly:\n",
    "    print('index:',i,errors[i],'time:',df.index[i*l],'to',df.index[(i+1)*l])"
   ]
  },
  {
   "cell_type": "code",
   "execution_count": 28,
   "metadata": {},
   "outputs": [
    {
     "data": {
      "image/png": "[encoded data removed]",
      "text/plain": [
       "<Figure size 576x360 with 1 Axes>"
      ]
     },
     "metadata": {
      "needs_background": "light"
     },
     "output_type": "display_data"
    }
   ],
   "source": [
    "plt.figure(figsize = (8,5))\n",
    "ind = target_column.index('244B_CO270.AIn')\n",
    "plt.plot(y_data[80,:,ind].reshape(-1,1), label = 'Actual')\n",
    "plt.legend()\n",
    "plt.show()"
   ]
  },
  {
   "cell_type": "code",
   "execution_count": 29,
   "metadata": {},
   "outputs": [
    {
     "name": "stdout",
     "output_type": "stream",
     "text": [
      "[94.98663086]\n"
     ]
    },
    {
     "data": {
      "text/plain": [
       "14.998947368421053"
      ]
     },
     "execution_count": 29,
     "metadata": {},
     "output_type": "execute_result"
    }
   ],
   "source": [
    "print(max(y_data[:,:,ind].reshape((-1,1))))\n",
    "list(y_data[:,:,ind].reshape((-1,1))).index(max(y_data[:,:,ind].reshape((-1,1))))/l"
   ]
  },
  {
   "cell_type": "code",
   "execution_count": 30,
   "metadata": {},
   "outputs": [
    {
     "name": "stdout",
     "output_type": "stream",
     "text": [
      "[125.68675231933594]\n"
     ]
    }
   ],
   "source": [
    "def reconstruct(model, data):\n",
    "    dl = torch.utils.data.DataLoader(data, batch_size=10, shuffle=False, num_workers=2)\n",
    "    \n",
    "    errors = []\n",
    "    model.eval()\n",
    "    with torch.no_grad():\n",
    "        for idx,(x,y) in enumerate(dl):\n",
    "            x = torch.from_numpy(x.numpy()).float().to(device)\n",
    "            y = torch.from_numpy(y.numpy()).float().to(device)\n",
    "            outputs = model(x)\n",
    "            test_loss = criterion(outputs, y).item()\n",
    "            errors.append(test_loss)\n",
    "    return errors,outputs.cpu().numpy(), y.cpu().numpy()\n",
    "data2 = Custom_data(x_data[80:81],y_data[80:81])\n",
    "error,reconstructions,data1 = reconstruct(model, data2)\n",
    "print(error)"
   ]
  },
  {
   "cell_type": "code",
   "execution_count": 31,
   "metadata": {},
   "outputs": [
    {
     "data": {
      "image/png": "[encoded data removed]",
      "text/plain": [
       "<Figure size 432x288 with 1 Axes>"
      ]
     },
     "metadata": {
      "needs_background": "light"
     },
     "output_type": "display_data"
    },
    {
     "data": {
      "image/png": "[encoded data removed]",
      "text/plain": [
       "<Figure size 432x288 with 1 Axes>"
      ]
     },
     "metadata": {
      "needs_background": "light"
     },
     "output_type": "display_data"
    },
    {
     "data": {
      "image/png": "[encoded data removed]",
      "text/plain": [
       "<Figure size 432x288 with 1 Axes>"
      ]
     },
     "metadata": {
      "needs_background": "light"
     },
     "output_type": "display_data"
    },
    {
     "data": {
      "image/png": "[encoded data removed]",
      "text/plain": [
       "<Figure size 432x288 with 1 Axes>"
      ]
     },
     "metadata": {
      "needs_background": "light"
     },
     "output_type": "display_data"
    },
    {
     "data": {
      "image/png": "[encoded data removed]",
      "text/plain": [
       "<Figure size 432x288 with 1 Axes>"
      ]
     },
     "metadata": {
      "needs_background": "light"
     },
     "output_type": "display_data"
    },
    {
     "data": {
      "image/png": "[encoded data removed]",
      "text/plain": [
       "<Figure size 432x288 with 1 Axes>"
      ]
     },
     "metadata": {
      "needs_background": "light"
     },
     "output_type": "display_data"
    },
    {
     "data": {
      "image/png": "[encoded data removed]",
      "text/plain": [
       "<Figure size 432x288 with 1 Axes>"
      ]
     },
     "metadata": {
      "needs_background": "light"
     },
     "output_type": "display_data"
    },
    {
     "data": {
      "image/png": "[encoded data removed]",
      "text/plain": [
       "<Figure size 432x288 with 1 Axes>"
      ]
     },
     "metadata": {
      "needs_background": "light"
     },
     "output_type": "display_data"
    },
    {
     "data": {
      "image/png": "[encoded data removed]",
      "text/plain": [
       "<Figure size 432x288 with 1 Axes>"
      ]
     },
     "metadata": {
      "needs_background": "light"
     },
     "output_type": "display_data"
    },
    {
     "data": {
      "image/png": "[encoded data removed]",
      "text/plain": [
       "<Figure size 432x288 with 1 Axes>"
      ]
     },
     "metadata": {
      "needs_background": "light"
     },
     "output_type": "display_data"
    },
    {
     "data": {
      "image/png": "[encoded data removed]",
      "text/plain": [
       "<Figure size 432x288 with 1 Axes>"
      ]
     },
     "metadata": {
      "needs_background": "light"
     },
     "output_type": "display_data"
    },
    {
     "data": {
      "image/png": "[encoded data removed]",
      "text/plain": [
       "<Figure size 432x288 with 1 Axes>"
      ]
     },
     "metadata": {
      "needs_background": "light"
     },
     "output_type": "display_data"
    },
    {
     "data": {
      "image/png": "[encoded data removed]",
      "text/plain": [
       "<Figure size 432x288 with 1 Axes>"
      ]
     },
     "metadata": {
      "needs_background": "light"
     },
     "output_type": "display_data"
    },
    {
     "data": {
      "image/png": "[encoded data removed]",
      "text/plain": [
       "<Figure size 432x288 with 1 Axes>"
      ]
     },
     "metadata": {
      "needs_background": "light"
     },
     "output_type": "display_data"
    }
   ],
   "source": [
    "#plt.figure(figsize = (8,5))\n",
    "#ind = target_column.index('244B_CO270.AIn')\n",
    "for ind in range(14):\n",
    "    plt.plot(reconstructions[:,:,ind].reshape(-1,1),label = 'Reconstruction')\n",
    "    plt.plot(data1[:,:,ind].reshape(-1,1), label = 'Actual')\n",
    "    plt.legend()\n",
    "    plt.title(target_column[ind])\n",
    "    plt.show()"
   ]
  },
  {
   "cell_type": "code",
   "execution_count": 69,
   "metadata": {},
   "outputs": [
    {
     "name": "stdout",
     "output_type": "stream",
     "text": [
      "['244B_VST220.AIn', '244B_CO270.AIn', '244B_TE118.AIn', '244B_TE117.AIn', '244B_TE116.AIn', '244B_SC150.SpdSP', '244B_FCV127.Output', '244B_FCV129.Output', '244B_FCV545.Output', '244B_SC220.SpdHz', '244B_PDT100.AIn', '244B_TE202.AIn', '244B_FQTI200.AIn', '244B_TE200.AIn']\n"
     ]
    }
   ],
   "source": [
    "print(target_column)"
   ]
  },
  {
   "cell_type": "code",
   "execution_count": null,
   "metadata": {},
   "outputs": [],
   "source": []
  },
  {
   "cell_type": "code",
   "execution_count": null,
   "metadata": {},
   "outputs": [],
   "source": []
  },
  {
   "cell_type": "markdown",
   "metadata": {},
   "source": [
    "# Use Me"
   ]
  },
  {
   "cell_type": "code",
   "execution_count": 45,
   "metadata": {},
   "outputs": [],
   "source": [
    "def get_threshold(model, criterion,train_loader):\n",
    "    model.eval()\n",
    "    with torch.no_grad():\n",
    "        train_loss = []\n",
    "        for idx,batch_features in enumerate(train_loader):\n",
    "            batch_features = torch.from_numpy(batch_features.numpy()).float().to(device)\n",
    "            outputs = model(batch_features)\n",
    "            loss = criterion(outputs, batch_features).item()\n",
    "            train_loss.append(loss)\n",
    "        train_loss = np.array(train_loss)\n",
    "    threshold = np.mean(train_loss) + np.std(train_loss)\n",
    "    print('Threshold:', threshold)\n",
    "    return threshold"
   ]
  },
  {
   "cell_type": "code",
   "execution_count": 46,
   "metadata": {},
   "outputs": [
    {
     "name": "stdout",
     "output_type": "stream",
     "text": [
      "Threshold: 4.060076478412851\n"
     ]
    }
   ],
   "source": [
    "threshold = get_threshold(model, criterion,train_loader)"
   ]
  },
  {
   "cell_type": "code",
   "execution_count": 39,
   "metadata": {},
   "outputs": [],
   "source": [
    "def predict(model, data, threshold):\n",
    "    dl = torch.utils.data.DataLoader(data, batch_size=32, shuffle=False, num_workers=2)\n",
    "    anomalous = []\n",
    "    model.eval()\n",
    "    with torch.no_grad():\n",
    "        for idx,batch_features in enumerate(dl):\n",
    "            batch_features = torch.from_numpy(batch_features.numpy()).float().to(device)\n",
    "            outputs = model(batch_features)\n",
    "            test_loss = criterion(outputs, batch_features).item()\n",
    "            if test_loss>threshold:\n",
    "                anomalous.append(idx*32)\n",
    "    return anomalous"
   ]
  },
  {
   "cell_type": "code",
   "execution_count": 49,
   "metadata": {},
   "outputs": [
    {
     "data": {
      "text/plain": [
       "[]"
      ]
     },
     "execution_count": 49,
     "metadata": {},
     "output_type": "execute_result"
    }
   ],
   "source": [
    "# if list is empty, there is no anomaly\n",
    "# number i in anomaly list indicates that data[i:i+32*200] contain anomalous data\n",
    "\n",
    "anomaly = predict(model, test_data, threshold*1.2)\n",
    "anomaly"
   ]
  },
  {
   "cell_type": "code",
   "execution_count": 45,
   "metadata": {},
   "outputs": [
    {
     "data": {
      "text/plain": [
       "[0]"
      ]
     },
     "execution_count": 45,
     "metadata": {},
     "output_type": "execute_result"
    }
   ],
   "source": [
    "data1 = np.array(df[target_column][94600:94800])\n",
    "data1 = data1.reshape((1,200,12))\n",
    "anomaly = predict(model, data1, threshold*1.3)\n",
    "anomaly"
   ]
  },
  {
   "cell_type": "code",
   "execution_count": 48,
   "metadata": {},
   "outputs": [
    {
     "data": {
      "text/plain": [
       "[]"
      ]
     },
     "execution_count": 48,
     "metadata": {},
     "output_type": "execute_result"
    }
   ],
   "source": [
    "anomaly = predict(model, train_data, threshold*1.2)\n",
    "anomaly"
   ]
  },
  {
   "cell_type": "code",
   "execution_count": 54,
   "metadata": {},
   "outputs": [
    {
     "data": {
      "text/plain": [
       "[<matplotlib.lines.Line2D at 0x7efa7856e7f0>]"
      ]
     },
     "execution_count": 54,
     "metadata": {},
     "output_type": "execute_result"
    },
    {
     "data": {
      "image/png": "[encoded data removed]",
      "text/plain": [
       "<Figure size 432x288 with 1 Axes>"
      ]
     },
     "metadata": {
      "needs_background": "light"
     },
     "output_type": "display_data"
    }
   ],
   "source": [
    "plt.plot(df['244B_CO270.AIn'][94600:94800])"
   ]
  },
  {
   "cell_type": "code",
   "execution_count": null,
   "metadata": {},
   "outputs": [],
   "source": []
  },
  {
   "cell_type": "code",
   "execution_count": 53,
   "metadata": {},
   "outputs": [
    {
     "name": "stdout",
     "output_type": "stream",
     "text": [
      "930 938 939 946 947 954 955 956 963 964 971 972 979 980 994 995 "
     ]
    }
   ],
   "source": [
    "for i in range(900,999):\n",
    "    data1 = np.array(df[target_column][i*100:i*100+200])\n",
    "    data1 = data1.reshape((1,200,12))\n",
    "    anomaly = predict(model, data1, threshold*1.3)\n",
    "    if len(anomaly)>0:\n",
    "        print(i,end = ' ')"
   ]
  },
  {
   "cell_type": "code",
   "execution_count": null,
   "metadata": {},
   "outputs": [],
   "source": [
    "def train_model(model,criterion,optimizer,epochs=5):\n",
    "    hist = {'loss':[], 'val_loss': []}\n",
    "    for epoch in range(epochs):\n",
    "        loss = 0\n",
    "        print(f'Epoch: {epoch+1}/{epochs}')\n",
    "        print('-'*25)\n",
    "        model.train()\n",
    "        for x,y in train_loader:\n",
    "            x = torch.from_numpy(x.numpy()).float().to(device)\n",
    "            y = torch.from_numpy(y.numpy()).float().to(device)\n",
    "            optimizer.zero_grad()\n",
    "\n",
    "            outputs = model(x)\n",
    "\n",
    "            train_loss = criterion(outputs, y)\n",
    "            train_loss.backward()\n",
    "            optimizer.step()\n",
    "            loss += train_loss.item()\n",
    "\n",
    "        loss = loss / len(train_loader)\n",
    "        hist['loss'].append(loss)\n",
    "        \n",
    "        model.eval()\n",
    "        with torch.no_grad():\n",
    "            val_loss = 0\n",
    "            for x,y in test_loader:\n",
    "                x = torch.from_numpy(x.numpy()).float().to(device)\n",
    "                y = torch.from_numpy(y.numpy()).float().to(device)\n",
    "                outputs = model(x)\n",
    "                val_loss += criterion(outputs, y).item()\n",
    "        val_loss/=len(test_loader)\n",
    "        hist['val_loss'].append(val_loss)\n",
    "        # display the epoch training loss\n",
    "        print(f\"loss = {loss}, val_loss = {val_loss}\")\n",
    "    return hist"
   ]
  },
  {
   "cell_type": "code",
   "execution_count": null,
   "metadata": {},
   "outputs": [],
   "source": [
    "hist = train_model(model,criterion,optimizer,epochs=5)"
   ]
  },
  {
   "cell_type": "code",
   "execution_count": null,
   "metadata": {},
   "outputs": [],
   "source": [
    "plt.plot(range(len(hist['loss'])), hist['loss'], label = 'Train_loss')\n",
    "plt.plot(range(len(hist['loss'])), hist['val_loss'], label = 'Validation_loss')\n",
    "plt.legend()\n",
    "plt.show()"
   ]
  },
  {
   "cell_type": "code",
   "execution_count": null,
   "metadata": {},
   "outputs": [],
   "source": []
  }
 ],
 "metadata": {
  "kernelspec": {
   "display_name": "Python 3 (ipykernel)",
   "language": "python",
   "name": "python3"
  },
  "language_info": {
   "codemirror_mode": {
    "name": "ipython",
    "version": 3
   },
   "file_extension": ".py",
   "mimetype": "text/x-python",
   "name": "python",
   "nbconvert_exporter": "python",
   "pygments_lexer": "ipython3",
   "version": "3.7.3"
  }
 },
 "nbformat": 4,
 "nbformat_minor": 2
}
