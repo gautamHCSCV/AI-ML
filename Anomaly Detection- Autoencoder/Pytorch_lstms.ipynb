{
 "cells": [
  {
   "cell_type": "code",
   "execution_count": 3,
   "metadata": {},
   "outputs": [],
   "source": [
    "# Importing relevant libraries\n",
    "import numpy as np\n",
    "import matplotlib.pyplot as plt\n",
    "import pandas as pd\n",
    "from datetime import timedelta\n",
    "import os\n",
    "import sklearn.metrics as metrics\n",
    "from sklearn.preprocessing import MinMaxScaler\n",
    "import warnings \n",
    "warnings.filterwarnings('ignore')"
   ]
  },
  {
   "cell_type": "code",
   "execution_count": 4,
   "metadata": {},
   "outputs": [],
   "source": [
    "import torch\n",
    "import torch.nn as nn\n",
    "import torch.optim as optim\n",
    "import torchvision\n",
    "import torch.nn.functional as F\n",
    "from torch.utils.data import Dataset, DataLoader\n",
    "import torchvision.models as models"
   ]
  },
  {
   "cell_type": "code",
   "execution_count": 13,
   "metadata": {},
   "outputs": [
    {
     "name": "stdout",
     "output_type": "stream",
     "text": [
      "(2893598, 16)\n"
     ]
    }
   ],
   "source": [
    "# Reading the Data\n",
    "df=pd.read_csv(\"Data/244B_Feb2022_selctd_tags.csv\")\n",
    "df.columns=[\"DateTime\", \"244B_XV114.Out2\", \"244B_TE116.AIn\", \"244B_TE117.AIn\", \"244B_TE118.AIn\", \"244B_TE200.AIn\" ,\"244B_TE201.AIn\" ,\"244B_TE202.AIn\", \"244B_SC220.SpdFB\", \"244B_SC220.SpdSP\", \"244B_CO270.AIn\", \"244B_PDT100.AIn\", \"244B_MachineModes.ModeMaster\", \"244B_MachineModes.ModeDrum\", \"RS4B_ROAST.Batch\" ,\"RS4B_ROAST.Campaign\", \"RS4B_ROAST.Lot\", \"244B_CLoop.CurveRaw\"]\n",
    "df.dropna(axis=0,inplace=True)\n",
    "df[\"DateTime\"]=pd.to_datetime(df.DateTime)\n",
    "df.index = df.DateTime\n",
    "df.drop(['DateTime','244B_CLoop.CurveRaw'],axis=1,inplace = True)\n",
    "print(df.shape)"
   ]
  },
  {
   "cell_type": "code",
   "execution_count": 14,
   "metadata": {
    "scrolled": true
   },
   "outputs": [
    {
     "name": "stdout",
     "output_type": "stream",
     "text": [
      "(2214086, 16)\n"
     ]
    },
    {
     "data": {
      "text/html": [
       "<div>\n",
       "<style scoped>\n",
       "    .dataframe tbody tr th:only-of-type {\n",
       "        vertical-align: middle;\n",
       "    }\n",
       "\n",
       "    .dataframe tbody tr th {\n",
       "        vertical-align: top;\n",
       "    }\n",
       "\n",
       "    .dataframe thead th {\n",
       "        text-align: right;\n",
       "    }\n",
       "</style>\n",
       "<table border=\"1\" class=\"dataframe\">\n",
       "  <thead>\n",
       "    <tr style=\"text-align: right;\">\n",
       "      <th></th>\n",
       "      <th>244B_XV114.Out2</th>\n",
       "      <th>244B_TE116.AIn</th>\n",
       "      <th>244B_TE117.AIn</th>\n",
       "      <th>244B_TE118.AIn</th>\n",
       "      <th>244B_TE200.AIn</th>\n",
       "      <th>244B_TE201.AIn</th>\n",
       "      <th>244B_TE202.AIn</th>\n",
       "      <th>244B_SC220.SpdFB</th>\n",
       "      <th>244B_SC220.SpdSP</th>\n",
       "      <th>244B_CO270.AIn</th>\n",
       "      <th>244B_PDT100.AIn</th>\n",
       "      <th>244B_MachineModes.ModeMaster</th>\n",
       "      <th>244B_MachineModes.ModeDrum</th>\n",
       "      <th>RS4B_ROAST.Batch</th>\n",
       "      <th>RS4B_ROAST.Campaign</th>\n",
       "      <th>RS4B_ROAST.Lot</th>\n",
       "    </tr>\n",
       "    <tr>\n",
       "      <th>DateTime</th>\n",
       "      <th></th>\n",
       "      <th></th>\n",
       "      <th></th>\n",
       "      <th></th>\n",
       "      <th></th>\n",
       "      <th></th>\n",
       "      <th></th>\n",
       "      <th></th>\n",
       "      <th></th>\n",
       "      <th></th>\n",
       "      <th></th>\n",
       "      <th></th>\n",
       "      <th></th>\n",
       "      <th></th>\n",
       "      <th></th>\n",
       "      <th></th>\n",
       "    </tr>\n",
       "  </thead>\n",
       "  <tbody>\n",
       "    <tr>\n",
       "      <th>2022-02-14 00:38:33.352</th>\n",
       "      <td>0.0</td>\n",
       "      <td>381.399994</td>\n",
       "      <td>376.000000</td>\n",
       "      <td>794.400024</td>\n",
       "      <td>340.600006</td>\n",
       "      <td>360.799988</td>\n",
       "      <td>362.799988</td>\n",
       "      <td>55.0</td>\n",
       "      <td>55.0</td>\n",
       "      <td>258.186584</td>\n",
       "      <td>-0.760216</td>\n",
       "      <td>30.0</td>\n",
       "      <td>230.0</td>\n",
       "      <td>RS4B-RST000001</td>\n",
       "      <td>FGR 011019071</td>\n",
       "      <td>GRP124341</td>\n",
       "    </tr>\n",
       "    <tr>\n",
       "      <th>2022-02-14 00:38:33.383</th>\n",
       "      <td>0.0</td>\n",
       "      <td>381.399994</td>\n",
       "      <td>376.000000</td>\n",
       "      <td>794.400024</td>\n",
       "      <td>340.600006</td>\n",
       "      <td>360.799988</td>\n",
       "      <td>362.799988</td>\n",
       "      <td>55.0</td>\n",
       "      <td>55.0</td>\n",
       "      <td>377.208771</td>\n",
       "      <td>-0.760216</td>\n",
       "      <td>30.0</td>\n",
       "      <td>230.0</td>\n",
       "      <td>RS4B-RST000001</td>\n",
       "      <td>FGR 011019071</td>\n",
       "      <td>GRP124341</td>\n",
       "    </tr>\n",
       "    <tr>\n",
       "      <th>2022-02-14 00:38:33.442</th>\n",
       "      <td>0.0</td>\n",
       "      <td>381.399994</td>\n",
       "      <td>376.000000</td>\n",
       "      <td>794.400024</td>\n",
       "      <td>340.600006</td>\n",
       "      <td>360.799988</td>\n",
       "      <td>362.799988</td>\n",
       "      <td>55.0</td>\n",
       "      <td>55.0</td>\n",
       "      <td>377.208771</td>\n",
       "      <td>-0.711142</td>\n",
       "      <td>30.0</td>\n",
       "      <td>230.0</td>\n",
       "      <td>RS4B-RST000001</td>\n",
       "      <td>FGR 011019071</td>\n",
       "      <td>GRP124341</td>\n",
       "    </tr>\n",
       "    <tr>\n",
       "      <th>2022-02-14 00:38:33.526</th>\n",
       "      <td>0.0</td>\n",
       "      <td>377.500000</td>\n",
       "      <td>373.799988</td>\n",
       "      <td>791.599976</td>\n",
       "      <td>339.799988</td>\n",
       "      <td>359.200012</td>\n",
       "      <td>362.000000</td>\n",
       "      <td>55.0</td>\n",
       "      <td>55.0</td>\n",
       "      <td>377.208771</td>\n",
       "      <td>-0.711142</td>\n",
       "      <td>30.0</td>\n",
       "      <td>230.0</td>\n",
       "      <td>RS4B-RST000001</td>\n",
       "      <td>FGR 011019071</td>\n",
       "      <td>GRP124341</td>\n",
       "    </tr>\n",
       "    <tr>\n",
       "      <th>2022-02-14 00:38:33.805</th>\n",
       "      <td>0.0</td>\n",
       "      <td>377.500000</td>\n",
       "      <td>373.799988</td>\n",
       "      <td>791.599976</td>\n",
       "      <td>339.799988</td>\n",
       "      <td>359.200012</td>\n",
       "      <td>362.000000</td>\n",
       "      <td>55.0</td>\n",
       "      <td>55.0</td>\n",
       "      <td>378.124329</td>\n",
       "      <td>-0.711142</td>\n",
       "      <td>30.0</td>\n",
       "      <td>230.0</td>\n",
       "      <td>RS4B-RST000001</td>\n",
       "      <td>FGR 011019071</td>\n",
       "      <td>GRP124341</td>\n",
       "    </tr>\n",
       "  </tbody>\n",
       "</table>\n",
       "</div>"
      ],
      "text/plain": [
       "                         244B_XV114.Out2  244B_TE116.AIn  244B_TE117.AIn  \\\n",
       "DateTime                                                                   \n",
       "2022-02-14 00:38:33.352              0.0      381.399994      376.000000   \n",
       "2022-02-14 00:38:33.383              0.0      381.399994      376.000000   \n",
       "2022-02-14 00:38:33.442              0.0      381.399994      376.000000   \n",
       "2022-02-14 00:38:33.526              0.0      377.500000      373.799988   \n",
       "2022-02-14 00:38:33.805              0.0      377.500000      373.799988   \n",
       "\n",
       "                         244B_TE118.AIn  244B_TE200.AIn  244B_TE201.AIn  \\\n",
       "DateTime                                                                  \n",
       "2022-02-14 00:38:33.352      794.400024      340.600006      360.799988   \n",
       "2022-02-14 00:38:33.383      794.400024      340.600006      360.799988   \n",
       "2022-02-14 00:38:33.442      794.400024      340.600006      360.799988   \n",
       "2022-02-14 00:38:33.526      791.599976      339.799988      359.200012   \n",
       "2022-02-14 00:38:33.805      791.599976      339.799988      359.200012   \n",
       "\n",
       "                         244B_TE202.AIn  244B_SC220.SpdFB  244B_SC220.SpdSP  \\\n",
       "DateTime                                                                      \n",
       "2022-02-14 00:38:33.352      362.799988              55.0              55.0   \n",
       "2022-02-14 00:38:33.383      362.799988              55.0              55.0   \n",
       "2022-02-14 00:38:33.442      362.799988              55.0              55.0   \n",
       "2022-02-14 00:38:33.526      362.000000              55.0              55.0   \n",
       "2022-02-14 00:38:33.805      362.000000              55.0              55.0   \n",
       "\n",
       "                         244B_CO270.AIn  244B_PDT100.AIn  \\\n",
       "DateTime                                                   \n",
       "2022-02-14 00:38:33.352      258.186584        -0.760216   \n",
       "2022-02-14 00:38:33.383      377.208771        -0.760216   \n",
       "2022-02-14 00:38:33.442      377.208771        -0.711142   \n",
       "2022-02-14 00:38:33.526      377.208771        -0.711142   \n",
       "2022-02-14 00:38:33.805      378.124329        -0.711142   \n",
       "\n",
       "                         244B_MachineModes.ModeMaster  \\\n",
       "DateTime                                                \n",
       "2022-02-14 00:38:33.352                          30.0   \n",
       "2022-02-14 00:38:33.383                          30.0   \n",
       "2022-02-14 00:38:33.442                          30.0   \n",
       "2022-02-14 00:38:33.526                          30.0   \n",
       "2022-02-14 00:38:33.805                          30.0   \n",
       "\n",
       "                         244B_MachineModes.ModeDrum RS4B_ROAST.Batch  \\\n",
       "DateTime                                                               \n",
       "2022-02-14 00:38:33.352                       230.0   RS4B-RST000001   \n",
       "2022-02-14 00:38:33.383                       230.0   RS4B-RST000001   \n",
       "2022-02-14 00:38:33.442                       230.0   RS4B-RST000001   \n",
       "2022-02-14 00:38:33.526                       230.0   RS4B-RST000001   \n",
       "2022-02-14 00:38:33.805                       230.0   RS4B-RST000001   \n",
       "\n",
       "                        RS4B_ROAST.Campaign RS4B_ROAST.Lot  \n",
       "DateTime                                                    \n",
       "2022-02-14 00:38:33.352       FGR 011019071      GRP124341  \n",
       "2022-02-14 00:38:33.383       FGR 011019071      GRP124341  \n",
       "2022-02-14 00:38:33.442       FGR 011019071      GRP124341  \n",
       "2022-02-14 00:38:33.526       FGR 011019071      GRP124341  \n",
       "2022-02-14 00:38:33.805       FGR 011019071      GRP124341  "
      ]
     },
     "execution_count": 14,
     "metadata": {},
     "output_type": "execute_result"
    }
   ],
   "source": [
    "df = df[(df['244B_MachineModes.ModeDrum'] >= 230) & (df['244B_MachineModes.ModeDrum'] <= 250) & (df['244B_MachineModes.ModeMaster'] == 30)] \n",
    "print(df.shape)\n",
    "df.head()"
   ]
  },
  {
   "cell_type": "code",
   "execution_count": 15,
   "metadata": {},
   "outputs": [
    {
     "data": {
      "text/html": [
       "<div>\n",
       "<style scoped>\n",
       "    .dataframe tbody tr th:only-of-type {\n",
       "        vertical-align: middle;\n",
       "    }\n",
       "\n",
       "    .dataframe tbody tr th {\n",
       "        vertical-align: top;\n",
       "    }\n",
       "\n",
       "    .dataframe thead th {\n",
       "        text-align: right;\n",
       "    }\n",
       "</style>\n",
       "<table border=\"1\" class=\"dataframe\">\n",
       "  <thead>\n",
       "    <tr style=\"text-align: right;\">\n",
       "      <th></th>\n",
       "      <th>244B_XV114.Out2</th>\n",
       "      <th>244B_TE116.AIn</th>\n",
       "      <th>244B_TE117.AIn</th>\n",
       "      <th>244B_TE118.AIn</th>\n",
       "      <th>244B_TE200.AIn</th>\n",
       "      <th>244B_TE201.AIn</th>\n",
       "      <th>244B_TE202.AIn</th>\n",
       "      <th>244B_SC220.SpdFB</th>\n",
       "      <th>244B_SC220.SpdSP</th>\n",
       "      <th>244B_CO270.AIn</th>\n",
       "      <th>244B_PDT100.AIn</th>\n",
       "      <th>244B_MachineModes.ModeMaster</th>\n",
       "      <th>244B_MachineModes.ModeDrum</th>\n",
       "      <th>RS4B_ROAST.Batch</th>\n",
       "      <th>RS4B_ROAST.Campaign</th>\n",
       "      <th>RS4B_ROAST.Lot</th>\n",
       "      <th>batch</th>\n",
       "    </tr>\n",
       "    <tr>\n",
       "      <th>DateTime</th>\n",
       "      <th></th>\n",
       "      <th></th>\n",
       "      <th></th>\n",
       "      <th></th>\n",
       "      <th></th>\n",
       "      <th></th>\n",
       "      <th></th>\n",
       "      <th></th>\n",
       "      <th></th>\n",
       "      <th></th>\n",
       "      <th></th>\n",
       "      <th></th>\n",
       "      <th></th>\n",
       "      <th></th>\n",
       "      <th></th>\n",
       "      <th></th>\n",
       "      <th></th>\n",
       "    </tr>\n",
       "  </thead>\n",
       "  <tbody>\n",
       "    <tr>\n",
       "      <th>2022-02-14 00:38:33.352</th>\n",
       "      <td>0.0</td>\n",
       "      <td>381.399994</td>\n",
       "      <td>376.000000</td>\n",
       "      <td>794.400024</td>\n",
       "      <td>340.600006</td>\n",
       "      <td>360.799988</td>\n",
       "      <td>362.799988</td>\n",
       "      <td>55.0</td>\n",
       "      <td>55.0</td>\n",
       "      <td>258.186584</td>\n",
       "      <td>-0.760216</td>\n",
       "      <td>30.0</td>\n",
       "      <td>230.0</td>\n",
       "      <td>RS4B-RST000001</td>\n",
       "      <td>FGR 011019071</td>\n",
       "      <td>GRP124341</td>\n",
       "      <td>0</td>\n",
       "    </tr>\n",
       "    <tr>\n",
       "      <th>2022-02-14 00:38:33.383</th>\n",
       "      <td>0.0</td>\n",
       "      <td>381.399994</td>\n",
       "      <td>376.000000</td>\n",
       "      <td>794.400024</td>\n",
       "      <td>340.600006</td>\n",
       "      <td>360.799988</td>\n",
       "      <td>362.799988</td>\n",
       "      <td>55.0</td>\n",
       "      <td>55.0</td>\n",
       "      <td>377.208771</td>\n",
       "      <td>-0.760216</td>\n",
       "      <td>30.0</td>\n",
       "      <td>230.0</td>\n",
       "      <td>RS4B-RST000001</td>\n",
       "      <td>FGR 011019071</td>\n",
       "      <td>GRP124341</td>\n",
       "      <td>0</td>\n",
       "    </tr>\n",
       "    <tr>\n",
       "      <th>2022-02-14 00:38:33.442</th>\n",
       "      <td>0.0</td>\n",
       "      <td>381.399994</td>\n",
       "      <td>376.000000</td>\n",
       "      <td>794.400024</td>\n",
       "      <td>340.600006</td>\n",
       "      <td>360.799988</td>\n",
       "      <td>362.799988</td>\n",
       "      <td>55.0</td>\n",
       "      <td>55.0</td>\n",
       "      <td>377.208771</td>\n",
       "      <td>-0.711142</td>\n",
       "      <td>30.0</td>\n",
       "      <td>230.0</td>\n",
       "      <td>RS4B-RST000001</td>\n",
       "      <td>FGR 011019071</td>\n",
       "      <td>GRP124341</td>\n",
       "      <td>0</td>\n",
       "    </tr>\n",
       "    <tr>\n",
       "      <th>2022-02-14 00:38:33.526</th>\n",
       "      <td>0.0</td>\n",
       "      <td>377.500000</td>\n",
       "      <td>373.799988</td>\n",
       "      <td>791.599976</td>\n",
       "      <td>339.799988</td>\n",
       "      <td>359.200012</td>\n",
       "      <td>362.000000</td>\n",
       "      <td>55.0</td>\n",
       "      <td>55.0</td>\n",
       "      <td>377.208771</td>\n",
       "      <td>-0.711142</td>\n",
       "      <td>30.0</td>\n",
       "      <td>230.0</td>\n",
       "      <td>RS4B-RST000001</td>\n",
       "      <td>FGR 011019071</td>\n",
       "      <td>GRP124341</td>\n",
       "      <td>0</td>\n",
       "    </tr>\n",
       "    <tr>\n",
       "      <th>2022-02-14 00:38:33.805</th>\n",
       "      <td>0.0</td>\n",
       "      <td>377.500000</td>\n",
       "      <td>373.799988</td>\n",
       "      <td>791.599976</td>\n",
       "      <td>339.799988</td>\n",
       "      <td>359.200012</td>\n",
       "      <td>362.000000</td>\n",
       "      <td>55.0</td>\n",
       "      <td>55.0</td>\n",
       "      <td>378.124329</td>\n",
       "      <td>-0.711142</td>\n",
       "      <td>30.0</td>\n",
       "      <td>230.0</td>\n",
       "      <td>RS4B-RST000001</td>\n",
       "      <td>FGR 011019071</td>\n",
       "      <td>GRP124341</td>\n",
       "      <td>0</td>\n",
       "    </tr>\n",
       "  </tbody>\n",
       "</table>\n",
       "</div>"
      ],
      "text/plain": [
       "                         244B_XV114.Out2  244B_TE116.AIn  244B_TE117.AIn  \\\n",
       "DateTime                                                                   \n",
       "2022-02-14 00:38:33.352              0.0      381.399994      376.000000   \n",
       "2022-02-14 00:38:33.383              0.0      381.399994      376.000000   \n",
       "2022-02-14 00:38:33.442              0.0      381.399994      376.000000   \n",
       "2022-02-14 00:38:33.526              0.0      377.500000      373.799988   \n",
       "2022-02-14 00:38:33.805              0.0      377.500000      373.799988   \n",
       "\n",
       "                         244B_TE118.AIn  244B_TE200.AIn  244B_TE201.AIn  \\\n",
       "DateTime                                                                  \n",
       "2022-02-14 00:38:33.352      794.400024      340.600006      360.799988   \n",
       "2022-02-14 00:38:33.383      794.400024      340.600006      360.799988   \n",
       "2022-02-14 00:38:33.442      794.400024      340.600006      360.799988   \n",
       "2022-02-14 00:38:33.526      791.599976      339.799988      359.200012   \n",
       "2022-02-14 00:38:33.805      791.599976      339.799988      359.200012   \n",
       "\n",
       "                         244B_TE202.AIn  244B_SC220.SpdFB  244B_SC220.SpdSP  \\\n",
       "DateTime                                                                      \n",
       "2022-02-14 00:38:33.352      362.799988              55.0              55.0   \n",
       "2022-02-14 00:38:33.383      362.799988              55.0              55.0   \n",
       "2022-02-14 00:38:33.442      362.799988              55.0              55.0   \n",
       "2022-02-14 00:38:33.526      362.000000              55.0              55.0   \n",
       "2022-02-14 00:38:33.805      362.000000              55.0              55.0   \n",
       "\n",
       "                         244B_CO270.AIn  244B_PDT100.AIn  \\\n",
       "DateTime                                                   \n",
       "2022-02-14 00:38:33.352      258.186584        -0.760216   \n",
       "2022-02-14 00:38:33.383      377.208771        -0.760216   \n",
       "2022-02-14 00:38:33.442      377.208771        -0.711142   \n",
       "2022-02-14 00:38:33.526      377.208771        -0.711142   \n",
       "2022-02-14 00:38:33.805      378.124329        -0.711142   \n",
       "\n",
       "                         244B_MachineModes.ModeMaster  \\\n",
       "DateTime                                                \n",
       "2022-02-14 00:38:33.352                          30.0   \n",
       "2022-02-14 00:38:33.383                          30.0   \n",
       "2022-02-14 00:38:33.442                          30.0   \n",
       "2022-02-14 00:38:33.526                          30.0   \n",
       "2022-02-14 00:38:33.805                          30.0   \n",
       "\n",
       "                         244B_MachineModes.ModeDrum RS4B_ROAST.Batch  \\\n",
       "DateTime                                                               \n",
       "2022-02-14 00:38:33.352                       230.0   RS4B-RST000001   \n",
       "2022-02-14 00:38:33.383                       230.0   RS4B-RST000001   \n",
       "2022-02-14 00:38:33.442                       230.0   RS4B-RST000001   \n",
       "2022-02-14 00:38:33.526                       230.0   RS4B-RST000001   \n",
       "2022-02-14 00:38:33.805                       230.0   RS4B-RST000001   \n",
       "\n",
       "                        RS4B_ROAST.Campaign RS4B_ROAST.Lot  batch  \n",
       "DateTime                                                           \n",
       "2022-02-14 00:38:33.352       FGR 011019071      GRP124341      0  \n",
       "2022-02-14 00:38:33.383       FGR 011019071      GRP124341      0  \n",
       "2022-02-14 00:38:33.442       FGR 011019071      GRP124341      0  \n",
       "2022-02-14 00:38:33.526       FGR 011019071      GRP124341      0  \n",
       "2022-02-14 00:38:33.805       FGR 011019071      GRP124341      0  "
      ]
     },
     "execution_count": 15,
     "metadata": {},
     "output_type": "execute_result"
    }
   ],
   "source": [
    "# ITA -> CO\n",
    "from sklearn.preprocessing import LabelEncoder\n",
    "enc = LabelEncoder()\n",
    "df['batch'] = enc.fit_transform(df['RS4B_ROAST.Lot'])\n",
    "df.head()"
   ]
  },
  {
   "cell_type": "code",
   "execution_count": 8,
   "metadata": {},
   "outputs": [
    {
     "name": "stdout",
     "output_type": "stream",
     "text": [
      "(431493, 15)\n"
     ]
    },
    {
     "data": {
      "text/html": [
       "<div>\n",
       "<style scoped>\n",
       "    .dataframe tbody tr th:only-of-type {\n",
       "        vertical-align: middle;\n",
       "    }\n",
       "\n",
       "    .dataframe tbody tr th {\n",
       "        vertical-align: top;\n",
       "    }\n",
       "\n",
       "    .dataframe thead th {\n",
       "        text-align: right;\n",
       "    }\n",
       "</style>\n",
       "<table border=\"1\" class=\"dataframe\">\n",
       "  <thead>\n",
       "    <tr style=\"text-align: right;\">\n",
       "      <th></th>\n",
       "      <th>244B_XV114.Out2</th>\n",
       "      <th>244B_TE116.AIn</th>\n",
       "      <th>244B_TE117.AIn</th>\n",
       "      <th>244B_TE118.AIn</th>\n",
       "      <th>244B_TE200.AIn</th>\n",
       "      <th>244B_TE201.AIn</th>\n",
       "      <th>244B_TE202.AIn</th>\n",
       "      <th>244B_SC220.SpdFB</th>\n",
       "      <th>244B_SC220.SpdSP</th>\n",
       "      <th>244B_CO270.AIn</th>\n",
       "      <th>244B_PDT100.AIn</th>\n",
       "      <th>244B_MachineModes.ModeMaster</th>\n",
       "      <th>244B_MachineModes.ModeDrum</th>\n",
       "      <th>244B_CLoop.CurveRaw</th>\n",
       "      <th>batch</th>\n",
       "    </tr>\n",
       "    <tr>\n",
       "      <th>DateTime</th>\n",
       "      <th></th>\n",
       "      <th></th>\n",
       "      <th></th>\n",
       "      <th></th>\n",
       "      <th></th>\n",
       "      <th></th>\n",
       "      <th></th>\n",
       "      <th></th>\n",
       "      <th></th>\n",
       "      <th></th>\n",
       "      <th></th>\n",
       "      <th></th>\n",
       "      <th></th>\n",
       "      <th></th>\n",
       "      <th></th>\n",
       "    </tr>\n",
       "  </thead>\n",
       "  <tbody>\n",
       "    <tr>\n",
       "      <th>2022-02-14 00:38:33</th>\n",
       "      <td>0.0</td>\n",
       "      <td>377.500000</td>\n",
       "      <td>373.799988</td>\n",
       "      <td>791.599976</td>\n",
       "      <td>339.799988</td>\n",
       "      <td>359.200012</td>\n",
       "      <td>362.000000</td>\n",
       "      <td>55.0</td>\n",
       "      <td>55.0</td>\n",
       "      <td>377.208771</td>\n",
       "      <td>-0.711142</td>\n",
       "      <td>30.0</td>\n",
       "      <td>230.0</td>\n",
       "      <td>393.799988</td>\n",
       "      <td>0.0</td>\n",
       "    </tr>\n",
       "    <tr>\n",
       "      <th>2022-02-14 00:38:34</th>\n",
       "      <td>0.0</td>\n",
       "      <td>370.600006</td>\n",
       "      <td>369.200012</td>\n",
       "      <td>786.299988</td>\n",
       "      <td>337.799988</td>\n",
       "      <td>356.100006</td>\n",
       "      <td>360.200012</td>\n",
       "      <td>55.0</td>\n",
       "      <td>55.0</td>\n",
       "      <td>250.862152</td>\n",
       "      <td>-0.573748</td>\n",
       "      <td>30.0</td>\n",
       "      <td>230.0</td>\n",
       "      <td>393.799988</td>\n",
       "      <td>0.0</td>\n",
       "    </tr>\n",
       "    <tr>\n",
       "      <th>2022-02-14 00:38:35</th>\n",
       "      <td>0.0</td>\n",
       "      <td>367.399994</td>\n",
       "      <td>367.200012</td>\n",
       "      <td>783.299988</td>\n",
       "      <td>336.700012</td>\n",
       "      <td>354.100006</td>\n",
       "      <td>359.500000</td>\n",
       "      <td>55.0</td>\n",
       "      <td>55.0</td>\n",
       "      <td>196.844391</td>\n",
       "      <td>-0.487442</td>\n",
       "      <td>30.0</td>\n",
       "      <td>230.0</td>\n",
       "      <td>393.799988</td>\n",
       "      <td>0.0</td>\n",
       "    </tr>\n",
       "    <tr>\n",
       "      <th>2022-02-14 00:38:36</th>\n",
       "      <td>0.0</td>\n",
       "      <td>357.299988</td>\n",
       "      <td>361.000000</td>\n",
       "      <td>775.799988</td>\n",
       "      <td>333.500000</td>\n",
       "      <td>348.899994</td>\n",
       "      <td>356.299988</td>\n",
       "      <td>55.0</td>\n",
       "      <td>55.0</td>\n",
       "      <td>293.893250</td>\n",
       "      <td>-0.448195</td>\n",
       "      <td>30.0</td>\n",
       "      <td>230.0</td>\n",
       "      <td>393.799988</td>\n",
       "      <td>0.0</td>\n",
       "    </tr>\n",
       "    <tr>\n",
       "      <th>2022-02-14 00:38:37</th>\n",
       "      <td>0.0</td>\n",
       "      <td>350.399994</td>\n",
       "      <td>356.600006</td>\n",
       "      <td>770.000000</td>\n",
       "      <td>330.899994</td>\n",
       "      <td>345.000000</td>\n",
       "      <td>354.000000</td>\n",
       "      <td>55.0</td>\n",
       "      <td>55.0</td>\n",
       "      <td>336.924347</td>\n",
       "      <td>-0.403272</td>\n",
       "      <td>30.0</td>\n",
       "      <td>230.0</td>\n",
       "      <td>393.799988</td>\n",
       "      <td>0.0</td>\n",
       "    </tr>\n",
       "  </tbody>\n",
       "</table>\n",
       "</div>"
      ],
      "text/plain": [
       "                     244B_XV114.Out2  244B_TE116.AIn  244B_TE117.AIn  \\\n",
       "DateTime                                                               \n",
       "2022-02-14 00:38:33              0.0      377.500000      373.799988   \n",
       "2022-02-14 00:38:34              0.0      370.600006      369.200012   \n",
       "2022-02-14 00:38:35              0.0      367.399994      367.200012   \n",
       "2022-02-14 00:38:36              0.0      357.299988      361.000000   \n",
       "2022-02-14 00:38:37              0.0      350.399994      356.600006   \n",
       "\n",
       "                     244B_TE118.AIn  244B_TE200.AIn  244B_TE201.AIn  \\\n",
       "DateTime                                                              \n",
       "2022-02-14 00:38:33      791.599976      339.799988      359.200012   \n",
       "2022-02-14 00:38:34      786.299988      337.799988      356.100006   \n",
       "2022-02-14 00:38:35      783.299988      336.700012      354.100006   \n",
       "2022-02-14 00:38:36      775.799988      333.500000      348.899994   \n",
       "2022-02-14 00:38:37      770.000000      330.899994      345.000000   \n",
       "\n",
       "                     244B_TE202.AIn  244B_SC220.SpdFB  244B_SC220.SpdSP  \\\n",
       "DateTime                                                                  \n",
       "2022-02-14 00:38:33      362.000000              55.0              55.0   \n",
       "2022-02-14 00:38:34      360.200012              55.0              55.0   \n",
       "2022-02-14 00:38:35      359.500000              55.0              55.0   \n",
       "2022-02-14 00:38:36      356.299988              55.0              55.0   \n",
       "2022-02-14 00:38:37      354.000000              55.0              55.0   \n",
       "\n",
       "                     244B_CO270.AIn  244B_PDT100.AIn  \\\n",
       "DateTime                                               \n",
       "2022-02-14 00:38:33      377.208771        -0.711142   \n",
       "2022-02-14 00:38:34      250.862152        -0.573748   \n",
       "2022-02-14 00:38:35      196.844391        -0.487442   \n",
       "2022-02-14 00:38:36      293.893250        -0.448195   \n",
       "2022-02-14 00:38:37      336.924347        -0.403272   \n",
       "\n",
       "                     244B_MachineModes.ModeMaster  244B_MachineModes.ModeDrum  \\\n",
       "DateTime                                                                        \n",
       "2022-02-14 00:38:33                          30.0                       230.0   \n",
       "2022-02-14 00:38:34                          30.0                       230.0   \n",
       "2022-02-14 00:38:35                          30.0                       230.0   \n",
       "2022-02-14 00:38:36                          30.0                       230.0   \n",
       "2022-02-14 00:38:37                          30.0                       230.0   \n",
       "\n",
       "                     244B_CLoop.CurveRaw  batch  \n",
       "DateTime                                         \n",
       "2022-02-14 00:38:33           393.799988    0.0  \n",
       "2022-02-14 00:38:34           393.799988    0.0  \n",
       "2022-02-14 00:38:35           393.799988    0.0  \n",
       "2022-02-14 00:38:36           393.799988    0.0  \n",
       "2022-02-14 00:38:37           393.799988    0.0  "
      ]
     },
     "execution_count": 8,
     "metadata": {},
     "output_type": "execute_result"
    }
   ],
   "source": [
    "df = df.resample(\"S\").median()\n",
    "df.dropna(axis=0,inplace=True)\n",
    "print(df.shape)\n",
    "df.head()"
   ]
  },
  {
   "cell_type": "code",
   "execution_count": 7,
   "metadata": {},
   "outputs": [
    {
     "data": {
      "text/plain": [
       "41.0"
      ]
     },
     "execution_count": 7,
     "metadata": {},
     "output_type": "execute_result"
    }
   ],
   "source": [
    "max(df.batch)"
   ]
  },
  {
   "cell_type": "code",
   "execution_count": 16,
   "metadata": {},
   "outputs": [
    {
     "name": "stdout",
     "output_type": "stream",
     "text": [
      "['244B_TE116.AIn', '244B_TE117.AIn', '244B_TE118.AIn', '244B_TE200.AIn', '244B_TE201.AIn', '244B_TE202.AIn', '244B_CO270.AIn']\n"
     ]
    }
   ],
   "source": [
    "to_scale = []\n",
    "for i in df.columns:\n",
    "    if df[i].dtype != 'object' and max(df[i])-min(df[i])>100:\n",
    "        to_scale.append(i)\n",
    "print(to_scale)"
   ]
  },
  {
   "cell_type": "code",
   "execution_count": 17,
   "metadata": {},
   "outputs": [
    {
     "data": {
      "text/html": [
       "<div>\n",
       "<style scoped>\n",
       "    .dataframe tbody tr th:only-of-type {\n",
       "        vertical-align: middle;\n",
       "    }\n",
       "\n",
       "    .dataframe tbody tr th {\n",
       "        vertical-align: top;\n",
       "    }\n",
       "\n",
       "    .dataframe thead th {\n",
       "        text-align: right;\n",
       "    }\n",
       "</style>\n",
       "<table border=\"1\" class=\"dataframe\">\n",
       "  <thead>\n",
       "    <tr style=\"text-align: right;\">\n",
       "      <th></th>\n",
       "      <th>244B_XV114.Out2</th>\n",
       "      <th>244B_TE116.AIn</th>\n",
       "      <th>244B_TE117.AIn</th>\n",
       "      <th>244B_TE118.AIn</th>\n",
       "      <th>244B_TE200.AIn</th>\n",
       "      <th>244B_TE201.AIn</th>\n",
       "      <th>244B_TE202.AIn</th>\n",
       "      <th>244B_SC220.SpdFB</th>\n",
       "      <th>244B_SC220.SpdSP</th>\n",
       "      <th>244B_CO270.AIn</th>\n",
       "      <th>244B_PDT100.AIn</th>\n",
       "      <th>244B_MachineModes.ModeMaster</th>\n",
       "      <th>244B_MachineModes.ModeDrum</th>\n",
       "      <th>RS4B_ROAST.Batch</th>\n",
       "      <th>RS4B_ROAST.Campaign</th>\n",
       "      <th>RS4B_ROAST.Lot</th>\n",
       "      <th>batch</th>\n",
       "    </tr>\n",
       "    <tr>\n",
       "      <th>DateTime</th>\n",
       "      <th></th>\n",
       "      <th></th>\n",
       "      <th></th>\n",
       "      <th></th>\n",
       "      <th></th>\n",
       "      <th></th>\n",
       "      <th></th>\n",
       "      <th></th>\n",
       "      <th></th>\n",
       "      <th></th>\n",
       "      <th></th>\n",
       "      <th></th>\n",
       "      <th></th>\n",
       "      <th></th>\n",
       "      <th></th>\n",
       "      <th></th>\n",
       "      <th></th>\n",
       "    </tr>\n",
       "  </thead>\n",
       "  <tbody>\n",
       "    <tr>\n",
       "      <th>2022-02-14 00:38:33.352</th>\n",
       "      <td>0.0</td>\n",
       "      <td>66.772552</td>\n",
       "      <td>64.598411</td>\n",
       "      <td>48.236009</td>\n",
       "      <td>64.481228</td>\n",
       "      <td>61.597105</td>\n",
       "      <td>64.607036</td>\n",
       "      <td>55.0</td>\n",
       "      <td>55.0</td>\n",
       "      <td>1.058991</td>\n",
       "      <td>-0.760216</td>\n",
       "      <td>30.0</td>\n",
       "      <td>230.0</td>\n",
       "      <td>RS4B-RST000001</td>\n",
       "      <td>FGR 011019071</td>\n",
       "      <td>GRP124341</td>\n",
       "      <td>0</td>\n",
       "    </tr>\n",
       "    <tr>\n",
       "      <th>2022-02-14 00:38:33.383</th>\n",
       "      <td>0.0</td>\n",
       "      <td>66.772552</td>\n",
       "      <td>64.598411</td>\n",
       "      <td>48.236009</td>\n",
       "      <td>64.481228</td>\n",
       "      <td>61.597105</td>\n",
       "      <td>64.607036</td>\n",
       "      <td>55.0</td>\n",
       "      <td>55.0</td>\n",
       "      <td>1.532079</td>\n",
       "      <td>-0.760216</td>\n",
       "      <td>30.0</td>\n",
       "      <td>230.0</td>\n",
       "      <td>RS4B-RST000001</td>\n",
       "      <td>FGR 011019071</td>\n",
       "      <td>GRP124341</td>\n",
       "      <td>0</td>\n",
       "    </tr>\n",
       "    <tr>\n",
       "      <th>2022-02-14 00:38:33.442</th>\n",
       "      <td>0.0</td>\n",
       "      <td>66.772552</td>\n",
       "      <td>64.598411</td>\n",
       "      <td>48.236009</td>\n",
       "      <td>64.481228</td>\n",
       "      <td>61.597105</td>\n",
       "      <td>64.607036</td>\n",
       "      <td>55.0</td>\n",
       "      <td>55.0</td>\n",
       "      <td>1.532079</td>\n",
       "      <td>-0.711142</td>\n",
       "      <td>30.0</td>\n",
       "      <td>230.0</td>\n",
       "      <td>RS4B-RST000001</td>\n",
       "      <td>FGR 011019071</td>\n",
       "      <td>GRP124341</td>\n",
       "      <td>0</td>\n",
       "    </tr>\n",
       "    <tr>\n",
       "      <th>2022-02-14 00:38:33.526</th>\n",
       "      <td>0.0</td>\n",
       "      <td>65.533673</td>\n",
       "      <td>63.840047</td>\n",
       "      <td>47.810211</td>\n",
       "      <td>63.971986</td>\n",
       "      <td>60.955061</td>\n",
       "      <td>64.173438</td>\n",
       "      <td>55.0</td>\n",
       "      <td>55.0</td>\n",
       "      <td>1.532079</td>\n",
       "      <td>-0.711142</td>\n",
       "      <td>30.0</td>\n",
       "      <td>230.0</td>\n",
       "      <td>RS4B-RST000001</td>\n",
       "      <td>FGR 011019071</td>\n",
       "      <td>GRP124341</td>\n",
       "      <td>0</td>\n",
       "    </tr>\n",
       "    <tr>\n",
       "      <th>2022-02-14 00:38:33.805</th>\n",
       "      <td>0.0</td>\n",
       "      <td>65.533673</td>\n",
       "      <td>63.840047</td>\n",
       "      <td>47.810211</td>\n",
       "      <td>63.971986</td>\n",
       "      <td>60.955061</td>\n",
       "      <td>64.173438</td>\n",
       "      <td>55.0</td>\n",
       "      <td>55.0</td>\n",
       "      <td>1.535718</td>\n",
       "      <td>-0.711142</td>\n",
       "      <td>30.0</td>\n",
       "      <td>230.0</td>\n",
       "      <td>RS4B-RST000001</td>\n",
       "      <td>FGR 011019071</td>\n",
       "      <td>GRP124341</td>\n",
       "      <td>0</td>\n",
       "    </tr>\n",
       "  </tbody>\n",
       "</table>\n",
       "</div>"
      ],
      "text/plain": [
       "                         244B_XV114.Out2  244B_TE116.AIn  244B_TE117.AIn  \\\n",
       "DateTime                                                                   \n",
       "2022-02-14 00:38:33.352              0.0       66.772552       64.598411   \n",
       "2022-02-14 00:38:33.383              0.0       66.772552       64.598411   \n",
       "2022-02-14 00:38:33.442              0.0       66.772552       64.598411   \n",
       "2022-02-14 00:38:33.526              0.0       65.533673       63.840047   \n",
       "2022-02-14 00:38:33.805              0.0       65.533673       63.840047   \n",
       "\n",
       "                         244B_TE118.AIn  244B_TE200.AIn  244B_TE201.AIn  \\\n",
       "DateTime                                                                  \n",
       "2022-02-14 00:38:33.352       48.236009       64.481228       61.597105   \n",
       "2022-02-14 00:38:33.383       48.236009       64.481228       61.597105   \n",
       "2022-02-14 00:38:33.442       48.236009       64.481228       61.597105   \n",
       "2022-02-14 00:38:33.526       47.810211       63.971986       60.955061   \n",
       "2022-02-14 00:38:33.805       47.810211       63.971986       60.955061   \n",
       "\n",
       "                         244B_TE202.AIn  244B_SC220.SpdFB  244B_SC220.SpdSP  \\\n",
       "DateTime                                                                      \n",
       "2022-02-14 00:38:33.352       64.607036              55.0              55.0   \n",
       "2022-02-14 00:38:33.383       64.607036              55.0              55.0   \n",
       "2022-02-14 00:38:33.442       64.607036              55.0              55.0   \n",
       "2022-02-14 00:38:33.526       64.173438              55.0              55.0   \n",
       "2022-02-14 00:38:33.805       64.173438              55.0              55.0   \n",
       "\n",
       "                         244B_CO270.AIn  244B_PDT100.AIn  \\\n",
       "DateTime                                                   \n",
       "2022-02-14 00:38:33.352        1.058991        -0.760216   \n",
       "2022-02-14 00:38:33.383        1.532079        -0.760216   \n",
       "2022-02-14 00:38:33.442        1.532079        -0.711142   \n",
       "2022-02-14 00:38:33.526        1.532079        -0.711142   \n",
       "2022-02-14 00:38:33.805        1.535718        -0.711142   \n",
       "\n",
       "                         244B_MachineModes.ModeMaster  \\\n",
       "DateTime                                                \n",
       "2022-02-14 00:38:33.352                          30.0   \n",
       "2022-02-14 00:38:33.383                          30.0   \n",
       "2022-02-14 00:38:33.442                          30.0   \n",
       "2022-02-14 00:38:33.526                          30.0   \n",
       "2022-02-14 00:38:33.805                          30.0   \n",
       "\n",
       "                         244B_MachineModes.ModeDrum RS4B_ROAST.Batch  \\\n",
       "DateTime                                                               \n",
       "2022-02-14 00:38:33.352                       230.0   RS4B-RST000001   \n",
       "2022-02-14 00:38:33.383                       230.0   RS4B-RST000001   \n",
       "2022-02-14 00:38:33.442                       230.0   RS4B-RST000001   \n",
       "2022-02-14 00:38:33.526                       230.0   RS4B-RST000001   \n",
       "2022-02-14 00:38:33.805                       230.0   RS4B-RST000001   \n",
       "\n",
       "                        RS4B_ROAST.Campaign RS4B_ROAST.Lot  batch  \n",
       "DateTime                                                           \n",
       "2022-02-14 00:38:33.352       FGR 011019071      GRP124341      0  \n",
       "2022-02-14 00:38:33.383       FGR 011019071      GRP124341      0  \n",
       "2022-02-14 00:38:33.442       FGR 011019071      GRP124341      0  \n",
       "2022-02-14 00:38:33.526       FGR 011019071      GRP124341      0  \n",
       "2022-02-14 00:38:33.805       FGR 011019071      GRP124341      0  "
      ]
     },
     "execution_count": 17,
     "metadata": {},
     "output_type": "execute_result"
    }
   ],
   "source": [
    "scaler = MinMaxScaler(feature_range=(0, 100))\n",
    "df[list(to_scale)] = scaler.fit_transform(df[list(to_scale)])\n",
    "df.head()"
   ]
  },
  {
   "cell_type": "code",
   "execution_count": 8,
   "metadata": {},
   "outputs": [
    {
     "data": {
      "text/plain": [
       "244B_XV114.Out2                 float64\n",
       "244B_TE116.AIn                  float64\n",
       "244B_TE117.AIn                  float64\n",
       "244B_TE118.AIn                  float64\n",
       "244B_TE200.AIn                  float64\n",
       "244B_TE201.AIn                  float64\n",
       "244B_TE202.AIn                  float64\n",
       "244B_SC220.SpdFB                float64\n",
       "244B_SC220.SpdSP                float64\n",
       "244B_CO270.AIn                  float64\n",
       "244B_PDT100.AIn                 float64\n",
       "244B_MachineModes.ModeMaster    float64\n",
       "244B_MachineModes.ModeDrum      float64\n",
       "RS4B_ROAST.Batch                 object\n",
       "RS4B_ROAST.Campaign              object\n",
       "RS4B_ROAST.Lot                   object\n",
       "244B_CLoop.CurveRaw             float64\n",
       "batch                             int64\n",
       "dtype: object"
      ]
     },
     "execution_count": 8,
     "metadata": {},
     "output_type": "execute_result"
    }
   ],
   "source": [
    "df.dtypes"
   ]
  },
  {
   "cell_type": "markdown",
   "metadata": {},
   "source": [
    "# New Data"
   ]
  },
  {
   "cell_type": "code",
   "execution_count": 73,
   "metadata": {},
   "outputs": [
    {
     "name": "stdout",
     "output_type": "stream",
     "text": [
      "(62926, 62)\n"
     ]
    },
    {
     "data": {
      "text/html": [
       "<div>\n",
       "<style scoped>\n",
       "    .dataframe tbody tr th:only-of-type {\n",
       "        vertical-align: middle;\n",
       "    }\n",
       "\n",
       "    .dataframe tbody tr th {\n",
       "        vertical-align: top;\n",
       "    }\n",
       "\n",
       "    .dataframe thead th {\n",
       "        text-align: right;\n",
       "    }\n",
       "</style>\n",
       "<table border=\"1\" class=\"dataframe\">\n",
       "  <thead>\n",
       "    <tr style=\"text-align: right;\">\n",
       "      <th></th>\n",
       "      <th>244B_XV114.Out2</th>\n",
       "      <th>244B_TE116.AIn</th>\n",
       "      <th>244B_TE117.AIn</th>\n",
       "      <th>244B_TE118.AIn</th>\n",
       "      <th>244B_TE200.AIn</th>\n",
       "      <th>244B_TE201.AIn</th>\n",
       "      <th>244B_TE202.AIn</th>\n",
       "      <th>244B_CO270.AIn</th>\n",
       "      <th>244B_FCV110.Feedback</th>\n",
       "      <th>244B_RTOComms.M8R031_Hz</th>\n",
       "      <th>...</th>\n",
       "      <th>244B_SC220.SpdHz</th>\n",
       "      <th>244B_OasisComms.TO_PhaseRunningRoasting</th>\n",
       "      <th>244B_OasisComms.TO_RoastActive</th>\n",
       "      <th>244B_SC220.OutputCurrent</th>\n",
       "      <th>244B_SC150.SpdFB</th>\n",
       "      <th>244B_RTOComms.PT8B001</th>\n",
       "      <th>244B_FCV101.Feedback</th>\n",
       "      <th>244B_OasisComms.TO_RoastComplete</th>\n",
       "      <th>244B_SC220.SpdSP</th>\n",
       "      <th>244B_SC220.DCBusVolts</th>\n",
       "    </tr>\n",
       "    <tr>\n",
       "      <th>DateTime</th>\n",
       "      <th></th>\n",
       "      <th></th>\n",
       "      <th></th>\n",
       "      <th></th>\n",
       "      <th></th>\n",
       "      <th></th>\n",
       "      <th></th>\n",
       "      <th></th>\n",
       "      <th></th>\n",
       "      <th></th>\n",
       "      <th></th>\n",
       "      <th></th>\n",
       "      <th></th>\n",
       "      <th></th>\n",
       "      <th></th>\n",
       "      <th></th>\n",
       "      <th></th>\n",
       "      <th></th>\n",
       "      <th></th>\n",
       "      <th></th>\n",
       "      <th></th>\n",
       "    </tr>\n",
       "  </thead>\n",
       "  <tbody>\n",
       "    <tr>\n",
       "      <th>2020-11-12 06:30:00.000</th>\n",
       "      <td>1</td>\n",
       "      <td>429.0</td>\n",
       "      <td>400.799988</td>\n",
       "      <td>714.299988</td>\n",
       "      <td>330.399994</td>\n",
       "      <td>413.200012</td>\n",
       "      <td>388.600006</td>\n",
       "      <td>414.746552</td>\n",
       "      <td>14.880825</td>\n",
       "      <td>20</td>\n",
       "      <td>...</td>\n",
       "      <td>35.493340</td>\n",
       "      <td>1</td>\n",
       "      <td>1</td>\n",
       "      <td>27.484606</td>\n",
       "      <td>50.0</td>\n",
       "      <td>-0.031739</td>\n",
       "      <td>61.778618</td>\n",
       "      <td>0</td>\n",
       "      <td>59.114948</td>\n",
       "      <td>650.428040</td>\n",
       "    </tr>\n",
       "    <tr>\n",
       "      <th>2020-11-12 06:30:00.300</th>\n",
       "      <td>1</td>\n",
       "      <td>429.0</td>\n",
       "      <td>400.799988</td>\n",
       "      <td>714.299988</td>\n",
       "      <td>330.399994</td>\n",
       "      <td>413.200012</td>\n",
       "      <td>388.600006</td>\n",
       "      <td>414.746552</td>\n",
       "      <td>14.880825</td>\n",
       "      <td>20</td>\n",
       "      <td>...</td>\n",
       "      <td>35.493340</td>\n",
       "      <td>1</td>\n",
       "      <td>1</td>\n",
       "      <td>27.484606</td>\n",
       "      <td>50.0</td>\n",
       "      <td>-0.031739</td>\n",
       "      <td>61.778618</td>\n",
       "      <td>0</td>\n",
       "      <td>59.114948</td>\n",
       "      <td>650.428040</td>\n",
       "    </tr>\n",
       "    <tr>\n",
       "      <th>2020-11-12 06:30:00.400</th>\n",
       "      <td>1</td>\n",
       "      <td>429.0</td>\n",
       "      <td>400.799988</td>\n",
       "      <td>714.299988</td>\n",
       "      <td>330.399994</td>\n",
       "      <td>413.200012</td>\n",
       "      <td>388.600006</td>\n",
       "      <td>414.746552</td>\n",
       "      <td>14.883877</td>\n",
       "      <td>20</td>\n",
       "      <td>...</td>\n",
       "      <td>35.493340</td>\n",
       "      <td>1</td>\n",
       "      <td>1</td>\n",
       "      <td>27.484606</td>\n",
       "      <td>50.0</td>\n",
       "      <td>-0.031739</td>\n",
       "      <td>61.778618</td>\n",
       "      <td>0</td>\n",
       "      <td>59.114948</td>\n",
       "      <td>650.428040</td>\n",
       "    </tr>\n",
       "    <tr>\n",
       "      <th>2020-11-12 06:30:00.400</th>\n",
       "      <td>1</td>\n",
       "      <td>429.0</td>\n",
       "      <td>400.799988</td>\n",
       "      <td>714.299988</td>\n",
       "      <td>330.399994</td>\n",
       "      <td>413.200012</td>\n",
       "      <td>388.600006</td>\n",
       "      <td>414.746552</td>\n",
       "      <td>14.883877</td>\n",
       "      <td>20</td>\n",
       "      <td>...</td>\n",
       "      <td>35.515461</td>\n",
       "      <td>1</td>\n",
       "      <td>1</td>\n",
       "      <td>27.611179</td>\n",
       "      <td>50.0</td>\n",
       "      <td>-0.031739</td>\n",
       "      <td>61.778618</td>\n",
       "      <td>0</td>\n",
       "      <td>58.946968</td>\n",
       "      <td>650.269592</td>\n",
       "    </tr>\n",
       "    <tr>\n",
       "      <th>2020-11-12 06:30:00.800</th>\n",
       "      <td>1</td>\n",
       "      <td>429.0</td>\n",
       "      <td>400.799988</td>\n",
       "      <td>714.299988</td>\n",
       "      <td>330.399994</td>\n",
       "      <td>413.200012</td>\n",
       "      <td>388.600006</td>\n",
       "      <td>465.102081</td>\n",
       "      <td>14.883877</td>\n",
       "      <td>20</td>\n",
       "      <td>...</td>\n",
       "      <td>35.515461</td>\n",
       "      <td>1</td>\n",
       "      <td>1</td>\n",
       "      <td>27.611179</td>\n",
       "      <td>50.0</td>\n",
       "      <td>-0.031739</td>\n",
       "      <td>61.778618</td>\n",
       "      <td>0</td>\n",
       "      <td>58.946968</td>\n",
       "      <td>650.269592</td>\n",
       "    </tr>\n",
       "  </tbody>\n",
       "</table>\n",
       "<p>5 rows × 62 columns</p>\n",
       "</div>"
      ],
      "text/plain": [
       "                         244B_XV114.Out2  244B_TE116.AIn  244B_TE117.AIn  \\\n",
       "DateTime                                                                   \n",
       "2020-11-12 06:30:00.000                1           429.0      400.799988   \n",
       "2020-11-12 06:30:00.300                1           429.0      400.799988   \n",
       "2020-11-12 06:30:00.400                1           429.0      400.799988   \n",
       "2020-11-12 06:30:00.400                1           429.0      400.799988   \n",
       "2020-11-12 06:30:00.800                1           429.0      400.799988   \n",
       "\n",
       "                         244B_TE118.AIn  244B_TE200.AIn  244B_TE201.AIn  \\\n",
       "DateTime                                                                  \n",
       "2020-11-12 06:30:00.000      714.299988      330.399994      413.200012   \n",
       "2020-11-12 06:30:00.300      714.299988      330.399994      413.200012   \n",
       "2020-11-12 06:30:00.400      714.299988      330.399994      413.200012   \n",
       "2020-11-12 06:30:00.400      714.299988      330.399994      413.200012   \n",
       "2020-11-12 06:30:00.800      714.299988      330.399994      413.200012   \n",
       "\n",
       "                         244B_TE202.AIn  244B_CO270.AIn  244B_FCV110.Feedback  \\\n",
       "DateTime                                                                        \n",
       "2020-11-12 06:30:00.000      388.600006      414.746552             14.880825   \n",
       "2020-11-12 06:30:00.300      388.600006      414.746552             14.880825   \n",
       "2020-11-12 06:30:00.400      388.600006      414.746552             14.883877   \n",
       "2020-11-12 06:30:00.400      388.600006      414.746552             14.883877   \n",
       "2020-11-12 06:30:00.800      388.600006      465.102081             14.883877   \n",
       "\n",
       "                         244B_RTOComms.M8R031_Hz  ...  244B_SC220.SpdHz  \\\n",
       "DateTime                                          ...                     \n",
       "2020-11-12 06:30:00.000                       20  ...         35.493340   \n",
       "2020-11-12 06:30:00.300                       20  ...         35.493340   \n",
       "2020-11-12 06:30:00.400                       20  ...         35.493340   \n",
       "2020-11-12 06:30:00.400                       20  ...         35.515461   \n",
       "2020-11-12 06:30:00.800                       20  ...         35.515461   \n",
       "\n",
       "                         244B_OasisComms.TO_PhaseRunningRoasting  \\\n",
       "DateTime                                                           \n",
       "2020-11-12 06:30:00.000                                        1   \n",
       "2020-11-12 06:30:00.300                                        1   \n",
       "2020-11-12 06:30:00.400                                        1   \n",
       "2020-11-12 06:30:00.400                                        1   \n",
       "2020-11-12 06:30:00.800                                        1   \n",
       "\n",
       "                         244B_OasisComms.TO_RoastActive  \\\n",
       "DateTime                                                  \n",
       "2020-11-12 06:30:00.000                               1   \n",
       "2020-11-12 06:30:00.300                               1   \n",
       "2020-11-12 06:30:00.400                               1   \n",
       "2020-11-12 06:30:00.400                               1   \n",
       "2020-11-12 06:30:00.800                               1   \n",
       "\n",
       "                         244B_SC220.OutputCurrent  244B_SC150.SpdFB  \\\n",
       "DateTime                                                              \n",
       "2020-11-12 06:30:00.000                 27.484606              50.0   \n",
       "2020-11-12 06:30:00.300                 27.484606              50.0   \n",
       "2020-11-12 06:30:00.400                 27.484606              50.0   \n",
       "2020-11-12 06:30:00.400                 27.611179              50.0   \n",
       "2020-11-12 06:30:00.800                 27.611179              50.0   \n",
       "\n",
       "                         244B_RTOComms.PT8B001  244B_FCV101.Feedback  \\\n",
       "DateTime                                                               \n",
       "2020-11-12 06:30:00.000              -0.031739             61.778618   \n",
       "2020-11-12 06:30:00.300              -0.031739             61.778618   \n",
       "2020-11-12 06:30:00.400              -0.031739             61.778618   \n",
       "2020-11-12 06:30:00.400              -0.031739             61.778618   \n",
       "2020-11-12 06:30:00.800              -0.031739             61.778618   \n",
       "\n",
       "                         244B_OasisComms.TO_RoastComplete  244B_SC220.SpdSP  \\\n",
       "DateTime                                                                      \n",
       "2020-11-12 06:30:00.000                                 0         59.114948   \n",
       "2020-11-12 06:30:00.300                                 0         59.114948   \n",
       "2020-11-12 06:30:00.400                                 0         59.114948   \n",
       "2020-11-12 06:30:00.400                                 0         58.946968   \n",
       "2020-11-12 06:30:00.800                                 0         58.946968   \n",
       "\n",
       "                         244B_SC220.DCBusVolts  \n",
       "DateTime                                        \n",
       "2020-11-12 06:30:00.000             650.428040  \n",
       "2020-11-12 06:30:00.300             650.428040  \n",
       "2020-11-12 06:30:00.400             650.428040  \n",
       "2020-11-12 06:30:00.400             650.269592  \n",
       "2020-11-12 06:30:00.800             650.269592  \n",
       "\n",
       "[5 rows x 62 columns]"
      ]
     },
     "execution_count": 73,
     "metadata": {},
     "output_type": "execute_result"
    }
   ],
   "source": [
    "df_1 = pd.read_csv('Data/CO-spike/244B_11-12-20_relavant_tags_CO_2hr.csv')\n",
    "df_1.dropna(axis=0,inplace=True)\n",
    "df_1.DateTime = df_1.apply(lambda x: x['DateTime.1'][:-2] + x['DateTime'], axis=1)\n",
    "df_1.index = pd.to_datetime(df_1.DateTime, dayfirst = True)\n",
    "df_1.drop(['DateTime','DateTime.1'],axis=1,inplace = True)\n",
    "print(df_1.shape)\n",
    "df_1.head()"
   ]
  },
  {
   "cell_type": "code",
   "execution_count": 74,
   "metadata": {},
   "outputs": [
    {
     "data": {
      "text/plain": [
       "(62926, 10)"
      ]
     },
     "execution_count": 74,
     "metadata": {},
     "output_type": "execute_result"
    }
   ],
   "source": [
    "target_column = ['244B_TE116.AIn', '244B_TE117.AIn', '244B_TE118.AIn','244B_TE200.AIn', '244B_TE201.AIn', '244B_TE202.AIn',\n",
    "                 '244B_SC220.SpdFB', '244B_SC220.SpdSP', '244B_CO270.AIn', '244B_PDT100.AIn']\n",
    "df_test = df_1[target_column]\n",
    "df_test.shape"
   ]
  },
  {
   "cell_type": "code",
   "execution_count": 75,
   "metadata": {},
   "outputs": [
    {
     "data": {
      "text/html": [
       "<div>\n",
       "<style scoped>\n",
       "    .dataframe tbody tr th:only-of-type {\n",
       "        vertical-align: middle;\n",
       "    }\n",
       "\n",
       "    .dataframe tbody tr th {\n",
       "        vertical-align: top;\n",
       "    }\n",
       "\n",
       "    .dataframe thead th {\n",
       "        text-align: right;\n",
       "    }\n",
       "</style>\n",
       "<table border=\"1\" class=\"dataframe\">\n",
       "  <thead>\n",
       "    <tr style=\"text-align: right;\">\n",
       "      <th></th>\n",
       "      <th>244B_TE116.AIn</th>\n",
       "      <th>244B_TE117.AIn</th>\n",
       "      <th>244B_TE118.AIn</th>\n",
       "      <th>244B_TE200.AIn</th>\n",
       "      <th>244B_TE201.AIn</th>\n",
       "      <th>244B_TE202.AIn</th>\n",
       "      <th>244B_SC220.SpdFB</th>\n",
       "      <th>244B_SC220.SpdSP</th>\n",
       "      <th>244B_CO270.AIn</th>\n",
       "      <th>244B_PDT100.AIn</th>\n",
       "    </tr>\n",
       "    <tr>\n",
       "      <th>DateTime</th>\n",
       "      <th></th>\n",
       "      <th></th>\n",
       "      <th></th>\n",
       "      <th></th>\n",
       "      <th></th>\n",
       "      <th></th>\n",
       "      <th></th>\n",
       "      <th></th>\n",
       "      <th></th>\n",
       "      <th></th>\n",
       "    </tr>\n",
       "  </thead>\n",
       "  <tbody>\n",
       "    <tr>\n",
       "      <th>2020-11-12 06:30:00.000</th>\n",
       "      <td>81.893266</td>\n",
       "      <td>73.147183</td>\n",
       "      <td>36.055347</td>\n",
       "      <td>57.98854</td>\n",
       "      <td>82.624403</td>\n",
       "      <td>78.590786</td>\n",
       "      <td>59.155567</td>\n",
       "      <td>59.114948</td>\n",
       "      <td>1.681284</td>\n",
       "      <td>-0.454909</td>\n",
       "    </tr>\n",
       "    <tr>\n",
       "      <th>2020-11-12 06:30:00.300</th>\n",
       "      <td>81.893266</td>\n",
       "      <td>73.147183</td>\n",
       "      <td>36.055347</td>\n",
       "      <td>57.98854</td>\n",
       "      <td>82.624403</td>\n",
       "      <td>78.590786</td>\n",
       "      <td>59.155567</td>\n",
       "      <td>59.114948</td>\n",
       "      <td>1.681284</td>\n",
       "      <td>-0.454909</td>\n",
       "    </tr>\n",
       "    <tr>\n",
       "      <th>2020-11-12 06:30:00.400</th>\n",
       "      <td>81.893266</td>\n",
       "      <td>73.147183</td>\n",
       "      <td>36.055347</td>\n",
       "      <td>57.98854</td>\n",
       "      <td>82.624403</td>\n",
       "      <td>78.590786</td>\n",
       "      <td>59.155567</td>\n",
       "      <td>59.114948</td>\n",
       "      <td>1.681284</td>\n",
       "      <td>-0.454909</td>\n",
       "    </tr>\n",
       "    <tr>\n",
       "      <th>2020-11-12 06:30:00.400</th>\n",
       "      <td>81.893266</td>\n",
       "      <td>73.147183</td>\n",
       "      <td>36.055347</td>\n",
       "      <td>57.98854</td>\n",
       "      <td>82.624403</td>\n",
       "      <td>78.590786</td>\n",
       "      <td>59.192436</td>\n",
       "      <td>58.946968</td>\n",
       "      <td>1.681284</td>\n",
       "      <td>-0.454909</td>\n",
       "    </tr>\n",
       "    <tr>\n",
       "      <th>2020-11-12 06:30:00.800</th>\n",
       "      <td>81.893266</td>\n",
       "      <td>73.147183</td>\n",
       "      <td>36.055347</td>\n",
       "      <td>57.98854</td>\n",
       "      <td>82.624403</td>\n",
       "      <td>78.590786</td>\n",
       "      <td>59.192436</td>\n",
       "      <td>58.946968</td>\n",
       "      <td>1.881437</td>\n",
       "      <td>-0.454909</td>\n",
       "    </tr>\n",
       "  </tbody>\n",
       "</table>\n",
       "</div>"
      ],
      "text/plain": [
       "                         244B_TE116.AIn  244B_TE117.AIn  244B_TE118.AIn  \\\n",
       "DateTime                                                                  \n",
       "2020-11-12 06:30:00.000       81.893266       73.147183       36.055347   \n",
       "2020-11-12 06:30:00.300       81.893266       73.147183       36.055347   \n",
       "2020-11-12 06:30:00.400       81.893266       73.147183       36.055347   \n",
       "2020-11-12 06:30:00.400       81.893266       73.147183       36.055347   \n",
       "2020-11-12 06:30:00.800       81.893266       73.147183       36.055347   \n",
       "\n",
       "                         244B_TE200.AIn  244B_TE201.AIn  244B_TE202.AIn  \\\n",
       "DateTime                                                                  \n",
       "2020-11-12 06:30:00.000        57.98854       82.624403       78.590786   \n",
       "2020-11-12 06:30:00.300        57.98854       82.624403       78.590786   \n",
       "2020-11-12 06:30:00.400        57.98854       82.624403       78.590786   \n",
       "2020-11-12 06:30:00.400        57.98854       82.624403       78.590786   \n",
       "2020-11-12 06:30:00.800        57.98854       82.624403       78.590786   \n",
       "\n",
       "                         244B_SC220.SpdFB  244B_SC220.SpdSP  244B_CO270.AIn  \\\n",
       "DateTime                                                                      \n",
       "2020-11-12 06:30:00.000         59.155567         59.114948        1.681284   \n",
       "2020-11-12 06:30:00.300         59.155567         59.114948        1.681284   \n",
       "2020-11-12 06:30:00.400         59.155567         59.114948        1.681284   \n",
       "2020-11-12 06:30:00.400         59.192436         58.946968        1.681284   \n",
       "2020-11-12 06:30:00.800         59.192436         58.946968        1.881437   \n",
       "\n",
       "                         244B_PDT100.AIn  \n",
       "DateTime                                  \n",
       "2020-11-12 06:30:00.000        -0.454909  \n",
       "2020-11-12 06:30:00.300        -0.454909  \n",
       "2020-11-12 06:30:00.400        -0.454909  \n",
       "2020-11-12 06:30:00.400        -0.454909  \n",
       "2020-11-12 06:30:00.800        -0.454909  "
      ]
     },
     "execution_count": 75,
     "metadata": {},
     "output_type": "execute_result"
    }
   ],
   "source": [
    "df_test[list(to_scale)] = scaler.transform(df_test[list(to_scale)])\n",
    "df_test.head()"
   ]
  },
  {
   "cell_type": "code",
   "execution_count": 76,
   "metadata": {},
   "outputs": [
    {
     "data": {
      "text/plain": [
       "[<matplotlib.lines.Line2D at 0x7f97b5851e48>]"
      ]
     },
     "execution_count": 76,
     "metadata": {},
     "output_type": "execute_result"
    },
    {
     "data": {
      "image/png": "[encoded data removed]",
      "text/plain": [
       "<Figure size 432x288 with 1 Axes>"
      ]
     },
     "metadata": {
      "needs_background": "light"
     },
     "output_type": "display_data"
    }
   ],
   "source": [
    "plt.plot(df_1['244B_MachineModes.ModeMaster'])"
   ]
  },
  {
   "cell_type": "code",
   "execution_count": 86,
   "metadata": {},
   "outputs": [
    {
     "data": {
      "text/plain": [
       "[<matplotlib.lines.Line2D at 0x7f97b5df0b70>]"
      ]
     },
     "execution_count": 86,
     "metadata": {},
     "output_type": "execute_result"
    },
    {
     "data": {
      "image/png": "[encoded data removed]",
      "text/plain": [
       "<Figure size 432x288 with 1 Axes>"
      ]
     },
     "metadata": {
      "needs_background": "light"
     },
     "output_type": "display_data"
    }
   ],
   "source": [
    "plt.plot(range(len(df_test)),df_test['244B_CO270.AIn'])"
   ]
  },
  {
   "cell_type": "code",
   "execution_count": null,
   "metadata": {},
   "outputs": [],
   "source": []
  },
  {
   "cell_type": "markdown",
   "metadata": {},
   "source": [
    "# Auto-Encoder model"
   ]
  },
  {
   "cell_type": "code",
   "execution_count": 5,
   "metadata": {},
   "outputs": [],
   "source": [
    "class Autoencoder(nn.Module):\n",
    "    def __init__(self, output_len = 10,**kwargs):\n",
    "        super().__init__()\n",
    "        self.output_len = output_len\n",
    "        self.batch,self.a,self.b = kwargs[\"input_shape\"]\n",
    "        self.layer_dim = 3\n",
    "        self.hidden_dim = 16\n",
    "        self.encoder = nn.LSTM(self.b, hidden_size = self.hidden_dim, num_layers=self.layer_dim, batch_first=True)\n",
    "        self.hidden = nn.Linear(self.hidden_dim*self.a, 16*self.a)\n",
    "        self.decoder = nn.Linear(16*self.a, self.output_len*self.a)\n",
    "\n",
    "    def forward(self, x):\n",
    "        batch = x.shape[0]\n",
    "        x, (hn,cn) = self.encoder(x)\n",
    "        x = x.reshape((batch,-1))\n",
    "        #print(x.shape)\n",
    "        x = self.hidden(x)\n",
    "        x = self.decoder(x)\n",
    "        out = x.view(batch,self.a,self.output_len)\n",
    "        return out"
   ]
  },
  {
   "cell_type": "code",
   "execution_count": 6,
   "metadata": {},
   "outputs": [
    {
     "name": "stdout",
     "output_type": "stream",
     "text": [
      "torch.Size([32, 200, 10])\n"
     ]
    }
   ],
   "source": [
    "model = Autoencoder(input_shape=(32,200,12))\n",
    "inp = torch.randn(32,200,12)\n",
    "out = model(inp)\n",
    "print(out.shape)"
   ]
  },
  {
   "cell_type": "code",
   "execution_count": 7,
   "metadata": {},
   "outputs": [
    {
     "data": {
      "text/plain": [
       "16651472"
      ]
     },
     "execution_count": 7,
     "metadata": {},
     "output_type": "execute_result"
    }
   ],
   "source": [
    "pytorch_total_params = sum(p.numel() for p in model.parameters() if p.requires_grad)\n",
    "pytorch_total_params"
   ]
  },
  {
   "cell_type": "markdown",
   "metadata": {},
   "source": [
    "# Training and validation"
   ]
  },
  {
   "cell_type": "code",
   "execution_count": 78,
   "metadata": {},
   "outputs": [
    {
     "name": "stdout",
     "output_type": "stream",
     "text": [
      "(314, 200, 10)\n"
     ]
    }
   ],
   "source": [
    "# Data preparation\n",
    "l = 200\n",
    "data = []\n",
    "for i in range(0,len(df_test)-200,l):\n",
    "    #if i!=527400: # removing anomaly data\n",
    "        data.append(np.array(df_test[target_column][i:i+l]))\n",
    "train_length = 9*len(data)//10\n",
    "test_length = len(data)-train_length\n",
    "\n",
    "data = np.array(data)\n",
    "print(data.shape)\n",
    "# train_data = np.array(data[:train_length],dtype = 'float')\n",
    "# test_data = np.array(data[train_length:],dtype = 'float')\n",
    "# train_data.shape, test_data.shape"
   ]
  },
  {
   "cell_type": "code",
   "execution_count": 28,
   "metadata": {},
   "outputs": [
    {
     "data": {
      "text/plain": [
       "<All keys matched successfully>"
      ]
     },
     "execution_count": 28,
     "metadata": {},
     "output_type": "execute_result"
    }
   ],
   "source": [
    "os.environ[\"CUDA_DEVICE_ORDER\"]=\"PCI_BUS_ID\"\n",
    "device = torch.device(\"cuda:3\" if torch.cuda.is_available() else \"cpu\")\n",
    "\n",
    "# create a model from `AE` autoencoder class\n",
    "# load it to the specified device, either gpu or cpu\n",
    "model = Autoencoder(device = device,input_shape = (32,200,10))\n",
    "model = model.to(device)\n",
    "model.load_state_dict(torch.load('saved_models/auto_wo_clb_best.pt'))"
   ]
  },
  {
   "cell_type": "code",
   "execution_count": 29,
   "metadata": {},
   "outputs": [],
   "source": [
    "threshold = 4.06\n",
    "optimizer = optim.Adam(model.parameters(), lr=1e-3)\n",
    "# mean-squared error loss\n",
    "criterion = nn.MSELoss()"
   ]
  },
  {
   "cell_type": "code",
   "execution_count": 79,
   "metadata": {},
   "outputs": [],
   "source": [
    "def predict(model, data, threshold):\n",
    "    dl = torch.utils.data.DataLoader(data, batch_size=1, shuffle=False, num_workers=2)\n",
    "    anomalous = []\n",
    "    errors = []\n",
    "    model.eval()\n",
    "    with torch.no_grad():\n",
    "        for idx,batch_features in enumerate(dl):\n",
    "            batch_features = torch.from_numpy(batch_features.numpy()).float().to(device)\n",
    "            outputs = model(batch_features)\n",
    "            test_loss = criterion(outputs, batch_features).item()\n",
    "            errors.append(test_loss)\n",
    "            if test_loss>threshold:\n",
    "                anomalous.append(idx)\n",
    "    #return anomalous,outputs.cpu().numpy(), batch_features.cpu().numpy()\n",
    "    return anomalous,errors"
   ]
  },
  {
   "cell_type": "code",
   "execution_count": 80,
   "metadata": {},
   "outputs": [],
   "source": [
    "anomaly, errors = predict(model, data, threshold)"
   ]
  },
  {
   "cell_type": "code",
   "execution_count": 81,
   "metadata": {},
   "outputs": [
    {
     "data": {
      "text/plain": [
       "[<matplotlib.lines.Line2D at 0x7f97adacc9e8>]"
      ]
     },
     "execution_count": 81,
     "metadata": {},
     "output_type": "execute_result"
    },
    {
     "data": {
      "image/png": "[encoded data removed]",
      "text/plain": [
       "<Figure size 432x288 with 1 Axes>"
      ]
     },
     "metadata": {
      "needs_background": "light"
     },
     "output_type": "display_data"
    }
   ],
   "source": [
    "plt.plot(errors)"
   ]
  },
  {
   "cell_type": "code",
   "execution_count": 94,
   "metadata": {},
   "outputs": [
    {
     "name": "stdout",
     "output_type": "stream",
     "text": [
      "[58.17059326171875]\n"
     ]
    }
   ],
   "source": [
    "def reconstruct(model, data):\n",
    "    dl = torch.utils.data.DataLoader(data, batch_size=32, shuffle=False, num_workers=2)\n",
    "    \n",
    "    errors = []\n",
    "    model.eval()\n",
    "    with torch.no_grad():\n",
    "        for idx,batch_features in enumerate(dl):\n",
    "            batch_features = torch.from_numpy(batch_features.numpy()).float().to(device)\n",
    "            outputs = model(batch_features)\n",
    "            test_loss = criterion(outputs, batch_features).item()\n",
    "            errors.append(test_loss)\n",
    "    return errors,outputs.cpu().numpy(), batch_features.cpu().numpy()\n",
    "error,reconstructions,data1 = reconstruct(model, data[280:300])\n",
    "print(error)"
   ]
  },
  {
   "cell_type": "code",
   "execution_count": 95,
   "metadata": {},
   "outputs": [
    {
     "data": {
      "text/plain": [
       "Index(['244B_TE116.AIn', '244B_TE117.AIn', '244B_TE118.AIn', '244B_TE200.AIn',\n",
       "       '244B_TE201.AIn', '244B_TE202.AIn', '244B_SC220.SpdFB',\n",
       "       '244B_SC220.SpdSP', '244B_CO270.AIn', '244B_PDT100.AIn'],\n",
       "      dtype='object')"
      ]
     },
     "execution_count": 95,
     "metadata": {},
     "output_type": "execute_result"
    }
   ],
   "source": [
    "df_test.columns"
   ]
  },
  {
   "cell_type": "code",
   "execution_count": 104,
   "metadata": {},
   "outputs": [
    {
     "data": {
      "image/png": "[encoded data removed]",
      "text/plain": [
       "<Figure size 576x360 with 1 Axes>"
      ]
     },
     "metadata": {
      "needs_background": "light"
     },
     "output_type": "display_data"
    }
   ],
   "source": [
    "plt.figure(figsize = (8,5))\n",
    "ind = list(df_test.columns).index('244B_SC220.SpdFB')\n",
    "plt.plot(reconstructions[:,:,ind].reshape(-1,1),label = 'Reconstruction')\n",
    "plt.plot(data1[:,:,ind].reshape(-1,1), label = 'Actual')\n",
    "plt.legend()\n",
    "plt.show()"
   ]
  },
  {
   "cell_type": "code",
   "execution_count": 98,
   "metadata": {},
   "outputs": [
    {
     "data": {
      "text/plain": [
       "[<matplotlib.lines.Line2D at 0x7f97b5d4c160>]"
      ]
     },
     "execution_count": 98,
     "metadata": {},
     "output_type": "execute_result"
    },
    {
     "data": {
      "image/png": "[encoded data removed]",
      "text/plain": [
       "<Figure size 576x360 with 1 Axes>"
      ]
     },
     "metadata": {
      "needs_background": "light"
     },
     "output_type": "display_data"
    }
   ],
   "source": [
    "plt.figure(figsize = (8,5))\n",
    "plt.plot(errors[280:300])"
   ]
  },
  {
   "cell_type": "code",
   "execution_count": null,
   "metadata": {},
   "outputs": [],
   "source": []
  },
  {
   "cell_type": "code",
   "execution_count": null,
   "metadata": {},
   "outputs": [],
   "source": []
  },
  {
   "cell_type": "code",
   "execution_count": null,
   "metadata": {},
   "outputs": [],
   "source": []
  },
  {
   "cell_type": "code",
   "execution_count": 45,
   "metadata": {},
   "outputs": [],
   "source": [
    "def get_threshold(model, criterion,train_loader):\n",
    "    model.eval()\n",
    "    with torch.no_grad():\n",
    "        train_loss = []\n",
    "        for idx,batch_features in enumerate(train_loader):\n",
    "            batch_features = torch.from_numpy(batch_features.numpy()).float().to(device)\n",
    "            outputs = model(batch_features)\n",
    "            loss = criterion(outputs, batch_features).item()\n",
    "            train_loss.append(loss)\n",
    "        train_loss = np.array(train_loss)\n",
    "    threshold = np.mean(train_loss) + np.std(train_loss)\n",
    "    print('Threshold:', threshold)\n",
    "    return threshold"
   ]
  },
  {
   "cell_type": "code",
   "execution_count": 46,
   "metadata": {},
   "outputs": [
    {
     "name": "stdout",
     "output_type": "stream",
     "text": [
      "Threshold: 4.060076478412851\n"
     ]
    }
   ],
   "source": [
    "threshold = get_threshold(model, criterion,train_loader)"
   ]
  },
  {
   "cell_type": "code",
   "execution_count": 39,
   "metadata": {},
   "outputs": [],
   "source": [
    "def predict(model, data, threshold):\n",
    "    dl = torch.utils.data.DataLoader(data, batch_size=32, shuffle=False, num_workers=2)\n",
    "    anomalous = []\n",
    "    model.eval()\n",
    "    with torch.no_grad():\n",
    "        for idx,batch_features in enumerate(dl):\n",
    "            batch_features = torch.from_numpy(batch_features.numpy()).float().to(device)\n",
    "            outputs = model(batch_features)\n",
    "            test_loss = criterion(outputs, batch_features).item()\n",
    "            if test_loss>threshold:\n",
    "                anomalous.append(idx*32)\n",
    "    return anomalous"
   ]
  },
  {
   "cell_type": "code",
   "execution_count": 49,
   "metadata": {},
   "outputs": [
    {
     "data": {
      "text/plain": [
       "[]"
      ]
     },
     "execution_count": 49,
     "metadata": {},
     "output_type": "execute_result"
    }
   ],
   "source": [
    "# if list is empty, there is no anomaly\n",
    "# number i in anomaly list indicates that data[i:i+32*200] contain anomalous data\n",
    "\n",
    "anomaly = predict(model, test_data, threshold*1.2)\n",
    "anomaly"
   ]
  },
  {
   "cell_type": "code",
   "execution_count": 45,
   "metadata": {},
   "outputs": [
    {
     "data": {
      "text/plain": [
       "[0]"
      ]
     },
     "execution_count": 45,
     "metadata": {},
     "output_type": "execute_result"
    }
   ],
   "source": [
    "data1 = np.array(df[target_column][94600:94800])\n",
    "data1 = data1.reshape((1,200,12))\n",
    "anomaly = predict(model, data1, threshold*1.3)\n",
    "anomaly"
   ]
  },
  {
   "cell_type": "code",
   "execution_count": 48,
   "metadata": {},
   "outputs": [
    {
     "data": {
      "text/plain": [
       "[]"
      ]
     },
     "execution_count": 48,
     "metadata": {},
     "output_type": "execute_result"
    }
   ],
   "source": [
    "anomaly = predict(model, train_data, threshold*1.2)\n",
    "anomaly"
   ]
  },
  {
   "cell_type": "code",
   "execution_count": 54,
   "metadata": {},
   "outputs": [
    {
     "data": {
      "text/plain": [
       "[<matplotlib.lines.Line2D at 0x7efa7856e7f0>]"
      ]
     },
     "execution_count": 54,
     "metadata": {},
     "output_type": "execute_result"
    },
    {
     "data": {
      "image/png": "[encoded data removed]",
      "text/plain": [
       "<Figure size 432x288 with 1 Axes>"
      ]
     },
     "metadata": {
      "needs_background": "light"
     },
     "output_type": "display_data"
    }
   ],
   "source": [
    "plt.plot(df['244B_CO270.AIn'][94600:94800])"
   ]
  },
  {
   "cell_type": "code",
   "execution_count": null,
   "metadata": {},
   "outputs": [],
   "source": []
  },
  {
   "cell_type": "code",
   "execution_count": 53,
   "metadata": {},
   "outputs": [
    {
     "name": "stdout",
     "output_type": "stream",
     "text": [
      "930 938 939 946 947 954 955 956 963 964 971 972 979 980 994 995 "
     ]
    }
   ],
   "source": [
    "for i in range(900,999):\n",
    "    data1 = np.array(df[target_column][i*100:i*100+200])\n",
    "    data1 = data1.reshape((1,200,12))\n",
    "    anomaly = predict(model, data1, threshold*1.3)\n",
    "    if len(anomaly)>0:\n",
    "        print(i,end = ' ')"
   ]
  },
  {
   "cell_type": "code",
   "execution_count": 34,
   "metadata": {},
   "outputs": [],
   "source": [
    "def train_model(model,criterion,optimizer,epochs=5):\n",
    "    hist = {'loss':[], 'val_loss': []}\n",
    "    for epoch in range(epochs):\n",
    "        loss = 0\n",
    "        print(f'Epoch: {epoch+1}/{epochs}')\n",
    "        print('-'*25)\n",
    "        model.train()\n",
    "        for batch_features in train_loader:\n",
    "            batch_features = torch.from_numpy(batch_features.numpy()).float().to(device)\n",
    "            optimizer.zero_grad()\n",
    "\n",
    "            outputs = model(batch_features)\n",
    "\n",
    "            train_loss = criterion(outputs, batch_features)\n",
    "            train_loss.backward()\n",
    "            optimizer.step()\n",
    "            loss += train_loss.item()\n",
    "\n",
    "        loss = loss / len(train_loader)\n",
    "        hist['loss'].append(loss)\n",
    "        \n",
    "        model.eval()\n",
    "        with torch.no_grad():\n",
    "            val_loss = 0\n",
    "            for batch_features in test_loader:\n",
    "                batch_features = torch.from_numpy(batch_features.numpy()).float().to(device)\n",
    "                outputs = model(batch_features)\n",
    "                val_loss += criterion(outputs, batch_features).item()\n",
    "        val_loss/=len(test_loader)\n",
    "        hist['val_loss'].append(val_loss)\n",
    "        # display the epoch training loss\n",
    "        print(f\"loss = {loss}, val_loss = {val_loss}\")\n",
    "    return hist"
   ]
  },
  {
   "cell_type": "code",
   "execution_count": 57,
   "metadata": {},
   "outputs": [
    {
     "name": "stdout",
     "output_type": "stream",
     "text": [
      "Epoch: 1/25\n",
      "-------------------------\n",
      "loss = 554.6658113823562, val_loss = 198.3145751953125\n",
      "Epoch: 2/25\n",
      "-------------------------\n",
      "loss = 121.79646964151351, val_loss = 101.42824227469308\n",
      "Epoch: 3/25\n",
      "-------------------------\n"
     ]
    },
    {
     "ename": "KeyboardInterrupt",
     "evalue": "",
     "output_type": "error",
     "traceback": [
      "\u001b[0;31m---------------------------------------------------------------------------\u001b[0m",
      "\u001b[0;31mKeyboardInterrupt\u001b[0m                         Traceback (most recent call last)",
      "\u001b[0;32m/tmp/ipykernel_30483/3933606973.py\u001b[0m in \u001b[0;36m<module>\u001b[0;34m\u001b[0m\n\u001b[0;32m----> 1\u001b[0;31m \u001b[0mhist\u001b[0m \u001b[0;34m=\u001b[0m \u001b[0mtrain_model\u001b[0m\u001b[0;34m(\u001b[0m\u001b[0mmodel\u001b[0m\u001b[0;34m,\u001b[0m\u001b[0mcriterion\u001b[0m\u001b[0;34m,\u001b[0m\u001b[0moptimizer\u001b[0m\u001b[0;34m,\u001b[0m\u001b[0mepochs\u001b[0m\u001b[0;34m=\u001b[0m\u001b[0;36m25\u001b[0m\u001b[0;34m)\u001b[0m\u001b[0;34m\u001b[0m\u001b[0;34m\u001b[0m\u001b[0m\n\u001b[0m",
      "\u001b[0;32m/tmp/ipykernel_30483/85572157.py\u001b[0m in \u001b[0;36mtrain_model\u001b[0;34m(model, criterion, optimizer, epochs)\u001b[0m\n\u001b[1;32m     15\u001b[0m             \u001b[0mtrain_loss\u001b[0m\u001b[0;34m.\u001b[0m\u001b[0mbackward\u001b[0m\u001b[0;34m(\u001b[0m\u001b[0;34m)\u001b[0m\u001b[0;34m\u001b[0m\u001b[0;34m\u001b[0m\u001b[0m\n\u001b[1;32m     16\u001b[0m             \u001b[0moptimizer\u001b[0m\u001b[0;34m.\u001b[0m\u001b[0mstep\u001b[0m\u001b[0;34m(\u001b[0m\u001b[0;34m)\u001b[0m\u001b[0;34m\u001b[0m\u001b[0;34m\u001b[0m\u001b[0m\n\u001b[0;32m---> 17\u001b[0;31m             \u001b[0mloss\u001b[0m \u001b[0;34m+=\u001b[0m \u001b[0mtrain_loss\u001b[0m\u001b[0;34m.\u001b[0m\u001b[0mitem\u001b[0m\u001b[0;34m(\u001b[0m\u001b[0;34m)\u001b[0m\u001b[0;34m\u001b[0m\u001b[0;34m\u001b[0m\u001b[0m\n\u001b[0m\u001b[1;32m     18\u001b[0m \u001b[0;34m\u001b[0m\u001b[0m\n\u001b[1;32m     19\u001b[0m         \u001b[0mloss\u001b[0m \u001b[0;34m=\u001b[0m \u001b[0mloss\u001b[0m \u001b[0;34m/\u001b[0m \u001b[0mlen\u001b[0m\u001b[0;34m(\u001b[0m\u001b[0mtrain_loader\u001b[0m\u001b[0;34m)\u001b[0m\u001b[0;34m\u001b[0m\u001b[0;34m\u001b[0m\u001b[0m\n",
      "\u001b[0;31mKeyboardInterrupt\u001b[0m: "
     ]
    }
   ],
   "source": [
    "hist = train_model(model,criterion,optimizer,epochs=25)"
   ]
  },
  {
   "cell_type": "code",
   "execution_count": 24,
   "metadata": {},
   "outputs": [
    {
     "data": {
      "image/png": "[encoded data removed]",
      "text/plain": [
       "<Figure size 432x288 with 1 Axes>"
      ]
     },
     "metadata": {
      "needs_background": "light"
     },
     "output_type": "display_data"
    }
   ],
   "source": [
    "plt.plot(range(len(hist['loss'])), hist['loss'], label = 'Train_loss')\n",
    "plt.plot(range(len(hist['loss'])), hist['val_loss'], label = 'Validation_loss')\n",
    "plt.legend()\n",
    "plt.show()"
   ]
  }
 ],
 "metadata": {
  "kernelspec": {
   "display_name": "Python 3 (ipykernel)",
   "language": "python",
   "name": "python3"
  },
  "language_info": {
   "codemirror_mode": {
    "name": "ipython",
    "version": 3
   },
   "file_extension": ".py",
   "mimetype": "text/x-python",
   "name": "python",
   "nbconvert_exporter": "python",
   "pygments_lexer": "ipython3",
   "version": "3.7.3"
  }
 },
 "nbformat": 4,
 "nbformat_minor": 2
}
