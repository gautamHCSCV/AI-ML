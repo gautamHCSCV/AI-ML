{
  "nbformat": 4,
  "nbformat_minor": 0,
  "metadata": {
    "colab": {
      "name": "Major_Project.ipynb",
      "provenance": [],
      "collapsed_sections": [],
      "include_colab_link": true
    },
    "kernelspec": {
      "display_name": "Python 3",
      "name": "python3"
    },
    "language_info": {
      "name": "python"
    }
  },
  "cells": [
    {
      "cell_type": "markdown",
      "metadata": {
        "id": "view-in-github",
        "colab_type": "text"
      },
      "source": [
        "<a href=\"https://colab.research.google.com/github/gautamHCSCV/AI-ML/blob/main/Major_Project.ipynb\" target=\"_parent\"><img src=\"https://colab.research.google.com/assets/colab-badge.svg\" alt=\"Open In Colab\"/></a>"
      ]
    },
    {
      "cell_type": "markdown",
      "metadata": {
        "id": "_NTqFGY91HOw"
      },
      "source": [
        "A text classification model to detect whether the movie review is positive or negative.\n",
        "\n",
        "Link of the dataset: https://www.kaggle.com/kazanova/sentiment140\n",
        "\n",
        "We have 1.6 million samples from where we randomly select 25000 samples to traing and validate our models. Here we are loading the examples from our drives."
      ]
    },
    {
      "cell_type": "code",
      "metadata": {
        "colab": {
          "base_uri": "https://localhost:8080/"
        },
        "id": "o0yZVJtpnlm8",
        "outputId": "ab3da44a-5003-4236-d515-9de312d5c6cc"
      },
      "source": [
        "from google.colab import drive\n",
        "drive.mount(\"/content/drive\")"
      ],
      "execution_count": 1,
      "outputs": [
        {
          "output_type": "stream",
          "text": [
            "Mounted at /content/drive\n"
          ],
          "name": "stdout"
        }
      ]
    },
    {
      "cell_type": "code",
      "metadata": {
        "id": "uVShj2H1fol3"
      },
      "source": [
        "import pandas as pd\n",
        "import numpy as np"
      ],
      "execution_count": 2,
      "outputs": []
    },
    {
      "cell_type": "code",
      "metadata": {
        "colab": {
          "base_uri": "https://localhost:8080/",
          "height": 202
        },
        "id": "k34jThn0fXvf",
        "outputId": "a0a7f906-ee3c-49f8-fe85-feba84e51253"
      },
      "source": [
        "path = \"/content/drive/MyDrive/training.1600000.processed.noemoticon.csv\"\n",
        "data = pd.read_csv(path,names = ['target','id','date','flag','user','text'],encoding='latin-1')\n",
        "data = data.sample(25000)\n",
        "data.head()"
      ],
      "execution_count": 3,
      "outputs": [
        {
          "output_type": "execute_result",
          "data": {
            "text/html": [
              "<div>\n",
              "<style scoped>\n",
              "    .dataframe tbody tr th:only-of-type {\n",
              "        vertical-align: middle;\n",
              "    }\n",
              "\n",
              "    .dataframe tbody tr th {\n",
              "        vertical-align: top;\n",
              "    }\n",
              "\n",
              "    .dataframe thead th {\n",
              "        text-align: right;\n",
              "    }\n",
              "</style>\n",
              "<table border=\"1\" class=\"dataframe\">\n",
              "  <thead>\n",
              "    <tr style=\"text-align: right;\">\n",
              "      <th></th>\n",
              "      <th>target</th>\n",
              "      <th>id</th>\n",
              "      <th>date</th>\n",
              "      <th>flag</th>\n",
              "      <th>user</th>\n",
              "      <th>text</th>\n",
              "    </tr>\n",
              "  </thead>\n",
              "  <tbody>\n",
              "    <tr>\n",
              "      <th>673135</th>\n",
              "      <td>0</td>\n",
              "      <td>2247394922</td>\n",
              "      <td>Fri Jun 19 19:01:58 PDT 2009</td>\n",
              "      <td>NO_QUERY</td>\n",
              "      <td>playtone</td>\n",
              "      <td>@djdeatheater They were sold out when I got th...</td>\n",
              "    </tr>\n",
              "    <tr>\n",
              "      <th>1518254</th>\n",
              "      <td>4</td>\n",
              "      <td>2175942086</td>\n",
              "      <td>Mon Jun 15 02:26:59 PDT 2009</td>\n",
              "      <td>NO_QUERY</td>\n",
              "      <td>ezanee</td>\n",
              "      <td>@SazzyFalak You are most welcome, keep up with...</td>\n",
              "    </tr>\n",
              "    <tr>\n",
              "      <th>171420</th>\n",
              "      <td>0</td>\n",
              "      <td>1963213044</td>\n",
              "      <td>Fri May 29 12:22:46 PDT 2009</td>\n",
              "      <td>NO_QUERY</td>\n",
              "      <td>sharpener</td>\n",
              "      <td>http://twitpic.com/678hs - 300 yd drive within...</td>\n",
              "    </tr>\n",
              "    <tr>\n",
              "      <th>17036</th>\n",
              "      <td>0</td>\n",
              "      <td>1556136798</td>\n",
              "      <td>Sat Apr 18 21:46:02 PDT 2009</td>\n",
              "      <td>NO_QUERY</td>\n",
              "      <td>k8phaup</td>\n",
              "      <td>@blanesaw ah so jealous  if i didnt have so ma...</td>\n",
              "    </tr>\n",
              "    <tr>\n",
              "      <th>239761</th>\n",
              "      <td>0</td>\n",
              "      <td>1980690966</td>\n",
              "      <td>Sun May 31 07:25:32 PDT 2009</td>\n",
              "      <td>NO_QUERY</td>\n",
              "      <td>djstevehayward</td>\n",
              "      <td>@piyhda I miss you   Hope to hear from you soo...</td>\n",
              "    </tr>\n",
              "  </tbody>\n",
              "</table>\n",
              "</div>"
            ],
            "text/plain": [
              "         target  ...                                               text\n",
              "673135        0  ...  @djdeatheater They were sold out when I got th...\n",
              "1518254       4  ...  @SazzyFalak You are most welcome, keep up with...\n",
              "171420        0  ...  http://twitpic.com/678hs - 300 yd drive within...\n",
              "17036         0  ...  @blanesaw ah so jealous  if i didnt have so ma...\n",
              "239761        0  ...  @piyhda I miss you   Hope to hear from you soo...\n",
              "\n",
              "[5 rows x 6 columns]"
            ]
          },
          "metadata": {
            "tags": []
          },
          "execution_count": 3
        }
      ]
    },
    {
      "cell_type": "code",
      "metadata": {
        "colab": {
          "base_uri": "https://localhost:8080/"
        },
        "id": "EH1q5RTpvtF7",
        "outputId": "d246d850-a7f2-4097-8df8-5c8f7a2d2ecd"
      },
      "source": [
        "data.info()"
      ],
      "execution_count": 4,
      "outputs": [
        {
          "output_type": "stream",
          "text": [
            "<class 'pandas.core.frame.DataFrame'>\n",
            "Int64Index: 25000 entries, 673135 to 384521\n",
            "Data columns (total 6 columns):\n",
            " #   Column  Non-Null Count  Dtype \n",
            "---  ------  --------------  ----- \n",
            " 0   target  25000 non-null  int64 \n",
            " 1   id      25000 non-null  int64 \n",
            " 2   date    25000 non-null  object\n",
            " 3   flag    25000 non-null  object\n",
            " 4   user    25000 non-null  object\n",
            " 5   text    25000 non-null  object\n",
            "dtypes: int64(2), object(4)\n",
            "memory usage: 1.3+ MB\n"
          ],
          "name": "stdout"
        }
      ]
    },
    {
      "cell_type": "code",
      "metadata": {
        "colab": {
          "base_uri": "https://localhost:8080/"
        },
        "id": "xZkzP4wJv3vk",
        "outputId": "f14b2fbb-4e80-4464-a91f-aa3928bf9345"
      },
      "source": [
        "data.isnull().sum()"
      ],
      "execution_count": 5,
      "outputs": [
        {
          "output_type": "execute_result",
          "data": {
            "text/plain": [
              "target    0\n",
              "id        0\n",
              "date      0\n",
              "flag      0\n",
              "user      0\n",
              "text      0\n",
              "dtype: int64"
            ]
          },
          "metadata": {
            "tags": []
          },
          "execution_count": 5
        }
      ]
    },
    {
      "cell_type": "code",
      "metadata": {
        "id": "qx7q0GmhwAJy"
      },
      "source": [
        "data.drop([\"id\",\"date\",\"flag\",\"user\"],axis=1,inplace=True)"
      ],
      "execution_count": 6,
      "outputs": []
    },
    {
      "cell_type": "code",
      "metadata": {
        "colab": {
          "base_uri": "https://localhost:8080/",
          "height": 202
        },
        "id": "PEuCpkDowV_w",
        "outputId": "da1d693b-4278-45ee-ed3f-01909fb7aa4d"
      },
      "source": [
        "data.head()"
      ],
      "execution_count": 7,
      "outputs": [
        {
          "output_type": "execute_result",
          "data": {
            "text/html": [
              "<div>\n",
              "<style scoped>\n",
              "    .dataframe tbody tr th:only-of-type {\n",
              "        vertical-align: middle;\n",
              "    }\n",
              "\n",
              "    .dataframe tbody tr th {\n",
              "        vertical-align: top;\n",
              "    }\n",
              "\n",
              "    .dataframe thead th {\n",
              "        text-align: right;\n",
              "    }\n",
              "</style>\n",
              "<table border=\"1\" class=\"dataframe\">\n",
              "  <thead>\n",
              "    <tr style=\"text-align: right;\">\n",
              "      <th></th>\n",
              "      <th>target</th>\n",
              "      <th>text</th>\n",
              "    </tr>\n",
              "  </thead>\n",
              "  <tbody>\n",
              "    <tr>\n",
              "      <th>673135</th>\n",
              "      <td>0</td>\n",
              "      <td>@djdeatheater They were sold out when I got th...</td>\n",
              "    </tr>\n",
              "    <tr>\n",
              "      <th>1518254</th>\n",
              "      <td>4</td>\n",
              "      <td>@SazzyFalak You are most welcome, keep up with...</td>\n",
              "    </tr>\n",
              "    <tr>\n",
              "      <th>171420</th>\n",
              "      <td>0</td>\n",
              "      <td>http://twitpic.com/678hs - 300 yd drive within...</td>\n",
              "    </tr>\n",
              "    <tr>\n",
              "      <th>17036</th>\n",
              "      <td>0</td>\n",
              "      <td>@blanesaw ah so jealous  if i didnt have so ma...</td>\n",
              "    </tr>\n",
              "    <tr>\n",
              "      <th>239761</th>\n",
              "      <td>0</td>\n",
              "      <td>@piyhda I miss you   Hope to hear from you soo...</td>\n",
              "    </tr>\n",
              "  </tbody>\n",
              "</table>\n",
              "</div>"
            ],
            "text/plain": [
              "         target                                               text\n",
              "673135        0  @djdeatheater They were sold out when I got th...\n",
              "1518254       4  @SazzyFalak You are most welcome, keep up with...\n",
              "171420        0  http://twitpic.com/678hs - 300 yd drive within...\n",
              "17036         0  @blanesaw ah so jealous  if i didnt have so ma...\n",
              "239761        0  @piyhda I miss you   Hope to hear from you soo..."
            ]
          },
          "metadata": {
            "tags": []
          },
          "execution_count": 7
        }
      ]
    },
    {
      "cell_type": "code",
      "metadata": {
        "colab": {
          "base_uri": "https://localhost:8080/"
        },
        "id": "RPzS1Ugyw8vI",
        "outputId": "93bcbdc1-0fee-4ee0-e92b-fb1193103a60"
      },
      "source": [
        "data[\"target\"].value_counts()"
      ],
      "execution_count": 8,
      "outputs": [
        {
          "output_type": "execute_result",
          "data": {
            "text/plain": [
              "0    12612\n",
              "4    12388\n",
              "Name: target, dtype: int64"
            ]
          },
          "metadata": {
            "tags": []
          },
          "execution_count": 8
        }
      ]
    },
    {
      "cell_type": "markdown",
      "metadata": {
        "id": "WIzKioShnabP"
      },
      "source": [
        "Model Preprocessing"
      ]
    },
    {
      "cell_type": "code",
      "metadata": {
        "id": "fnxBTDtHxNI3"
      },
      "source": [
        "data[\"text\"] = data[\"text\"].astype(str)"
      ],
      "execution_count": 9,
      "outputs": []
    },
    {
      "cell_type": "code",
      "metadata": {
        "colab": {
          "base_uri": "https://localhost:8080/",
          "height": 202
        },
        "id": "gqGfd0A51UJZ",
        "outputId": "d24de0e8-37c7-4809-cef7-f1e4f12697fe"
      },
      "source": [
        "data[\"text\"] = data[\"text\"].str.lower()\n",
        "data.head()"
      ],
      "execution_count": 10,
      "outputs": [
        {
          "output_type": "execute_result",
          "data": {
            "text/html": [
              "<div>\n",
              "<style scoped>\n",
              "    .dataframe tbody tr th:only-of-type {\n",
              "        vertical-align: middle;\n",
              "    }\n",
              "\n",
              "    .dataframe tbody tr th {\n",
              "        vertical-align: top;\n",
              "    }\n",
              "\n",
              "    .dataframe thead th {\n",
              "        text-align: right;\n",
              "    }\n",
              "</style>\n",
              "<table border=\"1\" class=\"dataframe\">\n",
              "  <thead>\n",
              "    <tr style=\"text-align: right;\">\n",
              "      <th></th>\n",
              "      <th>target</th>\n",
              "      <th>text</th>\n",
              "    </tr>\n",
              "  </thead>\n",
              "  <tbody>\n",
              "    <tr>\n",
              "      <th>673135</th>\n",
              "      <td>0</td>\n",
              "      <td>@djdeatheater they were sold out when i got th...</td>\n",
              "    </tr>\n",
              "    <tr>\n",
              "      <th>1518254</th>\n",
              "      <td>4</td>\n",
              "      <td>@sazzyfalak you are most welcome, keep up with...</td>\n",
              "    </tr>\n",
              "    <tr>\n",
              "      <th>171420</th>\n",
              "      <td>0</td>\n",
              "      <td>http://twitpic.com/678hs - 300 yd drive within...</td>\n",
              "    </tr>\n",
              "    <tr>\n",
              "      <th>17036</th>\n",
              "      <td>0</td>\n",
              "      <td>@blanesaw ah so jealous  if i didnt have so ma...</td>\n",
              "    </tr>\n",
              "    <tr>\n",
              "      <th>239761</th>\n",
              "      <td>0</td>\n",
              "      <td>@piyhda i miss you   hope to hear from you soo...</td>\n",
              "    </tr>\n",
              "  </tbody>\n",
              "</table>\n",
              "</div>"
            ],
            "text/plain": [
              "         target                                               text\n",
              "673135        0  @djdeatheater they were sold out when i got th...\n",
              "1518254       4  @sazzyfalak you are most welcome, keep up with...\n",
              "171420        0  http://twitpic.com/678hs - 300 yd drive within...\n",
              "17036         0  @blanesaw ah so jealous  if i didnt have so ma...\n",
              "239761        0  @piyhda i miss you   hope to hear from you soo..."
            ]
          },
          "metadata": {
            "tags": []
          },
          "execution_count": 10
        }
      ]
    },
    {
      "cell_type": "code",
      "metadata": {
        "colab": {
          "base_uri": "https://localhost:8080/",
          "height": 202
        },
        "id": "eDe429et2XGq",
        "outputId": "bce44a58-2937-4473-fa51-bc3bb5ee6ddb"
      },
      "source": [
        "import re\n",
        "def rem_url(text):\n",
        "    url_pat = re.compile(r'https?://\\S+|www\\.\\S+')\n",
        "    return url_pat.sub(r'', text)\n",
        "data[\"text\"] = data[\"text\"].apply(lambda text: rem_url(text))\n",
        "data.head()"
      ],
      "execution_count": 11,
      "outputs": [
        {
          "output_type": "execute_result",
          "data": {
            "text/html": [
              "<div>\n",
              "<style scoped>\n",
              "    .dataframe tbody tr th:only-of-type {\n",
              "        vertical-align: middle;\n",
              "    }\n",
              "\n",
              "    .dataframe tbody tr th {\n",
              "        vertical-align: top;\n",
              "    }\n",
              "\n",
              "    .dataframe thead th {\n",
              "        text-align: right;\n",
              "    }\n",
              "</style>\n",
              "<table border=\"1\" class=\"dataframe\">\n",
              "  <thead>\n",
              "    <tr style=\"text-align: right;\">\n",
              "      <th></th>\n",
              "      <th>target</th>\n",
              "      <th>text</th>\n",
              "    </tr>\n",
              "  </thead>\n",
              "  <tbody>\n",
              "    <tr>\n",
              "      <th>673135</th>\n",
              "      <td>0</td>\n",
              "      <td>@djdeatheater they were sold out when i got th...</td>\n",
              "    </tr>\n",
              "    <tr>\n",
              "      <th>1518254</th>\n",
              "      <td>4</td>\n",
              "      <td>@sazzyfalak you are most welcome, keep up with...</td>\n",
              "    </tr>\n",
              "    <tr>\n",
              "      <th>171420</th>\n",
              "      <td>0</td>\n",
              "      <td>- 300 yd drive within feet of the green. 2nd ...</td>\n",
              "    </tr>\n",
              "    <tr>\n",
              "      <th>17036</th>\n",
              "      <td>0</td>\n",
              "      <td>@blanesaw ah so jealous  if i didnt have so ma...</td>\n",
              "    </tr>\n",
              "    <tr>\n",
              "      <th>239761</th>\n",
              "      <td>0</td>\n",
              "      <td>@piyhda i miss you   hope to hear from you soo...</td>\n",
              "    </tr>\n",
              "  </tbody>\n",
              "</table>\n",
              "</div>"
            ],
            "text/plain": [
              "         target                                               text\n",
              "673135        0  @djdeatheater they were sold out when i got th...\n",
              "1518254       4  @sazzyfalak you are most welcome, keep up with...\n",
              "171420        0   - 300 yd drive within feet of the green. 2nd ...\n",
              "17036         0  @blanesaw ah so jealous  if i didnt have so ma...\n",
              "239761        0  @piyhda i miss you   hope to hear from you soo..."
            ]
          },
          "metadata": {
            "tags": []
          },
          "execution_count": 11
        }
      ]
    },
    {
      "cell_type": "code",
      "metadata": {
        "colab": {
          "base_uri": "https://localhost:8080/",
          "height": 202
        },
        "id": "j1q8acrs07Rk",
        "outputId": "0ad76095-f18e-4eed-b50a-7e9da7914578"
      },
      "source": [
        "from bs4 import BeautifulSoup\n",
        "def rem_html(text):\n",
        "    return BeautifulSoup(text, \"lxml\").text\n",
        "data[\"text\"] = data[\"text\"].apply(lambda text: rem_html(text))\n",
        "data.head()"
      ],
      "execution_count": 12,
      "outputs": [
        {
          "output_type": "execute_result",
          "data": {
            "text/html": [
              "<div>\n",
              "<style scoped>\n",
              "    .dataframe tbody tr th:only-of-type {\n",
              "        vertical-align: middle;\n",
              "    }\n",
              "\n",
              "    .dataframe tbody tr th {\n",
              "        vertical-align: top;\n",
              "    }\n",
              "\n",
              "    .dataframe thead th {\n",
              "        text-align: right;\n",
              "    }\n",
              "</style>\n",
              "<table border=\"1\" class=\"dataframe\">\n",
              "  <thead>\n",
              "    <tr style=\"text-align: right;\">\n",
              "      <th></th>\n",
              "      <th>target</th>\n",
              "      <th>text</th>\n",
              "    </tr>\n",
              "  </thead>\n",
              "  <tbody>\n",
              "    <tr>\n",
              "      <th>673135</th>\n",
              "      <td>0</td>\n",
              "      <td>@djdeatheater they were sold out when i got th...</td>\n",
              "    </tr>\n",
              "    <tr>\n",
              "      <th>1518254</th>\n",
              "      <td>4</td>\n",
              "      <td>@sazzyfalak you are most welcome, keep up with...</td>\n",
              "    </tr>\n",
              "    <tr>\n",
              "      <th>171420</th>\n",
              "      <td>0</td>\n",
              "      <td>- 300 yd drive within feet of the green. 2nd t...</td>\n",
              "    </tr>\n",
              "    <tr>\n",
              "      <th>17036</th>\n",
              "      <td>0</td>\n",
              "      <td>@blanesaw ah so jealous  if i didnt have so ma...</td>\n",
              "    </tr>\n",
              "    <tr>\n",
              "      <th>239761</th>\n",
              "      <td>0</td>\n",
              "      <td>@piyhda i miss you   hope to hear from you soo...</td>\n",
              "    </tr>\n",
              "  </tbody>\n",
              "</table>\n",
              "</div>"
            ],
            "text/plain": [
              "         target                                               text\n",
              "673135        0  @djdeatheater they were sold out when i got th...\n",
              "1518254       4  @sazzyfalak you are most welcome, keep up with...\n",
              "171420        0  - 300 yd drive within feet of the green. 2nd t...\n",
              "17036         0  @blanesaw ah so jealous  if i didnt have so ma...\n",
              "239761        0  @piyhda i miss you   hope to hear from you soo..."
            ]
          },
          "metadata": {
            "tags": []
          },
          "execution_count": 12
        }
      ]
    },
    {
      "cell_type": "code",
      "metadata": {
        "colab": {
          "base_uri": "https://localhost:8080/",
          "height": 202
        },
        "id": "eNpddRqT4GpN",
        "outputId": "622a8fa0-0576-470a-f88a-ec12f9ed3b55"
      },
      "source": [
        "def rem_username(text):\n",
        "  return re.sub('@[^\\s]+','',text)\n",
        "data[\"text\"] = data[\"text\"].apply(lambda text: rem_username(text))\n",
        "data.head()"
      ],
      "execution_count": 13,
      "outputs": [
        {
          "output_type": "execute_result",
          "data": {
            "text/html": [
              "<div>\n",
              "<style scoped>\n",
              "    .dataframe tbody tr th:only-of-type {\n",
              "        vertical-align: middle;\n",
              "    }\n",
              "\n",
              "    .dataframe tbody tr th {\n",
              "        vertical-align: top;\n",
              "    }\n",
              "\n",
              "    .dataframe thead th {\n",
              "        text-align: right;\n",
              "    }\n",
              "</style>\n",
              "<table border=\"1\" class=\"dataframe\">\n",
              "  <thead>\n",
              "    <tr style=\"text-align: right;\">\n",
              "      <th></th>\n",
              "      <th>target</th>\n",
              "      <th>text</th>\n",
              "    </tr>\n",
              "  </thead>\n",
              "  <tbody>\n",
              "    <tr>\n",
              "      <th>673135</th>\n",
              "      <td>0</td>\n",
              "      <td>they were sold out when i got there tonight o...</td>\n",
              "    </tr>\n",
              "    <tr>\n",
              "      <th>1518254</th>\n",
              "      <td>4</td>\n",
              "      <td>you are most welcome, keep up with your quirk...</td>\n",
              "    </tr>\n",
              "    <tr>\n",
              "      <th>171420</th>\n",
              "      <td>0</td>\n",
              "      <td>- 300 yd drive within feet of the green. 2nd t...</td>\n",
              "    </tr>\n",
              "    <tr>\n",
              "      <th>17036</th>\n",
              "      <td>0</td>\n",
              "      <td>ah so jealous  if i didnt have so many tests ...</td>\n",
              "    </tr>\n",
              "    <tr>\n",
              "      <th>239761</th>\n",
              "      <td>0</td>\n",
              "      <td>i miss you   hope to hear from you soon...</td>\n",
              "    </tr>\n",
              "  </tbody>\n",
              "</table>\n",
              "</div>"
            ],
            "text/plain": [
              "         target                                               text\n",
              "673135        0   they were sold out when i got there tonight o...\n",
              "1518254       4   you are most welcome, keep up with your quirk...\n",
              "171420        0  - 300 yd drive within feet of the green. 2nd t...\n",
              "17036         0   ah so jealous  if i didnt have so many tests ...\n",
              "239761        0         i miss you   hope to hear from you soon..."
            ]
          },
          "metadata": {
            "tags": []
          },
          "execution_count": 13
        }
      ]
    },
    {
      "cell_type": "code",
      "metadata": {
        "cellView": "form",
        "id": "FSdPVnkY8vOH"
      },
      "source": [
        "#@title Chat Words\n",
        "words_str = \"\"\"\n",
        "AFAIK=As Far As I Know\n",
        "AFK=Away From Keyboard\n",
        "ASAP=As Soon As Possible\n",
        "ATK=At The Keyboard\n",
        "ATM=At The Moment\n",
        "A3=Anytime, Anywhere, Anyplace\n",
        "BAK=Back At Keyboard\n",
        "BBL=Be Back Later\n",
        "BBS=Be Back Soon\n",
        "BFN=Bye For Now\n",
        "B4N=Bye For Now\n",
        "BRB=Be Right Back\n",
        "BRT=Be Right There\n",
        "BTW=By The Way\n",
        "B4=Before\n",
        "B4N=Bye For Now\n",
        "CU=See You\n",
        "CUL8R=See You Later\n",
        "CYA=See You\n",
        "FAQ=Frequently Asked Questions\n",
        "FC=Fingers Crossed\n",
        "FWIW=For What It's Worth\n",
        "FYI=For Your Information\n",
        "GAL=Get A Life\n",
        "GG=Good Game\n",
        "GN=Good Night\n",
        "GMTA=Great Minds Think Alike\n",
        "GR8=Great!\n",
        "G9=Genius\n",
        "IC=I See\n",
        "ICQ=I Seek you (also a chat program)\n",
        "ILU=ILU: I Love You\n",
        "IMHO=In My Honest/Humble Opinion\n",
        "IMO=In My Opinion\n",
        "IOW=In Other Words\n",
        "IRL=In Real Life\n",
        "KISS=Keep It Simple, Stupid\n",
        "LDR=Long Distance Relationship\n",
        "LMAO=Laugh My A.. Off\n",
        "LOL=Laughing Out Loud\n",
        "LTNS=Long Time No See\n",
        "L8R=Later\n",
        "MTE=My Thoughts Exactly\n",
        "M8=Mate\n",
        "NRN=No Reply Necessary\n",
        "OIC=Oh I See\n",
        "PITA=Pain In The A..\n",
        "PRT=Party\n",
        "PRW=Parents Are Watching\n",
        "ROFL=Rolling On The Floor Laughing\n",
        "ROFLOL=Rolling On The Floor Laughing Out Loud\n",
        "ROTFLMAO=Rolling On The Floor Laughing My A.. Off\n",
        "SK8=Skate\n",
        "STATS=Your sex and age\n",
        "ASL=Age, Sex, Location\n",
        "THX=Thank You\n",
        "TTFN=Ta-Ta For Now!\n",
        "TTYL=Talk To You Later\n",
        "U=You\n",
        "U2=You Too\n",
        "U4E=Yours For Ever\n",
        "WB=Welcome Back\n",
        "WTF=What The F...\n",
        "WTG=Way To Go!\n",
        "WUF=Where Are You From?\n",
        "W8=Wait...\n",
        "7K=Sick:-D Laugher\n",
        "\"\"\""
      ],
      "execution_count": 14,
      "outputs": []
    },
    {
      "cell_type": "code",
      "metadata": {
        "colab": {
          "base_uri": "https://localhost:8080/",
          "height": 202
        },
        "id": "4znBoPJ680Za",
        "outputId": "02de9d50-f653-459e-839f-4612e812d753"
      },
      "source": [
        "words_dict = {}\n",
        "words_list = []\n",
        "for single_line in words_str.split(\"\\n\"):\n",
        "    if single_line != \"\":\n",
        "        cw = single_line.split(\"=\")[0]\n",
        "        cw_exp = single_line.split(\"=\")[1]\n",
        "        words_list.append(cw)\n",
        "        words_dict[cw] = cw_exp\n",
        "words_list = set(words_list)\n",
        "\n",
        "def words_conv(text):\n",
        "    n_text = []\n",
        "    for w in text.split():\n",
        "        if w.upper() in words_list:\n",
        "            n_text.append(words_dict[w.upper()])\n",
        "        else:\n",
        "            n_text.append(w)\n",
        "    return \" \".join(n_text)\n",
        "\n",
        "data[\"text\"] = data[\"text\"].apply(lambda text: words_conv(text))\n",
        "data.head()"
      ],
      "execution_count": 15,
      "outputs": [
        {
          "output_type": "execute_result",
          "data": {
            "text/html": [
              "<div>\n",
              "<style scoped>\n",
              "    .dataframe tbody tr th:only-of-type {\n",
              "        vertical-align: middle;\n",
              "    }\n",
              "\n",
              "    .dataframe tbody tr th {\n",
              "        vertical-align: top;\n",
              "    }\n",
              "\n",
              "    .dataframe thead th {\n",
              "        text-align: right;\n",
              "    }\n",
              "</style>\n",
              "<table border=\"1\" class=\"dataframe\">\n",
              "  <thead>\n",
              "    <tr style=\"text-align: right;\">\n",
              "      <th></th>\n",
              "      <th>target</th>\n",
              "      <th>text</th>\n",
              "    </tr>\n",
              "  </thead>\n",
              "  <tbody>\n",
              "    <tr>\n",
              "      <th>673135</th>\n",
              "      <td>0</td>\n",
              "      <td>they were sold out when i got there tonight on...</td>\n",
              "    </tr>\n",
              "    <tr>\n",
              "      <th>1518254</th>\n",
              "      <td>4</td>\n",
              "      <td>you are most welcome, keep up with your quirky...</td>\n",
              "    </tr>\n",
              "    <tr>\n",
              "      <th>171420</th>\n",
              "      <td>0</td>\n",
              "      <td>- 300 yd drive within feet of the green. 2nd t...</td>\n",
              "    </tr>\n",
              "    <tr>\n",
              "      <th>17036</th>\n",
              "      <td>0</td>\n",
              "      <td>ah so jealous if i didnt have so many tests th...</td>\n",
              "    </tr>\n",
              "    <tr>\n",
              "      <th>239761</th>\n",
              "      <td>0</td>\n",
              "      <td>i miss you hope to hear from you soon...</td>\n",
              "    </tr>\n",
              "  </tbody>\n",
              "</table>\n",
              "</div>"
            ],
            "text/plain": [
              "         target                                               text\n",
              "673135        0  they were sold out when i got there tonight on...\n",
              "1518254       4  you are most welcome, keep up with your quirky...\n",
              "171420        0  - 300 yd drive within feet of the green. 2nd t...\n",
              "17036         0  ah so jealous if i didnt have so many tests th...\n",
              "239761        0           i miss you hope to hear from you soon..."
            ]
          },
          "metadata": {
            "tags": []
          },
          "execution_count": 15
        }
      ]
    },
    {
      "cell_type": "code",
      "metadata": {
        "id": "7rABdPV3Paz_",
        "cellView": "form"
      },
      "source": [
        "#@title Emoticons\n",
        "emoticons = {\n",
        "    u\":‑\\)\":\"Happy face or smiley\",\n",
        "    u\":\\)\":\"Happy face or smiley\",\n",
        "    u\":-\\]\":\"Happy face or smiley\",\n",
        "    u\":\\]\":\"Happy face or smiley\",\n",
        "    u\":-3\":\"Happy face smiley\",\n",
        "    u\":3\":\"Happy face smiley\",\n",
        "    u\":->\":\"Happy face smiley\",\n",
        "    u\":>\":\"Happy face smiley\",\n",
        "    u\"8-\\)\":\"Happy face smiley\",\n",
        "    u\":o\\)\":\"Happy face smiley\",\n",
        "    u\":-\\}\":\"Happy face smiley\",\n",
        "    u\":\\}\":\"Happy face smiley\",\n",
        "    u\":-\\)\":\"Happy face smiley\",\n",
        "    u\":c\\)\":\"Happy face smiley\",\n",
        "    u\":\\^\\)\":\"Happy face smiley\",\n",
        "    u\"=\\]\":\"Happy face smiley\",\n",
        "    u\"=\\)\":\"Happy face smiley\",\n",
        "    u\":‑D\":\"Laughing, big grin or laugh with glasses\",\n",
        "    u\":D\":\"Laughing, big grin or laugh with glasses\",\n",
        "    u\"8‑D\":\"Laughing, big grin or laugh with glasses\",\n",
        "    u\"8D\":\"Laughing, big grin or laugh with glasses\",\n",
        "    u\"X‑D\":\"Laughing, big grin or laugh with glasses\",\n",
        "    u\"XD\":\"Laughing, big grin or laugh with glasses\",\n",
        "    u\"=D\":\"Laughing, big grin or laugh with glasses\",\n",
        "    u\"=3\":\"Laughing, big grin or laugh with glasses\",\n",
        "    u\"B\\^D\":\"Laughing, big grin or laugh with glasses\",\n",
        "    u\":-\\)\\)\":\"Very happy\",\n",
        "    u\":‑\\(\":\"Frown, sad, andry or pouting\",\n",
        "    u\":-\\(\":\"Frown, sad, andry or pouting\",\n",
        "    u\":\\(\":\"Frown, sad, andry or pouting\",\n",
        "    u\":‑c\":\"Frown, sad, andry or pouting\",\n",
        "    u\":c\":\"Frown, sad, andry or pouting\",\n",
        "    u\":‑<\":\"Frown, sad, andry or pouting\",\n",
        "    u\":<\":\"Frown, sad, andry or pouting\",\n",
        "    u\":‑\\[\":\"Frown, sad, andry or pouting\",\n",
        "    u\":\\[\":\"Frown, sad, andry or pouting\",\n",
        "    u\":-\\|\\|\":\"Frown, sad, andry or pouting\",\n",
        "    u\">:\\[\":\"Frown, sad, andry or pouting\",\n",
        "    u\":\\{\":\"Frown, sad, andry or pouting\",\n",
        "    u\":@\":\"Frown, sad, andry or pouting\",\n",
        "    u\">:\\(\":\"Frown, sad, andry or pouting\",\n",
        "    u\":'‑\\(\":\"Crying\",\n",
        "    u\":'\\(\":\"Crying\",\n",
        "    u\":'‑\\)\":\"Tears of happiness\",\n",
        "    u\":'\\)\":\"Tears of happiness\",\n",
        "    u\"D‑':\":\"Horror\",\n",
        "    u\"D:<\":\"Disgust\",\n",
        "    u\"D:\":\"Sadness\",\n",
        "    u\"D8\":\"Great dismay\",\n",
        "    u\"D;\":\"Great dismay\",\n",
        "    u\"D=\":\"Great dismay\",\n",
        "    u\"DX\":\"Great dismay\",\n",
        "    u\":‑O\":\"Surprise\",\n",
        "    u\":O\":\"Surprise\",\n",
        "    u\":‑o\":\"Surprise\",\n",
        "    u\":o\":\"Surprise\",\n",
        "    u\":-0\":\"Shock\",\n",
        "    u\"8‑0\":\"Yawn\",\n",
        "    u\">:O\":\"Yawn\",\n",
        "    u\":-\\*\":\"Kiss\",\n",
        "    u\":\\*\":\"Kiss\",\n",
        "    u\":X\":\"Kiss\",\n",
        "    u\";‑\\)\":\"Wink or smirk\",\n",
        "    u\";\\)\":\"Wink or smirk\",\n",
        "    u\"\\*-\\)\":\"Wink or smirk\",\n",
        "    u\"\\*\\)\":\"Wink or smirk\",\n",
        "    u\";‑\\]\":\"Wink or smirk\",\n",
        "    u\";\\]\":\"Wink or smirk\",\n",
        "    u\";\\^\\)\":\"Wink or smirk\",\n",
        "    u\":‑,\":\"Wink or smirk\",\n",
        "    u\";D\":\"Wink or smirk\",\n",
        "    u\":‑P\":\"Tongue sticking out, cheeky, playful or blowing a raspberry\",\n",
        "    u\":P\":\"Tongue sticking out, cheeky, playful or blowing a raspberry\",\n",
        "    u\"X‑P\":\"Tongue sticking out, cheeky, playful or blowing a raspberry\",\n",
        "    u\"XP\":\"Tongue sticking out, cheeky, playful or blowing a raspberry\",\n",
        "    u\":‑Þ\":\"Tongue sticking out, cheeky, playful or blowing a raspberry\",\n",
        "    u\":Þ\":\"Tongue sticking out, cheeky, playful or blowing a raspberry\",\n",
        "    u\":b\":\"Tongue sticking out, cheeky, playful or blowing a raspberry\",\n",
        "    u\"d:\":\"Tongue sticking out, cheeky, playful or blowing a raspberry\",\n",
        "    u\"=p\":\"Tongue sticking out, cheeky, playful or blowing a raspberry\",\n",
        "    u\">:P\":\"Tongue sticking out, cheeky, playful or blowing a raspberry\",\n",
        "    u\":‑/\":\"Skeptical, annoyed, undecided, uneasy or hesitant\",\n",
        "    u\":/\":\"Skeptical, annoyed, undecided, uneasy or hesitant\",\n",
        "    u\":-[.]\":\"Skeptical, annoyed, undecided, uneasy or hesitant\",\n",
        "    u\">:[(\\\\\\)]\":\"Skeptical, annoyed, undecided, uneasy or hesitant\",\n",
        "    u\">:/\":\"Skeptical, annoyed, undecided, uneasy or hesitant\",\n",
        "    u\":[(\\\\\\)]\":\"Skeptical, annoyed, undecided, uneasy or hesitant\",\n",
        "    u\"=/\":\"Skeptical, annoyed, undecided, uneasy or hesitant\",\n",
        "    u\"=[(\\\\\\)]\":\"Skeptical, annoyed, undecided, uneasy or hesitant\",\n",
        "    u\":L\":\"Skeptical, annoyed, undecided, uneasy or hesitant\",\n",
        "    u\"=L\":\"Skeptical, annoyed, undecided, uneasy or hesitant\",\n",
        "    u\":S\":\"Skeptical, annoyed, undecided, uneasy or hesitant\",\n",
        "    u\":‑\\|\":\"Straight face\",\n",
        "    u\":\\|\":\"Straight face\",\n",
        "    u\":$\":\"Embarrassed or blushing\",\n",
        "    u\":‑x\":\"Sealed lips or wearing braces or tongue-tied\",\n",
        "    u\":x\":\"Sealed lips or wearing braces or tongue-tied\",\n",
        "    u\":‑#\":\"Sealed lips or wearing braces or tongue-tied\",\n",
        "    u\":#\":\"Sealed lips or wearing braces or tongue-tied\",\n",
        "    u\":‑&\":\"Sealed lips or wearing braces or tongue-tied\",\n",
        "    u\":&\":\"Sealed lips or wearing braces or tongue-tied\",\n",
        "    u\"O:‑\\)\":\"Angel, saint or innocent\",\n",
        "    u\"O:\\)\":\"Angel, saint or innocent\",\n",
        "    u\"0:‑3\":\"Angel, saint or innocent\",\n",
        "    u\"0:3\":\"Angel, saint or innocent\",\n",
        "    u\"0:‑\\)\":\"Angel, saint or innocent\",\n",
        "    u\"0:\\)\":\"Angel, saint or innocent\",\n",
        "    u\":‑b\":\"Tongue sticking out, cheeky, playful or blowing a raspberry\",\n",
        "    u\"0;\\^\\)\":\"Angel, saint or innocent\",\n",
        "    u\">:‑\\)\":\"Evil or devilish\",\n",
        "    u\">:\\)\":\"Evil or devilish\",\n",
        "    u\"\\}:‑\\)\":\"Evil or devilish\",\n",
        "    u\"\\}:\\)\":\"Evil or devilish\",\n",
        "    u\"3:‑\\)\":\"Evil or devilish\",\n",
        "    u\"3:\\)\":\"Evil or devilish\",\n",
        "    u\">;\\)\":\"Evil or devilish\",\n",
        "    u\"\\|;‑\\)\":\"Cool\",\n",
        "    u\"\\|‑O\":\"Bored\",\n",
        "    u\":‑J\":\"Tongue-in-cheek\",\n",
        "    u\"#‑\\)\":\"Party all night\",\n",
        "    u\"%‑\\)\":\"Drunk or confused\",\n",
        "    u\"%\\)\":\"Drunk or confused\",\n",
        "    u\":-###..\":\"Being sick\",\n",
        "    u\":###..\":\"Being sick\",\n",
        "    u\"<:‑\\|\":\"Dump\",\n",
        "    u\"\\(>_<\\)\":\"Troubled\",\n",
        "    u\"\\(>_<\\)>\":\"Troubled\",\n",
        "    u\"\\(';'\\)\":\"Baby\",\n",
        "    u\"\\(\\^\\^>``\":\"Nervous or Embarrassed or Troubled or Shy or Sweat drop\",\n",
        "    u\"\\(\\^_\\^;\\)\":\"Nervous or Embarrassed or Troubled or Shy or Sweat drop\",\n",
        "    u\"\\(-_-;\\)\":\"Nervous or Embarrassed or Troubled or Shy or Sweat drop\",\n",
        "    u\"\\(~_~;\\) \\(・\\.・;\\)\":\"Nervous or Embarrassed or Troubled or Shy or Sweat drop\",\n",
        "    u\"\\(-_-\\)zzz\":\"Sleeping\",\n",
        "    u\"\\(\\^_-\\)\":\"Wink\",\n",
        "    u\"\\(\\(\\+_\\+\\)\\)\":\"Confused\",\n",
        "    u\"\\(\\+o\\+\\)\":\"Confused\",\n",
        "    u\"\\(o\\|o\\)\":\"Ultraman\",\n",
        "    u\"\\^_\\^\":\"Joyful\",\n",
        "    u\"\\(\\^_\\^\\)/\":\"Joyful\",\n",
        "    u\"\\(\\^O\\^\\)／\":\"Joyful\",\n",
        "    u\"\\(\\^o\\^\\)／\":\"Joyful\",\n",
        "    u\"\\(__\\)\":\"Kowtow as a sign of respect, or dogeza for apology\",\n",
        "    u\"_\\(\\._\\.\\)_\":\"Kowtow as a sign of respect, or dogeza for apology\",\n",
        "    u\"<\\(_ _\\)>\":\"Kowtow as a sign of respect, or dogeza for apology\",\n",
        "    u\"<m\\(__\\)m>\":\"Kowtow as a sign of respect, or dogeza for apology\",\n",
        "    u\"m\\(__\\)m\":\"Kowtow as a sign of respect, or dogeza for apology\",\n",
        "    u\"m\\(_ _\\)m\":\"Kowtow as a sign of respect, or dogeza for apology\",\n",
        "    u\"\\('_'\\)\":\"Sad or Crying\",\n",
        "    u\"\\(/_;\\)\":\"Sad or Crying\",\n",
        "    u\"\\(T_T\\) \\(;_;\\)\":\"Sad or Crying\",\n",
        "    u\"\\(;_;\":\"Sad of Crying\",\n",
        "    u\"\\(;_:\\)\":\"Sad or Crying\",\n",
        "    u\"\\(;O;\\)\":\"Sad or Crying\",\n",
        "    u\"\\(:_;\\)\":\"Sad or Crying\",\n",
        "    u\"\\(ToT\\)\":\"Sad or Crying\",\n",
        "    u\";_;\":\"Sad or Crying\",\n",
        "    u\";-;\":\"Sad or Crying\",\n",
        "    u\";n;\":\"Sad or Crying\",\n",
        "    u\";;\":\"Sad or Crying\",\n",
        "    u\"Q\\.Q\":\"Sad or Crying\",\n",
        "    u\"T\\.T\":\"Sad or Crying\",\n",
        "    u\"QQ\":\"Sad or Crying\",\n",
        "    u\"Q_Q\":\"Sad or Crying\",\n",
        "    u\"\\(-\\.-\\)\":\"Shame\",\n",
        "    u\"\\(-_-\\)\":\"Shame\",\n",
        "    u\"\\(一一\\)\":\"Shame\",\n",
        "    u\"\\(；一_一\\)\":\"Shame\",\n",
        "    u\"\\(=_=\\)\":\"Tired\",\n",
        "    u\"\\(=\\^\\·\\^=\\)\":\"cat\",\n",
        "    u\"\\(=\\^\\·\\·\\^=\\)\":\"cat\",\n",
        "    u\"=_\\^=\t\":\"cat\",\n",
        "    u\"\\(\\.\\.\\)\":\"Looking down\",\n",
        "    u\"\\(\\._\\.\\)\":\"Looking down\",\n",
        "    u\"\\^m\\^\":\"Giggling with hand covering mouth\",\n",
        "    u\"\\(\\・\\・?\":\"Confusion\",\n",
        "    u\"\\(?_?\\)\":\"Confusion\",\n",
        "    u\">\\^_\\^<\":\"Normal Laugh\",\n",
        "    u\"<\\^!\\^>\":\"Normal Laugh\",\n",
        "    u\"\\^/\\^\":\"Normal Laugh\",\n",
        "    u\"\\（\\*\\^_\\^\\*）\" :\"Normal Laugh\",\n",
        "    u\"\\(\\^<\\^\\) \\(\\^\\.\\^\\)\":\"Normal Laugh\",\n",
        "    u\"\\(^\\^\\)\":\"Normal Laugh\",\n",
        "    u\"\\(\\^\\.\\^\\)\":\"Normal Laugh\",\n",
        "    u\"\\(\\^_\\^\\.\\)\":\"Normal Laugh\",\n",
        "    u\"\\(\\^_\\^\\)\":\"Normal Laugh\",\n",
        "    u\"\\(\\^\\^\\)\":\"Normal Laugh\",\n",
        "    u\"\\(\\^J\\^\\)\":\"Normal Laugh\",\n",
        "    u\"\\(\\*\\^\\.\\^\\*\\)\":\"Normal Laugh\",\n",
        "    u\"\\(\\^—\\^\\）\":\"Normal Laugh\",\n",
        "    u\"\\(#\\^\\.\\^#\\)\":\"Normal Laugh\",\n",
        "    u\"\\（\\^—\\^\\）\":\"Waving\",\n",
        "    u\"\\(;_;\\)/~~~\":\"Waving\",\n",
        "    u\"\\(\\^\\.\\^\\)/~~~\":\"Waving\",\n",
        "    u\"\\(-_-\\)/~~~ \\($\\·\\·\\)/~~~\":\"Waving\",\n",
        "    u\"\\(T_T\\)/~~~\":\"Waving\",\n",
        "    u\"\\(ToT\\)/~~~\":\"Waving\",\n",
        "    u\"\\(\\*\\^0\\^\\*\\)\":\"Excited\",\n",
        "    u\"\\(\\*_\\*\\)\":\"Amazed\",\n",
        "    u\"\\(\\*_\\*;\":\"Amazed\",\n",
        "    u\"\\(\\+_\\+\\) \\(@_@\\)\":\"Amazed\",\n",
        "    u\"\\(\\*\\^\\^\\)v\":\"Laughing,Cheerful\",\n",
        "    u\"\\(\\^_\\^\\)v\":\"Laughing,Cheerful\",\n",
        "    u\"\\(\\(d[-_-]b\\)\\)\":\"Headphones,Listening to music\",\n",
        "    u'\\(-\"-\\)':\"Worried\",\n",
        "    u\"\\(ーー;\\)\":\"Worried\",\n",
        "    u\"\\(\\^0_0\\^\\)\":\"Eyeglasses\",\n",
        "    u\"\\(\\＾ｖ\\＾\\)\":\"Happy\",\n",
        "    u\"\\(\\＾ｕ\\＾\\)\":\"Happy\",\n",
        "    u\"\\(\\^\\)o\\(\\^\\)\":\"Happy\",\n",
        "    u\"\\(\\^O\\^\\)\":\"Happy\",\n",
        "    u\"\\(\\^o\\^\\)\":\"Happy\",\n",
        "    u\"\\)\\^o\\^\\(\":\"Happy\",\n",
        "    u\":O o_O\":\"Surprised\",\n",
        "    u\"o_0\":\"Surprised\",\n",
        "    u\"o\\.O\":\"Surpised\",\n",
        "    u\"\\(o\\.o\\)\":\"Surprised\",\n",
        "    u\"oO\":\"Surprised\",\n",
        "    u\"\\(\\*￣m￣\\)\":\"Dissatisfied\",\n",
        "    u\"\\(‘A`\\)\":\"Snubbed or Deflated\"\n",
        "}"
      ],
      "execution_count": 16,
      "outputs": []
    },
    {
      "cell_type": "code",
      "metadata": {
        "colab": {
          "base_uri": "https://localhost:8080/",
          "height": 202
        },
        "id": "_DwiqAlw-6E2",
        "outputId": "ad96d397-77b2-4044-c5e7-6977d4a8b7d7"
      },
      "source": [
        "def con_emot(text):\n",
        "    for emot in emoticons:\n",
        "        text = re.sub(u'('+emot+')', \"_\".join(emoticons[emot].replace(\",\",\"\").split()), text)\n",
        "    return text\n",
        "data[\"text\"] = data[\"text\"].apply(lambda text: con_emot(text))\n",
        "data.head()"
      ],
      "execution_count": 17,
      "outputs": [
        {
          "output_type": "execute_result",
          "data": {
            "text/html": [
              "<div>\n",
              "<style scoped>\n",
              "    .dataframe tbody tr th:only-of-type {\n",
              "        vertical-align: middle;\n",
              "    }\n",
              "\n",
              "    .dataframe tbody tr th {\n",
              "        vertical-align: top;\n",
              "    }\n",
              "\n",
              "    .dataframe thead th {\n",
              "        text-align: right;\n",
              "    }\n",
              "</style>\n",
              "<table border=\"1\" class=\"dataframe\">\n",
              "  <thead>\n",
              "    <tr style=\"text-align: right;\">\n",
              "      <th></th>\n",
              "      <th>target</th>\n",
              "      <th>text</th>\n",
              "    </tr>\n",
              "  </thead>\n",
              "  <tbody>\n",
              "    <tr>\n",
              "      <th>673135</th>\n",
              "      <td>0</td>\n",
              "      <td>they were sold out when i got there tonight on...</td>\n",
              "    </tr>\n",
              "    <tr>\n",
              "      <th>1518254</th>\n",
              "      <td>4</td>\n",
              "      <td>you are most welcome, keep up with your quirky...</td>\n",
              "    </tr>\n",
              "    <tr>\n",
              "      <th>171420</th>\n",
              "      <td>0</td>\n",
              "      <td>- 300 yd drive within feet of the green. 2nd t...</td>\n",
              "    </tr>\n",
              "    <tr>\n",
              "      <th>17036</th>\n",
              "      <td>0</td>\n",
              "      <td>ah so jealous if i didnt have so many tests th...</td>\n",
              "    </tr>\n",
              "    <tr>\n",
              "      <th>239761</th>\n",
              "      <td>0</td>\n",
              "      <td>i miss you hope to hear from you soon...</td>\n",
              "    </tr>\n",
              "  </tbody>\n",
              "</table>\n",
              "</div>"
            ],
            "text/plain": [
              "         target                                               text\n",
              "673135        0  they were sold out when i got there tonight on...\n",
              "1518254       4  you are most welcome, keep up with your quirky...\n",
              "171420        0  - 300 yd drive within feet of the green. 2nd t...\n",
              "17036         0  ah so jealous if i didnt have so many tests th...\n",
              "239761        0           i miss you hope to hear from you soon..."
            ]
          },
          "metadata": {
            "tags": []
          },
          "execution_count": 17
        }
      ]
    },
    {
      "cell_type": "code",
      "metadata": {
        "colab": {
          "base_uri": "https://localhost:8080/",
          "height": 236
        },
        "id": "NpMjvc2C_rhD",
        "outputId": "130af4e9-6f46-4120-c6fb-4e69c43d7821"
      },
      "source": [
        "import nltk\n",
        "nltk.download('wordnet')\n",
        "from nltk.stem import WordNetLemmatizer as wnl\n",
        "lemm = wnl()\n",
        "def lemm_words(text):\n",
        "    return \" \".join([lemm.lemmatize(word) for word in text.split()])\n",
        "\n",
        "data[\"text\"] = data[\"text\"].apply(lambda text: lemm_words(text))\n",
        "data.head()"
      ],
      "execution_count": 18,
      "outputs": [
        {
          "output_type": "stream",
          "text": [
            "[nltk_data] Downloading package wordnet to /root/nltk_data...\n",
            "[nltk_data]   Unzipping corpora/wordnet.zip.\n"
          ],
          "name": "stdout"
        },
        {
          "output_type": "execute_result",
          "data": {
            "text/html": [
              "<div>\n",
              "<style scoped>\n",
              "    .dataframe tbody tr th:only-of-type {\n",
              "        vertical-align: middle;\n",
              "    }\n",
              "\n",
              "    .dataframe tbody tr th {\n",
              "        vertical-align: top;\n",
              "    }\n",
              "\n",
              "    .dataframe thead th {\n",
              "        text-align: right;\n",
              "    }\n",
              "</style>\n",
              "<table border=\"1\" class=\"dataframe\">\n",
              "  <thead>\n",
              "    <tr style=\"text-align: right;\">\n",
              "      <th></th>\n",
              "      <th>target</th>\n",
              "      <th>text</th>\n",
              "    </tr>\n",
              "  </thead>\n",
              "  <tbody>\n",
              "    <tr>\n",
              "      <th>673135</th>\n",
              "      <td>0</td>\n",
              "      <td>they were sold out when i got there tonight on...</td>\n",
              "    </tr>\n",
              "    <tr>\n",
              "      <th>1518254</th>\n",
              "      <td>4</td>\n",
              "      <td>you are most welcome, keep up with your quirky...</td>\n",
              "    </tr>\n",
              "    <tr>\n",
              "      <th>171420</th>\n",
              "      <td>0</td>\n",
              "      <td>- 300 yd drive within foot of the green. 2nd t...</td>\n",
              "    </tr>\n",
              "    <tr>\n",
              "      <th>17036</th>\n",
              "      <td>0</td>\n",
              "      <td>ah so jealous if i didnt have so many test thi...</td>\n",
              "    </tr>\n",
              "    <tr>\n",
              "      <th>239761</th>\n",
              "      <td>0</td>\n",
              "      <td>i miss you hope to hear from you soon...</td>\n",
              "    </tr>\n",
              "  </tbody>\n",
              "</table>\n",
              "</div>"
            ],
            "text/plain": [
              "         target                                               text\n",
              "673135        0  they were sold out when i got there tonight on...\n",
              "1518254       4  you are most welcome, keep up with your quirky...\n",
              "171420        0  - 300 yd drive within foot of the green. 2nd t...\n",
              "17036         0  ah so jealous if i didnt have so many test thi...\n",
              "239761        0           i miss you hope to hear from you soon..."
            ]
          },
          "metadata": {
            "tags": []
          },
          "execution_count": 18
        }
      ]
    },
    {
      "cell_type": "code",
      "metadata": {
        "colab": {
          "base_uri": "https://localhost:8080/",
          "height": 236
        },
        "id": "D2OA_Jm3AkAy",
        "outputId": "bbdecb90-91dd-4b32-acf2-2e9b95add238"
      },
      "source": [
        "from nltk.corpus import stopwords\n",
        "nltk.download('stopwords')\n",
        "sw = set(stopwords.words('english'))\n",
        "def rem_sw(text):\n",
        "    return \" \".join([word for word in str(text).split() if word not in sw])\n",
        "\n",
        "data[\"text\"] = data[\"text\"].apply(lambda text: rem_sw(text))\n",
        "data.head()"
      ],
      "execution_count": 19,
      "outputs": [
        {
          "output_type": "stream",
          "text": [
            "[nltk_data] Downloading package stopwords to /root/nltk_data...\n",
            "[nltk_data]   Unzipping corpora/stopwords.zip.\n"
          ],
          "name": "stdout"
        },
        {
          "output_type": "execute_result",
          "data": {
            "text/html": [
              "<div>\n",
              "<style scoped>\n",
              "    .dataframe tbody tr th:only-of-type {\n",
              "        vertical-align: middle;\n",
              "    }\n",
              "\n",
              "    .dataframe tbody tr th {\n",
              "        vertical-align: top;\n",
              "    }\n",
              "\n",
              "    .dataframe thead th {\n",
              "        text-align: right;\n",
              "    }\n",
              "</style>\n",
              "<table border=\"1\" class=\"dataframe\">\n",
              "  <thead>\n",
              "    <tr style=\"text-align: right;\">\n",
              "      <th></th>\n",
              "      <th>target</th>\n",
              "      <th>text</th>\n",
              "    </tr>\n",
              "  </thead>\n",
              "  <tbody>\n",
              "    <tr>\n",
              "      <th>673135</th>\n",
              "      <td>0</td>\n",
              "      <td>sold got tonight game.</td>\n",
              "    </tr>\n",
              "    <tr>\n",
              "      <th>1518254</th>\n",
              "      <td>4</td>\n",
              "      <td>welcome, keep quirky tweets.</td>\n",
              "    </tr>\n",
              "    <tr>\n",
              "      <th>171420</th>\n",
              "      <td>0</td>\n",
              "      <td>- 300 yd drive within foot green. 2nd time pla...</td>\n",
              "    </tr>\n",
              "    <tr>\n",
              "      <th>17036</th>\n",
              "      <td>0</td>\n",
              "      <td>ah jealous didnt many test week wouldve gone</td>\n",
              "    </tr>\n",
              "    <tr>\n",
              "      <th>239761</th>\n",
              "      <td>0</td>\n",
              "      <td>miss hope hear soon...</td>\n",
              "    </tr>\n",
              "  </tbody>\n",
              "</table>\n",
              "</div>"
            ],
            "text/plain": [
              "         target                                               text\n",
              "673135        0                             sold got tonight game.\n",
              "1518254       4                       welcome, keep quirky tweets.\n",
              "171420        0  - 300 yd drive within foot green. 2nd time pla...\n",
              "17036         0       ah jealous didnt many test week wouldve gone\n",
              "239761        0                             miss hope hear soon..."
            ]
          },
          "metadata": {
            "tags": []
          },
          "execution_count": 19
        }
      ]
    },
    {
      "cell_type": "code",
      "metadata": {
        "colab": {
          "base_uri": "https://localhost:8080/",
          "height": 202
        },
        "id": "XDYE1hJjBEuL",
        "outputId": "7216194c-09a7-48d7-bc5c-626645976e63"
      },
      "source": [
        "import string\n",
        "punc = string.punctuation\n",
        "def rem_punc(text):\n",
        "    return text.translate(str.maketrans('', '', punc))\n",
        "data[\"text\"] = data[\"text\"].apply(lambda text: rem_punc(text))\n",
        "data.head()"
      ],
      "execution_count": 20,
      "outputs": [
        {
          "output_type": "execute_result",
          "data": {
            "text/html": [
              "<div>\n",
              "<style scoped>\n",
              "    .dataframe tbody tr th:only-of-type {\n",
              "        vertical-align: middle;\n",
              "    }\n",
              "\n",
              "    .dataframe tbody tr th {\n",
              "        vertical-align: top;\n",
              "    }\n",
              "\n",
              "    .dataframe thead th {\n",
              "        text-align: right;\n",
              "    }\n",
              "</style>\n",
              "<table border=\"1\" class=\"dataframe\">\n",
              "  <thead>\n",
              "    <tr style=\"text-align: right;\">\n",
              "      <th></th>\n",
              "      <th>target</th>\n",
              "      <th>text</th>\n",
              "    </tr>\n",
              "  </thead>\n",
              "  <tbody>\n",
              "    <tr>\n",
              "      <th>673135</th>\n",
              "      <td>0</td>\n",
              "      <td>sold got tonight game</td>\n",
              "    </tr>\n",
              "    <tr>\n",
              "      <th>1518254</th>\n",
              "      <td>4</td>\n",
              "      <td>welcome keep quirky tweets</td>\n",
              "    </tr>\n",
              "    <tr>\n",
              "      <th>171420</th>\n",
              "      <td>0</td>\n",
              "      <td>300 yd drive within foot green 2nd time playi...</td>\n",
              "    </tr>\n",
              "    <tr>\n",
              "      <th>17036</th>\n",
              "      <td>0</td>\n",
              "      <td>ah jealous didnt many test week wouldve gone</td>\n",
              "    </tr>\n",
              "    <tr>\n",
              "      <th>239761</th>\n",
              "      <td>0</td>\n",
              "      <td>miss hope hear soon</td>\n",
              "    </tr>\n",
              "  </tbody>\n",
              "</table>\n",
              "</div>"
            ],
            "text/plain": [
              "         target                                               text\n",
              "673135        0                              sold got tonight game\n",
              "1518254       4                         welcome keep quirky tweets\n",
              "171420        0   300 yd drive within foot green 2nd time playi...\n",
              "17036         0       ah jealous didnt many test week wouldve gone\n",
              "239761        0                                miss hope hear soon"
            ]
          },
          "metadata": {
            "tags": []
          },
          "execution_count": 20
        }
      ]
    },
    {
      "cell_type": "code",
      "metadata": {
        "id": "TEB0H4KHBJR5"
      },
      "source": [
        "#!pip install pyspellchecker"
      ],
      "execution_count": null,
      "outputs": []
    },
    {
      "cell_type": "code",
      "metadata": {
        "colab": {
          "base_uri": "https://localhost:8080/",
          "height": 69
        },
        "id": "0fUpL-TiBZ8X",
        "outputId": "303f3343-a3ce-4007-ace7-fd2d26a30e90"
      },
      "source": [
        "\"\"\"from spellchecker import SpellChecker as SC\n",
        "sc = SC()\n",
        "def cor_spell(text):\n",
        "    cor_text = []\n",
        "    misspell_words = sc.unknown(text.split())\n",
        "    for word in text.split():\n",
        "        if word in misspell_words:\n",
        "            cor_text.append(sc.correction(word))\n",
        "        else:\n",
        "            cor_text.append(word)\n",
        "    return \" \".join(cor_text)    \n",
        "data[\"text\"] = data[\"text\"].apply(lambda text: cor_spell(text))\n",
        "data.head()\"\"\""
      ],
      "execution_count": null,
      "outputs": [
        {
          "output_type": "execute_result",
          "data": {
            "application/vnd.google.colaboratory.intrinsic+json": {
              "type": "string"
            },
            "text/plain": [
              "'from spellchecker import SpellChecker as SC\\nsc = SC()\\ndef cor_spell(text):\\n    cor_text = []\\n    misspell_words = sc.unknown(text.split())\\n    for word in text.split():\\n        if word in misspell_words:\\n            cor_text.append(sc.correction(word))\\n        else:\\n            cor_text.append(word)\\n    return \" \".join(cor_text)    \\ndata[\"text\"] = data[\"text\"].apply(lambda text: cor_spell(text))\\ndata.head()'"
            ]
          },
          "metadata": {
            "tags": []
          },
          "execution_count": 22
        }
      ]
    },
    {
      "cell_type": "markdown",
      "metadata": {
        "id": "SPwVQ0Hj3UJS"
      },
      "source": [
        "Splitting the model into training and testing datasets."
      ]
    },
    {
      "cell_type": "code",
      "metadata": {
        "colab": {
          "base_uri": "https://localhost:8080/",
          "height": 202
        },
        "id": "mhbybQq_ecwW",
        "outputId": "a019dfb6-e668-417a-82e5-74178fda8907"
      },
      "source": [
        "from sklearn.model_selection import train_test_split\n",
        "for i in range(data.shape[0]):\n",
        "    if data.iloc[i,0]==4:\n",
        "        data.iloc[i,0] = 1\n",
        "x_train,x_val,y_train,y_val = train_test_split(data.text,data.target,test_size=0.3,random_state=0)\n",
        "train_data=pd.concat([x_train,y_train],axis=1)\n",
        "train_data.reset_index(inplace=True, drop=True)\n",
        "train_data.head()"
      ],
      "execution_count": 60,
      "outputs": [
        {
          "output_type": "execute_result",
          "data": {
            "text/html": [
              "<div>\n",
              "<style scoped>\n",
              "    .dataframe tbody tr th:only-of-type {\n",
              "        vertical-align: middle;\n",
              "    }\n",
              "\n",
              "    .dataframe tbody tr th {\n",
              "        vertical-align: top;\n",
              "    }\n",
              "\n",
              "    .dataframe thead th {\n",
              "        text-align: right;\n",
              "    }\n",
              "</style>\n",
              "<table border=\"1\" class=\"dataframe\">\n",
              "  <thead>\n",
              "    <tr style=\"text-align: right;\">\n",
              "      <th></th>\n",
              "      <th>text</th>\n",
              "      <th>target</th>\n",
              "    </tr>\n",
              "  </thead>\n",
              "  <tbody>\n",
              "    <tr>\n",
              "      <th>0</th>\n",
              "      <td>sorry shaelyn go dentist get new retainer ewwy...</td>\n",
              "      <td>0</td>\n",
              "    </tr>\n",
              "    <tr>\n",
              "      <th>1</th>\n",
              "      <td>suck doe get repetitive teacher really want ag...</td>\n",
              "      <td>0</td>\n",
              "    </tr>\n",
              "    <tr>\n",
              "      <th>2</th>\n",
              "      <td>oohhi thought country</td>\n",
              "      <td>1</td>\n",
              "    </tr>\n",
              "    <tr>\n",
              "      <th>3</th>\n",
              "      <td>woooooo guess completed gears im happy</td>\n",
              "      <td>1</td>\n",
              "    </tr>\n",
              "    <tr>\n",
              "      <th>4</th>\n",
              "      <td>oh hi sorry im messing around spymaster thing ...</td>\n",
              "      <td>0</td>\n",
              "    </tr>\n",
              "  </tbody>\n",
              "</table>\n",
              "</div>"
            ],
            "text/plain": [
              "                                                text  target\n",
              "0  sorry shaelyn go dentist get new retainer ewwy...       0\n",
              "1  suck doe get repetitive teacher really want ag...       0\n",
              "2                              oohhi thought country       1\n",
              "3             woooooo guess completed gears im happy       1\n",
              "4  oh hi sorry im messing around spymaster thing ...       0"
            ]
          },
          "metadata": {
            "tags": []
          },
          "execution_count": 60
        }
      ]
    },
    {
      "cell_type": "markdown",
      "metadata": {
        "id": "OOU625fjnjg4"
      },
      "source": [
        "Display of TDM matrix and TF-IDF matrix of different classes\n",
        "\n",
        "You can skip the running of next 6 code blocks if you get a problem of RAM-overlaoading. You can directly start from model training and testing as they are handling tf-idf document conversions in their own pipelines."
      ]
    },
    {
      "cell_type": "code",
      "metadata": {
        "id": "yy0FMkica1q8",
        "cellView": "form"
      },
      "source": [
        "#@title TDM and TF-IDF matrixes\n",
        "# for class 4 \n",
        "from sklearn.feature_extraction.text import CountVectorizer\n",
        "\n",
        "stmt_docs = [row['text'][:max(len(row['text']),500)] for index,row in data.iterrows() if row['target'] == 4]\n",
        "\n",
        "vec_r = CountVectorizer()\n",
        "X_r = vec_r.fit_transform(stmt_docs)\n",
        "tdm_r = pd.DataFrame(X_r.toarray(), columns=vec_r.get_feature_names())\n",
        "\n",
        "tdm_r"
      ],
      "execution_count": null,
      "outputs": []
    },
    {
      "cell_type": "code",
      "metadata": {
        "id": "7EXm4QKUeosp",
        "cellView": "form"
      },
      "source": [
        "#@title TDM and TF-IDF matrixes\n",
        "# for class 0\n",
        "from sklearn.feature_extraction.text import CountVectorizer\n",
        "\n",
        "stmt_docs = [row['text'] for index,row in train_data.iterrows() if row['target'] == 0]\n",
        "\n",
        "vec_f = CountVectorizer()\n",
        "X_f = vec_f.fit_transform(stmt_docs)\n",
        "tdm_f = pd.DataFrame(X_f.toarray(), columns=vec_f.get_feature_names())\n",
        "\n",
        "tdm_f"
      ],
      "execution_count": null,
      "outputs": []
    },
    {
      "cell_type": "code",
      "metadata": {
        "id": "FnMKtFFcerTL",
        "cellView": "form"
      },
      "source": [
        "#@title TDM and TF-IDF matrixes\n",
        "# for whole train data\n",
        "from sklearn.feature_extraction.text import CountVectorizer\n",
        "\n",
        "stmt_docs = [row['text'] for index,row in train_data.iterrows() ]\n",
        "\n",
        "vec1 = CountVectorizer()\n",
        "X = vec1.fit_transform(stmt_docs)\n",
        "tdm = pd.DataFrame(X.toarray(), columns=vec1.get_feature_names())\n",
        "\n",
        "tdm"
      ],
      "execution_count": null,
      "outputs": []
    },
    {
      "cell_type": "code",
      "metadata": {
        "id": "WRcpekC6vQHH",
        "cellView": "form"
      },
      "source": [
        "#@title TDM and TF-IDF matrixes\n",
        "# for whole validation data\n",
        "stmt_docs = list(x_val)\n",
        "\n",
        "vec = CountVectorizer()\n",
        "X = vec.fit_transform(stmt_docs)\n",
        "tdm_test = pd.DataFrame(X.toarray(), columns=vec.get_feature_names())\n",
        "\n",
        "tdm_test"
      ],
      "execution_count": null,
      "outputs": []
    },
    {
      "cell_type": "code",
      "metadata": {
        "id": "E3EwUMKDvQPM",
        "cellView": "form"
      },
      "source": [
        "#@title TDM and TF-IDF matrixes\n",
        "# TF-IDF Transformation of train data\n",
        "from sklearn.feature_extraction.text import TfidfTransformer\n",
        "tf_transformer = TfidfTransformer(use_idf=False).fit(tdm)\n",
        "X_tfidf = tf_transformer.transform(tdm)\n",
        "tfidf_train = pd.DataFrame(X_tfidf.toarray(), columns=vec1.get_feature_names())\n",
        "tfidf_train.head()"
      ],
      "execution_count": null,
      "outputs": []
    },
    {
      "cell_type": "code",
      "metadata": {
        "id": "CYw1whvDPeIh",
        "cellView": "form"
      },
      "source": [
        "#@title TDM and TF-IDF matrixes\n",
        "# TF-IDF Transformation of validation data\n",
        "tf_transformer = TfidfTransformer(use_idf=False).fit(tdm_test)\n",
        "X_tfidf = tf_transformer.transform(tdm_test)\n",
        "tfidf_val = pd.DataFrame(X_tfidf.toarray(), columns=vec.get_feature_names())\n",
        "tfidf_val.head()"
      ],
      "execution_count": null,
      "outputs": []
    },
    {
      "cell_type": "markdown",
      "metadata": {
        "id": "D6zE6NGmoYSu"
      },
      "source": [
        "Models training, testing and validaton"
      ]
    },
    {
      "cell_type": "markdown",
      "metadata": {
        "id": "03XHSxGk4fYD"
      },
      "source": [
        "Starting with neural network model using tensorflow and keras"
      ]
    },
    {
      "cell_type": "code",
      "metadata": {
        "id": "w9x5PRNR4qVP"
      },
      "source": [
        "import tensorflow as tf\n",
        "from tensorflow.keras.preprocessing.text import Tokenizer\n"
      ],
      "execution_count": 61,
      "outputs": []
    },
    {
      "cell_type": "code",
      "metadata": {
        "id": "MOYQlCYL4qhh"
      },
      "source": [
        "# Tokenezing the texts\n",
        "tokenizer = Tokenizer(num_words = None, lower = True)\n",
        "tokenizer.fit_on_texts(data['text'])\n",
        "train_sequences = tokenizer.texts_to_sequences(x_train)\n",
        "test_sequences = tokenizer.texts_to_sequences(x_val)"
      ],
      "execution_count": 62,
      "outputs": []
    },
    {
      "cell_type": "code",
      "metadata": {
        "id": "pUY-O_0U4qkI"
      },
      "source": [
        "# Padding\n",
        "from tensorflow.keras.preprocessing.sequence import pad_sequences\n",
        "\n",
        "padded_train = pad_sequences(train_sequences, maxlen = 10, truncating = 'pre', value = 0)\n",
        "padded_test = pad_sequences(test_sequences, maxlen = 10, truncating = 'pre', value = 0)"
      ],
      "execution_count": 63,
      "outputs": []
    },
    {
      "cell_type": "code",
      "metadata": {
        "colab": {
          "base_uri": "https://localhost:8080/"
        },
        "id": "GXeOFgjt9ujh",
        "outputId": "486b8f5f-d025-425c-cec9-e5f75e75d781"
      },
      "source": [
        "import json\n",
        "tokenizer_config = tokenizer.get_config()\n",
        "index_word = json.loads(tokenizer_config['word_index'])\n",
        "max_index_val = max(index_word.values())\n",
        "max_index_val"
      ],
      "execution_count": 64,
      "outputs": [
        {
          "output_type": "execute_result",
          "data": {
            "text/plain": [
              "26138"
            ]
          },
          "metadata": {
            "tags": []
          },
          "execution_count": 64
        }
      ]
    },
    {
      "cell_type": "code",
      "metadata": {
        "colab": {
          "base_uri": "https://localhost:8080/"
        },
        "id": "9gROdGBW8UOJ",
        "outputId": "fd9eb995-4ecb-4e0f-ee16-c64a1e0eb529"
      },
      "source": [
        "from tensorflow.keras.layers import LSTM, Embedding, Flatten, Dense\n",
        "\n",
        "model = tf.keras.models.Sequential([\n",
        "                                    Embedding(input_dim= max_index_val+1, output_dim= 64, mask_zero= True, input_length= 10),\n",
        "                                    LSTM(64, return_sequences= True),\n",
        "                                    LSTM(32),\n",
        "                                    Dense(1, activation = 'sigmoid')\n",
        "])\n",
        "model.compile(optimizer = 'adam', loss = 'binary_crossentropy', metrics = ['accuracy'])\n",
        "model.summary()"
      ],
      "execution_count": 65,
      "outputs": [
        {
          "output_type": "stream",
          "text": [
            "Model: \"sequential_5\"\n",
            "_________________________________________________________________\n",
            "Layer (type)                 Output Shape              Param #   \n",
            "=================================================================\n",
            "embedding_5 (Embedding)      (None, 10, 64)            1672896   \n",
            "_________________________________________________________________\n",
            "lstm_10 (LSTM)               (None, 10, 64)            33024     \n",
            "_________________________________________________________________\n",
            "lstm_11 (LSTM)               (None, 32)                12416     \n",
            "_________________________________________________________________\n",
            "dense_5 (Dense)              (None, 1)                 33        \n",
            "=================================================================\n",
            "Total params: 1,718,369\n",
            "Trainable params: 1,718,369\n",
            "Non-trainable params: 0\n",
            "_________________________________________________________________\n"
          ],
          "name": "stdout"
        }
      ]
    },
    {
      "cell_type": "code",
      "metadata": {
        "colab": {
          "base_uri": "https://localhost:8080/"
        },
        "id": "aFwWzoUd8URh",
        "outputId": "42e3dcab-5a72-4355-ef0d-68052d24b514"
      },
      "source": [
        "his = model.fit(padded_train, y_train, epochs=6, validation_data=(padded_test, y_val), batch_size=16)"
      ],
      "execution_count": 68,
      "outputs": [
        {
          "output_type": "stream",
          "text": [
            "Epoch 1/6\n",
            "1094/1094 [==============================] - 41s 37ms/step - loss: 0.1556 - accuracy: 0.9389 - val_loss: 1.0063 - val_accuracy: 0.6941\n",
            "Epoch 2/6\n",
            "1094/1094 [==============================] - 42s 38ms/step - loss: 0.1059 - accuracy: 0.9563 - val_loss: 1.0965 - val_accuracy: 0.6801\n",
            "Epoch 3/6\n",
            "1094/1094 [==============================] - 43s 39ms/step - loss: 0.0763 - accuracy: 0.9679 - val_loss: 1.4484 - val_accuracy: 0.6892\n",
            "Epoch 4/6\n",
            "1094/1094 [==============================] - 41s 38ms/step - loss: 0.0650 - accuracy: 0.9731 - val_loss: 1.4394 - val_accuracy: 0.6808\n",
            "Epoch 5/6\n",
            "1094/1094 [==============================] - 42s 38ms/step - loss: 0.0532 - accuracy: 0.9772 - val_loss: 1.6915 - val_accuracy: 0.6783\n",
            "Epoch 6/6\n",
            "1094/1094 [==============================] - 43s 40ms/step - loss: 0.0430 - accuracy: 0.9816 - val_loss: 1.7301 - val_accuracy: 0.6799\n"
          ],
          "name": "stdout"
        }
      ]
    },
    {
      "cell_type": "code",
      "metadata": {
        "colab": {
          "base_uri": "https://localhost:8080/"
        },
        "id": "pp7tYSth_7tS",
        "outputId": "3cd81de2-7dba-4d58-c312-2c8e22e5f384"
      },
      "source": [
        "_, accuracy = model.evaluate(padded_test, y_val)\n",
        "accuracy"
      ],
      "execution_count": 69,
      "outputs": [
        {
          "output_type": "stream",
          "text": [
            "235/235 [==============================] - 1s 5ms/step - loss: 1.7301 - accuracy: 0.6799\n"
          ],
          "name": "stdout"
        },
        {
          "output_type": "execute_result",
          "data": {
            "text/plain": [
              "0.6798666715621948"
            ]
          },
          "metadata": {
            "tags": []
          },
          "execution_count": 69
        }
      ]
    },
    {
      "cell_type": "code",
      "metadata": {
        "colab": {
          "base_uri": "https://localhost:8080/",
          "height": 541
        },
        "id": "PoAfcJOdDRyo",
        "outputId": "35b29067-a002-4861-98bb-f201bcf9aaed"
      },
      "source": [
        "import matplotlib.pyplot as plt\n",
        "plt.plot(list(range(1,7)), his.history['loss'], label = 'Training loss')\n",
        "plt.plot(list(range(1,7)), his.history['val_loss'], label = 'Validation loss')\n",
        "plt.xlabel('epochs')\n",
        "plt.ylabel('loss')\n",
        "plt.legend()\n",
        "plt.show()\n",
        "plt.plot(list(range(1,7)), his.history['accuracy'], label = 'Training accuracy')\n",
        "plt.plot(list(range(1,7)), his.history['val_accuracy'], label = 'Validation accuracy')\n",
        "plt.xlabel('epochs')\n",
        "plt.ylabel('accuracy')\n",
        "plt.legend()\n",
        "plt.show()"
      ],
      "execution_count": 72,
      "outputs": [
        {
          "output_type": "display_data",
          "data": {
            "image/png": "[encoded data removed]",
            "text/plain": [
              "<Figure size 432x288 with 1 Axes>"
            ]
          },
          "metadata": {
            "tags": [],
            "needs_background": "light"
          }
        },
        {
          "output_type": "display_data",
          "data": {
            "image/png": "[encoded data removed]",
            "text/plain": [
              "<Figure size 432x288 with 1 Axes>"
            ]
          },
          "metadata": {
            "tags": [],
            "needs_background": "light"
          }
        }
      ]
    },
    {
      "cell_type": "markdown",
      "metadata": {
        "id": "Hzy6ZR7FGE5u"
      },
      "source": [
        "The tensorflow model really overfits. The trainning accuracy is above 98% but validation accuracy is close to 70% which shows overfitting."
      ]
    },
    {
      "cell_type": "markdown",
      "metadata": {
        "id": "ywtco3w54reK"
      },
      "source": [
        "Using sklearn models for training and testing."
      ]
    },
    {
      "cell_type": "code",
      "metadata": {
        "colab": {
          "base_uri": "https://localhost:8080/"
        },
        "id": "TPhtmq7gLLoK",
        "outputId": "3e9c813b-14b6-4a54-9725-61139a414970"
      },
      "source": [
        "#Using Multinomial model on raw data\n",
        "\n",
        "from sklearn.feature_extraction.text import CountVectorizer\n",
        "from sklearn.feature_extraction.text import TfidfTransformer\n",
        "from sklearn.naive_bayes import MultinomialNB\n",
        "from sklearn.pipeline import Pipeline\n",
        "\n",
        "text_clf = Pipeline([('vect', CountVectorizer()),('tfidf', TfidfTransformer()),('clf', MultinomialNB())])\n",
        "text_clf.fit(x_train,y_train)\n"
      ],
      "execution_count": 22,
      "outputs": [
        {
          "output_type": "execute_result",
          "data": {
            "text/plain": [
              "Pipeline(memory=None,\n",
              "         steps=[('vect',\n",
              "                 CountVectorizer(analyzer='word', binary=False,\n",
              "                                 decode_error='strict',\n",
              "                                 dtype=<class 'numpy.int64'>, encoding='utf-8',\n",
              "                                 input='content', lowercase=True, max_df=1.0,\n",
              "                                 max_features=None, min_df=1,\n",
              "                                 ngram_range=(1, 1), preprocessor=None,\n",
              "                                 stop_words=None, strip_accents=None,\n",
              "                                 token_pattern='(?u)\\\\b\\\\w\\\\w+\\\\b',\n",
              "                                 tokenizer=None, vocabulary=None)),\n",
              "                ('tfidf',\n",
              "                 TfidfTransformer(norm='l2', smooth_idf=True,\n",
              "                                  sublinear_tf=False, use_idf=True)),\n",
              "                ('clf',\n",
              "                 MultinomialNB(alpha=1.0, class_prior=None, fit_prior=True))],\n",
              "         verbose=False)"
            ]
          },
          "metadata": {
            "tags": []
          },
          "execution_count": 22
        }
      ]
    },
    {
      "cell_type": "code",
      "metadata": {
        "colab": {
          "base_uri": "https://localhost:8080/"
        },
        "id": "eCT0p-GLLML-",
        "outputId": "6118ff8b-f422-41c8-e124-552ef1772f41"
      },
      "source": [
        "mult_score = text_clf.score(x_val,y_val)\n",
        "mult_score"
      ],
      "execution_count": 23,
      "outputs": [
        {
          "output_type": "execute_result",
          "data": {
            "text/plain": [
              "0.7396"
            ]
          },
          "metadata": {
            "tags": []
          },
          "execution_count": 23
        }
      ]
    },
    {
      "cell_type": "code",
      "metadata": {
        "colab": {
          "base_uri": "https://localhost:8080/"
        },
        "id": "rWmYS8a7LMOt",
        "outputId": "e39b9b6c-3861-452d-ff95-4c611b94672e"
      },
      "source": [
        "from sklearn import metrics\n",
        "predicted = text_clf.predict(x_val)\n",
        "print(metrics.classification_report(y_val, predicted, target_names=['class - 0','class - 4']))"
      ],
      "execution_count": 24,
      "outputs": [
        {
          "output_type": "stream",
          "text": [
            "              precision    recall  f1-score   support\n",
            "\n",
            "   class - 0       0.72      0.79      0.75      3772\n",
            "   class - 4       0.76      0.69      0.72      3728\n",
            "\n",
            "    accuracy                           0.74      7500\n",
            "   macro avg       0.74      0.74      0.74      7500\n",
            "weighted avg       0.74      0.74      0.74      7500\n",
            "\n"
          ],
          "name": "stdout"
        }
      ]
    },
    {
      "cell_type": "code",
      "metadata": {
        "colab": {
          "base_uri": "https://localhost:8080/"
        },
        "id": "IsDJiAexNsCI",
        "outputId": "cc987851-c7ba-48c2-f9ad-6122dcd3cc56"
      },
      "source": [
        "# Using neural network to evaluate models\n",
        "from sklearn.neural_network import MLPClassifier\n",
        "mlp = MLPClassifier(max_iter=1000)\n",
        "mlp_model = Pipeline([('vect', CountVectorizer()),('tfidf', TfidfTransformer()),('mlp', mlp)])\n",
        "mlp_model.fit(x_train,y_train)"
      ],
      "execution_count": null,
      "outputs": [
        {
          "output_type": "execute_result",
          "data": {
            "text/plain": [
              "Pipeline(memory=None,\n",
              "         steps=[('vect',\n",
              "                 CountVectorizer(analyzer='word', binary=False,\n",
              "                                 decode_error='strict',\n",
              "                                 dtype=<class 'numpy.int64'>, encoding='utf-8',\n",
              "                                 input='content', lowercase=True, max_df=1.0,\n",
              "                                 max_features=None, min_df=1,\n",
              "                                 ngram_range=(1, 1), preprocessor=None,\n",
              "                                 stop_words=None, strip_accents=None,\n",
              "                                 token_pattern='(?u)\\\\b\\\\w\\\\w+\\\\b',\n",
              "                                 tokenizer=None, vocabulary=Non...\n",
              "                               batch_size='auto', beta_1=0.9, beta_2=0.999,\n",
              "                               early_stopping=False, epsilon=1e-08,\n",
              "                               hidden_layer_sizes=(100,),\n",
              "                               learning_rate='constant',\n",
              "                               learning_rate_init=0.001, max_fun=15000,\n",
              "                               max_iter=1000, momentum=0.9, n_iter_no_change=10,\n",
              "                               nesterovs_momentum=True, power_t=0.5,\n",
              "                               random_state=None, shuffle=True, solver='adam',\n",
              "                               tol=0.0001, validation_fraction=0.1,\n",
              "                               verbose=False, warm_start=False))],\n",
              "         verbose=False)"
            ]
          },
          "metadata": {
            "tags": []
          },
          "execution_count": 37
        }
      ]
    },
    {
      "cell_type": "code",
      "metadata": {
        "colab": {
          "base_uri": "https://localhost:8080/"
        },
        "id": "v2DuBmTLV339",
        "outputId": "9d0a9367-037f-4999-bd09-9820efbff4f5"
      },
      "source": [
        "mlp_score = mlp_model.score(x_val,y_val)\n",
        "mlp_score"
      ],
      "execution_count": null,
      "outputs": [
        {
          "output_type": "execute_result",
          "data": {
            "text/plain": [
              "0.6733333333333333"
            ]
          },
          "metadata": {
            "tags": []
          },
          "execution_count": 38
        }
      ]
    },
    {
      "cell_type": "code",
      "metadata": {
        "colab": {
          "base_uri": "https://localhost:8080/"
        },
        "id": "66jMiqzy852x",
        "outputId": "efa7747c-e64f-4150-994a-1fdd6a9e45f6"
      },
      "source": [
        "from sklearn import metrics\n",
        "predicted = mlp_model.predict(x_val)\n",
        "print(metrics.classification_report(y_val, predicted, target_names=['class - 0','class - 4']))"
      ],
      "execution_count": null,
      "outputs": [
        {
          "output_type": "stream",
          "text": [
            "              precision    recall  f1-score   support\n",
            "\n",
            "   class - 0       0.66      0.70      0.68      3678\n",
            "   class - 4       0.69      0.65      0.67      3822\n",
            "\n",
            "    accuracy                           0.67      7500\n",
            "   macro avg       0.67      0.67      0.67      7500\n",
            "weighted avg       0.67      0.67      0.67      7500\n",
            "\n"
          ],
          "name": "stdout"
        }
      ]
    },
    {
      "cell_type": "code",
      "metadata": {
        "colab": {
          "base_uri": "https://localhost:8080/"
        },
        "id": "21RIwaPrV37R",
        "outputId": "298303db-c429-4a72-d052-ad34e180b8b0"
      },
      "source": [
        "# Using pipeline of Perceptron model\n",
        "from sklearn.linear_model import Perceptron\n",
        "gauss = Perceptron(max_iter=600,eta0=0.01)\n",
        "Perceptron_model = Pipeline([('vect', CountVectorizer()),('tfidf', TfidfTransformer()),('gauss', gauss)])\n",
        "Perceptron_model.fit(x_train,y_train)"
      ],
      "execution_count": 25,
      "outputs": [
        {
          "output_type": "execute_result",
          "data": {
            "text/plain": [
              "Pipeline(memory=None,\n",
              "         steps=[('vect',\n",
              "                 CountVectorizer(analyzer='word', binary=False,\n",
              "                                 decode_error='strict',\n",
              "                                 dtype=<class 'numpy.int64'>, encoding='utf-8',\n",
              "                                 input='content', lowercase=True, max_df=1.0,\n",
              "                                 max_features=None, min_df=1,\n",
              "                                 ngram_range=(1, 1), preprocessor=None,\n",
              "                                 stop_words=None, strip_accents=None,\n",
              "                                 token_pattern='(?u)\\\\b\\\\w\\\\w+\\\\b',\n",
              "                                 tokenizer=None, vocabulary=Non...\n",
              "                ('tfidf',\n",
              "                 TfidfTransformer(norm='l2', smooth_idf=True,\n",
              "                                  sublinear_tf=False, use_idf=True)),\n",
              "                ('gauss',\n",
              "                 Perceptron(alpha=0.0001, class_weight=None,\n",
              "                            early_stopping=False, eta0=0.01, fit_intercept=True,\n",
              "                            max_iter=600, n_iter_no_change=5, n_jobs=None,\n",
              "                            penalty=None, random_state=0, shuffle=True,\n",
              "                            tol=0.001, validation_fraction=0.1, verbose=0,\n",
              "                            warm_start=False))],\n",
              "         verbose=False)"
            ]
          },
          "metadata": {
            "tags": []
          },
          "execution_count": 25
        }
      ]
    },
    {
      "cell_type": "code",
      "metadata": {
        "colab": {
          "base_uri": "https://localhost:8080/"
        },
        "id": "0okBUS1_iTch",
        "outputId": "96c51e62-b233-4a6d-a8d2-a8282895a434"
      },
      "source": [
        "perceptron_score = Perceptron_model.score(x_val,y_val)\n",
        "perceptron_score"
      ],
      "execution_count": 26,
      "outputs": [
        {
          "output_type": "execute_result",
          "data": {
            "text/plain": [
              "0.6884"
            ]
          },
          "metadata": {
            "tags": []
          },
          "execution_count": 26
        }
      ]
    },
    {
      "cell_type": "code",
      "metadata": {
        "colab": {
          "base_uri": "https://localhost:8080/"
        },
        "id": "3KqoU7BwjbVs",
        "outputId": "9d1e0874-7a01-499f-ab38-6b6c8778a427"
      },
      "source": [
        "# Using Logistic Regression\n",
        "from sklearn.linear_model import LogisticRegression\n",
        "log = LogisticRegression()\n",
        "Logistic_model = Pipeline([('vect', CountVectorizer()),('tfidf', TfidfTransformer()),('log', log)])\n",
        "Logistic_model.fit(x_train,y_train)"
      ],
      "execution_count": 27,
      "outputs": [
        {
          "output_type": "execute_result",
          "data": {
            "text/plain": [
              "Pipeline(memory=None,\n",
              "         steps=[('vect',\n",
              "                 CountVectorizer(analyzer='word', binary=False,\n",
              "                                 decode_error='strict',\n",
              "                                 dtype=<class 'numpy.int64'>, encoding='utf-8',\n",
              "                                 input='content', lowercase=True, max_df=1.0,\n",
              "                                 max_features=None, min_df=1,\n",
              "                                 ngram_range=(1, 1), preprocessor=None,\n",
              "                                 stop_words=None, strip_accents=None,\n",
              "                                 token_pattern='(?u)\\\\b\\\\w\\\\w+\\\\b',\n",
              "                                 tokenizer=None, vocabulary=None)),\n",
              "                ('tfidf',\n",
              "                 TfidfTransformer(norm='l2', smooth_idf=True,\n",
              "                                  sublinear_tf=False, use_idf=True)),\n",
              "                ('log',\n",
              "                 LogisticRegression(C=1.0, class_weight=None, dual=False,\n",
              "                                    fit_intercept=True, intercept_scaling=1,\n",
              "                                    l1_ratio=None, max_iter=100,\n",
              "                                    multi_class='auto', n_jobs=None,\n",
              "                                    penalty='l2', random_state=None,\n",
              "                                    solver='lbfgs', tol=0.0001, verbose=0,\n",
              "                                    warm_start=False))],\n",
              "         verbose=False)"
            ]
          },
          "metadata": {
            "tags": []
          },
          "execution_count": 27
        }
      ]
    },
    {
      "cell_type": "code",
      "metadata": {
        "colab": {
          "base_uri": "https://localhost:8080/"
        },
        "id": "E8UseLfajbY6",
        "outputId": "b7e4e398-a982-47c1-9c74-026f7072ac91"
      },
      "source": [
        "logistic_score = Logistic_model.score(x_val,y_val)\n",
        "logistic_score"
      ],
      "execution_count": 28,
      "outputs": [
        {
          "output_type": "execute_result",
          "data": {
            "text/plain": [
              "0.7437333333333334"
            ]
          },
          "metadata": {
            "tags": []
          },
          "execution_count": 28
        }
      ]
    },
    {
      "cell_type": "code",
      "metadata": {
        "colab": {
          "base_uri": "https://localhost:8080/"
        },
        "id": "-OT6EAX1BPhD",
        "outputId": "ff9cfb46-1ccd-46cd-ee9a-f848cb298f0c"
      },
      "source": [
        "Logistic_model.fit(x_train,y_train)\n",
        "predicted = Logistic_model.predict(x_val)\n",
        "print(metrics.classification_report(y_val, predicted, target_names=['class - 0','class - 4']))"
      ],
      "execution_count": 29,
      "outputs": [
        {
          "output_type": "stream",
          "text": [
            "              precision    recall  f1-score   support\n",
            "\n",
            "   class - 0       0.75      0.74      0.74      3772\n",
            "   class - 4       0.74      0.75      0.74      3728\n",
            "\n",
            "    accuracy                           0.74      7500\n",
            "   macro avg       0.74      0.74      0.74      7500\n",
            "weighted avg       0.74      0.74      0.74      7500\n",
            "\n"
          ],
          "name": "stdout"
        }
      ]
    },
    {
      "cell_type": "code",
      "metadata": {
        "colab": {
          "base_uri": "https://localhost:8080/"
        },
        "id": "kSTKke6CBejN",
        "outputId": "e6496131-5744-4786-c8a6-e7cd1a567ab6"
      },
      "source": [
        "# Using svc model\n",
        "from sklearn.svm import SVC\n",
        "svc = SVC()\n",
        "svc_model = Pipeline([('vect', CountVectorizer()),('tfidf', TfidfTransformer()),('svc',svc)])\n",
        "svc_model.fit(x_train,y_train)"
      ],
      "execution_count": 30,
      "outputs": [
        {
          "output_type": "execute_result",
          "data": {
            "text/plain": [
              "Pipeline(memory=None,\n",
              "         steps=[('vect',\n",
              "                 CountVectorizer(analyzer='word', binary=False,\n",
              "                                 decode_error='strict',\n",
              "                                 dtype=<class 'numpy.int64'>, encoding='utf-8',\n",
              "                                 input='content', lowercase=True, max_df=1.0,\n",
              "                                 max_features=None, min_df=1,\n",
              "                                 ngram_range=(1, 1), preprocessor=None,\n",
              "                                 stop_words=None, strip_accents=None,\n",
              "                                 token_pattern='(?u)\\\\b\\\\w\\\\w+\\\\b',\n",
              "                                 tokenizer=None, vocabulary=None)),\n",
              "                ('tfidf',\n",
              "                 TfidfTransformer(norm='l2', smooth_idf=True,\n",
              "                                  sublinear_tf=False, use_idf=True)),\n",
              "                ('svc',\n",
              "                 SVC(C=1.0, break_ties=False, cache_size=200, class_weight=None,\n",
              "                     coef0=0.0, decision_function_shape='ovr', degree=3,\n",
              "                     gamma='scale', kernel='rbf', max_iter=-1,\n",
              "                     probability=False, random_state=None, shrinking=True,\n",
              "                     tol=0.001, verbose=False))],\n",
              "         verbose=False)"
            ]
          },
          "metadata": {
            "tags": []
          },
          "execution_count": 30
        }
      ]
    },
    {
      "cell_type": "code",
      "metadata": {
        "colab": {
          "base_uri": "https://localhost:8080/"
        },
        "id": "V3J4_xIGBeqq",
        "outputId": "fbf4f034-feaa-486b-8ff6-fab954fb55d6"
      },
      "source": [
        "svc_score = svc_model.score(x_val,y_val)\n",
        "svc_score"
      ],
      "execution_count": 31,
      "outputs": [
        {
          "output_type": "execute_result",
          "data": {
            "text/plain": [
              "0.7470666666666667"
            ]
          },
          "metadata": {
            "tags": []
          },
          "execution_count": 31
        }
      ]
    },
    {
      "cell_type": "code",
      "metadata": {
        "colab": {
          "base_uri": "https://localhost:8080/"
        },
        "id": "qvTv1GZcBevM",
        "outputId": "13021151-692c-4797-9fed-dbc3e6b3cf10"
      },
      "source": [
        "predicted = svc_model.predict(x_val)\n",
        "print(metrics.classification_report(y_val, predicted, target_names=['class - 0','class - 4']))"
      ],
      "execution_count": 32,
      "outputs": [
        {
          "output_type": "stream",
          "text": [
            "              precision    recall  f1-score   support\n",
            "\n",
            "   class - 0       0.75      0.74      0.75      3772\n",
            "   class - 4       0.74      0.75      0.75      3728\n",
            "\n",
            "    accuracy                           0.75      7500\n",
            "   macro avg       0.75      0.75      0.75      7500\n",
            "weighted avg       0.75      0.75      0.75      7500\n",
            "\n"
          ],
          "name": "stdout"
        }
      ]
    },
    {
      "cell_type": "markdown",
      "metadata": {
        "id": "QNwrWQ9apW4d"
      },
      "source": [
        "Applying feature reduction and retraining the models"
      ]
    },
    {
      "cell_type": "code",
      "metadata": {
        "colab": {
          "base_uri": "https://localhost:8080/"
        },
        "id": "bc-1xImyj9Md",
        "cellView": "form",
        "outputId": "6bd15eb3-542c-48dc-90e5-e7f35f5846ba"
      },
      "source": [
        "#@title \n",
        "from sklearn.feature_extraction.text import CountVectorizer\n",
        "vect = CountVectorizer()\n",
        "tdm = vect.fit_transform(data[\"text\"]).toarray()\n",
        "tdm.shape"
      ],
      "execution_count": null,
      "outputs": [
        {
          "output_type": "execute_result",
          "data": {
            "text/plain": [
              "(25000, 26155)"
            ]
          },
          "metadata": {
            "tags": []
          },
          "execution_count": 45
        }
      ]
    },
    {
      "cell_type": "code",
      "metadata": {
        "id": "a6sTXHposyeJ",
        "cellView": "form"
      },
      "source": [
        "#@title\n",
        "from sklearn.feature_selection import SelectKBest\n",
        "from sklearn.feature_selection import chi2\n",
        "tdm_new = SelectKBest(chi2, k=1000).fit_transform(tdm, data[\"target\"])"
      ],
      "execution_count": null,
      "outputs": []
    },
    {
      "cell_type": "code",
      "metadata": {
        "id": "P06rjgA2owzI",
        "cellView": "form"
      },
      "source": [
        "#@title\n",
        "from sklearn.feature_extraction.text import TfidfTransformer as Tfidf\n",
        "tfidf = Tfidf()\n",
        "tfidf.fit(tdm_new)\n",
        "tfidf_tdm_new = tfidf.transform(tdm_new).toarray()"
      ],
      "execution_count": null,
      "outputs": []
    },
    {
      "cell_type": "code",
      "metadata": {
        "id": "ONtuMPbst0WM",
        "cellView": "form"
      },
      "source": [
        "#@title\n",
        "from sklearn.model_selection import train_test_split\n",
        "x_train,x_val,y_train,y_val = train_test_split(tfidf_tdm_new,data.target,test_size=0.3,random_state=0)"
      ],
      "execution_count": null,
      "outputs": []
    },
    {
      "cell_type": "code",
      "metadata": {
        "colab": {
          "base_uri": "https://localhost:8080/"
        },
        "id": "CPR2avy_uBHR",
        "cellView": "form",
        "outputId": "5617faef-c411-4dfd-8c77-f007b165283b"
      },
      "source": [
        "#@title\n",
        "from sklearn.neural_network import MLPClassifier\n",
        "from sklearn.metrics import accuracy_score\n",
        "model1 = MLPClassifier(alpha=0.001)\n",
        "model1.fit(x_train, y_train)\n",
        "y_pred1 = model1.predict(x_val)"
      ],
      "execution_count": null,
      "outputs": [
        {
          "output_type": "stream",
          "text": [
            "/usr/local/lib/python3.7/dist-packages/sklearn/neural_network/_multilayer_perceptron.py:571: ConvergenceWarning: Stochastic Optimizer: Maximum iterations (200) reached and the optimization hasn't converged yet.\n",
            "  % self.max_iter, ConvergenceWarning)\n"
          ],
          "name": "stderr"
        }
      ]
    },
    {
      "cell_type": "code",
      "metadata": {
        "id": "LSN3N2HywV9S",
        "cellView": "form"
      },
      "source": [
        "#@title\n",
        "from sklearn.svm import SVC\n",
        "from sklearn.pipeline import make_pipeline\n",
        "from sklearn.preprocessing import StandardScaler\n",
        "model2 = make_pipeline(StandardScaler(), SVC(probability=True, kernel=\"linear\", class_weight=\"balanced\"))\n",
        "model2.fit(x_train, y_train)\n",
        "y_pred2 = model2.predict(x_val)"
      ],
      "execution_count": null,
      "outputs": []
    },
    {
      "cell_type": "code",
      "metadata": {
        "id": "UYQe4JspyO4j",
        "cellView": "form"
      },
      "source": [
        "#@title\n",
        "from sklearn.naive_bayes import GaussianNB\n",
        "model3 = GaussianNB()\n",
        "model3.fit(x_train, y_train)\n",
        "y_pred3 = model3.predict(x_val)"
      ],
      "execution_count": null,
      "outputs": []
    },
    {
      "cell_type": "markdown",
      "metadata": {
        "id": "5DhR1qNIx5uz"
      },
      "source": [
        "Display of variation of results due to dimension reduction"
      ]
    },
    {
      "cell_type": "code",
      "metadata": {
        "id": "4IRPAGdoy-lp",
        "cellView": "form"
      },
      "source": [
        "#@title\n",
        "from sklearn.discriminant_analysis import LinearDiscriminantAnalysis as LDA\n",
        "lda = LDA()\n",
        "lda.fit(x_train, y_train)\n",
        "lda_x_train = lda.transform(x_train)\n",
        "lda_x_val = lda.transform(x_val)"
      ],
      "execution_count": null,
      "outputs": []
    },
    {
      "cell_type": "code",
      "metadata": {
        "id": "IyVJ8E1zzRdQ",
        "cellView": "form"
      },
      "source": [
        "#@title\n",
        "model4 = MLPClassifier(alpha=0.001)\n",
        "model4.fit(lda_x_train, y_train)\n",
        "y_pred4 = model4.predict(lda_x_val)"
      ],
      "execution_count": null,
      "outputs": []
    },
    {
      "cell_type": "code",
      "metadata": {
        "id": "gHMVJREkzfLA",
        "cellView": "form"
      },
      "source": [
        "#@title\n",
        "model5 = make_pipeline(StandardScaler(), SVC(probability=True, kernel=\"linear\", class_weight=\"balanced\",C=0.1))\n",
        "model5.fit(lda_x_train, y_train)\n",
        "y_pred5 = model5.predict(lda_x_val)"
      ],
      "execution_count": null,
      "outputs": []
    },
    {
      "cell_type": "code",
      "metadata": {
        "id": "Kp3PUHlFzsnu",
        "cellView": "form"
      },
      "source": [
        "#@title\n",
        "model6 = GaussianNB()\n",
        "model6.fit(lda_x_train, y_train)\n",
        "y_pred6 = model6.predict(lda_x_val)"
      ],
      "execution_count": null,
      "outputs": []
    },
    {
      "cell_type": "code",
      "metadata": {
        "id": "yRH_ektW4uft",
        "cellView": "form"
      },
      "source": [
        "#@title\n",
        "acc2 = accuracy_score(y_val, y_pred2)\n",
        "prec2 = precision_score(y_val, y_pred2, pos_label=4)\n",
        "rec2 = recall_score(y_val, y_pred2, pos_label=4)\n",
        "f1_score2 = f1_score(y_val, y_pred2, pos_label=4)"
      ],
      "execution_count": null,
      "outputs": []
    },
    {
      "cell_type": "code",
      "metadata": {
        "id": "WA92ulDn42gn",
        "cellView": "form"
      },
      "source": [
        "#@title\n",
        "acc3 = accuracy_score(y_val, y_pred3)\n",
        "prec3 = precision_score(y_val, y_pred3, pos_label=4)\n",
        "rec3 = recall_score(y_val, y_pred3, pos_label=4)\n",
        "f1_score3 = f1_score(y_val, y_pred3, pos_label=4)"
      ],
      "execution_count": null,
      "outputs": []
    },
    {
      "cell_type": "code",
      "metadata": {
        "id": "Nf4XpJCH48Cw",
        "cellView": "form"
      },
      "source": [
        "#@title\n",
        "acc4 = accuracy_score(y_val, y_pred4)\n",
        "prec4 = precision_score(y_val, y_pred4, pos_label=4)\n",
        "rec4 = recall_score(y_val, y_pred4, pos_label=4)\n",
        "f1_score4 = f1_score(y_val, y_pred4, pos_label=4)"
      ],
      "execution_count": null,
      "outputs": []
    },
    {
      "cell_type": "code",
      "metadata": {
        "id": "Yfintl-R5A_4",
        "cellView": "form"
      },
      "source": [
        "#@title\n",
        "acc5 = accuracy_score(y_val, y_pred5)\n",
        "prec5 = precision_score(y_val, y_pred5, pos_label=4)\n",
        "rec5 = recall_score(y_val, y_pred5, pos_label=4)\n",
        "f1_score5 = f1_score(y_val, y_pred5, pos_label=4)"
      ],
      "execution_count": null,
      "outputs": []
    },
    {
      "cell_type": "code",
      "metadata": {
        "id": "42fqxW6I5FwA",
        "cellView": "form"
      },
      "source": [
        "#@title\n",
        "acc6 = accuracy_score(y_val, y_pred6)\n",
        "prec6 = precision_score(y_val, y_pred6, pos_label=4)\n",
        "rec6 = recall_score(y_val, y_pred6, pos_label=4)\n",
        "f1_score6 = f1_score(y_val, y_pred6, pos_label=4)"
      ],
      "execution_count": null,
      "outputs": []
    },
    {
      "cell_type": "code",
      "metadata": {
        "colab": {
          "base_uri": "https://localhost:8080/",
          "height": 136
        },
        "id": "1wj4GgBusKfj",
        "outputId": "38d8b621-d62e-43b2-91ab-14ff952f757d"
      },
      "source": [
        "# Before Reduction\n",
        "comp = [[acc1,prec1,rec1,f1_score1],[acc2,prec2,rec2,f1_score2],[acc3,prec3,rec3,f1_score3]]\n",
        "comp_df = pd.DataFrame(comp, columns=(\"Accuracy\", \"Precision\", \"Recall\", \"F1_score\"), index=(\"MLP_Classifier\",\"SVM\",\"Naive_bayes\"))\n",
        "comp_df"
      ],
      "execution_count": null,
      "outputs": [
        {
          "output_type": "execute_result",
          "data": {
            "text/html": [
              "<div>\n",
              "<style scoped>\n",
              "    .dataframe tbody tr th:only-of-type {\n",
              "        vertical-align: middle;\n",
              "    }\n",
              "\n",
              "    .dataframe tbody tr th {\n",
              "        vertical-align: top;\n",
              "    }\n",
              "\n",
              "    .dataframe thead th {\n",
              "        text-align: right;\n",
              "    }\n",
              "</style>\n",
              "<table border=\"1\" class=\"dataframe\">\n",
              "  <thead>\n",
              "    <tr style=\"text-align: right;\">\n",
              "      <th></th>\n",
              "      <th>Accuracy</th>\n",
              "      <th>Precision</th>\n",
              "      <th>Recall</th>\n",
              "      <th>F1_score</th>\n",
              "    </tr>\n",
              "  </thead>\n",
              "  <tbody>\n",
              "    <tr>\n",
              "      <th>MLP_Classifier</th>\n",
              "      <td>0.729467</td>\n",
              "      <td>0.711810</td>\n",
              "      <td>0.768717</td>\n",
              "      <td>0.739170</td>\n",
              "    </tr>\n",
              "    <tr>\n",
              "      <th>SVM</th>\n",
              "      <td>0.749333</td>\n",
              "      <td>0.731574</td>\n",
              "      <td>0.785561</td>\n",
              "      <td>0.757607</td>\n",
              "    </tr>\n",
              "    <tr>\n",
              "      <th>Naive_bayes</th>\n",
              "      <td>0.624533</td>\n",
              "      <td>0.864353</td>\n",
              "      <td>0.293048</td>\n",
              "      <td>0.437700</td>\n",
              "    </tr>\n",
              "  </tbody>\n",
              "</table>\n",
              "</div>"
            ],
            "text/plain": [
              "                Accuracy  Precision    Recall  F1_score\n",
              "MLP_Classifier  0.729467   0.711810  0.768717  0.739170\n",
              "SVM             0.749333   0.731574  0.785561  0.757607\n",
              "Naive_bayes     0.624533   0.864353  0.293048  0.437700"
            ]
          },
          "metadata": {
            "tags": []
          },
          "execution_count": 67
        }
      ]
    },
    {
      "cell_type": "code",
      "metadata": {
        "colab": {
          "base_uri": "https://localhost:8080/",
          "height": 136
        },
        "id": "SRE9Je2bsH3e",
        "outputId": "446ca687-6a8d-448d-f5d9-a2eff75bbbe6"
      },
      "source": [
        "# After Reduction\n",
        "comp = [[acc4,prec4,rec4,f1_score4],[acc5,prec5,rec5,f1_score5],[acc6,prec6,rec6,f1_score6]]\n",
        "comp_df = pd.DataFrame(comp, columns=(\"Accuracy\", \"Precision\", \"Recall\", \"F1_score\"), index=(\"MLP_with_LDA\",\"SVM_with_LDA\",\"Naive_bayes_with_LDA\"))\n",
        "comp_df"
      ],
      "execution_count": null,
      "outputs": [
        {
          "output_type": "execute_result",
          "data": {
            "text/html": [
              "<div>\n",
              "<style scoped>\n",
              "    .dataframe tbody tr th:only-of-type {\n",
              "        vertical-align: middle;\n",
              "    }\n",
              "\n",
              "    .dataframe tbody tr th {\n",
              "        vertical-align: top;\n",
              "    }\n",
              "\n",
              "    .dataframe thead th {\n",
              "        text-align: right;\n",
              "    }\n",
              "</style>\n",
              "<table border=\"1\" class=\"dataframe\">\n",
              "  <thead>\n",
              "    <tr style=\"text-align: right;\">\n",
              "      <th></th>\n",
              "      <th>Accuracy</th>\n",
              "      <th>Precision</th>\n",
              "      <th>Recall</th>\n",
              "      <th>F1_score</th>\n",
              "    </tr>\n",
              "  </thead>\n",
              "  <tbody>\n",
              "    <tr>\n",
              "      <th>MLP_with_LDA</th>\n",
              "      <td>0.758933</td>\n",
              "      <td>0.746680</td>\n",
              "      <td>0.781818</td>\n",
              "      <td>0.763845</td>\n",
              "    </tr>\n",
              "    <tr>\n",
              "      <th>SVM_with_LDA</th>\n",
              "      <td>0.760000</td>\n",
              "      <td>0.744702</td>\n",
              "      <td>0.789305</td>\n",
              "      <td>0.766355</td>\n",
              "    </tr>\n",
              "    <tr>\n",
              "      <th>Naive_bayes_with_LDA</th>\n",
              "      <td>0.759467</td>\n",
              "      <td>0.744815</td>\n",
              "      <td>0.787433</td>\n",
              "      <td>0.765532</td>\n",
              "    </tr>\n",
              "  </tbody>\n",
              "</table>\n",
              "</div>"
            ],
            "text/plain": [
              "                      Accuracy  Precision    Recall  F1_score\n",
              "MLP_with_LDA          0.758933   0.746680  0.781818  0.763845\n",
              "SVM_with_LDA          0.760000   0.744702  0.789305  0.766355\n",
              "Naive_bayes_with_LDA  0.759467   0.744815  0.787433  0.765532"
            ]
          },
          "metadata": {
            "tags": []
          },
          "execution_count": 66
        }
      ]
    },
    {
      "cell_type": "code",
      "metadata": {
        "colab": {
          "base_uri": "https://localhost:8080/",
          "height": 225
        },
        "id": "PyzBWJ765MAZ",
        "outputId": "1f73f4c4-668f-4841-834f-0329c4338d10"
      },
      "source": [
        "comp = [[acc1,prec1,rec1,f1_score1],[acc2,prec2,rec2,f1_score2],[acc3,prec3,rec3,f1_score3],[acc4,prec4,rec4,f1_score4],[acc5,prec5,rec5,f1_score5],[acc6,prec6,rec6,f1_score6]]\n",
        "comp_df = pd.DataFrame(comp, columns=(\"Accuracy\", \"Precision\", \"Recall\", \"F1_score\"), index=(\"MLP_Classifier\",\"SVM\",\"Naive_bayes\",\"MLP_with_LDA\",\"SVM_with_LDA\",\"Naive_bayes_with_LDA\"))\n",
        "comp_df"
      ],
      "execution_count": null,
      "outputs": [
        {
          "output_type": "execute_result",
          "data": {
            "text/html": [
              "<div>\n",
              "<style scoped>\n",
              "    .dataframe tbody tr th:only-of-type {\n",
              "        vertical-align: middle;\n",
              "    }\n",
              "\n",
              "    .dataframe tbody tr th {\n",
              "        vertical-align: top;\n",
              "    }\n",
              "\n",
              "    .dataframe thead th {\n",
              "        text-align: right;\n",
              "    }\n",
              "</style>\n",
              "<table border=\"1\" class=\"dataframe\">\n",
              "  <thead>\n",
              "    <tr style=\"text-align: right;\">\n",
              "      <th></th>\n",
              "      <th>Accuracy</th>\n",
              "      <th>Precision</th>\n",
              "      <th>Recall</th>\n",
              "      <th>F1_score</th>\n",
              "    </tr>\n",
              "  </thead>\n",
              "  <tbody>\n",
              "    <tr>\n",
              "      <th>MLP_Classifier</th>\n",
              "      <td>0.729467</td>\n",
              "      <td>0.711810</td>\n",
              "      <td>0.768717</td>\n",
              "      <td>0.739170</td>\n",
              "    </tr>\n",
              "    <tr>\n",
              "      <th>SVM</th>\n",
              "      <td>0.749333</td>\n",
              "      <td>0.731574</td>\n",
              "      <td>0.785561</td>\n",
              "      <td>0.757607</td>\n",
              "    </tr>\n",
              "    <tr>\n",
              "      <th>Naive_bayes</th>\n",
              "      <td>0.624533</td>\n",
              "      <td>0.864353</td>\n",
              "      <td>0.293048</td>\n",
              "      <td>0.437700</td>\n",
              "    </tr>\n",
              "    <tr>\n",
              "      <th>MLP_with_LDA</th>\n",
              "      <td>0.758933</td>\n",
              "      <td>0.746680</td>\n",
              "      <td>0.781818</td>\n",
              "      <td>0.763845</td>\n",
              "    </tr>\n",
              "    <tr>\n",
              "      <th>SVM_with_LDA</th>\n",
              "      <td>0.760000</td>\n",
              "      <td>0.744702</td>\n",
              "      <td>0.789305</td>\n",
              "      <td>0.766355</td>\n",
              "    </tr>\n",
              "    <tr>\n",
              "      <th>Naive_bayes_with_LDA</th>\n",
              "      <td>0.759467</td>\n",
              "      <td>0.744815</td>\n",
              "      <td>0.787433</td>\n",
              "      <td>0.765532</td>\n",
              "    </tr>\n",
              "  </tbody>\n",
              "</table>\n",
              "</div>"
            ],
            "text/plain": [
              "                      Accuracy  Precision    Recall  F1_score\n",
              "MLP_Classifier        0.729467   0.711810  0.768717  0.739170\n",
              "SVM                   0.749333   0.731574  0.785561  0.757607\n",
              "Naive_bayes           0.624533   0.864353  0.293048  0.437700\n",
              "MLP_with_LDA          0.758933   0.746680  0.781818  0.763845\n",
              "SVM_with_LDA          0.760000   0.744702  0.789305  0.766355\n",
              "Naive_bayes_with_LDA  0.759467   0.744815  0.787433  0.765532"
            ]
          },
          "metadata": {
            "tags": []
          },
          "execution_count": 62
        }
      ]
    },
    {
      "cell_type": "markdown",
      "metadata": {
        "id": "nJrYOKLWx77Z"
      },
      "source": [
        "Group Members:\\\n",
        "1)Gautam Kumar(B19EE031)\\\n",
        "2)Chirag(B19CSE026)\\\n",
        "3)Ankur Borkar(B19CSE025)"
      ]
    }
  ]
}