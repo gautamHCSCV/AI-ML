{
  "nbformat": 4,
  "nbformat_minor": 0,
  "metadata": {
    "colab": {
      "name": "Multi output functional API model.ipynb",
      "provenance": [],
      "collapsed_sections": []
    },
    "kernelspec": {
      "display_name": "Python 3",
      "name": "python3"
    },
    "language_info": {
      "name": "python"
    }
  },
  "cells": [
    {
      "cell_type": "markdown",
      "metadata": {
        "id": "K_PgySJunoX-"
      },
      "source": [
        "Using Energy efficiency dataset to train the model.\\\n",
        "The dataset is available on UCI Machine Learning Repository."
      ]
    },
    {
      "cell_type": "markdown",
      "metadata": {
        "id": "QHbLjzo4jxjG"
      },
      "source": [
        "Import necessary libraries"
      ]
    },
    {
      "cell_type": "code",
      "metadata": {
        "id": "on8V9LDiYXhu"
      },
      "source": [
        "import pandas as pd\n",
        "import numpy as np\n",
        "import sklearn\n",
        "import keras\n",
        "import tensorflow as tf\n",
        "from keras.layers import Dense, Input\n",
        "from keras.models import Sequential"
      ],
      "execution_count": null,
      "outputs": []
    },
    {
      "cell_type": "code",
      "metadata": {
        "colab": {
          "base_uri": "https://localhost:8080/"
        },
        "id": "8v42sTf3hyQn",
        "outputId": "1c9b94d0-d1dc-49b8-d1c6-2068580db418"
      },
      "source": [
        "from google.colab import drive\n",
        "drive.mount('/content/drive')"
      ],
      "execution_count": null,
      "outputs": [
        {
          "output_type": "stream",
          "text": [
            "Drive already mounted at /content/drive; to attempt to forcibly remount, call drive.mount(\"/content/drive\", force_remount=True).\n"
          ],
          "name": "stdout"
        }
      ]
    },
    {
      "cell_type": "code",
      "metadata": {
        "id": "2lLuc6maLGOd",
        "colab": {
          "base_uri": "https://localhost:8080/",
          "height": 196
        },
        "outputId": "a2c34f91-5fa3-4c69-e852-3c0e6289f641"
      },
      "source": [
        "df = pd.read_csv('/content/drive/MyDrive/ENB2012_data.csv')\n",
        "df.head()"
      ],
      "execution_count": null,
      "outputs": [
        {
          "output_type": "execute_result",
          "data": {
            "text/html": [
              "<div>\n",
              "<style scoped>\n",
              "    .dataframe tbody tr th:only-of-type {\n",
              "        vertical-align: middle;\n",
              "    }\n",
              "\n",
              "    .dataframe tbody tr th {\n",
              "        vertical-align: top;\n",
              "    }\n",
              "\n",
              "    .dataframe thead th {\n",
              "        text-align: right;\n",
              "    }\n",
              "</style>\n",
              "<table border=\"1\" class=\"dataframe\">\n",
              "  <thead>\n",
              "    <tr style=\"text-align: right;\">\n",
              "      <th></th>\n",
              "      <th>X1</th>\n",
              "      <th>X2</th>\n",
              "      <th>X3</th>\n",
              "      <th>X4</th>\n",
              "      <th>X5</th>\n",
              "      <th>X6</th>\n",
              "      <th>X7</th>\n",
              "      <th>X8</th>\n",
              "      <th>Y1</th>\n",
              "      <th>Y2</th>\n",
              "      <th>Unnamed: 10</th>\n",
              "      <th>Unnamed: 11</th>\n",
              "    </tr>\n",
              "  </thead>\n",
              "  <tbody>\n",
              "    <tr>\n",
              "      <th>0</th>\n",
              "      <td>0.98</td>\n",
              "      <td>514.5</td>\n",
              "      <td>294.0</td>\n",
              "      <td>110.25</td>\n",
              "      <td>7.0</td>\n",
              "      <td>2.0</td>\n",
              "      <td>0.0</td>\n",
              "      <td>0.0</td>\n",
              "      <td>15.55</td>\n",
              "      <td>21.33</td>\n",
              "      <td>NaN</td>\n",
              "      <td>NaN</td>\n",
              "    </tr>\n",
              "    <tr>\n",
              "      <th>1</th>\n",
              "      <td>0.98</td>\n",
              "      <td>514.5</td>\n",
              "      <td>294.0</td>\n",
              "      <td>110.25</td>\n",
              "      <td>7.0</td>\n",
              "      <td>3.0</td>\n",
              "      <td>0.0</td>\n",
              "      <td>0.0</td>\n",
              "      <td>15.55</td>\n",
              "      <td>21.33</td>\n",
              "      <td>NaN</td>\n",
              "      <td>NaN</td>\n",
              "    </tr>\n",
              "    <tr>\n",
              "      <th>2</th>\n",
              "      <td>0.98</td>\n",
              "      <td>514.5</td>\n",
              "      <td>294.0</td>\n",
              "      <td>110.25</td>\n",
              "      <td>7.0</td>\n",
              "      <td>4.0</td>\n",
              "      <td>0.0</td>\n",
              "      <td>0.0</td>\n",
              "      <td>15.55</td>\n",
              "      <td>21.33</td>\n",
              "      <td>NaN</td>\n",
              "      <td>NaN</td>\n",
              "    </tr>\n",
              "    <tr>\n",
              "      <th>3</th>\n",
              "      <td>0.98</td>\n",
              "      <td>514.5</td>\n",
              "      <td>294.0</td>\n",
              "      <td>110.25</td>\n",
              "      <td>7.0</td>\n",
              "      <td>5.0</td>\n",
              "      <td>0.0</td>\n",
              "      <td>0.0</td>\n",
              "      <td>15.55</td>\n",
              "      <td>21.33</td>\n",
              "      <td>NaN</td>\n",
              "      <td>NaN</td>\n",
              "    </tr>\n",
              "    <tr>\n",
              "      <th>4</th>\n",
              "      <td>0.90</td>\n",
              "      <td>563.5</td>\n",
              "      <td>318.5</td>\n",
              "      <td>122.50</td>\n",
              "      <td>7.0</td>\n",
              "      <td>2.0</td>\n",
              "      <td>0.0</td>\n",
              "      <td>0.0</td>\n",
              "      <td>20.84</td>\n",
              "      <td>28.28</td>\n",
              "      <td>NaN</td>\n",
              "      <td>NaN</td>\n",
              "    </tr>\n",
              "  </tbody>\n",
              "</table>\n",
              "</div>"
            ],
            "text/plain": [
              "     X1     X2     X3      X4   X5  ...   X8     Y1     Y2  Unnamed: 10  Unnamed: 11\n",
              "0  0.98  514.5  294.0  110.25  7.0  ...  0.0  15.55  21.33          NaN          NaN\n",
              "1  0.98  514.5  294.0  110.25  7.0  ...  0.0  15.55  21.33          NaN          NaN\n",
              "2  0.98  514.5  294.0  110.25  7.0  ...  0.0  15.55  21.33          NaN          NaN\n",
              "3  0.98  514.5  294.0  110.25  7.0  ...  0.0  15.55  21.33          NaN          NaN\n",
              "4  0.90  563.5  318.5  122.50  7.0  ...  0.0  20.84  28.28          NaN          NaN\n",
              "\n",
              "[5 rows x 12 columns]"
            ]
          },
          "metadata": {
            "tags": []
          },
          "execution_count": 3
        }
      ]
    },
    {
      "cell_type": "code",
      "metadata": {
        "colab": {
          "base_uri": "https://localhost:8080/"
        },
        "id": "aBLmOmvi8_4Z",
        "outputId": "35359f03-a35f-4f74-c9b1-a28564b81efd"
      },
      "source": [
        "df.shape"
      ],
      "execution_count": null,
      "outputs": [
        {
          "output_type": "execute_result",
          "data": {
            "text/plain": [
              "(1296, 12)"
            ]
          },
          "metadata": {
            "tags": []
          },
          "execution_count": 4
        }
      ]
    },
    {
      "cell_type": "code",
      "metadata": {
        "colab": {
          "base_uri": "https://localhost:8080/"
        },
        "id": "mFw1hahJ83f4",
        "outputId": "c568abfb-44a9-43fa-97cb-b0c2baaabff3"
      },
      "source": [
        "df.isna().sum()"
      ],
      "execution_count": null,
      "outputs": [
        {
          "output_type": "execute_result",
          "data": {
            "text/plain": [
              "X1              528\n",
              "X2              528\n",
              "X3              528\n",
              "X4              528\n",
              "X5              528\n",
              "X6              528\n",
              "X7              528\n",
              "X8              528\n",
              "Y1              528\n",
              "Y2              528\n",
              "Unnamed: 10    1296\n",
              "Unnamed: 11    1296\n",
              "dtype: int64"
            ]
          },
          "metadata": {
            "tags": []
          },
          "execution_count": 5
        }
      ]
    },
    {
      "cell_type": "markdown",
      "metadata": {
        "id": "D_Dpk6fbkQKw"
      },
      "source": [
        "The dataset has 8 independent features and 2 dependent features.\\\n",
        "Removing the unwanted columns and rows with NULL entries."
      ]
    },
    {
      "cell_type": "code",
      "metadata": {
        "colab": {
          "base_uri": "https://localhost:8080/"
        },
        "id": "fECSjI4f9Jp5",
        "outputId": "3449325d-690e-426e-e7b3-0620c1578193"
      },
      "source": [
        "df.drop(['Unnamed: 10','Unnamed: 11'],axis='columns',inplace=True)\n",
        "df.dropna(axis = 'rows', inplace=True)\n",
        "df.shape"
      ],
      "execution_count": null,
      "outputs": [
        {
          "output_type": "execute_result",
          "data": {
            "text/plain": [
              "(768, 10)"
            ]
          },
          "metadata": {
            "tags": []
          },
          "execution_count": 6
        }
      ]
    },
    {
      "cell_type": "code",
      "metadata": {
        "colab": {
          "base_uri": "https://localhost:8080/",
          "height": 196
        },
        "id": "A9313WlNLe3D",
        "outputId": "7181f248-7a2a-4059-ad0c-7215aaa16cde"
      },
      "source": [
        "x = df.iloc[:,:8]\n",
        "y1 = df['Y1']\n",
        "y2 = df['Y2']\n",
        "x.head()"
      ],
      "execution_count": null,
      "outputs": [
        {
          "output_type": "execute_result",
          "data": {
            "text/html": [
              "<div>\n",
              "<style scoped>\n",
              "    .dataframe tbody tr th:only-of-type {\n",
              "        vertical-align: middle;\n",
              "    }\n",
              "\n",
              "    .dataframe tbody tr th {\n",
              "        vertical-align: top;\n",
              "    }\n",
              "\n",
              "    .dataframe thead th {\n",
              "        text-align: right;\n",
              "    }\n",
              "</style>\n",
              "<table border=\"1\" class=\"dataframe\">\n",
              "  <thead>\n",
              "    <tr style=\"text-align: right;\">\n",
              "      <th></th>\n",
              "      <th>X1</th>\n",
              "      <th>X2</th>\n",
              "      <th>X3</th>\n",
              "      <th>X4</th>\n",
              "      <th>X5</th>\n",
              "      <th>X6</th>\n",
              "      <th>X7</th>\n",
              "      <th>X8</th>\n",
              "    </tr>\n",
              "  </thead>\n",
              "  <tbody>\n",
              "    <tr>\n",
              "      <th>0</th>\n",
              "      <td>0.98</td>\n",
              "      <td>514.5</td>\n",
              "      <td>294.0</td>\n",
              "      <td>110.25</td>\n",
              "      <td>7.0</td>\n",
              "      <td>2.0</td>\n",
              "      <td>0.0</td>\n",
              "      <td>0.0</td>\n",
              "    </tr>\n",
              "    <tr>\n",
              "      <th>1</th>\n",
              "      <td>0.98</td>\n",
              "      <td>514.5</td>\n",
              "      <td>294.0</td>\n",
              "      <td>110.25</td>\n",
              "      <td>7.0</td>\n",
              "      <td>3.0</td>\n",
              "      <td>0.0</td>\n",
              "      <td>0.0</td>\n",
              "    </tr>\n",
              "    <tr>\n",
              "      <th>2</th>\n",
              "      <td>0.98</td>\n",
              "      <td>514.5</td>\n",
              "      <td>294.0</td>\n",
              "      <td>110.25</td>\n",
              "      <td>7.0</td>\n",
              "      <td>4.0</td>\n",
              "      <td>0.0</td>\n",
              "      <td>0.0</td>\n",
              "    </tr>\n",
              "    <tr>\n",
              "      <th>3</th>\n",
              "      <td>0.98</td>\n",
              "      <td>514.5</td>\n",
              "      <td>294.0</td>\n",
              "      <td>110.25</td>\n",
              "      <td>7.0</td>\n",
              "      <td>5.0</td>\n",
              "      <td>0.0</td>\n",
              "      <td>0.0</td>\n",
              "    </tr>\n",
              "    <tr>\n",
              "      <th>4</th>\n",
              "      <td>0.90</td>\n",
              "      <td>563.5</td>\n",
              "      <td>318.5</td>\n",
              "      <td>122.50</td>\n",
              "      <td>7.0</td>\n",
              "      <td>2.0</td>\n",
              "      <td>0.0</td>\n",
              "      <td>0.0</td>\n",
              "    </tr>\n",
              "  </tbody>\n",
              "</table>\n",
              "</div>"
            ],
            "text/plain": [
              "     X1     X2     X3      X4   X5   X6   X7   X8\n",
              "0  0.98  514.5  294.0  110.25  7.0  2.0  0.0  0.0\n",
              "1  0.98  514.5  294.0  110.25  7.0  3.0  0.0  0.0\n",
              "2  0.98  514.5  294.0  110.25  7.0  4.0  0.0  0.0\n",
              "3  0.98  514.5  294.0  110.25  7.0  5.0  0.0  0.0\n",
              "4  0.90  563.5  318.5  122.50  7.0  2.0  0.0  0.0"
            ]
          },
          "metadata": {
            "tags": []
          },
          "execution_count": 7
        }
      ]
    },
    {
      "cell_type": "code",
      "metadata": {
        "colab": {
          "base_uri": "https://localhost:8080/"
        },
        "id": "hcC0fkuwOqHC",
        "outputId": "1f92f89b-f44e-4941-c657-2f85ca0893f9"
      },
      "source": [
        "y1 = np.array(y1)\n",
        "y2 = np.array(y2)\n",
        "y1[:5],y2[:5]"
      ],
      "execution_count": null,
      "outputs": [
        {
          "output_type": "execute_result",
          "data": {
            "text/plain": [
              "(array([15.55, 15.55, 15.55, 15.55, 20.84]),\n",
              " array([21.33, 21.33, 21.33, 21.33, 28.28]))"
            ]
          },
          "metadata": {
            "tags": []
          },
          "execution_count": 8
        }
      ]
    },
    {
      "cell_type": "code",
      "metadata": {
        "colab": {
          "base_uri": "https://localhost:8080/"
        },
        "id": "vri0bpIYPwTK",
        "outputId": "3c2e2ab8-bf69-415a-9768-8cea5ed016c2"
      },
      "source": [
        "from sklearn.preprocessing import StandardScaler\n",
        "std = StandardScaler()\n",
        "std.fit(x)\n",
        "x = std.transform(x)\n",
        "print(x[0])"
      ],
      "execution_count": null,
      "outputs": [
        {
          "output_type": "stream",
          "text": [
            "[ 2.04177671 -1.78587489 -0.56195149 -1.47007664  1.         -1.34164079\n",
            " -1.76044698 -1.81457514]\n"
          ],
          "name": "stdout"
        }
      ]
    },
    {
      "cell_type": "code",
      "metadata": {
        "id": "CSSJNprfRK9a"
      },
      "source": [
        "from sklearn.model_selection import train_test_split\n",
        "x_train,x_test,y1_train,y1_test,y2_train,y2_test = train_test_split(x,y1,y2,test_size=0.2)"
      ],
      "execution_count": null,
      "outputs": []
    },
    {
      "cell_type": "code",
      "metadata": {
        "colab": {
          "base_uri": "https://localhost:8080/"
        },
        "id": "E0Oj8NoqRfPy",
        "outputId": "d65882ac-8d51-4340-d1f8-025a9e17915f"
      },
      "source": [
        "y1_train.shape,y2_train.shape"
      ],
      "execution_count": null,
      "outputs": [
        {
          "output_type": "execute_result",
          "data": {
            "text/plain": [
              "((614,), (614,))"
            ]
          },
          "metadata": {
            "tags": []
          },
          "execution_count": 11
        }
      ]
    },
    {
      "cell_type": "markdown",
      "metadata": {
        "id": "WJ6DBYdOB-jf"
      },
      "source": [
        "Models training and prediction using Functional API"
      ]
    },
    {
      "cell_type": "code",
      "metadata": {
        "id": "YGXuzfqb9iTF"
      },
      "source": [
        "from keras.models import Model\n",
        "\n",
        "def build_model():\n",
        "  input = Input(shape=(8,))\n",
        "  dense1 = Dense(128,activation='relu')(input)\n",
        "  dense2 = Dense(64, activation = 'relu')(dense1)\n",
        "\n",
        "  output1 = Dense(1, name='out1')(dense2)\n",
        "  dense3 = Dense(32,activation = 'relu')(dense2)\n",
        "  output2 = Dense(1, name = 'out2')(dense3)\n",
        "\n",
        "  model = Model(inputs=input,outputs=[output1,output2])\n",
        "  return model"
      ],
      "execution_count": null,
      "outputs": []
    },
    {
      "cell_type": "code",
      "metadata": {
        "id": "E95_6osm9iWX"
      },
      "source": [
        "model = build_model()"
      ],
      "execution_count": null,
      "outputs": []
    },
    {
      "cell_type": "code",
      "metadata": {
        "id": "xQnQxY0v9iYK"
      },
      "source": [
        "model.compile(optimizer='adam',loss = {'out1':'mse','out2':'mse'})"
      ],
      "execution_count": null,
      "outputs": []
    },
    {
      "cell_type": "code",
      "metadata": {
        "colab": {
          "base_uri": "https://localhost:8080/"
        },
        "id": "q8-BQwq39imE",
        "outputId": "10df4248-1ee1-4cdc-999c-4269b8760ce8"
      },
      "source": [
        "his = model.fit(x = x_train, y=[y1_train,y2_train],epochs=100)"
      ],
      "execution_count": null,
      "outputs": [
        {
          "output_type": "stream",
          "text": [
            "Epoch 1/100\n",
            "20/20 [==============================] - 1s 2ms/step - loss: 1289.8102 - out1_loss: 593.8955 - out2_loss: 695.9148\n",
            "Epoch 2/100\n",
            "20/20 [==============================] - 0s 1ms/step - loss: 1139.9880 - out1_loss: 501.4126 - out2_loss: 638.5754\n",
            "Epoch 3/100\n",
            "20/20 [==============================] - 0s 2ms/step - loss: 733.0480 - out1_loss: 331.3527 - out2_loss: 401.6953\n",
            "Epoch 4/100\n",
            "20/20 [==============================] - 0s 1ms/step - loss: 237.4710 - out1_loss: 139.4625 - out2_loss: 98.0085\n",
            "Epoch 5/100\n",
            "20/20 [==============================] - 0s 1ms/step - loss: 116.6005 - out1_loss: 55.7468 - out2_loss: 60.8537\n",
            "Epoch 6/100\n",
            "20/20 [==============================] - 0s 2ms/step - loss: 75.3352 - out1_loss: 34.2225 - out2_loss: 41.1127\n",
            "Epoch 7/100\n",
            "20/20 [==============================] - 0s 2ms/step - loss: 67.7224 - out1_loss: 30.8642 - out2_loss: 36.8582\n",
            "Epoch 8/100\n",
            "20/20 [==============================] - 0s 1ms/step - loss: 53.5623 - out1_loss: 24.4901 - out2_loss: 29.0722\n",
            "Epoch 9/100\n",
            "20/20 [==============================] - 0s 2ms/step - loss: 48.2886 - out1_loss: 21.9679 - out2_loss: 26.3207\n",
            "Epoch 10/100\n",
            "20/20 [==============================] - 0s 1ms/step - loss: 48.9435 - out1_loss: 23.0905 - out2_loss: 25.8529\n",
            "Epoch 11/100\n",
            "20/20 [==============================] - 0s 1ms/step - loss: 44.6386 - out1_loss: 20.1922 - out2_loss: 24.4464\n",
            "Epoch 12/100\n",
            "20/20 [==============================] - 0s 1ms/step - loss: 41.9593 - out1_loss: 19.6686 - out2_loss: 22.2907\n",
            "Epoch 13/100\n",
            "20/20 [==============================] - 0s 1ms/step - loss: 38.5922 - out1_loss: 17.7033 - out2_loss: 20.8889\n",
            "Epoch 14/100\n",
            "20/20 [==============================] - 0s 2ms/step - loss: 34.9969 - out1_loss: 15.9893 - out2_loss: 19.0076\n",
            "Epoch 15/100\n",
            "20/20 [==============================] - 0s 2ms/step - loss: 32.4451 - out1_loss: 15.8744 - out2_loss: 16.5707\n",
            "Epoch 16/100\n",
            "20/20 [==============================] - 0s 2ms/step - loss: 29.8012 - out1_loss: 13.6989 - out2_loss: 16.1023\n",
            "Epoch 17/100\n",
            "20/20 [==============================] - 0s 1ms/step - loss: 27.8811 - out1_loss: 12.8336 - out2_loss: 15.0474\n",
            "Epoch 18/100\n",
            "20/20 [==============================] - 0s 2ms/step - loss: 29.1188 - out1_loss: 12.7282 - out2_loss: 16.3905\n",
            "Epoch 19/100\n",
            "20/20 [==============================] - 0s 2ms/step - loss: 26.6057 - out1_loss: 12.1535 - out2_loss: 14.4522\n",
            "Epoch 20/100\n",
            "20/20 [==============================] - 0s 2ms/step - loss: 27.1516 - out1_loss: 12.1387 - out2_loss: 15.0129\n",
            "Epoch 21/100\n",
            "20/20 [==============================] - 0s 1ms/step - loss: 22.1657 - out1_loss: 10.3425 - out2_loss: 11.8232\n",
            "Epoch 22/100\n",
            "20/20 [==============================] - 0s 1ms/step - loss: 21.2224 - out1_loss: 9.4800 - out2_loss: 11.7424\n",
            "Epoch 23/100\n",
            "20/20 [==============================] - 0s 1ms/step - loss: 22.8116 - out1_loss: 10.3896 - out2_loss: 12.4220\n",
            "Epoch 24/100\n",
            "20/20 [==============================] - 0s 1ms/step - loss: 21.7164 - out1_loss: 9.9768 - out2_loss: 11.7396\n",
            "Epoch 25/100\n",
            "20/20 [==============================] - 0s 1ms/step - loss: 19.6468 - out1_loss: 8.4415 - out2_loss: 11.2052\n",
            "Epoch 26/100\n",
            "20/20 [==============================] - 0s 1ms/step - loss: 19.3748 - out1_loss: 8.7505 - out2_loss: 10.6243\n",
            "Epoch 27/100\n",
            "20/20 [==============================] - 0s 1ms/step - loss: 18.3028 - out1_loss: 7.8597 - out2_loss: 10.4431\n",
            "Epoch 28/100\n",
            "20/20 [==============================] - 0s 2ms/step - loss: 17.8133 - out1_loss: 8.1047 - out2_loss: 9.7087\n",
            "Epoch 29/100\n",
            "20/20 [==============================] - 0s 1ms/step - loss: 17.7261 - out1_loss: 8.1452 - out2_loss: 9.5809\n",
            "Epoch 30/100\n",
            "20/20 [==============================] - 0s 2ms/step - loss: 18.3628 - out1_loss: 8.2292 - out2_loss: 10.1336\n",
            "Epoch 31/100\n",
            "20/20 [==============================] - 0s 2ms/step - loss: 16.7193 - out1_loss: 7.5154 - out2_loss: 9.2040\n",
            "Epoch 32/100\n",
            "20/20 [==============================] - 0s 1ms/step - loss: 17.3395 - out1_loss: 7.5144 - out2_loss: 9.8251\n",
            "Epoch 33/100\n",
            "20/20 [==============================] - 0s 1ms/step - loss: 19.5324 - out1_loss: 8.5294 - out2_loss: 11.0031\n",
            "Epoch 34/100\n",
            "20/20 [==============================] - 0s 2ms/step - loss: 18.6631 - out1_loss: 8.3663 - out2_loss: 10.2968\n",
            "Epoch 35/100\n",
            "20/20 [==============================] - 0s 1ms/step - loss: 16.9714 - out1_loss: 7.4946 - out2_loss: 9.4768\n",
            "Epoch 36/100\n",
            "20/20 [==============================] - 0s 2ms/step - loss: 16.7486 - out1_loss: 7.4094 - out2_loss: 9.3392\n",
            "Epoch 37/100\n",
            "20/20 [==============================] - 0s 1ms/step - loss: 14.4847 - out1_loss: 6.4729 - out2_loss: 8.0118\n",
            "Epoch 38/100\n",
            "20/20 [==============================] - 0s 1ms/step - loss: 16.3523 - out1_loss: 6.9579 - out2_loss: 9.3943\n",
            "Epoch 39/100\n",
            "20/20 [==============================] - 0s 1ms/step - loss: 15.9993 - out1_loss: 7.1510 - out2_loss: 8.8483\n",
            "Epoch 40/100\n",
            "20/20 [==============================] - 0s 1ms/step - loss: 16.5657 - out1_loss: 6.8456 - out2_loss: 9.7201\n",
            "Epoch 41/100\n",
            "20/20 [==============================] - 0s 1ms/step - loss: 16.9767 - out1_loss: 7.3901 - out2_loss: 9.5866\n",
            "Epoch 42/100\n",
            "20/20 [==============================] - 0s 1ms/step - loss: 16.5266 - out1_loss: 7.1868 - out2_loss: 9.3399\n",
            "Epoch 43/100\n",
            "20/20 [==============================] - 0s 1ms/step - loss: 17.3965 - out1_loss: 7.3362 - out2_loss: 10.0603\n",
            "Epoch 44/100\n",
            "20/20 [==============================] - 0s 1ms/step - loss: 14.7001 - out1_loss: 6.5835 - out2_loss: 8.1167\n",
            "Epoch 45/100\n",
            "20/20 [==============================] - 0s 1ms/step - loss: 14.9252 - out1_loss: 6.8594 - out2_loss: 8.0658\n",
            "Epoch 46/100\n",
            "20/20 [==============================] - 0s 1ms/step - loss: 13.4724 - out1_loss: 5.8128 - out2_loss: 7.6596\n",
            "Epoch 47/100\n",
            "20/20 [==============================] - 0s 1ms/step - loss: 14.2272 - out1_loss: 6.6697 - out2_loss: 7.5576\n",
            "Epoch 48/100\n",
            "20/20 [==============================] - 0s 2ms/step - loss: 14.3232 - out1_loss: 6.3860 - out2_loss: 7.9372\n",
            "Epoch 49/100\n",
            "20/20 [==============================] - 0s 2ms/step - loss: 15.3684 - out1_loss: 7.0915 - out2_loss: 8.2769\n",
            "Epoch 50/100\n",
            "20/20 [==============================] - 0s 1ms/step - loss: 13.6877 - out1_loss: 5.8676 - out2_loss: 7.8201\n",
            "Epoch 51/100\n",
            "20/20 [==============================] - 0s 1ms/step - loss: 14.4862 - out1_loss: 6.1430 - out2_loss: 8.3432\n",
            "Epoch 52/100\n",
            "20/20 [==============================] - 0s 2ms/step - loss: 13.6821 - out1_loss: 6.0612 - out2_loss: 7.6209\n",
            "Epoch 53/100\n",
            "20/20 [==============================] - 0s 2ms/step - loss: 13.4936 - out1_loss: 5.7589 - out2_loss: 7.7347\n",
            "Epoch 54/100\n",
            "20/20 [==============================] - 0s 2ms/step - loss: 13.0310 - out1_loss: 5.7168 - out2_loss: 7.3142\n",
            "Epoch 55/100\n",
            "20/20 [==============================] - 0s 2ms/step - loss: 14.0233 - out1_loss: 6.4645 - out2_loss: 7.5588\n",
            "Epoch 56/100\n",
            "20/20 [==============================] - 0s 2ms/step - loss: 14.4376 - out1_loss: 6.2605 - out2_loss: 8.1771\n",
            "Epoch 57/100\n",
            "20/20 [==============================] - 0s 1ms/step - loss: 13.5156 - out1_loss: 5.9269 - out2_loss: 7.5887\n",
            "Epoch 58/100\n",
            "20/20 [==============================] - 0s 2ms/step - loss: 14.7466 - out1_loss: 7.0682 - out2_loss: 7.6784\n",
            "Epoch 59/100\n",
            "20/20 [==============================] - 0s 1ms/step - loss: 11.6014 - out1_loss: 5.5445 - out2_loss: 6.0569\n",
            "Epoch 60/100\n",
            "20/20 [==============================] - 0s 1ms/step - loss: 12.2581 - out1_loss: 5.7241 - out2_loss: 6.5340\n",
            "Epoch 61/100\n",
            "20/20 [==============================] - 0s 1ms/step - loss: 12.0499 - out1_loss: 5.5813 - out2_loss: 6.4687\n",
            "Epoch 62/100\n",
            "20/20 [==============================] - 0s 2ms/step - loss: 11.9461 - out1_loss: 5.4409 - out2_loss: 6.5052\n",
            "Epoch 63/100\n",
            "20/20 [==============================] - 0s 1ms/step - loss: 11.3618 - out1_loss: 5.1123 - out2_loss: 6.2495\n",
            "Epoch 64/100\n",
            "20/20 [==============================] - 0s 1ms/step - loss: 11.8976 - out1_loss: 5.2228 - out2_loss: 6.6748\n",
            "Epoch 65/100\n",
            "20/20 [==============================] - 0s 1ms/step - loss: 13.7569 - out1_loss: 5.8142 - out2_loss: 7.9427\n",
            "Epoch 66/100\n",
            "20/20 [==============================] - 0s 2ms/step - loss: 11.2100 - out1_loss: 5.1791 - out2_loss: 6.0308\n",
            "Epoch 67/100\n",
            "20/20 [==============================] - 0s 1ms/step - loss: 11.8934 - out1_loss: 5.2405 - out2_loss: 6.6529\n",
            "Epoch 68/100\n",
            "20/20 [==============================] - 0s 2ms/step - loss: 12.0497 - out1_loss: 5.2027 - out2_loss: 6.8470\n",
            "Epoch 69/100\n",
            "20/20 [==============================] - 0s 1ms/step - loss: 11.6847 - out1_loss: 5.0469 - out2_loss: 6.6379\n",
            "Epoch 70/100\n",
            "20/20 [==============================] - 0s 2ms/step - loss: 10.5049 - out1_loss: 4.8056 - out2_loss: 5.6993\n",
            "Epoch 71/100\n",
            "20/20 [==============================] - 0s 1ms/step - loss: 11.2078 - out1_loss: 4.8293 - out2_loss: 6.3785\n",
            "Epoch 72/100\n",
            "20/20 [==============================] - 0s 2ms/step - loss: 11.1409 - out1_loss: 5.1067 - out2_loss: 6.0342\n",
            "Epoch 73/100\n",
            "20/20 [==============================] - 0s 1ms/step - loss: 11.0082 - out1_loss: 5.0270 - out2_loss: 5.9812\n",
            "Epoch 74/100\n",
            "20/20 [==============================] - 0s 2ms/step - loss: 9.9137 - out1_loss: 4.7696 - out2_loss: 5.1441\n",
            "Epoch 75/100\n",
            "20/20 [==============================] - 0s 1ms/step - loss: 11.0301 - out1_loss: 5.0471 - out2_loss: 5.9830\n",
            "Epoch 76/100\n",
            "20/20 [==============================] - 0s 2ms/step - loss: 10.8987 - out1_loss: 4.8517 - out2_loss: 6.0469\n",
            "Epoch 77/100\n",
            "20/20 [==============================] - 0s 1ms/step - loss: 9.9811 - out1_loss: 4.3737 - out2_loss: 5.6074\n",
            "Epoch 78/100\n",
            "20/20 [==============================] - 0s 1ms/step - loss: 11.8232 - out1_loss: 4.9084 - out2_loss: 6.9149\n",
            "Epoch 79/100\n",
            "20/20 [==============================] - 0s 2ms/step - loss: 10.4757 - out1_loss: 4.6463 - out2_loss: 5.8295\n",
            "Epoch 80/100\n",
            "20/20 [==============================] - 0s 2ms/step - loss: 10.4024 - out1_loss: 4.5585 - out2_loss: 5.8439\n",
            "Epoch 81/100\n",
            "20/20 [==============================] - 0s 2ms/step - loss: 9.8918 - out1_loss: 4.2937 - out2_loss: 5.5981\n",
            "Epoch 82/100\n",
            "20/20 [==============================] - 0s 1ms/step - loss: 10.0778 - out1_loss: 4.7638 - out2_loss: 5.3139\n",
            "Epoch 83/100\n",
            "20/20 [==============================] - 0s 1ms/step - loss: 9.1754 - out1_loss: 3.8620 - out2_loss: 5.3133\n",
            "Epoch 84/100\n",
            "20/20 [==============================] - 0s 1ms/step - loss: 9.7560 - out1_loss: 4.2766 - out2_loss: 5.4794\n",
            "Epoch 85/100\n",
            "20/20 [==============================] - 0s 1ms/step - loss: 9.4423 - out1_loss: 3.8756 - out2_loss: 5.5667\n",
            "Epoch 86/100\n",
            "20/20 [==============================] - 0s 2ms/step - loss: 12.2408 - out1_loss: 5.4370 - out2_loss: 6.8038\n",
            "Epoch 87/100\n",
            "20/20 [==============================] - 0s 1ms/step - loss: 10.4516 - out1_loss: 4.2064 - out2_loss: 6.2452\n",
            "Epoch 88/100\n",
            "20/20 [==============================] - 0s 2ms/step - loss: 10.7329 - out1_loss: 4.6076 - out2_loss: 6.1254\n",
            "Epoch 89/100\n",
            "20/20 [==============================] - 0s 2ms/step - loss: 9.6366 - out1_loss: 4.1529 - out2_loss: 5.4836\n",
            "Epoch 90/100\n",
            "20/20 [==============================] - 0s 2ms/step - loss: 9.1076 - out1_loss: 3.8347 - out2_loss: 5.2729\n",
            "Epoch 91/100\n",
            "20/20 [==============================] - 0s 1ms/step - loss: 9.5112 - out1_loss: 4.1634 - out2_loss: 5.3478\n",
            "Epoch 92/100\n",
            "20/20 [==============================] - 0s 2ms/step - loss: 10.7512 - out1_loss: 4.4813 - out2_loss: 6.2699\n",
            "Epoch 93/100\n",
            "20/20 [==============================] - 0s 1ms/step - loss: 10.6676 - out1_loss: 4.4554 - out2_loss: 6.2122\n",
            "Epoch 94/100\n",
            "20/20 [==============================] - 0s 1ms/step - loss: 8.6074 - out1_loss: 3.5156 - out2_loss: 5.0917\n",
            "Epoch 95/100\n",
            "20/20 [==============================] - 0s 1ms/step - loss: 8.9634 - out1_loss: 3.9260 - out2_loss: 5.0374\n",
            "Epoch 96/100\n",
            "20/20 [==============================] - 0s 1ms/step - loss: 9.8315 - out1_loss: 4.0682 - out2_loss: 5.7633\n",
            "Epoch 97/100\n",
            "20/20 [==============================] - 0s 1ms/step - loss: 9.4112 - out1_loss: 4.0620 - out2_loss: 5.3492\n",
            "Epoch 98/100\n",
            "20/20 [==============================] - 0s 2ms/step - loss: 8.2837 - out1_loss: 3.6809 - out2_loss: 4.6027\n",
            "Epoch 99/100\n",
            "20/20 [==============================] - 0s 1ms/step - loss: 9.5092 - out1_loss: 3.9615 - out2_loss: 5.5477\n",
            "Epoch 100/100\n",
            "20/20 [==============================] - 0s 2ms/step - loss: 8.7338 - out1_loss: 3.4489 - out2_loss: 5.2849\n"
          ],
          "name": "stdout"
        }
      ]
    },
    {
      "cell_type": "code",
      "metadata": {
        "id": "joZRVQCG9ior"
      },
      "source": [
        "y_pred=model.predict(x_test)"
      ],
      "execution_count": null,
      "outputs": []
    },
    {
      "cell_type": "code",
      "metadata": {
        "colab": {
          "base_uri": "https://localhost:8080/"
        },
        "id": "fYdFnOWR9iqu",
        "outputId": "53f5c584-4f1c-48d4-f586-46dfdb5ab857"
      },
      "source": [
        "len(y_pred)"
      ],
      "execution_count": null,
      "outputs": [
        {
          "output_type": "execute_result",
          "data": {
            "text/plain": [
              "2"
            ]
          },
          "metadata": {
            "tags": []
          },
          "execution_count": 17
        }
      ]
    },
    {
      "cell_type": "code",
      "metadata": {
        "colab": {
          "base_uri": "https://localhost:8080/"
        },
        "id": "50ZWgznFSGzo",
        "outputId": "541d111b-992e-47c5-c499-1d3e554b237e"
      },
      "source": [
        "from sklearn.metrics import mean_squared_error as mse\n",
        "print('Error for y1: ', mse(y_pred[0],y1_test))\n",
        "print('Error for y2: ', mse(y_pred[1],y2_test))"
      ],
      "execution_count": null,
      "outputs": [
        {
          "output_type": "stream",
          "text": [
            "Error for y1:  4.505285977111166\n",
            "Error for y2:  5.263034222730879\n"
          ],
          "name": "stdout"
        }
      ]
    },
    {
      "cell_type": "code",
      "metadata": {
        "colab": {
          "base_uri": "https://localhost:8080/"
        },
        "id": "dZFgwUSyBsDA",
        "outputId": "107dc32f-56aa-41ef-9e99-4a397e8947c8"
      },
      "source": [
        "print('Predicted values: ',y_pred[0][:5])\n",
        "print('Actual values: ',y1_test[:5])"
      ],
      "execution_count": null,
      "outputs": [
        {
          "output_type": "stream",
          "text": [
            "Predicted values:  [[14.178672]\n",
            " [12.26509 ]\n",
            " [16.640678]\n",
            " [40.35176 ]\n",
            " [12.589118]]\n",
            "Actual values:  [14.62 12.12 16.44 40.57 11.34]\n"
          ],
          "name": "stdout"
        }
      ]
    },
    {
      "cell_type": "code",
      "metadata": {
        "colab": {
          "base_uri": "https://localhost:8080/"
        },
        "id": "kv1mvS0yBsHG",
        "outputId": "3cf5d45b-3b53-4f92-8101-b312c72f0ce1"
      },
      "source": [
        "print('Predicted values: ',y_pred[1][:5])\n",
        "print('Actual values: ',y2_test[:5])"
      ],
      "execution_count": null,
      "outputs": [
        {
          "output_type": "stream",
          "text": [
            "Predicted values:  [[15.817106]\n",
            " [14.428451]\n",
            " [16.812025]\n",
            " [38.348125]\n",
            " [15.129458]]\n",
            "Actual values:  [16.88 14.97 17.1  40.47 14.87]\n"
          ],
          "name": "stdout"
        }
      ]
    },
    {
      "cell_type": "markdown",
      "metadata": {
        "id": "NFtxFxR_CuX0"
      },
      "source": [
        "Visualisation"
      ]
    },
    {
      "cell_type": "code",
      "metadata": {
        "colab": {
          "base_uri": "https://localhost:8080/"
        },
        "id": "xWq8cVYECwqf",
        "outputId": "09bde318-d644-487f-daab-d99bcc5f842d"
      },
      "source": [
        "import matplotlib.pyplot as plt\n",
        "his_dict = his.history\n",
        "his_dict.keys()"
      ],
      "execution_count": null,
      "outputs": [
        {
          "output_type": "execute_result",
          "data": {
            "text/plain": [
              "dict_keys(['loss', 'out1_loss', 'out2_loss'])"
            ]
          },
          "metadata": {
            "tags": []
          },
          "execution_count": 21
        }
      ]
    },
    {
      "cell_type": "code",
      "metadata": {
        "colab": {
          "base_uri": "https://localhost:8080/",
          "height": 265
        },
        "id": "S-Nt3tyACwue",
        "outputId": "0e2ea2aa-3c2f-4548-c868-22ce4ff11f70"
      },
      "source": [
        "loss1 = his.history['out1_loss']\n",
        "loss2 = his.history['out2_loss']\n",
        "epochs = list(range(1,len(loss1)+1))\n",
        "plt.plot(epochs,loss1,'b',label='LOSS 1')\n",
        "plt.plot(epochs,loss2,'g',label='LOSS 2')\n",
        "plt.legend()\n",
        "plt.show()"
      ],
      "execution_count": null,
      "outputs": [
        {
          "output_type": "display_data",
          "data": {
            "image/png": "[encoded data removed]",
            "text/plain": [
              "<Figure size 432x288 with 1 Axes>"
            ]
          },
          "metadata": {
            "tags": [],
            "needs_background": "light"
          }
        }
      ]
    },
    {
      "cell_type": "markdown",
      "metadata": {
        "id": "xKJRgHsx_xJK"
      },
      "source": [
        "Since the error corresponding to y2 is very high, we use a different model to train and tune the parameters."
      ]
    },
    {
      "cell_type": "markdown",
      "metadata": {
        "id": "B2fnaKswMRjz"
      },
      "source": [
        "Using custom model and custom loss function for model training."
      ]
    },
    {
      "cell_type": "code",
      "metadata": {
        "id": "FlkY7dyPCw52"
      },
      "source": [
        "from keras.layers import Layer\n",
        "\n",
        "# custom dense layer\n",
        "class SimpleDense(Layer):\n",
        "  def __init__(self, units=32, activation= None):  # by default a dense layer of 32 units\n",
        "    super(SimpleDense, self).__init__()\n",
        "    self.units = units\n",
        "    self.activation = tf.keras.activations.get(activation)\n",
        "    \n",
        "  def build(self, input_shape):  # Initializing trainable weights and biases\n",
        "    w_init = tf.random_normal_initializer()\n",
        "    self.w = tf.Variable(name = 'kernel', initial_value = w_init(shape = (input_shape[-1],self.units),dtype = 'float32'), trainable= True)\n",
        "\n",
        "    b_init = tf.zeros_initializer()\n",
        "    self.b = tf.Variable(name = 'bias', initial_value = b_init(shape = (self.units,),dtype = 'float32'), trainable= True)\n",
        "\n",
        "  def call(self, inputs):  # defines computation, called by constructor of the class\n",
        "    return(self.activation(tf.matmul(inputs,self.w)+self.b))"
      ],
      "execution_count": null,
      "outputs": []
    },
    {
      "cell_type": "code",
      "metadata": {
        "id": "IBNiZEm4Mbfl"
      },
      "source": [
        "# custom loss function: huber loss\n",
        "from keras.losses import Loss\n",
        "class myHuberLoss(Loss):\n",
        "  threshold = 0.5\n",
        "  def __init__(self, threshold):\n",
        "    super().__init__()\n",
        "    self.threshold = threshold\n",
        "  \n",
        "  def call(self,y_true,y_pred):\n",
        "    error = y_true-y_pred\n",
        "    is_small_error = tf.abs(error)<=self.threshold\n",
        "    small_error_loss = tf.square(error)*0.1\n",
        "    big_error_loss = self.threshold * (tf.abs(error)- 0.5 * self.threshold)\n",
        "    return tf.where(is_small_error, small_error_loss, big_error_loss)  # (condition, if true, else)\n"
      ],
      "execution_count": null,
      "outputs": []
    },
    {
      "cell_type": "code",
      "metadata": {
        "id": "GdOV04PVMbhy"
      },
      "source": [
        "from keras.models import Model\n",
        "\n",
        "def build_model2():\n",
        "  model = Sequential([\n",
        "                      Dense(16, activation='relu', input_shape = (8,)),\n",
        "                      SimpleDense(units=32, activation = 'relu'),\n",
        "                      SimpleDense(units = 64, activation = 'relu'),\n",
        "                      SimpleDense(1)\n",
        "  ])\n",
        "  return model"
      ],
      "execution_count": null,
      "outputs": []
    },
    {
      "cell_type": "code",
      "metadata": {
        "id": "zvKshTKw1Y3-"
      },
      "source": [
        "model2 = build_model2()\n",
        "model2.compile(optimizer= 'adam', loss = myHuberLoss(threshold=0.8))"
      ],
      "execution_count": null,
      "outputs": []
    },
    {
      "cell_type": "code",
      "metadata": {
        "colab": {
          "base_uri": "https://localhost:8080/"
        },
        "id": "ZmTJeii51Y6P",
        "outputId": "5a788d1c-6cde-4f7a-cd8c-7fba6df3e7ed"
      },
      "source": [
        "his2 = model2.fit(x_train,y = y2_train, epochs=500, validation_split=0.1, callbacks= [keras.callbacks.EarlyStopping(patience=20, monitor = 'val_loss', restore_best_weights=True)])"
      ],
      "execution_count": null,
      "outputs": [
        {
          "output_type": "stream",
          "text": [
            "Epoch 1/500\n",
            "18/18 [==============================] - 1s 25ms/step - loss: 19.3724 - val_loss: 18.4254\n",
            "Epoch 2/500\n",
            "18/18 [==============================] - 0s 3ms/step - loss: 19.2466 - val_loss: 17.9912\n",
            "Epoch 3/500\n",
            "18/18 [==============================] - 0s 3ms/step - loss: 18.6333 - val_loss: 16.2405\n",
            "Epoch 4/500\n",
            "18/18 [==============================] - 0s 3ms/step - loss: 15.9255 - val_loss: 11.0918\n",
            "Epoch 5/500\n",
            "18/18 [==============================] - 0s 3ms/step - loss: 10.2590 - val_loss: 7.9742\n",
            "Epoch 6/500\n",
            "18/18 [==============================] - 0s 3ms/step - loss: 7.5800 - val_loss: 5.5815\n",
            "Epoch 7/500\n",
            "18/18 [==============================] - 0s 3ms/step - loss: 4.7716 - val_loss: 4.7620\n",
            "Epoch 8/500\n",
            "18/18 [==============================] - 0s 3ms/step - loss: 4.3178 - val_loss: 4.1412\n",
            "Epoch 9/500\n",
            "18/18 [==============================] - 0s 4ms/step - loss: 3.6007 - val_loss: 3.7698\n",
            "Epoch 10/500\n",
            "18/18 [==============================] - 0s 3ms/step - loss: 3.4352 - val_loss: 3.5716\n",
            "Epoch 11/500\n",
            "18/18 [==============================] - 0s 3ms/step - loss: 2.9101 - val_loss: 3.2456\n",
            "Epoch 12/500\n",
            "18/18 [==============================] - 0s 3ms/step - loss: 2.9587 - val_loss: 3.0488\n",
            "Epoch 13/500\n",
            "18/18 [==============================] - 0s 3ms/step - loss: 2.7446 - val_loss: 2.9274\n",
            "Epoch 14/500\n",
            "18/18 [==============================] - 0s 3ms/step - loss: 2.5300 - val_loss: 2.8340\n",
            "Epoch 15/500\n",
            "18/18 [==============================] - 0s 3ms/step - loss: 2.3640 - val_loss: 2.6359\n",
            "Epoch 16/500\n",
            "18/18 [==============================] - 0s 3ms/step - loss: 2.3423 - val_loss: 2.5434\n",
            "Epoch 17/500\n",
            "18/18 [==============================] - 0s 3ms/step - loss: 2.2798 - val_loss: 2.4333\n",
            "Epoch 18/500\n",
            "18/18 [==============================] - 0s 3ms/step - loss: 2.2785 - val_loss: 2.3298\n",
            "Epoch 19/500\n",
            "18/18 [==============================] - 0s 3ms/step - loss: 1.8935 - val_loss: 2.2557\n",
            "Epoch 20/500\n",
            "18/18 [==============================] - 0s 4ms/step - loss: 1.9521 - val_loss: 2.1769\n",
            "Epoch 21/500\n",
            "18/18 [==============================] - 0s 3ms/step - loss: 1.8621 - val_loss: 2.1497\n",
            "Epoch 22/500\n",
            "18/18 [==============================] - 0s 3ms/step - loss: 1.9724 - val_loss: 2.0333\n",
            "Epoch 23/500\n",
            "18/18 [==============================] - 0s 3ms/step - loss: 2.0490 - val_loss: 2.0133\n",
            "Epoch 24/500\n",
            "18/18 [==============================] - 0s 3ms/step - loss: 1.9645 - val_loss: 1.9567\n",
            "Epoch 25/500\n",
            "18/18 [==============================] - 0s 3ms/step - loss: 1.8683 - val_loss: 1.9428\n",
            "Epoch 26/500\n",
            "18/18 [==============================] - 0s 3ms/step - loss: 1.8649 - val_loss: 1.8963\n",
            "Epoch 27/500\n",
            "18/18 [==============================] - 0s 3ms/step - loss: 1.8090 - val_loss: 1.8815\n",
            "Epoch 28/500\n",
            "18/18 [==============================] - 0s 3ms/step - loss: 1.8082 - val_loss: 1.8280\n",
            "Epoch 29/500\n",
            "18/18 [==============================] - 0s 3ms/step - loss: 1.7920 - val_loss: 1.8405\n",
            "Epoch 30/500\n",
            "18/18 [==============================] - 0s 3ms/step - loss: 1.8027 - val_loss: 1.7767\n",
            "Epoch 31/500\n",
            "18/18 [==============================] - 0s 3ms/step - loss: 1.6823 - val_loss: 1.7883\n",
            "Epoch 32/500\n",
            "18/18 [==============================] - 0s 3ms/step - loss: 1.6837 - val_loss: 1.7366\n",
            "Epoch 33/500\n",
            "18/18 [==============================] - 0s 3ms/step - loss: 1.7288 - val_loss: 1.7477\n",
            "Epoch 34/500\n",
            "18/18 [==============================] - 0s 3ms/step - loss: 1.6585 - val_loss: 1.7491\n",
            "Epoch 35/500\n",
            "18/18 [==============================] - 0s 3ms/step - loss: 1.6199 - val_loss: 1.7199\n",
            "Epoch 36/500\n",
            "18/18 [==============================] - 0s 3ms/step - loss: 1.6395 - val_loss: 1.6734\n",
            "Epoch 37/500\n",
            "18/18 [==============================] - 0s 4ms/step - loss: 1.4860 - val_loss: 1.6427\n",
            "Epoch 38/500\n",
            "18/18 [==============================] - 0s 3ms/step - loss: 1.5899 - val_loss: 1.6331\n",
            "Epoch 39/500\n",
            "18/18 [==============================] - 0s 3ms/step - loss: 1.6200 - val_loss: 1.6135\n",
            "Epoch 40/500\n",
            "18/18 [==============================] - 0s 3ms/step - loss: 1.5261 - val_loss: 1.5899\n",
            "Epoch 41/500\n",
            "18/18 [==============================] - 0s 3ms/step - loss: 1.5587 - val_loss: 1.5925\n",
            "Epoch 42/500\n",
            "18/18 [==============================] - 0s 3ms/step - loss: 1.6136 - val_loss: 1.5916\n",
            "Epoch 43/500\n",
            "18/18 [==============================] - 0s 3ms/step - loss: 1.5241 - val_loss: 1.5523\n",
            "Epoch 44/500\n",
            "18/18 [==============================] - 0s 3ms/step - loss: 1.5731 - val_loss: 1.5228\n",
            "Epoch 45/500\n",
            "18/18 [==============================] - 0s 3ms/step - loss: 1.6604 - val_loss: 1.5146\n",
            "Epoch 46/500\n",
            "18/18 [==============================] - 0s 3ms/step - loss: 1.5064 - val_loss: 1.5263\n",
            "Epoch 47/500\n",
            "18/18 [==============================] - 0s 3ms/step - loss: 1.4517 - val_loss: 1.5041\n",
            "Epoch 48/500\n",
            "18/18 [==============================] - 0s 3ms/step - loss: 1.4098 - val_loss: 1.4728\n",
            "Epoch 49/500\n",
            "18/18 [==============================] - 0s 3ms/step - loss: 1.4489 - val_loss: 1.4747\n",
            "Epoch 50/500\n",
            "18/18 [==============================] - 0s 3ms/step - loss: 1.3329 - val_loss: 1.5215\n",
            "Epoch 51/500\n",
            "18/18 [==============================] - 0s 3ms/step - loss: 1.6452 - val_loss: 1.4526\n",
            "Epoch 52/500\n",
            "18/18 [==============================] - 0s 3ms/step - loss: 1.4428 - val_loss: 1.4855\n",
            "Epoch 53/500\n",
            "18/18 [==============================] - 0s 3ms/step - loss: 1.4820 - val_loss: 1.4511\n",
            "Epoch 54/500\n",
            "18/18 [==============================] - 0s 3ms/step - loss: 1.4616 - val_loss: 1.4230\n",
            "Epoch 55/500\n",
            "18/18 [==============================] - 0s 3ms/step - loss: 1.4775 - val_loss: 1.4357\n",
            "Epoch 56/500\n",
            "18/18 [==============================] - 0s 3ms/step - loss: 1.4581 - val_loss: 1.4145\n",
            "Epoch 57/500\n",
            "18/18 [==============================] - 0s 3ms/step - loss: 1.3952 - val_loss: 1.5050\n",
            "Epoch 58/500\n",
            "18/18 [==============================] - 0s 3ms/step - loss: 1.5309 - val_loss: 1.4507\n",
            "Epoch 59/500\n",
            "18/18 [==============================] - 0s 3ms/step - loss: 1.4292 - val_loss: 1.4156\n",
            "Epoch 60/500\n",
            "18/18 [==============================] - 0s 3ms/step - loss: 1.2830 - val_loss: 1.4013\n",
            "Epoch 61/500\n",
            "18/18 [==============================] - 0s 3ms/step - loss: 1.3620 - val_loss: 1.4018\n",
            "Epoch 62/500\n",
            "18/18 [==============================] - 0s 3ms/step - loss: 1.4121 - val_loss: 1.4407\n",
            "Epoch 63/500\n",
            "18/18 [==============================] - 0s 3ms/step - loss: 1.4357 - val_loss: 1.4069\n",
            "Epoch 64/500\n",
            "18/18 [==============================] - 0s 3ms/step - loss: 1.3887 - val_loss: 1.4644\n",
            "Epoch 65/500\n",
            "18/18 [==============================] - 0s 3ms/step - loss: 1.4297 - val_loss: 1.3841\n",
            "Epoch 66/500\n",
            "18/18 [==============================] - 0s 3ms/step - loss: 1.2492 - val_loss: 1.3667\n",
            "Epoch 67/500\n",
            "18/18 [==============================] - 0s 3ms/step - loss: 1.3880 - val_loss: 1.3641\n",
            "Epoch 68/500\n",
            "18/18 [==============================] - 0s 3ms/step - loss: 1.3382 - val_loss: 1.3680\n",
            "Epoch 69/500\n",
            "18/18 [==============================] - 0s 3ms/step - loss: 1.4683 - val_loss: 1.3864\n",
            "Epoch 70/500\n",
            "18/18 [==============================] - 0s 3ms/step - loss: 1.2582 - val_loss: 1.4020\n",
            "Epoch 71/500\n",
            "18/18 [==============================] - 0s 3ms/step - loss: 1.5523 - val_loss: 1.3748\n",
            "Epoch 72/500\n",
            "18/18 [==============================] - 0s 4ms/step - loss: 1.3308 - val_loss: 1.3506\n",
            "Epoch 73/500\n",
            "18/18 [==============================] - 0s 3ms/step - loss: 1.3108 - val_loss: 1.3906\n",
            "Epoch 74/500\n",
            "18/18 [==============================] - 0s 3ms/step - loss: 1.3157 - val_loss: 1.4029\n",
            "Epoch 75/500\n",
            "18/18 [==============================] - 0s 3ms/step - loss: 1.3710 - val_loss: 1.3172\n",
            "Epoch 76/500\n",
            "18/18 [==============================] - 0s 3ms/step - loss: 1.3465 - val_loss: 1.3014\n",
            "Epoch 77/500\n",
            "18/18 [==============================] - 0s 3ms/step - loss: 1.2704 - val_loss: 1.3260\n",
            "Epoch 78/500\n",
            "18/18 [==============================] - 0s 3ms/step - loss: 1.2626 - val_loss: 1.3195\n",
            "Epoch 79/500\n",
            "18/18 [==============================] - 0s 3ms/step - loss: 1.3244 - val_loss: 1.3168\n",
            "Epoch 80/500\n",
            "18/18 [==============================] - 0s 3ms/step - loss: 1.4434 - val_loss: 1.2979\n",
            "Epoch 81/500\n",
            "18/18 [==============================] - 0s 3ms/step - loss: 1.2514 - val_loss: 1.2941\n",
            "Epoch 82/500\n",
            "18/18 [==============================] - 0s 3ms/step - loss: 1.3588 - val_loss: 1.3107\n",
            "Epoch 83/500\n",
            "18/18 [==============================] - 0s 3ms/step - loss: 1.3196 - val_loss: 1.3128\n",
            "Epoch 84/500\n",
            "18/18 [==============================] - 0s 3ms/step - loss: 1.4278 - val_loss: 1.2912\n",
            "Epoch 85/500\n",
            "18/18 [==============================] - 0s 3ms/step - loss: 1.3423 - val_loss: 1.2943\n",
            "Epoch 86/500\n",
            "18/18 [==============================] - 0s 3ms/step - loss: 1.2530 - val_loss: 1.2940\n",
            "Epoch 87/500\n",
            "18/18 [==============================] - 0s 3ms/step - loss: 1.2790 - val_loss: 1.3077\n",
            "Epoch 88/500\n",
            "18/18 [==============================] - 0s 3ms/step - loss: 1.2861 - val_loss: 1.3010\n",
            "Epoch 89/500\n",
            "18/18 [==============================] - 0s 3ms/step - loss: 1.3087 - val_loss: 1.2911\n",
            "Epoch 90/500\n",
            "18/18 [==============================] - 0s 3ms/step - loss: 1.3332 - val_loss: 1.2930\n",
            "Epoch 91/500\n",
            "18/18 [==============================] - 0s 3ms/step - loss: 1.2370 - val_loss: 1.3131\n",
            "Epoch 92/500\n",
            "18/18 [==============================] - 0s 3ms/step - loss: 1.3098 - val_loss: 1.3213\n",
            "Epoch 93/500\n",
            "18/18 [==============================] - 0s 3ms/step - loss: 1.1714 - val_loss: 1.2796\n",
            "Epoch 94/500\n",
            "18/18 [==============================] - 0s 3ms/step - loss: 1.1971 - val_loss: 1.3008\n",
            "Epoch 95/500\n",
            "18/18 [==============================] - 0s 3ms/step - loss: 1.3409 - val_loss: 1.3221\n",
            "Epoch 96/500\n",
            "18/18 [==============================] - 0s 4ms/step - loss: 1.2948 - val_loss: 1.3490\n",
            "Epoch 97/500\n",
            "18/18 [==============================] - 0s 3ms/step - loss: 1.2947 - val_loss: 1.3125\n",
            "Epoch 98/500\n",
            "18/18 [==============================] - 0s 3ms/step - loss: 1.3387 - val_loss: 1.3243\n",
            "Epoch 99/500\n",
            "18/18 [==============================] - 0s 3ms/step - loss: 1.3170 - val_loss: 1.2823\n",
            "Epoch 100/500\n",
            "18/18 [==============================] - 0s 3ms/step - loss: 1.2374 - val_loss: 1.2802\n",
            "Epoch 101/500\n",
            "18/18 [==============================] - 0s 3ms/step - loss: 1.3258 - val_loss: 1.2814\n",
            "Epoch 102/500\n",
            "18/18 [==============================] - 0s 3ms/step - loss: 1.2773 - val_loss: 1.3475\n",
            "Epoch 103/500\n",
            "18/18 [==============================] - 0s 3ms/step - loss: 1.3797 - val_loss: 1.2716\n",
            "Epoch 104/500\n",
            "18/18 [==============================] - 0s 3ms/step - loss: 1.2674 - val_loss: 1.2949\n",
            "Epoch 105/500\n",
            "18/18 [==============================] - 0s 3ms/step - loss: 1.2668 - val_loss: 1.2772\n",
            "Epoch 106/500\n",
            "18/18 [==============================] - 0s 3ms/step - loss: 1.2855 - val_loss: 1.2699\n",
            "Epoch 107/500\n",
            "18/18 [==============================] - 0s 4ms/step - loss: 1.1976 - val_loss: 1.2817\n",
            "Epoch 108/500\n",
            "18/18 [==============================] - 0s 4ms/step - loss: 1.2507 - val_loss: 1.2766\n",
            "Epoch 109/500\n",
            "18/18 [==============================] - 0s 3ms/step - loss: 1.2189 - val_loss: 1.2633\n",
            "Epoch 110/500\n",
            "18/18 [==============================] - 0s 3ms/step - loss: 1.3024 - val_loss: 1.2923\n",
            "Epoch 111/500\n",
            "18/18 [==============================] - 0s 3ms/step - loss: 1.2571 - val_loss: 1.2677\n",
            "Epoch 112/500\n",
            "18/18 [==============================] - 0s 3ms/step - loss: 1.2719 - val_loss: 1.2815\n",
            "Epoch 113/500\n",
            "18/18 [==============================] - 0s 3ms/step - loss: 1.2263 - val_loss: 1.2902\n",
            "Epoch 114/500\n",
            "18/18 [==============================] - 0s 3ms/step - loss: 1.1932 - val_loss: 1.3009\n",
            "Epoch 115/500\n",
            "18/18 [==============================] - 0s 3ms/step - loss: 1.2561 - val_loss: 1.3010\n",
            "Epoch 116/500\n",
            "18/18 [==============================] - 0s 3ms/step - loss: 1.2175 - val_loss: 1.2866\n",
            "Epoch 117/500\n",
            "18/18 [==============================] - 0s 3ms/step - loss: 1.2882 - val_loss: 1.2890\n",
            "Epoch 118/500\n",
            "18/18 [==============================] - 0s 3ms/step - loss: 1.1721 - val_loss: 1.2595\n",
            "Epoch 119/500\n",
            "18/18 [==============================] - 0s 3ms/step - loss: 1.2588 - val_loss: 1.3931\n",
            "Epoch 120/500\n",
            "18/18 [==============================] - 0s 3ms/step - loss: 1.3096 - val_loss: 1.3243\n",
            "Epoch 121/500\n",
            "18/18 [==============================] - 0s 3ms/step - loss: 1.2773 - val_loss: 1.2590\n",
            "Epoch 122/500\n",
            "18/18 [==============================] - 0s 3ms/step - loss: 1.3508 - val_loss: 1.2447\n",
            "Epoch 123/500\n",
            "18/18 [==============================] - 0s 3ms/step - loss: 1.3527 - val_loss: 1.2762\n",
            "Epoch 124/500\n",
            "18/18 [==============================] - 0s 3ms/step - loss: 1.4436 - val_loss: 1.2841\n",
            "Epoch 125/500\n",
            "18/18 [==============================] - 0s 3ms/step - loss: 1.2549 - val_loss: 1.2413\n",
            "Epoch 126/500\n",
            "18/18 [==============================] - 0s 3ms/step - loss: 1.2007 - val_loss: 1.2226\n",
            "Epoch 127/500\n",
            "18/18 [==============================] - 0s 3ms/step - loss: 1.1847 - val_loss: 1.2546\n",
            "Epoch 128/500\n",
            "18/18 [==============================] - 0s 3ms/step - loss: 1.2317 - val_loss: 1.2756\n",
            "Epoch 129/500\n",
            "18/18 [==============================] - 0s 3ms/step - loss: 1.2944 - val_loss: 1.2444\n",
            "Epoch 130/500\n",
            "18/18 [==============================] - 0s 3ms/step - loss: 1.1002 - val_loss: 1.2394\n",
            "Epoch 131/500\n",
            "18/18 [==============================] - 0s 3ms/step - loss: 1.1440 - val_loss: 1.2536\n",
            "Epoch 132/500\n",
            "18/18 [==============================] - 0s 3ms/step - loss: 1.2923 - val_loss: 1.2201\n",
            "Epoch 133/500\n",
            "18/18 [==============================] - 0s 3ms/step - loss: 1.2529 - val_loss: 1.2183\n",
            "Epoch 134/500\n",
            "18/18 [==============================] - 0s 3ms/step - loss: 1.2104 - val_loss: 1.2311\n",
            "Epoch 135/500\n",
            "18/18 [==============================] - 0s 3ms/step - loss: 1.1467 - val_loss: 1.2601\n",
            "Epoch 136/500\n",
            "18/18 [==============================] - 0s 3ms/step - loss: 1.2358 - val_loss: 1.2266\n",
            "Epoch 137/500\n",
            "18/18 [==============================] - 0s 3ms/step - loss: 1.1756 - val_loss: 1.3342\n",
            "Epoch 138/500\n",
            "18/18 [==============================] - 0s 3ms/step - loss: 1.3010 - val_loss: 1.2009\n",
            "Epoch 139/500\n",
            "18/18 [==============================] - 0s 3ms/step - loss: 1.1529 - val_loss: 1.2131\n",
            "Epoch 140/500\n",
            "18/18 [==============================] - 0s 3ms/step - loss: 1.2338 - val_loss: 1.2105\n",
            "Epoch 141/500\n",
            "18/18 [==============================] - 0s 3ms/step - loss: 1.2542 - val_loss: 1.2177\n",
            "Epoch 142/500\n",
            "18/18 [==============================] - 0s 3ms/step - loss: 1.1627 - val_loss: 1.2265\n",
            "Epoch 143/500\n",
            "18/18 [==============================] - 0s 3ms/step - loss: 1.2546 - val_loss: 1.2162\n",
            "Epoch 144/500\n",
            "18/18 [==============================] - 0s 3ms/step - loss: 1.2319 - val_loss: 1.2224\n",
            "Epoch 145/500\n",
            "18/18 [==============================] - 0s 3ms/step - loss: 1.1036 - val_loss: 1.2062\n",
            "Epoch 146/500\n",
            "18/18 [==============================] - 0s 3ms/step - loss: 1.3287 - val_loss: 1.2193\n",
            "Epoch 147/500\n",
            "18/18 [==============================] - 0s 3ms/step - loss: 1.3541 - val_loss: 1.2048\n",
            "Epoch 148/500\n",
            "18/18 [==============================] - 0s 3ms/step - loss: 1.2129 - val_loss: 1.1965\n",
            "Epoch 149/500\n",
            "18/18 [==============================] - 0s 3ms/step - loss: 1.2122 - val_loss: 1.1951\n",
            "Epoch 150/500\n",
            "18/18 [==============================] - 0s 3ms/step - loss: 1.1981 - val_loss: 1.2014\n",
            "Epoch 151/500\n",
            "18/18 [==============================] - 0s 3ms/step - loss: 1.2132 - val_loss: 1.1860\n",
            "Epoch 152/500\n",
            "18/18 [==============================] - 0s 3ms/step - loss: 1.3018 - val_loss: 1.2421\n",
            "Epoch 153/500\n",
            "18/18 [==============================] - 0s 3ms/step - loss: 1.0938 - val_loss: 1.1658\n",
            "Epoch 154/500\n",
            "18/18 [==============================] - 0s 3ms/step - loss: 1.1954 - val_loss: 1.1697\n",
            "Epoch 155/500\n",
            "18/18 [==============================] - 0s 3ms/step - loss: 1.1808 - val_loss: 1.2030\n",
            "Epoch 156/500\n",
            "18/18 [==============================] - 0s 4ms/step - loss: 1.2900 - val_loss: 1.2087\n",
            "Epoch 157/500\n",
            "18/18 [==============================] - 0s 3ms/step - loss: 1.3551 - val_loss: 1.2269\n",
            "Epoch 158/500\n",
            "18/18 [==============================] - 0s 3ms/step - loss: 1.2120 - val_loss: 1.2783\n",
            "Epoch 159/500\n",
            "18/18 [==============================] - 0s 3ms/step - loss: 1.2647 - val_loss: 1.2155\n",
            "Epoch 160/500\n",
            "18/18 [==============================] - 0s 4ms/step - loss: 1.1599 - val_loss: 1.1820\n",
            "Epoch 161/500\n",
            "18/18 [==============================] - 0s 4ms/step - loss: 1.1155 - val_loss: 1.2065\n",
            "Epoch 162/500\n",
            "18/18 [==============================] - 0s 3ms/step - loss: 1.2885 - val_loss: 1.1994\n",
            "Epoch 163/500\n",
            "18/18 [==============================] - 0s 3ms/step - loss: 1.2040 - val_loss: 1.1637\n",
            "Epoch 164/500\n",
            "18/18 [==============================] - 0s 3ms/step - loss: 1.1823 - val_loss: 1.2413\n",
            "Epoch 165/500\n",
            "18/18 [==============================] - 0s 3ms/step - loss: 1.2979 - val_loss: 1.1496\n",
            "Epoch 166/500\n",
            "18/18 [==============================] - 0s 3ms/step - loss: 1.1099 - val_loss: 1.1791\n",
            "Epoch 167/500\n",
            "18/18 [==============================] - 0s 3ms/step - loss: 1.1418 - val_loss: 1.1268\n",
            "Epoch 168/500\n",
            "18/18 [==============================] - 0s 3ms/step - loss: 1.1322 - val_loss: 1.1115\n",
            "Epoch 169/500\n",
            "18/18 [==============================] - 0s 3ms/step - loss: 1.1170 - val_loss: 1.1479\n",
            "Epoch 170/500\n",
            "18/18 [==============================] - 0s 3ms/step - loss: 1.1515 - val_loss: 1.0971\n",
            "Epoch 171/500\n",
            "18/18 [==============================] - 0s 3ms/step - loss: 1.1173 - val_loss: 1.1383\n",
            "Epoch 172/500\n",
            "18/18 [==============================] - 0s 3ms/step - loss: 1.2328 - val_loss: 1.1211\n",
            "Epoch 173/500\n",
            "18/18 [==============================] - 0s 3ms/step - loss: 1.2322 - val_loss: 1.1227\n",
            "Epoch 174/500\n",
            "18/18 [==============================] - 0s 3ms/step - loss: 1.1030 - val_loss: 1.0840\n",
            "Epoch 175/500\n",
            "18/18 [==============================] - 0s 3ms/step - loss: 1.0836 - val_loss: 1.0574\n",
            "Epoch 176/500\n",
            "18/18 [==============================] - 0s 3ms/step - loss: 1.0717 - val_loss: 1.0916\n",
            "Epoch 177/500\n",
            "18/18 [==============================] - 0s 3ms/step - loss: 1.1972 - val_loss: 1.0415\n",
            "Epoch 178/500\n",
            "18/18 [==============================] - 0s 3ms/step - loss: 1.0975 - val_loss: 1.1672\n",
            "Epoch 179/500\n",
            "18/18 [==============================] - 0s 4ms/step - loss: 1.2514 - val_loss: 1.0603\n",
            "Epoch 180/500\n",
            "18/18 [==============================] - 0s 3ms/step - loss: 1.1753 - val_loss: 1.0717\n",
            "Epoch 181/500\n",
            "18/18 [==============================] - 0s 3ms/step - loss: 1.2218 - val_loss: 1.0957\n",
            "Epoch 182/500\n",
            "18/18 [==============================] - 0s 3ms/step - loss: 1.1160 - val_loss: 1.0483\n",
            "Epoch 183/500\n",
            "18/18 [==============================] - 0s 3ms/step - loss: 1.2085 - val_loss: 1.0230\n",
            "Epoch 184/500\n",
            "18/18 [==============================] - 0s 3ms/step - loss: 1.1237 - val_loss: 1.0282\n",
            "Epoch 185/500\n",
            "18/18 [==============================] - 0s 3ms/step - loss: 1.1082 - val_loss: 1.0079\n",
            "Epoch 186/500\n",
            "18/18 [==============================] - 0s 3ms/step - loss: 1.1291 - val_loss: 1.1175\n",
            "Epoch 187/500\n",
            "18/18 [==============================] - 0s 3ms/step - loss: 1.0502 - val_loss: 1.0670\n",
            "Epoch 188/500\n",
            "18/18 [==============================] - 0s 3ms/step - loss: 1.0205 - val_loss: 0.9961\n",
            "Epoch 189/500\n",
            "18/18 [==============================] - 0s 3ms/step - loss: 1.0837 - val_loss: 1.0265\n",
            "Epoch 190/500\n",
            "18/18 [==============================] - 0s 3ms/step - loss: 1.1810 - val_loss: 0.9842\n",
            "Epoch 191/500\n",
            "18/18 [==============================] - 0s 3ms/step - loss: 1.1568 - val_loss: 0.9424\n",
            "Epoch 192/500\n",
            "18/18 [==============================] - 0s 3ms/step - loss: 1.0554 - val_loss: 1.0241\n",
            "Epoch 193/500\n",
            "18/18 [==============================] - 0s 3ms/step - loss: 1.1402 - val_loss: 0.9211\n",
            "Epoch 194/500\n",
            "18/18 [==============================] - 0s 3ms/step - loss: 1.0028 - val_loss: 0.9742\n",
            "Epoch 195/500\n",
            "18/18 [==============================] - 0s 3ms/step - loss: 1.1198 - val_loss: 0.9502\n",
            "Epoch 196/500\n",
            "18/18 [==============================] - 0s 3ms/step - loss: 1.0842 - val_loss: 0.9603\n",
            "Epoch 197/500\n",
            "18/18 [==============================] - 0s 3ms/step - loss: 0.9752 - val_loss: 0.9959\n",
            "Epoch 198/500\n",
            "18/18 [==============================] - 0s 3ms/step - loss: 1.0771 - val_loss: 0.9054\n",
            "Epoch 199/500\n",
            "18/18 [==============================] - 0s 3ms/step - loss: 1.0081 - val_loss: 0.8939\n",
            "Epoch 200/500\n",
            "18/18 [==============================] - 0s 3ms/step - loss: 1.1052 - val_loss: 0.9541\n",
            "Epoch 201/500\n",
            "18/18 [==============================] - 0s 3ms/step - loss: 1.0032 - val_loss: 0.8939\n",
            "Epoch 202/500\n",
            "18/18 [==============================] - 0s 3ms/step - loss: 0.9985 - val_loss: 0.9168\n",
            "Epoch 203/500\n",
            "18/18 [==============================] - 0s 3ms/step - loss: 1.1056 - val_loss: 0.8613\n",
            "Epoch 204/500\n",
            "18/18 [==============================] - 0s 3ms/step - loss: 0.9829 - val_loss: 0.8760\n",
            "Epoch 205/500\n",
            "18/18 [==============================] - 0s 3ms/step - loss: 0.9645 - val_loss: 0.9194\n",
            "Epoch 206/500\n",
            "18/18 [==============================] - 0s 3ms/step - loss: 1.1390 - val_loss: 0.9144\n",
            "Epoch 207/500\n",
            "18/18 [==============================] - 0s 3ms/step - loss: 0.9958 - val_loss: 0.8638\n",
            "Epoch 208/500\n",
            "18/18 [==============================] - 0s 3ms/step - loss: 0.9388 - val_loss: 0.8809\n",
            "Epoch 209/500\n",
            "18/18 [==============================] - 0s 4ms/step - loss: 1.0733 - val_loss: 0.8497\n",
            "Epoch 210/500\n",
            "18/18 [==============================] - 0s 3ms/step - loss: 1.0007 - val_loss: 0.8193\n",
            "Epoch 211/500\n",
            "18/18 [==============================] - 0s 3ms/step - loss: 0.9861 - val_loss: 0.8399\n",
            "Epoch 212/500\n",
            "18/18 [==============================] - 0s 3ms/step - loss: 0.8827 - val_loss: 0.8171\n",
            "Epoch 213/500\n",
            "18/18 [==============================] - 0s 3ms/step - loss: 0.9201 - val_loss: 0.8645\n",
            "Epoch 214/500\n",
            "18/18 [==============================] - 0s 3ms/step - loss: 0.9928 - val_loss: 0.7904\n",
            "Epoch 215/500\n",
            "18/18 [==============================] - 0s 3ms/step - loss: 0.9674 - val_loss: 0.8595\n",
            "Epoch 216/500\n",
            "18/18 [==============================] - 0s 3ms/step - loss: 0.9674 - val_loss: 0.8089\n",
            "Epoch 217/500\n",
            "18/18 [==============================] - 0s 3ms/step - loss: 0.9495 - val_loss: 0.8017\n",
            "Epoch 218/500\n",
            "18/18 [==============================] - 0s 3ms/step - loss: 0.9178 - val_loss: 0.7857\n",
            "Epoch 219/500\n",
            "18/18 [==============================] - 0s 3ms/step - loss: 0.9695 - val_loss: 0.8320\n",
            "Epoch 220/500\n",
            "18/18 [==============================] - 0s 3ms/step - loss: 0.9952 - val_loss: 0.8203\n",
            "Epoch 221/500\n",
            "18/18 [==============================] - 0s 4ms/step - loss: 0.9852 - val_loss: 0.7777\n",
            "Epoch 222/500\n",
            "18/18 [==============================] - 0s 3ms/step - loss: 0.8505 - val_loss: 0.7514\n",
            "Epoch 223/500\n",
            "18/18 [==============================] - 0s 3ms/step - loss: 1.0138 - val_loss: 0.7595\n",
            "Epoch 224/500\n",
            "18/18 [==============================] - 0s 4ms/step - loss: 0.9339 - val_loss: 0.7746\n",
            "Epoch 225/500\n",
            "18/18 [==============================] - 0s 4ms/step - loss: 0.9746 - val_loss: 0.8225\n",
            "Epoch 226/500\n",
            "18/18 [==============================] - 0s 3ms/step - loss: 0.9315 - val_loss: 0.7241\n",
            "Epoch 227/500\n",
            "18/18 [==============================] - 0s 3ms/step - loss: 0.8777 - val_loss: 0.7106\n",
            "Epoch 228/500\n",
            "18/18 [==============================] - 0s 3ms/step - loss: 0.9090 - val_loss: 0.7109\n",
            "Epoch 229/500\n",
            "18/18 [==============================] - 0s 3ms/step - loss: 0.9505 - val_loss: 0.7429\n",
            "Epoch 230/500\n",
            "18/18 [==============================] - 0s 3ms/step - loss: 0.8825 - val_loss: 0.6743\n",
            "Epoch 231/500\n",
            "18/18 [==============================] - 0s 3ms/step - loss: 0.8786 - val_loss: 0.6824\n",
            "Epoch 232/500\n",
            "18/18 [==============================] - 0s 3ms/step - loss: 1.0269 - val_loss: 0.7257\n",
            "Epoch 233/500\n",
            "18/18 [==============================] - 0s 3ms/step - loss: 0.8938 - val_loss: 0.6795\n",
            "Epoch 234/500\n",
            "18/18 [==============================] - 0s 3ms/step - loss: 0.8196 - val_loss: 0.6415\n",
            "Epoch 235/500\n",
            "18/18 [==============================] - 0s 3ms/step - loss: 0.9205 - val_loss: 0.6633\n",
            "Epoch 236/500\n",
            "18/18 [==============================] - 0s 3ms/step - loss: 0.9188 - val_loss: 0.6338\n",
            "Epoch 237/500\n",
            "18/18 [==============================] - 0s 4ms/step - loss: 0.9392 - val_loss: 0.6976\n",
            "Epoch 238/500\n",
            "18/18 [==============================] - 0s 3ms/step - loss: 0.7971 - val_loss: 0.6438\n",
            "Epoch 239/500\n",
            "18/18 [==============================] - 0s 3ms/step - loss: 0.9033 - val_loss: 0.6559\n",
            "Epoch 240/500\n",
            "18/18 [==============================] - 0s 3ms/step - loss: 0.8374 - val_loss: 0.6181\n",
            "Epoch 241/500\n",
            "18/18 [==============================] - 0s 4ms/step - loss: 0.8987 - val_loss: 0.6407\n",
            "Epoch 242/500\n",
            "18/18 [==============================] - 0s 3ms/step - loss: 0.7759 - val_loss: 0.5928\n",
            "Epoch 243/500\n",
            "18/18 [==============================] - 0s 3ms/step - loss: 0.7927 - val_loss: 0.6138\n",
            "Epoch 244/500\n",
            "18/18 [==============================] - 0s 3ms/step - loss: 0.8579 - val_loss: 0.5931\n",
            "Epoch 245/500\n",
            "18/18 [==============================] - 0s 4ms/step - loss: 0.8218 - val_loss: 0.6480\n",
            "Epoch 246/500\n",
            "18/18 [==============================] - 0s 3ms/step - loss: 0.8268 - val_loss: 0.6197\n",
            "Epoch 247/500\n",
            "18/18 [==============================] - 0s 3ms/step - loss: 0.6775 - val_loss: 0.6176\n",
            "Epoch 248/500\n",
            "18/18 [==============================] - 0s 3ms/step - loss: 0.7624 - val_loss: 0.5825\n",
            "Epoch 249/500\n",
            "18/18 [==============================] - 0s 3ms/step - loss: 0.8444 - val_loss: 0.6100\n",
            "Epoch 250/500\n",
            "18/18 [==============================] - 0s 3ms/step - loss: 0.7437 - val_loss: 0.5571\n",
            "Epoch 251/500\n",
            "18/18 [==============================] - 0s 3ms/step - loss: 0.8056 - val_loss: 0.5412\n",
            "Epoch 252/500\n",
            "18/18 [==============================] - 0s 4ms/step - loss: 0.8212 - val_loss: 0.5629\n",
            "Epoch 253/500\n",
            "18/18 [==============================] - 0s 3ms/step - loss: 0.8718 - val_loss: 0.5942\n",
            "Epoch 254/500\n",
            "18/18 [==============================] - 0s 3ms/step - loss: 0.8917 - val_loss: 0.5924\n",
            "Epoch 255/500\n",
            "18/18 [==============================] - 0s 3ms/step - loss: 0.6834 - val_loss: 0.6002\n",
            "Epoch 256/500\n",
            "18/18 [==============================] - 0s 3ms/step - loss: 0.8665 - val_loss: 0.5612\n",
            "Epoch 257/500\n",
            "18/18 [==============================] - 0s 3ms/step - loss: 0.7610 - val_loss: 0.5495\n",
            "Epoch 258/500\n",
            "18/18 [==============================] - 0s 3ms/step - loss: 0.7487 - val_loss: 0.5534\n",
            "Epoch 259/500\n",
            "18/18 [==============================] - 0s 3ms/step - loss: 0.8081 - val_loss: 0.5412\n",
            "Epoch 260/500\n",
            "18/18 [==============================] - 0s 3ms/step - loss: 0.6865 - val_loss: 0.5142\n",
            "Epoch 261/500\n",
            "18/18 [==============================] - 0s 3ms/step - loss: 0.8057 - val_loss: 0.5371\n",
            "Epoch 262/500\n",
            "18/18 [==============================] - 0s 4ms/step - loss: 0.7380 - val_loss: 0.5387\n",
            "Epoch 263/500\n",
            "18/18 [==============================] - 0s 3ms/step - loss: 0.7202 - val_loss: 0.5742\n",
            "Epoch 264/500\n",
            "18/18 [==============================] - 0s 3ms/step - loss: 0.7863 - val_loss: 0.5337\n",
            "Epoch 265/500\n",
            "18/18 [==============================] - 0s 3ms/step - loss: 0.7946 - val_loss: 0.5293\n",
            "Epoch 266/500\n",
            "18/18 [==============================] - 0s 3ms/step - loss: 0.7763 - val_loss: 0.5317\n",
            "Epoch 267/500\n",
            "18/18 [==============================] - 0s 3ms/step - loss: 0.7472 - val_loss: 0.5658\n",
            "Epoch 268/500\n",
            "18/18 [==============================] - 0s 4ms/step - loss: 0.8759 - val_loss: 0.5012\n",
            "Epoch 269/500\n",
            "18/18 [==============================] - 0s 3ms/step - loss: 0.7253 - val_loss: 0.5016\n",
            "Epoch 270/500\n",
            "18/18 [==============================] - 0s 3ms/step - loss: 0.7860 - val_loss: 0.5128\n",
            "Epoch 271/500\n",
            "18/18 [==============================] - 0s 4ms/step - loss: 0.7270 - val_loss: 0.5764\n",
            "Epoch 272/500\n",
            "18/18 [==============================] - 0s 3ms/step - loss: 0.7924 - val_loss: 0.5201\n",
            "Epoch 273/500\n",
            "18/18 [==============================] - 0s 3ms/step - loss: 0.7296 - val_loss: 0.4808\n",
            "Epoch 274/500\n",
            "18/18 [==============================] - 0s 3ms/step - loss: 0.7041 - val_loss: 0.5137\n",
            "Epoch 275/500\n",
            "18/18 [==============================] - 0s 3ms/step - loss: 0.7118 - val_loss: 0.5102\n",
            "Epoch 276/500\n",
            "18/18 [==============================] - 0s 3ms/step - loss: 0.6278 - val_loss: 0.6171\n",
            "Epoch 277/500\n",
            "18/18 [==============================] - 0s 3ms/step - loss: 0.7935 - val_loss: 0.4929\n",
            "Epoch 278/500\n",
            "18/18 [==============================] - 0s 3ms/step - loss: 0.7689 - val_loss: 0.5345\n",
            "Epoch 279/500\n",
            "18/18 [==============================] - 0s 3ms/step - loss: 0.8178 - val_loss: 0.4763\n",
            "Epoch 280/500\n",
            "18/18 [==============================] - 0s 3ms/step - loss: 0.6845 - val_loss: 0.4862\n",
            "Epoch 281/500\n",
            "18/18 [==============================] - 0s 3ms/step - loss: 0.7944 - val_loss: 0.4592\n",
            "Epoch 282/500\n",
            "18/18 [==============================] - 0s 3ms/step - loss: 0.7247 - val_loss: 0.5153\n",
            "Epoch 283/500\n",
            "18/18 [==============================] - 0s 3ms/step - loss: 0.6892 - val_loss: 0.5384\n",
            "Epoch 284/500\n",
            "18/18 [==============================] - 0s 4ms/step - loss: 0.7409 - val_loss: 0.4767\n",
            "Epoch 285/500\n",
            "18/18 [==============================] - 0s 3ms/step - loss: 0.6668 - val_loss: 0.5323\n",
            "Epoch 286/500\n",
            "18/18 [==============================] - 0s 3ms/step - loss: 0.7814 - val_loss: 0.4912\n",
            "Epoch 287/500\n",
            "18/18 [==============================] - 0s 3ms/step - loss: 0.7358 - val_loss: 0.4715\n",
            "Epoch 288/500\n",
            "18/18 [==============================] - 0s 3ms/step - loss: 0.6889 - val_loss: 0.6442\n",
            "Epoch 289/500\n",
            "18/18 [==============================] - 0s 3ms/step - loss: 0.7797 - val_loss: 0.5240\n",
            "Epoch 290/500\n",
            "18/18 [==============================] - 0s 3ms/step - loss: 0.7201 - val_loss: 0.5724\n",
            "Epoch 291/500\n",
            "18/18 [==============================] - 0s 3ms/step - loss: 0.8179 - val_loss: 0.5063\n",
            "Epoch 292/500\n",
            "18/18 [==============================] - 0s 3ms/step - loss: 0.7433 - val_loss: 0.5003\n",
            "Epoch 293/500\n",
            "18/18 [==============================] - 0s 3ms/step - loss: 0.7461 - val_loss: 0.4901\n",
            "Epoch 294/500\n",
            "18/18 [==============================] - 0s 3ms/step - loss: 0.7508 - val_loss: 0.4928\n",
            "Epoch 295/500\n",
            "18/18 [==============================] - 0s 3ms/step - loss: 0.7359 - val_loss: 0.4967\n",
            "Epoch 296/500\n",
            "18/18 [==============================] - 0s 3ms/step - loss: 0.6757 - val_loss: 0.5275\n",
            "Epoch 297/500\n",
            "18/18 [==============================] - 0s 3ms/step - loss: 0.7323 - val_loss: 0.4487\n",
            "Epoch 298/500\n",
            "18/18 [==============================] - 0s 3ms/step - loss: 0.6702 - val_loss: 0.5369\n",
            "Epoch 299/500\n",
            "18/18 [==============================] - 0s 3ms/step - loss: 0.7400 - val_loss: 0.5057\n",
            "Epoch 300/500\n",
            "18/18 [==============================] - 0s 3ms/step - loss: 0.8210 - val_loss: 0.4720\n",
            "Epoch 301/500\n",
            "18/18 [==============================] - 0s 3ms/step - loss: 0.6975 - val_loss: 0.4805\n",
            "Epoch 302/500\n",
            "18/18 [==============================] - 0s 3ms/step - loss: 0.7241 - val_loss: 0.5520\n",
            "Epoch 303/500\n",
            "18/18 [==============================] - 0s 3ms/step - loss: 0.7187 - val_loss: 0.5367\n",
            "Epoch 304/500\n",
            "18/18 [==============================] - 0s 3ms/step - loss: 0.7183 - val_loss: 0.4894\n",
            "Epoch 305/500\n",
            "18/18 [==============================] - 0s 4ms/step - loss: 0.6884 - val_loss: 0.5052\n",
            "Epoch 306/500\n",
            "18/18 [==============================] - 0s 4ms/step - loss: 0.8036 - val_loss: 0.5631\n",
            "Epoch 307/500\n",
            "18/18 [==============================] - 0s 3ms/step - loss: 0.7286 - val_loss: 0.4773\n",
            "Epoch 308/500\n",
            "18/18 [==============================] - 0s 3ms/step - loss: 0.6935 - val_loss: 0.5322\n",
            "Epoch 309/500\n",
            "18/18 [==============================] - 0s 3ms/step - loss: 0.7336 - val_loss: 0.5016\n",
            "Epoch 310/500\n",
            "18/18 [==============================] - 0s 3ms/step - loss: 0.7965 - val_loss: 0.5586\n",
            "Epoch 311/500\n",
            "18/18 [==============================] - 0s 3ms/step - loss: 0.7574 - val_loss: 0.4616\n",
            "Epoch 312/500\n",
            "18/18 [==============================] - 0s 3ms/step - loss: 0.6897 - val_loss: 0.4673\n",
            "Epoch 313/500\n",
            "18/18 [==============================] - 0s 3ms/step - loss: 0.6905 - val_loss: 0.4961\n",
            "Epoch 314/500\n",
            "18/18 [==============================] - 0s 3ms/step - loss: 0.6856 - val_loss: 0.5664\n",
            "Epoch 315/500\n",
            "18/18 [==============================] - 0s 3ms/step - loss: 0.6905 - val_loss: 0.4943\n",
            "Epoch 316/500\n",
            "18/18 [==============================] - 0s 3ms/step - loss: 0.7146 - val_loss: 0.5004\n",
            "Epoch 317/500\n",
            "18/18 [==============================] - 0s 4ms/step - loss: 0.6562 - val_loss: 0.5286\n"
          ],
          "name": "stdout"
        }
      ]
    },
    {
      "cell_type": "code",
      "metadata": {
        "id": "_lGkkuhCMbj9"
      },
      "source": [
        "y_pred2 = model2.predict(x_test)"
      ],
      "execution_count": null,
      "outputs": []
    },
    {
      "cell_type": "code",
      "metadata": {
        "colab": {
          "base_uri": "https://localhost:8080/"
        },
        "id": "7Lk740Gh6R27",
        "outputId": "2a8f3319-4758-4698-dc71-10c77782d9a9"
      },
      "source": [
        "# Calculating the mean squared error\n",
        "from sklearn.metrics import mean_squared_error as mse\n",
        "print('Error for y2: ', mse(y_pred2,y2_test))"
      ],
      "execution_count": null,
      "outputs": [
        {
          "output_type": "stream",
          "text": [
            "Error for y2:  3.6741492529416266\n"
          ],
          "name": "stdout"
        }
      ]
    },
    {
      "cell_type": "code",
      "metadata": {
        "colab": {
          "base_uri": "https://localhost:8080/"
        },
        "id": "ai4jM1pfCvy6",
        "outputId": "aea65617-d44e-4d6e-c3bb-e3b941c83f52"
      },
      "source": [
        "print('Predicted values: ',y_pred2[:5])\n",
        "print('Actual values: ', y2_test[:5])"
      ],
      "execution_count": null,
      "outputs": [
        {
          "output_type": "stream",
          "text": [
            "Predicted values:  [[16.183826]\n",
            " [14.751948]\n",
            " [17.38741 ]\n",
            " [39.156754]\n",
            " [14.948108]]\n",
            "Actual values:  [16.88 14.97 17.1  40.47 14.87]\n"
          ],
          "name": "stdout"
        }
      ]
    },
    {
      "cell_type": "markdown",
      "metadata": {
        "id": "-D4enJ0a6uLg"
      },
      "source": [
        "Visualisation of loss vs epoch"
      ]
    },
    {
      "cell_type": "code",
      "metadata": {
        "colab": {
          "base_uri": "https://localhost:8080/"
        },
        "id": "waTrldgb6R5M",
        "outputId": "a5d0b42e-9e97-4e51-a0e8-7cd3e251a132"
      },
      "source": [
        "his2.history.keys()"
      ],
      "execution_count": null,
      "outputs": [
        {
          "output_type": "execute_result",
          "data": {
            "text/plain": [
              "dict_keys(['loss', 'val_loss'])"
            ]
          },
          "metadata": {
            "tags": []
          },
          "execution_count": 30
        }
      ]
    },
    {
      "cell_type": "code",
      "metadata": {
        "colab": {
          "base_uri": "https://localhost:8080/",
          "height": 266
        },
        "id": "lGbVG-6367JZ",
        "outputId": "25fd60b7-3db5-4612-b3ee-0ca578f3174f"
      },
      "source": [
        "loss2 = his2.history['loss']\n",
        "val_loss = his2.history['val_loss']\n",
        "epochs = list(range(1,len(loss2)+1))\n",
        "plt.plot(epochs,loss2,'b',label='LOSS model 2')\n",
        "plt.plot(epochs,val_loss,'go',label='validation loss')\n",
        "plt.legend()\n",
        "plt.show()"
      ],
      "execution_count": null,
      "outputs": [
        {
          "output_type": "display_data",
          "data": {
            "image/png": "[encoded data removed]",
            "text/plain": [
              "<Figure size 432x288 with 1 Axes>"
            ]
          },
          "metadata": {
            "tags": [],
            "needs_background": "light"
          }
        }
      ]
    },
    {
      "cell_type": "code",
      "metadata": {
        "id": "2mAZd2sT67MG"
      },
      "source": [
        ""
      ],
      "execution_count": null,
      "outputs": []
    },
    {
      "cell_type": "markdown",
      "metadata": {
        "id": "-r322Y4EDSoI"
      },
      "source": [
        "Some small changes in loss fucntion improved the performance of the model. The updated huber loss function reduced the speed of updating weights and biases for smaller loss.\\\n",
        "Early stopping was used to restore the best parameters to train the model.\n",
        "\n",
        "Functional API was implemented, losses were compared. A custom dense layer was designed. The custom huber loss function improved the model performance by some extent."
      ]
    }
  ]
}