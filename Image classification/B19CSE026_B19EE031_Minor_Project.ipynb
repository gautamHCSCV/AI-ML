{
  "nbformat": 4,
  "nbformat_minor": 0,
  "metadata": {
    "colab": {
      "name": "Minor_Project.ipynb",
      "provenance": [],
      "collapsed_sections": []
    },
    "kernelspec": {
      "name": "python3",
      "display_name": "Python 3"
    },
    "language_info": {
      "name": "python"
    }
  },
  "cells": [
    {
      "cell_type": "code",
      "metadata": {
        "colab": {
          "base_uri": "https://localhost:8080/"
        },
        "id": "Nf-NVJ2600dR",
        "outputId": "d346eaae-fbca-4d1a-a37b-6a9ebab05f50"
      },
      "source": [
        "from google.colab import drive\n",
        "drive.mount('/content/drive')"
      ],
      "execution_count": 13,
      "outputs": [
        {
          "output_type": "stream",
          "text": [
            "Drive already mounted at /content/drive; to attempt to forcibly remount, call drive.mount(\"/content/drive\", force_remount=True).\n"
          ],
          "name": "stdout"
        }
      ]
    },
    {
      "cell_type": "code",
      "metadata": {
        "id": "chZJAUP9LnWp"
      },
      "source": [
        "import cv2, os\n",
        "data = []\n",
        "target = []\n",
        "path1 =  \"/content/drive/MyDrive/dataset/with mask\"\n",
        "path2 = \"/content/drive/MyDrive/dataset/without mask\"\n",
        "img_names1 = os.listdir(path1)\n",
        "img_names2 = os.listdir(path2)\n",
        "for img_name in img_names1:\n",
        "  path = os.path.join(path1,img_name)\n",
        "  img = cv2.imread(path)\n",
        "  try:\n",
        "    gray_img = cv2.cvtColor(img, cv2.COLOR_BGR2GRAY)\n",
        "    resized_img = cv2.resize(gray_img, (100,100))\n",
        "    data.append(resized_img)\n",
        "    target.append(1)\n",
        "  except Exception as e:\n",
        "    pass\n",
        "for img_name in img_names2:\n",
        "  path = os.path.join(path1,img_name)\n",
        "  img = cv2.imread(path)\n",
        "  try:\n",
        "    gray_img = cv2.cvtColor(img, cv2.COLOR_BGR2GRAY)\n",
        "    resized_img = cv2.resize(gray_img, (100,100))\n",
        "    data.append(resized_img)\n",
        "    target.append(0)\n",
        "  except Exception as e:\n",
        "    pass"
      ],
      "execution_count": 14,
      "outputs": []
    },
    {
      "cell_type": "code",
      "metadata": {
        "colab": {
          "base_uri": "https://localhost:8080/"
        },
        "id": "yMIOH__GPNXA",
        "outputId": "fa6f2b5c-88dd-4ade-df25-7f0ff4f283f2"
      },
      "source": [
        "import numpy as np\n",
        "import pandas as pd\n",
        "data = np.array(data)\n",
        "target = np.array(target)\n",
        "data.shape"
      ],
      "execution_count": 15,
      "outputs": [
        {
          "output_type": "execute_result",
          "data": {
            "text/plain": [
              "(930, 100, 100)"
            ]
          },
          "metadata": {
            "tags": []
          },
          "execution_count": 15
        }
      ]
    },
    {
      "cell_type": "code",
      "metadata": {
        "colab": {
          "base_uri": "https://localhost:8080/"
        },
        "id": "AdI25h_tYhDE",
        "outputId": "7c340e44-0aba-4f2d-aca3-9c92d5c362ac"
      },
      "source": [
        "data[0]"
      ],
      "execution_count": 16,
      "outputs": [
        {
          "output_type": "execute_result",
          "data": {
            "text/plain": [
              "array([[255, 255, 255, ..., 224, 224, 224],\n",
              "       [255, 255, 255, ..., 218, 223, 223],\n",
              "       [255, 255, 255, ..., 232, 232, 234],\n",
              "       ...,\n",
              "       [ 73,  63,  69, ...,  22,  34,  54],\n",
              "       [ 74,  72,  80, ...,  30,  68,  76],\n",
              "       [ 85,  79,  78, ...,  36,  55,  91]], dtype=uint8)"
            ]
          },
          "metadata": {
            "tags": []
          },
          "execution_count": 16
        }
      ]
    },
    {
      "cell_type": "markdown",
      "metadata": {
        "id": "TAV_9_Ag3RXs"
      },
      "source": [
        "Preprocessing of data"
      ]
    },
    {
      "cell_type": "code",
      "metadata": {
        "id": "QlJGdRHzP9KL",
        "colab": {
          "base_uri": "https://localhost:8080/"
        },
        "outputId": "969a84c8-3f69-4379-d5c3-1cda1fb76d47"
      },
      "source": [
        "data = data/255\n",
        "data[:5]"
      ],
      "execution_count": 18,
      "outputs": [
        {
          "output_type": "execute_result",
          "data": {
            "text/plain": [
              "array([[[1.        , 1.        , 1.        , ..., 0.87843137,\n",
              "         0.87843137, 0.87843137],\n",
              "        [1.        , 1.        , 1.        , ..., 0.85490196,\n",
              "         0.8745098 , 0.8745098 ],\n",
              "        [1.        , 1.        , 1.        , ..., 0.90980392,\n",
              "         0.90980392, 0.91764706],\n",
              "        ...,\n",
              "        [0.28627451, 0.24705882, 0.27058824, ..., 0.08627451,\n",
              "         0.13333333, 0.21176471],\n",
              "        [0.29019608, 0.28235294, 0.31372549, ..., 0.11764706,\n",
              "         0.26666667, 0.29803922],\n",
              "        [0.33333333, 0.30980392, 0.30588235, ..., 0.14117647,\n",
              "         0.21568627, 0.35686275]],\n",
              "\n",
              "       [[1.        , 0.99215686, 0.99607843, ..., 0.99215686,\n",
              "         0.99607843, 1.        ],\n",
              "        [0.99607843, 1.        , 1.        , ..., 0.99607843,\n",
              "         0.99607843, 1.        ],\n",
              "        [1.        , 1.        , 1.        , ..., 1.        ,\n",
              "         1.        , 1.        ],\n",
              "        ...,\n",
              "        [0.29803922, 0.2627451 , 0.25098039, ..., 0.1372549 ,\n",
              "         0.29019608, 0.36078431],\n",
              "        [0.29803922, 0.2627451 , 0.25098039, ..., 0.23529412,\n",
              "         0.36470588, 0.27843137],\n",
              "        [0.27843137, 0.25098039, 0.26666667, ..., 0.26666667,\n",
              "         0.2       , 0.29411765]],\n",
              "\n",
              "       [[0.8745098 , 0.94509804, 0.94117647, ..., 0.97647059,\n",
              "         0.96862745, 0.81960784],\n",
              "        [0.9254902 , 0.93333333, 0.9254902 , ..., 0.98039216,\n",
              "         0.96862745, 0.80392157],\n",
              "        [0.87058824, 0.91764706, 0.91764706, ..., 0.97647059,\n",
              "         0.97647059, 0.77647059],\n",
              "        ...,\n",
              "        [0.17647059, 0.17254902, 0.16470588, ..., 0.14901961,\n",
              "         0.21960784, 0.14509804],\n",
              "        [0.14901961, 0.1372549 , 0.15686275, ..., 0.13333333,\n",
              "         0.16470588, 0.17647059],\n",
              "        [0.16862745, 0.14901961, 0.18823529, ..., 0.06666667,\n",
              "         0.13333333, 0.15294118]],\n",
              "\n",
              "       [[0.80392157, 0.80392157, 0.80784314, ..., 0.83921569,\n",
              "         0.84313725, 0.82745098],\n",
              "        [0.80784314, 0.80784314, 0.82352941, ..., 0.84313725,\n",
              "         0.84313725, 0.83921569],\n",
              "        [0.80392157, 0.80784314, 0.80392157, ..., 0.84705882,\n",
              "         0.85098039, 0.85098039],\n",
              "        ...,\n",
              "        [0.36078431, 0.3372549 , 0.2       , ..., 0.84705882,\n",
              "         0.84313725, 0.85098039],\n",
              "        [0.35294118, 0.29019608, 0.69019608, ..., 0.83137255,\n",
              "         0.85098039, 0.85882353],\n",
              "        [0.32156863, 0.23921569, 0.72941176, ..., 0.81176471,\n",
              "         0.83137255, 0.84313725]],\n",
              "\n",
              "       [[0.85882353, 0.76862745, 0.54117647, ..., 0.10196078,\n",
              "         0.07843137, 0.08235294],\n",
              "        [0.85098039, 0.74901961, 0.51372549, ..., 0.13333333,\n",
              "         0.08235294, 0.07058824],\n",
              "        [0.85098039, 0.76470588, 0.54509804, ..., 0.09411765,\n",
              "         0.08627451, 0.07843137],\n",
              "        ...,\n",
              "        [0.44705882, 0.49411765, 0.54509804, ..., 0.9372549 ,\n",
              "         0.94117647, 0.94117647],\n",
              "        [0.44705882, 0.44705882, 0.47843137, ..., 0.9372549 ,\n",
              "         0.9372549 , 0.9372549 ],\n",
              "        [0.45490196, 0.46666667, 0.45882353, ..., 0.92941176,\n",
              "         0.93333333, 0.93333333]]])"
            ]
          },
          "metadata": {
            "tags": []
          },
          "execution_count": 18
        }
      ]
    },
    {
      "cell_type": "code",
      "metadata": {
        "id": "6M3UKUj5SQuQ"
      },
      "source": [
        "data = np.reshape(data,(data.shape[0],data.shape[1]*data.shape[2]))"
      ],
      "execution_count": 19,
      "outputs": []
    },
    {
      "cell_type": "code",
      "metadata": {
        "colab": {
          "base_uri": "https://localhost:8080/"
        },
        "id": "HIhoXH4BHeum",
        "outputId": "e2a4fd82-d6fb-4aba-bec6-953df3d01dd4"
      },
      "source": [
        "data.shape"
      ],
      "execution_count": 20,
      "outputs": [
        {
          "output_type": "execute_result",
          "data": {
            "text/plain": [
              "(930, 10000)"
            ]
          },
          "metadata": {
            "tags": []
          },
          "execution_count": 20
        }
      ]
    },
    {
      "cell_type": "code",
      "metadata": {
        "colab": {
          "base_uri": "https://localhost:8080/"
        },
        "id": "8p2POp-yfkJa",
        "outputId": "9712e5e5-61ce-46ec-e572-4eef205bf3c5"
      },
      "source": [
        "data[:5]"
      ],
      "execution_count": 24,
      "outputs": [
        {
          "output_type": "execute_result",
          "data": {
            "text/plain": [
              "array([[1.        , 1.        , 1.        , ..., 0.14117647, 0.21568627,\n",
              "        0.35686275],\n",
              "       [1.        , 0.99215686, 0.99607843, ..., 0.26666667, 0.2       ,\n",
              "        0.29411765],\n",
              "       [0.8745098 , 0.94509804, 0.94117647, ..., 0.06666667, 0.13333333,\n",
              "        0.15294118],\n",
              "       [0.80392157, 0.80392157, 0.80784314, ..., 0.81176471, 0.83137255,\n",
              "        0.84313725],\n",
              "       [0.85882353, 0.76862745, 0.54117647, ..., 0.92941176, 0.93333333,\n",
              "        0.93333333]])"
            ]
          },
          "metadata": {
            "tags": []
          },
          "execution_count": 24
        }
      ]
    },
    {
      "cell_type": "code",
      "metadata": {
        "id": "WAzYYOfBHh0q"
      },
      "source": [
        "from sklearn.feature_selection import SelectKBest, chi2\n",
        "new_data = SelectKBest(chi2, k=10000).fit_transform(data, target)"
      ],
      "execution_count": null,
      "outputs": []
    },
    {
      "cell_type": "code",
      "metadata": {
        "id": "pODiux6DI_gh"
      },
      "source": [
        "from sklearn.model_selection import train_test_split\n",
        "x_train,x_test,y_train,y_test = train_test_split(new_data,target,test_size=0.5,random_state=0)"
      ],
      "execution_count": null,
      "outputs": []
    },
    {
      "cell_type": "code",
      "metadata": {
        "id": "1eIenVho3oAE"
      },
      "source": [
        "# PCA reduction to 10 components\n",
        "from sklearn.decomposition import PCA\n",
        "pca = PCA(n_components=10)\n",
        "pca.fit(x_train)\n",
        "pca_x_train = pca.transform(x_train)\n",
        "pca_x_test = pca.transform(x_test)"
      ],
      "execution_count": null,
      "outputs": []
    },
    {
      "cell_type": "markdown",
      "metadata": {
        "id": "3BS7aAFa3Ye2"
      },
      "source": [
        "Model training and testing"
      ]
    },
    {
      "cell_type": "code",
      "metadata": {
        "colab": {
          "base_uri": "https://localhost:8080/"
        },
        "id": "FKvKfQ-YIe-r",
        "outputId": "68862ffd-deac-4127-b865-d4dd4df5fcc8"
      },
      "source": [
        "# Using MLP Classifier\n",
        "from sklearn.neural_network import MLPClassifier\n",
        "from sklearn.metrics import accuracy_score\n",
        "model1 = MLPClassifier(alpha=0.001)\n",
        "model1.fit(x_train, y_train)\n",
        "y_pred1 = model1.predict(x_test)\n",
        "mlp_acc = accuracy_score(y_test, y_pred1)\n",
        "mlp_acc"
      ],
      "execution_count": null,
      "outputs": [
        {
          "output_type": "execute_result",
          "data": {
            "text/plain": [
              "0.7096774193548387"
            ]
          },
          "metadata": {
            "tags": []
          },
          "execution_count": 18
        }
      ]
    },
    {
      "cell_type": "code",
      "metadata": {
        "colab": {
          "base_uri": "https://localhost:8080/"
        },
        "id": "22fCPNMfKQJo",
        "outputId": "c70f2a2b-89e1-4ef5-9fc3-84bbc5feeb05"
      },
      "source": [
        "#Using SVM\n",
        "from sklearn.svm import SVC\n",
        "from sklearn.pipeline import make_pipeline\n",
        "from sklearn.preprocessing import StandardScaler\n",
        "model2 = make_pipeline(StandardScaler(), SVC(probability=True))\n",
        "model2.fit(x_train, y_train)\n",
        "y_pred2 = model2.predict(x_test)\n",
        "svm_acc=accuracy_score(y_test, y_pred2)\n",
        "svm_acc"
      ],
      "execution_count": null,
      "outputs": [
        {
          "output_type": "execute_result",
          "data": {
            "text/plain": [
              "0.7419354838709677"
            ]
          },
          "metadata": {
            "tags": []
          },
          "execution_count": 11
        }
      ]
    },
    {
      "cell_type": "code",
      "metadata": {
        "colab": {
          "base_uri": "https://localhost:8080/"
        },
        "id": "mSDm1Y9sKZvr",
        "outputId": "d643f697-3b59-4f5b-f5b6-d0082c44c1da"
      },
      "source": [
        "#Naive bayes model\n",
        "from sklearn.naive_bayes import GaussianNB\n",
        "model3 = GaussianNB()\n",
        "model3.fit(x_train, y_train)\n",
        "y_pred3 = model3.predict(x_test)\n",
        "gauss_acc = accuracy_score(y_test, y_pred3)\n",
        "gauss_acc"
      ],
      "execution_count": null,
      "outputs": [
        {
          "output_type": "execute_result",
          "data": {
            "text/plain": [
              "0.589247311827957"
            ]
          },
          "metadata": {
            "tags": []
          },
          "execution_count": 24
        }
      ]
    },
    {
      "cell_type": "code",
      "metadata": {
        "colab": {
          "base_uri": "https://localhost:8080/"
        },
        "id": "Anoa4wmz90fz",
        "outputId": "3ff34884-77d4-4331-e3e6-7d6010c5019b"
      },
      "source": [
        "#Using perceptron model\n",
        "from sklearn.linear_model import Perceptron\n",
        "perc = Perceptron(max_iter=1000)\n",
        "perc.fit(x_train,y_train)\n",
        "y_pred_perc = perc.predict(x_test)\n",
        "perc_acc = accuracy_score(y_test,y_pred_perc)\n",
        "perc_acc"
      ],
      "execution_count": null,
      "outputs": [
        {
          "output_type": "execute_result",
          "data": {
            "text/plain": [
              "0.7225806451612903"
            ]
          },
          "metadata": {
            "tags": []
          },
          "execution_count": 20
        }
      ]
    },
    {
      "cell_type": "code",
      "metadata": {
        "colab": {
          "base_uri": "https://localhost:8080/"
        },
        "id": "jGiRdbib-m-8",
        "outputId": "b6b0f4fa-2e27-41f4-b15c-8f06ede05338"
      },
      "source": [
        "#Using Random Forest\n",
        "from sklearn.ensemble import RandomForestClassifier\n",
        "rf = RandomForestClassifier()\n",
        "rf.fit(x_train,y_train)\n",
        "y_pred_rf = rf.predict(x_test)\n",
        "rf_acc = accuracy_score(y_test,y_pred_rf)\n",
        "rf_acc"
      ],
      "execution_count": null,
      "outputs": [
        {
          "output_type": "execute_result",
          "data": {
            "text/plain": [
              "0.621505376344086"
            ]
          },
          "metadata": {
            "tags": []
          },
          "execution_count": 21
        }
      ]
    },
    {
      "cell_type": "code",
      "metadata": {
        "colab": {
          "base_uri": "https://localhost:8080/"
        },
        "id": "E29wdnSj_qPv",
        "outputId": "e4823452-f7ac-4dd1-ebb5-8324238a5ad2"
      },
      "source": [
        "#Naive bayes model\n",
        "from sklearn.naive_bayes import MultinomialNB\n",
        "mult = MultinomialNB()\n",
        "mult.fit(x_train,y_train)\n",
        "y_pred_mult = mult.predict(x_test)\n",
        "mult_acc = accuracy_score(y_test,y_pred_mult)\n",
        "mult_acc"
      ],
      "execution_count": null,
      "outputs": [
        {
          "output_type": "execute_result",
          "data": {
            "text/plain": [
              "0.6344086021505376"
            ]
          },
          "metadata": {
            "tags": []
          },
          "execution_count": 23
        }
      ]
    },
    {
      "cell_type": "markdown",
      "metadata": {
        "id": "Hbp1hR-T89bj"
      },
      "source": [
        "Model training with PCA data reduction"
      ]
    },
    {
      "cell_type": "code",
      "metadata": {
        "colab": {
          "base_uri": "https://localhost:8080/"
        },
        "id": "6cN5iZHXKq4k",
        "outputId": "59bc8d2f-9d82-417a-98ab-f87eeea32e4d"
      },
      "source": [
        "model4 = MLPClassifier(alpha=0.001)\n",
        "model4.fit(pca_x_train, y_train)\n",
        "y_pred4 = model4.predict(pca_x_test)\n",
        "m4_acc = accuracy_score(y_test, y_pred4)\n",
        "m4_acc"
      ],
      "execution_count": null,
      "outputs": [
        {
          "output_type": "stream",
          "text": [
            "/usr/local/lib/python3.7/dist-packages/sklearn/neural_network/_multilayer_perceptron.py:571: ConvergenceWarning: Stochastic Optimizer: Maximum iterations (200) reached and the optimization hasn't converged yet.\n",
            "  % self.max_iter, ConvergenceWarning)\n"
          ],
          "name": "stderr"
        },
        {
          "output_type": "execute_result",
          "data": {
            "text/plain": [
              "0.6903225806451613"
            ]
          },
          "metadata": {
            "tags": []
          },
          "execution_count": 25
        }
      ]
    },
    {
      "cell_type": "code",
      "metadata": {
        "colab": {
          "base_uri": "https://localhost:8080/"
        },
        "id": "XwZ9TthfK0nX",
        "outputId": "6b346224-21c3-4fa3-cbda-3b20720b13f0"
      },
      "source": [
        "model5 = make_pipeline(StandardScaler(), SVC(probability=True))\n",
        "model5.fit(pca_x_train, y_train)\n",
        "y_pred5 = model5.predict(pca_x_test)\n",
        "m5_acc=accuracy_score(y_test, y_pred5)\n",
        "m5_acc"
      ],
      "execution_count": null,
      "outputs": [
        {
          "output_type": "execute_result",
          "data": {
            "text/plain": [
              "0.7505376344086021"
            ]
          },
          "metadata": {
            "tags": []
          },
          "execution_count": 26
        }
      ]
    },
    {
      "cell_type": "code",
      "metadata": {
        "colab": {
          "base_uri": "https://localhost:8080/"
        },
        "id": "vWHPMju1K8S8",
        "outputId": "16b5dfb8-e8b1-4800-e758-20848a996c51"
      },
      "source": [
        "model6 = GaussianNB()\n",
        "model6.fit(pca_x_train, y_train)\n",
        "y_pred6 = model6.predict(pca_x_test)\n",
        "m6_acc = accuracy_score(y_test, y_pred6)\n",
        "m6_acc"
      ],
      "execution_count": null,
      "outputs": [
        {
          "output_type": "execute_result",
          "data": {
            "text/plain": [
              "0.7526881720430108"
            ]
          },
          "metadata": {
            "tags": []
          },
          "execution_count": 27
        }
      ]
    },
    {
      "cell_type": "markdown",
      "metadata": {
        "id": "wWLk6HLDBKkI"
      },
      "source": [
        "Calculation of recall, precision, f1 score and accuracy of models"
      ]
    },
    {
      "cell_type": "code",
      "metadata": {
        "id": "NtBBJfZzMkt1"
      },
      "source": [
        "from sklearn.metrics import precision_score, recall_score, f1_score, accuracy_score\n",
        "acc1 = accuracy_score(y_test, y_pred1)\n",
        "prec1 = precision_score(y_test, y_pred1)\n",
        "rec1 = recall_score(y_test, y_pred1)\n",
        "f1_score1 = f1_score(y_test, y_pred1)"
      ],
      "execution_count": null,
      "outputs": []
    },
    {
      "cell_type": "code",
      "metadata": {
        "id": "sIzulY5xMtaC"
      },
      "source": [
        "acc2 = accuracy_score(y_test, y_pred2)\n",
        "prec2 = precision_score(y_test, y_pred2)\n",
        "rec2 = recall_score(y_test, y_pred2)\n",
        "f1_score2 = f1_score(y_test, y_pred2)"
      ],
      "execution_count": null,
      "outputs": []
    },
    {
      "cell_type": "code",
      "metadata": {
        "id": "8T3M5kX1M3Es"
      },
      "source": [
        "acc3 = accuracy_score(y_test, y_pred3)\n",
        "prec3 = precision_score(y_test, y_pred3)\n",
        "rec3 = recall_score(y_test, y_pred3)\n",
        "f1_score3 = f1_score(y_test, y_pred3)"
      ],
      "execution_count": null,
      "outputs": []
    },
    {
      "cell_type": "code",
      "metadata": {
        "id": "4bM8qcFwM_l1"
      },
      "source": [
        "acc4 = accuracy_score(y_test, y_pred4)\n",
        "prec4 = precision_score(y_test, y_pred4)\n",
        "rec4 = recall_score(y_test, y_pred4)\n",
        "f1_score4 = f1_score(y_test, y_pred4)"
      ],
      "execution_count": null,
      "outputs": []
    },
    {
      "cell_type": "code",
      "metadata": {
        "id": "6vjcaUN8NH_2"
      },
      "source": [
        "acc5 = accuracy_score(y_test, y_pred5)\n",
        "prec5 = precision_score(y_test, y_pred5)\n",
        "rec5 = recall_score(y_test, y_pred5)\n",
        "f1_score5 = f1_score(y_test, y_pred5)"
      ],
      "execution_count": null,
      "outputs": []
    },
    {
      "cell_type": "code",
      "metadata": {
        "id": "c0Uiyw9sNSct"
      },
      "source": [
        "acc6 = accuracy_score(y_test, y_pred6)\n",
        "prec6 = precision_score(y_test, y_pred6)\n",
        "rec6 = recall_score(y_test, y_pred6)\n",
        "f1_score6 = f1_score(y_test, y_pred6)"
      ],
      "execution_count": null,
      "outputs": []
    },
    {
      "cell_type": "code",
      "metadata": {
        "colab": {
          "base_uri": "https://localhost:8080/",
          "height": 226
        },
        "id": "KzxSRCOwNbeI",
        "outputId": "bbae69d4-3025-44e8-da4c-7efea5a05088"
      },
      "source": [
        "comp = [[acc1,prec1,rec1,f1_score1],[acc2,prec2,rec2,f1_score2],[acc3,prec3,rec3,f1_score3],[acc4,prec4,rec4,f1_score4],[acc5,prec5,rec5,f1_score5],[acc6,prec6,rec6,f1_score6]]\n",
        "comp_df = pd.DataFrame(comp, columns=(\"Accuracy\", \"Precision\", \"Recall\", \"F1_score\"), index=(\"MLP_Classifier\",\"SVM\",\"Naive_bayes\",\"MLP_with_PCA\",\"SVM_with_PCA\",\"Naive_bayes_with_PCA\"))\n",
        "comp_df"
      ],
      "execution_count": null,
      "outputs": [
        {
          "output_type": "execute_result",
          "data": {
            "text/html": [
              "<div>\n",
              "<style scoped>\n",
              "    .dataframe tbody tr th:only-of-type {\n",
              "        vertical-align: middle;\n",
              "    }\n",
              "\n",
              "    .dataframe tbody tr th {\n",
              "        vertical-align: top;\n",
              "    }\n",
              "\n",
              "    .dataframe thead th {\n",
              "        text-align: right;\n",
              "    }\n",
              "</style>\n",
              "<table border=\"1\" class=\"dataframe\">\n",
              "  <thead>\n",
              "    <tr style=\"text-align: right;\">\n",
              "      <th></th>\n",
              "      <th>Accuracy</th>\n",
              "      <th>Precision</th>\n",
              "      <th>Recall</th>\n",
              "      <th>F1_score</th>\n",
              "    </tr>\n",
              "  </thead>\n",
              "  <tbody>\n",
              "    <tr>\n",
              "      <th>MLP_Classifier</th>\n",
              "      <td>0.709677</td>\n",
              "      <td>0.748837</td>\n",
              "      <td>0.922636</td>\n",
              "      <td>0.826701</td>\n",
              "    </tr>\n",
              "    <tr>\n",
              "      <th>SVM</th>\n",
              "      <td>0.741935</td>\n",
              "      <td>0.748373</td>\n",
              "      <td>0.988539</td>\n",
              "      <td>0.851852</td>\n",
              "    </tr>\n",
              "    <tr>\n",
              "      <th>Naive_bayes</th>\n",
              "      <td>0.589247</td>\n",
              "      <td>0.788321</td>\n",
              "      <td>0.618911</td>\n",
              "      <td>0.693419</td>\n",
              "    </tr>\n",
              "    <tr>\n",
              "      <th>MLP_with_PCA</th>\n",
              "      <td>0.690323</td>\n",
              "      <td>0.744630</td>\n",
              "      <td>0.893983</td>\n",
              "      <td>0.812500</td>\n",
              "    </tr>\n",
              "    <tr>\n",
              "      <th>SVM_with_PCA</th>\n",
              "      <td>0.750538</td>\n",
              "      <td>0.750538</td>\n",
              "      <td>1.000000</td>\n",
              "      <td>0.857494</td>\n",
              "    </tr>\n",
              "    <tr>\n",
              "      <th>Naive_bayes_with_PCA</th>\n",
              "      <td>0.752688</td>\n",
              "      <td>0.758850</td>\n",
              "      <td>0.982808</td>\n",
              "      <td>0.856429</td>\n",
              "    </tr>\n",
              "  </tbody>\n",
              "</table>\n",
              "</div>"
            ],
            "text/plain": [
              "                      Accuracy  Precision    Recall  F1_score\n",
              "MLP_Classifier        0.709677   0.748837  0.922636  0.826701\n",
              "SVM                   0.741935   0.748373  0.988539  0.851852\n",
              "Naive_bayes           0.589247   0.788321  0.618911  0.693419\n",
              "MLP_with_PCA          0.690323   0.744630  0.893983  0.812500\n",
              "SVM_with_PCA          0.750538   0.750538  1.000000  0.857494\n",
              "Naive_bayes_with_PCA  0.752688   0.758850  0.982808  0.856429"
            ]
          },
          "metadata": {
            "tags": []
          },
          "execution_count": 34
        }
      ]
    },
    {
      "cell_type": "markdown",
      "metadata": {
        "id": "4rkMQnKF3dW3"
      },
      "source": [
        "Comparison of models"
      ]
    },
    {
      "cell_type": "code",
      "metadata": {
        "colab": {
          "base_uri": "https://localhost:8080/",
          "height": 423
        },
        "id": "hpDYQep53OGs",
        "outputId": "c606cade-e6ac-4ab1-c170-06e22c64ad79"
      },
      "source": [
        "import matplotlib.pyplot as plt\n",
        "fig = plt.figure(figsize=(10,5))\n",
        "ax = fig.add_axes([0,0,1,1])\n",
        "accuracies = [mlp_acc,m4_acc,svm_acc,m5_acc,gauss_acc,m6_acc]\n",
        "models = [\"MLP_Classifier\",\"MLP_with_PCA\",\"SVM\",\"SVM_with_PCA\",\"Naive_bayes\",\"Naive_bayes_PCA\"]\n",
        "ax.bar(models,accuracies)\n",
        "plt.xlabel('Models')\n",
        "plt.ylabel('Accuracy')\n",
        "plt.show()"
      ],
      "execution_count": null,
      "outputs": [
        {
          "output_type": "display_data",
          "data": {
            "image/png": "[encoded data removed]",
            "text/plain": [
              "<Figure size 720x360 with 1 Axes>"
            ]
          },
          "metadata": {
            "tags": [],
            "needs_background": "light"
          }
        }
      ]
    },
    {
      "cell_type": "code",
      "metadata": {
        "colab": {
          "base_uri": "https://localhost:8080/",
          "height": 423
        },
        "id": "J4aMimB-ALtz",
        "outputId": "a6d125f7-2bf6-4ce0-969a-a9dbfc693ddb"
      },
      "source": [
        "fig = plt.figure(figsize=(10,5))\n",
        "ax = fig.add_axes([0,0,1,1])\n",
        "accuracies = [mlp_acc,svm_acc,gauss_acc,perc_acc,rf_acc,mult_acc]\n",
        "models = [\"MLP_Classifier\",\"SVM\",\"Gaussian NB\",\"Perceptron\",\"Random Forest\",\"Multinomial NB\"]\n",
        "ax.bar(models,accuracies)\n",
        "plt.xlabel('Models')\n",
        "plt.ylabel('Accuracy')\n",
        "plt.show()"
      ],
      "execution_count": null,
      "outputs": [
        {
          "output_type": "display_data",
          "data": {
            "image/png": "[encoded data removed]",
            "text/plain": [
              "<Figure size 720x360 with 1 Axes>"
            ]
          },
          "metadata": {
            "tags": [],
            "needs_background": "light"
          }
        }
      ]
    },
    {
      "cell_type": "code",
      "metadata": {
        "colab": {
          "base_uri": "https://localhost:8080/"
        },
        "id": "-lvLnhJjBWDO",
        "outputId": "3c36a477-f49c-45d0-d800-661c77a36ede"
      },
      "source": [
        "# Perceptron model with PCA dimension reduction\n",
        "perc.fit(pca_x_train, y_train)\n",
        "y_pred7 = perc.predict(pca_x_test)\n",
        "m7_acc = accuracy_score(y_test, y_pred6)\n",
        "m7_acc"
      ],
      "execution_count": null,
      "outputs": [
        {
          "output_type": "execute_result",
          "data": {
            "text/plain": [
              "0.7526881720430108"
            ]
          },
          "metadata": {
            "tags": []
          },
          "execution_count": 37
        }
      ]
    },
    {
      "cell_type": "code",
      "metadata": {
        "colab": {
          "base_uri": "https://localhost:8080/"
        },
        "id": "KL3yRq2XBt9B",
        "outputId": "80798ebd-b70f-4673-8c6c-104275f92a5f"
      },
      "source": [
        "# Random forest with PCA reduction\n",
        "rf.fit(pca_x_train, y_train)\n",
        "y_pred6 = rf.predict(pca_x_test)\n",
        "m8_acc = accuracy_score(y_test, y_pred6)\n",
        "m8_acc"
      ],
      "execution_count": null,
      "outputs": [
        {
          "output_type": "execute_result",
          "data": {
            "text/plain": [
              "0.610752688172043"
            ]
          },
          "metadata": {
            "tags": []
          },
          "execution_count": 38
        }
      ]
    },
    {
      "cell_type": "markdown",
      "metadata": {
        "id": "2m9zUjj5MMzV"
      },
      "source": [
        "Tuning hyperparameters of some models."
      ]
    },
    {
      "cell_type": "code",
      "metadata": {
        "colab": {
          "base_uri": "https://localhost:8080/"
        },
        "id": "XEGtksblMQwl",
        "outputId": "61c814e7-293d-45a1-d02f-6b93e5255b17"
      },
      "source": [
        "from sklearn.linear_model import Perceptron\n",
        "perceptron = Perceptron(max_iter=1000,eta0=0.01)\n",
        "perceptron.fit(x_train,y_train)\n",
        "perceptron.score(x_test,y_test)"
      ],
      "execution_count": null,
      "outputs": [
        {
          "output_type": "execute_result",
          "data": {
            "text/plain": [
              "0.7225806451612903"
            ]
          },
          "metadata": {
            "tags": []
          },
          "execution_count": 53
        }
      ]
    },
    {
      "cell_type": "code",
      "metadata": {
        "colab": {
          "base_uri": "https://localhost:8080/"
        },
        "id": "kjvjE_3mRJCr",
        "outputId": "911d6ee3-6e21-45cc-d0d1-eb04d9b3622e"
      },
      "source": [
        "from sklearn.metrics import classification_report\n",
        "y_pred = perceptron.predict(x_test)\n",
        "print(classification_report(y_test,y_pred))"
      ],
      "execution_count": null,
      "outputs": [
        {
          "output_type": "stream",
          "text": [
            "              precision    recall  f1-score   support\n",
            "\n",
            "           0       0.16      0.03      0.04       116\n",
            "           1       0.75      0.95      0.84       349\n",
            "\n",
            "    accuracy                           0.72       465\n",
            "   macro avg       0.45      0.49      0.44       465\n",
            "weighted avg       0.60      0.72      0.64       465\n",
            "\n"
          ],
          "name": "stdout"
        }
      ]
    },
    {
      "cell_type": "code",
      "metadata": {
        "colab": {
          "base_uri": "https://localhost:8080/"
        },
        "id": "3tmEY2NrMQy-",
        "outputId": "5bd3b374-5763-4532-a3a2-a68544454d23"
      },
      "source": [
        "from sklearn.svm import SVC\n",
        "svc = SVC(C=0.8,gamma='auto')\n",
        "svc.fit(x_train,y_train)\n",
        "svc.score(x_test,y_test)"
      ],
      "execution_count": null,
      "outputs": [
        {
          "output_type": "execute_result",
          "data": {
            "text/plain": [
              "0.7505376344086021"
            ]
          },
          "metadata": {
            "tags": []
          },
          "execution_count": 42
        }
      ]
    },
    {
      "cell_type": "code",
      "metadata": {
        "colab": {
          "base_uri": "https://localhost:8080/"
        },
        "id": "etYJMAukRcmQ",
        "outputId": "05e4a6c4-174c-4719-fcbf-d4362902f9d0"
      },
      "source": [
        "y_pred = svc.predict(x_test)\n",
        "print(classification_report(y_test,y_pred))"
      ],
      "execution_count": null,
      "outputs": [
        {
          "output_type": "stream",
          "text": [
            "              precision    recall  f1-score   support\n",
            "\n",
            "           0       0.00      0.00      0.00       116\n",
            "           1       0.75      1.00      0.86       349\n",
            "\n",
            "    accuracy                           0.75       465\n",
            "   macro avg       0.38      0.50      0.43       465\n",
            "weighted avg       0.56      0.75      0.64       465\n",
            "\n"
          ],
          "name": "stdout"
        },
        {
          "output_type": "stream",
          "text": [
            "/usr/local/lib/python3.7/dist-packages/sklearn/metrics/_classification.py:1272: UndefinedMetricWarning: Precision and F-score are ill-defined and being set to 0.0 in labels with no predicted samples. Use `zero_division` parameter to control this behavior.\n",
            "  _warn_prf(average, modifier, msg_start, len(result))\n"
          ],
          "name": "stderr"
        }
      ]
    },
    {
      "cell_type": "markdown",
      "metadata": {
        "id": "XIitLI05GW3l"
      },
      "source": [
        "Group Members: \\\n",
        "Chirag (B19CSE026)\n",
        "Gautam Kumar (B19EE031)\n"
      ]
    }
  ]
}