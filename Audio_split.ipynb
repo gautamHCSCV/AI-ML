{
  "cells": [
    {
      "cell_type": "markdown",
      "metadata": {
        "id": "view-in-github",
        "colab_type": "text"
      },
      "source": [
        "<a href=\"https://colab.research.google.com/github/gautamHCSCV/AI-ML/blob/main/Audio_split.ipynb\" target=\"_parent\"><img src=\"https://colab.research.google.com/assets/colab-badge.svg\" alt=\"Open In Colab\"/></a>"
      ]
    },
    {
      "cell_type": "code",
      "source": [
        "!pip install pydub"
      ],
      "metadata": {
        "id": "if5gHHTUSwqp",
        "colab": {
          "base_uri": "https://localhost:8080/"
        },
        "outputId": "953dafe3-037a-4b26-f47f-4fc212c4e902"
      },
      "execution_count": 1,
      "outputs": [
        {
          "output_type": "stream",
          "name": "stdout",
          "text": [
            "Looking in indexes: https://pypi.org/simple, https://us-python.pkg.dev/colab-wheels/public/simple/\n",
            "Collecting pydub\n",
            "  Downloading pydub-0.25.1-py2.py3-none-any.whl (32 kB)\n",
            "Installing collected packages: pydub\n",
            "Successfully installed pydub-0.25.1\n"
          ]
        }
      ]
    },
    {
      "cell_type": "code",
      "source": [
        "from google.colab import drive\n",
        "drive.mount('/content/drive')"
      ],
      "metadata": {
        "colab": {
          "base_uri": "https://localhost:8080/"
        },
        "id": "JLKgn4r_5SzM",
        "outputId": "3ccc33a3-44a2-4c1e-8851-f4404c614881"
      },
      "execution_count": 2,
      "outputs": [
        {
          "output_type": "stream",
          "name": "stdout",
          "text": [
            "Mounted at /content/drive\n"
          ]
        }
      ]
    },
    {
      "cell_type": "code",
      "source": [
        "path = '/content/drive/MyDrive/DAI/Sound recordings/English1.m4a'\n",
        "dest = '/content/drive/MyDrive/DAI/Audio_english/'\n",
        "#cnt = 0"
      ],
      "metadata": {
        "id": "r1mPtZg65F5H"
      },
      "execution_count": 13,
      "outputs": []
    },
    {
      "cell_type": "code",
      "source": [
        "from pydub import AudioSegment\n",
        "\n",
        "# Load audio file\n",
        "audio_file = AudioSegment.from_file(path)\n",
        "\n",
        "# Define interval length in milliseconds\n",
        "interval_length = 6000\n",
        "\n",
        "# Split audio file into intervals of interval_length\n",
        "intervals = [audio_file[start:start+interval_length] for start in range(0, len(audio_file), interval_length)]\n",
        "\n",
        "# Export each interval as a separate audio file\n",
        "for i, interval in enumerate(intervals):\n",
        "    interval.export(dest+f\"interval_{cnt}.wav\", format=\"wav\")\n",
        "    cnt+=1"
      ],
      "metadata": {
        "id": "DoOeLO3f5F7Z"
      },
      "execution_count": 14,
      "outputs": []
    },
    {
      "cell_type": "code",
      "source": [],
      "metadata": {
        "id": "40eCbJj4Sws1"
      },
      "execution_count": null,
      "outputs": []
    }
  ],
  "metadata": {
    "colab": {
      "provenance": [],
      "include_colab_link": true
    },
    "kernelspec": {
      "display_name": "Python 3",
      "language": "python",
      "name": "python3"
    },
    "language_info": {
      "codemirror_mode": {
        "name": "ipython",
        "version": 3
      },
      "file_extension": ".py",
      "mimetype": "text/x-python",
      "name": "python",
      "nbconvert_exporter": "python",
      "pygments_lexer": "ipython3",
      "version": "3.7.4"
    },
    "accelerator": "GPU",
    "gpuClass": "standard"
  },
  "nbformat": 4,
  "nbformat_minor": 0
}