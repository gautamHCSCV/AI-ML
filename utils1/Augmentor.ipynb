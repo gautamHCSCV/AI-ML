{
  "nbformat": 4,
  "nbformat_minor": 0,
  "metadata": {
    "colab": {
      "provenance": []
    },
    "kernelspec": {
      "name": "python3",
      "display_name": "Python 3"
    },
    "language_info": {
      "name": "python"
    }
  },
  "cells": [
    {
      "cell_type": "code",
      "execution_count": 1,
      "metadata": {
        "colab": {
          "base_uri": "https://localhost:8080/"
        },
        "id": "4FhK1uHxwOey",
        "outputId": "abe9ce43-8541-4651-9f7a-fec6176fcc61"
      },
      "outputs": [
        {
          "output_type": "stream",
          "name": "stdout",
          "text": [
            "Collecting Augmentor\n",
            "  Downloading Augmentor-0.2.12-py2.py3-none-any.whl (38 kB)\n",
            "Requirement already satisfied: Pillow>=5.2.0 in /usr/local/lib/python3.10/dist-packages (from Augmentor) (9.4.0)\n",
            "Requirement already satisfied: tqdm>=4.9.0 in /usr/local/lib/python3.10/dist-packages (from Augmentor) (4.66.4)\n",
            "Requirement already satisfied: numpy>=1.11.0 in /usr/local/lib/python3.10/dist-packages (from Augmentor) (1.25.2)\n",
            "Installing collected packages: Augmentor\n",
            "Successfully installed Augmentor-0.2.12\n"
          ]
        }
      ],
      "source": [
        "!pip install Augmentor"
      ]
    },
    {
      "cell_type": "code",
      "source": [
        "from google.colab import drive\n",
        "drive.mount('/content/drive')"
      ],
      "metadata": {
        "colab": {
          "base_uri": "https://localhost:8080/"
        },
        "id": "0Jxq_t-LwWME",
        "outputId": "be00245d-5323-4dea-fe30-849a0d908326"
      },
      "execution_count": 2,
      "outputs": [
        {
          "output_type": "stream",
          "name": "stdout",
          "text": [
            "Mounted at /content/drive\n"
          ]
        }
      ]
    },
    {
      "cell_type": "code",
      "source": [
        "import Augmentor\n",
        "import os\n",
        "\n",
        "# Define the input/output directory\n",
        "directory = \"/content/drive/MyDrive/Classification/Amul/Amulya\"\n",
        "\n",
        "# Create a pipeline\n",
        "p = Augmentor.Pipeline(source_directory=directory, output_directory=directory)\n",
        "\n",
        "# Add operations to the pipeline\n",
        "# p.flip_left_right(probability=0.5)  # 50% chance to flip horizontally\n",
        "# p.flip_top_bottom(probability=0.5)  # 50% chance to flip vertically\n",
        "p.random_contrast(probability=0.5, min_factor=0.3, max_factor=1.9)  # Adjust contrast\n",
        "p.crop_random(probability=0.5, percentage_area=0.7)  # Random crop\n",
        "\n",
        "# Count the number of original images in the directory\n",
        "num_original_images = len([f for f in os.listdir(directory) if f.endswith(('jpeg', 'png', 'jpg', 'bmp', 'gif'))])\n",
        "\n",
        "# Specify the number of samples to be generated (to reach a total of 30 images)\n",
        "num_augmentations_needed = 200 - num_original_images\n",
        "if num_augmentations_needed > 0:\n",
        "    p.sample(num_augmentations_needed)\n",
        "\n",
        "print(\"Data augmentation complete. Check the directory for augmented images.\")"
      ],
      "metadata": {
        "colab": {
          "base_uri": "https://localhost:8080/"
        },
        "id": "KIW8jfDtwO4y",
        "outputId": "2270f697-335f-4e19-8ab7-d48f52871958"
      },
      "execution_count": 11,
      "outputs": [
        {
          "output_type": "stream",
          "name": "stdout",
          "text": [
            "Initialised with 150 image(s) found.\n",
            "Output directory set to /content/drive/MyDrive/Classification/Amul/Amulya."
          ]
        },
        {
          "output_type": "stream",
          "name": "stderr",
          "text": [
            "Processing <PIL.Image.Image image mode=RGB size=197x438 at 0x7A47607B3220>: 100%|██████████| 50/50 [00:01<00:00, 42.76 Samples/s]"
          ]
        },
        {
          "output_type": "stream",
          "name": "stdout",
          "text": [
            "Data augmentation complete. Check the directory for augmented images.\n"
          ]
        },
        {
          "output_type": "stream",
          "name": "stderr",
          "text": [
            "\n"
          ]
        }
      ]
    },
    {
      "cell_type": "code",
      "source": [
        "len(os.listdir(\"/content/drive/MyDrive/Classification/Amul/Amulya\"))"
      ],
      "metadata": {
        "colab": {
          "base_uri": "https://localhost:8080/"
        },
        "id": "XjfvEjBwwO6w",
        "outputId": "b3b382c7-5d6e-4b62-860b-3dae92e50c7f"
      },
      "execution_count": 8,
      "outputs": [
        {
          "output_type": "execute_result",
          "data": {
            "text/plain": [
              "30"
            ]
          },
          "metadata": {},
          "execution_count": 8
        }
      ]
    },
    {
      "cell_type": "code",
      "source": [],
      "metadata": {
        "id": "R2CiV6PvxY6T"
      },
      "execution_count": null,
      "outputs": []
    }
  ]
}