{
  "nbformat": 4,
  "nbformat_minor": 0,
  "metadata": {
    "colab": {
      "name": "use_me2.ipynb",
      "provenance": [],
      "collapsed_sections": [],
      "include_colab_link": true
    },
    "kernelspec": {
      "display_name": "Python 3",
      "language": "python",
      "name": "python3"
    },
    "language_info": {
      "codemirror_mode": {
        "name": "ipython",
        "version": 3
      },
      "file_extension": ".py",
      "mimetype": "text/x-python",
      "name": "python",
      "nbconvert_exporter": "python",
      "pygments_lexer": "ipython3",
      "version": "3.7.4"
    }
  },
  "cells": [
    {
      "cell_type": "markdown",
      "metadata": {
        "id": "view-in-github",
        "colab_type": "text"
      },
      "source": [
        "<a href=\"https://colab.research.google.com/github/gautamHCSCV/AI-ML/blob/main/FBL_object5_mixed.ipynb\" target=\"_parent\"><img src=\"https://colab.research.google.com/assets/colab-badge.svg\" alt=\"Open In Colab\"/></a>"
      ]
    },
    {
      "cell_type": "code",
      "source": [
        "import pandas as pd\n",
        "import numpy as np\n",
        "from sklearn.metrics import mean_squared_error\n",
        "import os\n",
        "from collections import defaultdict\n",
        "import bisect"
      ],
      "metadata": {
        "id": "Cv6CR0m8H86v"
      },
      "execution_count": 2,
      "outputs": []
    },
    {
      "cell_type": "code",
      "source": [
        "z = pd.read_csv('/content/a_inp_z_obj_5.csv')\n",
        "gk = pd.read_csv('/content/a_out_gk_obj_5.csv')\n",
        "print(z.head())\n",
        "gk.head()"
      ],
      "metadata": {
        "colab": {
          "base_uri": "https://localhost:8080/",
          "height": 310
        },
        "id": "X8EkXbooIgUv",
        "outputId": "b59befe2-ef90-4db0-ca1d-d935fb28d8f8"
      },
      "execution_count": 4,
      "outputs": [
        {
          "output_type": "stream",
          "name": "stdout",
          "text": [
            "   0.85067  0.76295  0.28974        1\n",
            "0  0.85792  0.67666  0.28126  0.87068\n",
            "1  0.89523  0.65130  0.26116  0.64944\n",
            "2  0.93618  0.70254  0.23170  0.42579\n",
            "3  0.96145  0.68654  0.20020  0.24519\n",
            "4  0.99155  0.74185  0.17283  0.12884\n"
          ]
        },
        {
          "output_type": "execute_result",
          "data": {
            "text/plain": [
              "    3.159  -3.568    0.3805  0.22674  -0.033634  0.029722  -0.012307  \\\n",
              "0  3.0080 -3.5635  0.136710  0.41976  -0.053142  0.065635   0.000700   \n",
              "1  2.7746 -3.3346 -0.061321  0.51460  -0.026471  0.042303   0.019201   \n",
              "2  2.5506 -2.9690 -0.224540  0.42097   0.040811 -0.040104   0.037589   \n",
              "3  2.3522 -2.5314 -0.359090  0.18256   0.124930 -0.078527   0.043146   \n",
              "4  2.1882 -2.1056 -0.461560 -0.13631   0.201170 -0.044511   0.022774   \n",
              "\n",
              "   0.024285  0.007759  0.012772  -0.0053414  \n",
              "0  0.036728 -0.006515  0.086254   -0.026632  \n",
              "1  0.017243 -0.017620  0.043524   -0.008538  \n",
              "2 -0.013955 -0.005813 -0.005594    0.017073  \n",
              "3  0.023792  0.001703  0.031520    0.009851  \n",
              "4  0.068382 -0.007223  0.021565   -0.011863  "
            ],
            "text/html": [
              "\n",
              "  <div id=\"df-b5da3622-776e-4c09-8727-7f3e668b013d\">\n",
              "    <div class=\"colab-df-container\">\n",
              "      <div>\n",
              "<style scoped>\n",
              "    .dataframe tbody tr th:only-of-type {\n",
              "        vertical-align: middle;\n",
              "    }\n",
              "\n",
              "    .dataframe tbody tr th {\n",
              "        vertical-align: top;\n",
              "    }\n",
              "\n",
              "    .dataframe thead th {\n",
              "        text-align: right;\n",
              "    }\n",
              "</style>\n",
              "<table border=\"1\" class=\"dataframe\">\n",
              "  <thead>\n",
              "    <tr style=\"text-align: right;\">\n",
              "      <th></th>\n",
              "      <th>3.159</th>\n",
              "      <th>-3.568</th>\n",
              "      <th>0.3805</th>\n",
              "      <th>0.22674</th>\n",
              "      <th>-0.033634</th>\n",
              "      <th>0.029722</th>\n",
              "      <th>-0.012307</th>\n",
              "      <th>0.024285</th>\n",
              "      <th>0.007759</th>\n",
              "      <th>0.012772</th>\n",
              "      <th>-0.0053414</th>\n",
              "    </tr>\n",
              "  </thead>\n",
              "  <tbody>\n",
              "    <tr>\n",
              "      <th>0</th>\n",
              "      <td>3.0080</td>\n",
              "      <td>-3.5635</td>\n",
              "      <td>0.136710</td>\n",
              "      <td>0.41976</td>\n",
              "      <td>-0.053142</td>\n",
              "      <td>0.065635</td>\n",
              "      <td>0.000700</td>\n",
              "      <td>0.036728</td>\n",
              "      <td>-0.006515</td>\n",
              "      <td>0.086254</td>\n",
              "      <td>-0.026632</td>\n",
              "    </tr>\n",
              "    <tr>\n",
              "      <th>1</th>\n",
              "      <td>2.7746</td>\n",
              "      <td>-3.3346</td>\n",
              "      <td>-0.061321</td>\n",
              "      <td>0.51460</td>\n",
              "      <td>-0.026471</td>\n",
              "      <td>0.042303</td>\n",
              "      <td>0.019201</td>\n",
              "      <td>0.017243</td>\n",
              "      <td>-0.017620</td>\n",
              "      <td>0.043524</td>\n",
              "      <td>-0.008538</td>\n",
              "    </tr>\n",
              "    <tr>\n",
              "      <th>2</th>\n",
              "      <td>2.5506</td>\n",
              "      <td>-2.9690</td>\n",
              "      <td>-0.224540</td>\n",
              "      <td>0.42097</td>\n",
              "      <td>0.040811</td>\n",
              "      <td>-0.040104</td>\n",
              "      <td>0.037589</td>\n",
              "      <td>-0.013955</td>\n",
              "      <td>-0.005813</td>\n",
              "      <td>-0.005594</td>\n",
              "      <td>0.017073</td>\n",
              "    </tr>\n",
              "    <tr>\n",
              "      <th>3</th>\n",
              "      <td>2.3522</td>\n",
              "      <td>-2.5314</td>\n",
              "      <td>-0.359090</td>\n",
              "      <td>0.18256</td>\n",
              "      <td>0.124930</td>\n",
              "      <td>-0.078527</td>\n",
              "      <td>0.043146</td>\n",
              "      <td>0.023792</td>\n",
              "      <td>0.001703</td>\n",
              "      <td>0.031520</td>\n",
              "      <td>0.009851</td>\n",
              "    </tr>\n",
              "    <tr>\n",
              "      <th>4</th>\n",
              "      <td>2.1882</td>\n",
              "      <td>-2.1056</td>\n",
              "      <td>-0.461560</td>\n",
              "      <td>-0.13631</td>\n",
              "      <td>0.201170</td>\n",
              "      <td>-0.044511</td>\n",
              "      <td>0.022774</td>\n",
              "      <td>0.068382</td>\n",
              "      <td>-0.007223</td>\n",
              "      <td>0.021565</td>\n",
              "      <td>-0.011863</td>\n",
              "    </tr>\n",
              "  </tbody>\n",
              "</table>\n",
              "</div>\n",
              "      <button class=\"colab-df-convert\" onclick=\"convertToInteractive('df-b5da3622-776e-4c09-8727-7f3e668b013d')\"\n",
              "              title=\"Convert this dataframe to an interactive table.\"\n",
              "              style=\"display:none;\">\n",
              "        \n",
              "  <svg xmlns=\"http://www.w3.org/2000/svg\" height=\"24px\"viewBox=\"0 0 24 24\"\n",
              "       width=\"24px\">\n",
              "    <path d=\"M0 0h24v24H0V0z\" fill=\"none\"/>\n",
              "    <path d=\"M18.56 5.44l.94 2.06.94-2.06 2.06-.94-2.06-.94-.94-2.06-.94 2.06-2.06.94zm-11 1L8.5 8.5l.94-2.06 2.06-.94-2.06-.94L8.5 2.5l-.94 2.06-2.06.94zm10 10l.94 2.06.94-2.06 2.06-.94-2.06-.94-.94-2.06-.94 2.06-2.06.94z\"/><path d=\"M17.41 7.96l-1.37-1.37c-.4-.4-.92-.59-1.43-.59-.52 0-1.04.2-1.43.59L10.3 9.45l-7.72 7.72c-.78.78-.78 2.05 0 2.83L4 21.41c.39.39.9.59 1.41.59.51 0 1.02-.2 1.41-.59l7.78-7.78 2.81-2.81c.8-.78.8-2.07 0-2.86zM5.41 20L4 18.59l7.72-7.72 1.47 1.35L5.41 20z\"/>\n",
              "  </svg>\n",
              "      </button>\n",
              "      \n",
              "  <style>\n",
              "    .colab-df-container {\n",
              "      display:flex;\n",
              "      flex-wrap:wrap;\n",
              "      gap: 12px;\n",
              "    }\n",
              "\n",
              "    .colab-df-convert {\n",
              "      background-color: #E8F0FE;\n",
              "      border: none;\n",
              "      border-radius: 50%;\n",
              "      cursor: pointer;\n",
              "      display: none;\n",
              "      fill: #1967D2;\n",
              "      height: 32px;\n",
              "      padding: 0 0 0 0;\n",
              "      width: 32px;\n",
              "    }\n",
              "\n",
              "    .colab-df-convert:hover {\n",
              "      background-color: #E2EBFA;\n",
              "      box-shadow: 0px 1px 2px rgba(60, 64, 67, 0.3), 0px 1px 3px 1px rgba(60, 64, 67, 0.15);\n",
              "      fill: #174EA6;\n",
              "    }\n",
              "\n",
              "    [theme=dark] .colab-df-convert {\n",
              "      background-color: #3B4455;\n",
              "      fill: #D2E3FC;\n",
              "    }\n",
              "\n",
              "    [theme=dark] .colab-df-convert:hover {\n",
              "      background-color: #434B5C;\n",
              "      box-shadow: 0px 1px 3px 1px rgba(0, 0, 0, 0.15);\n",
              "      filter: drop-shadow(0px 1px 2px rgba(0, 0, 0, 0.3));\n",
              "      fill: #FFFFFF;\n",
              "    }\n",
              "  </style>\n",
              "\n",
              "      <script>\n",
              "        const buttonEl =\n",
              "          document.querySelector('#df-b5da3622-776e-4c09-8727-7f3e668b013d button.colab-df-convert');\n",
              "        buttonEl.style.display =\n",
              "          google.colab.kernel.accessAllowed ? 'block' : 'none';\n",
              "\n",
              "        async function convertToInteractive(key) {\n",
              "          const element = document.querySelector('#df-b5da3622-776e-4c09-8727-7f3e668b013d');\n",
              "          const dataTable =\n",
              "            await google.colab.kernel.invokeFunction('convertToInteractive',\n",
              "                                                     [key], {});\n",
              "          if (!dataTable) return;\n",
              "\n",
              "          const docLinkHtml = 'Like what you see? Visit the ' +\n",
              "            '<a target=\"_blank\" href=https://colab.research.google.com/notebooks/data_table.ipynb>data table notebook</a>'\n",
              "            + ' to learn more about interactive tables.';\n",
              "          element.innerHTML = '';\n",
              "          dataTable['output_type'] = 'display_data';\n",
              "          await google.colab.output.renderOutput(dataTable, element);\n",
              "          const docLink = document.createElement('div');\n",
              "          docLink.innerHTML = docLinkHtml;\n",
              "          element.appendChild(docLink);\n",
              "        }\n",
              "      </script>\n",
              "    </div>\n",
              "  </div>\n",
              "  "
            ]
          },
          "metadata": {},
          "execution_count": 4
        }
      ]
    },
    {
      "cell_type": "code",
      "source": [
        "len(z),len(gk.columns)"
      ],
      "metadata": {
        "id": "es2W3VOEIgZc",
        "colab": {
          "base_uri": "https://localhost:8080/"
        },
        "outputId": "94e08c73-fdf7-4e99-d192-0ee7808498c5"
      },
      "execution_count": 9,
      "outputs": [
        {
          "output_type": "execute_result",
          "data": {
            "text/plain": [
              "(77, 11)"
            ]
          },
          "metadata": {},
          "execution_count": 9
        }
      ]
    },
    {
      "cell_type": "code",
      "source": [
        "from scipy import *\n",
        "from scipy.linalg import norm, pinv\n",
        "import math\n",
        "from sklearn.linear_model import LinearRegression\n",
        "\n",
        "from matplotlib import pyplot as plt\n",
        "\n",
        "# y = Wx + P\n",
        "class RBF:\n",
        "     \n",
        "    def __init__(self, indim, outdim, center_inds):\n",
        "        self.indim = indim\n",
        "        self.center_inds = center_inds\n",
        "        self.outdim = outdim\n",
        "        self.numCenters = len(self.center_inds)\n",
        "        self.centers = [np.random.uniform(-1, 1, indim) for i in range(self.numCenters)]\n",
        "        self.W = np.random.random((self.numCenters, self.outdim))\n",
        "        self.P = LinearRegression()\n",
        "        self.lr = LinearRegression()\n",
        "         \n",
        "    def _basisfunc(self, c, d):\n",
        "        assert len(d) == self.indim\n",
        "        return norm(c-d)**1.5\n",
        "     \n",
        "    def _calcAct(self, X):\n",
        "        # calculate activations of RBFs\n",
        "        G = np.zeros((X.shape[0], self.numCenters), float)\n",
        "        for ci, c in enumerate(self.centers):\n",
        "            for xi, x in enumerate(X):\n",
        "                G[xi,ci] = self._basisfunc(c, x)\n",
        "        return G\n",
        "     \n",
        "    def train(self, X, Y):\n",
        "        \"\"\" X: matrix of dimensions n x indim \n",
        "            y: column vector of dimension n x 1 \"\"\"\n",
        "         \n",
        "        # choose random center vectors from training set\n",
        "        self.P.fit(X,Y)\n",
        "        rnd_idx = self.center_inds\n",
        "        self.centers = [X[i,:] for i in rnd_idx]\n",
        "         \n",
        "        # print(\"center\", self.centers)\n",
        "        # calculate activations of RBFs\n",
        "        G = self._calcAct(X)\n",
        "        # print(G) \n",
        "        # calculate output weights (pseudoinverse)\n",
        "        self.W = np.dot(pinv(G), Y)\n",
        "        val = np.zeros((len(X),2))\n",
        "        val[:,0] = np.dot(G, self.W)\n",
        "        val[:,1] = self.P.predict(X)\n",
        "        # print(val.shape)\n",
        "        self.lr.fit(val,Y)\n",
        "        \n",
        "         \n",
        "    def test(self, X):\n",
        "        \"\"\" X: matrix of dimensions n x indim \"\"\"\n",
        "         \n",
        "        G = self._calcAct(X)\n",
        "        Y = np.dot(G, self.W)\n",
        "        Y2 = self.P.predict(X)\n",
        "        val = np.zeros((len(X),2))\n",
        "        val[:,0] = Y\n",
        "        val[:,1] = Y2\n",
        "        return self.lr.predict(val)"
      ],
      "metadata": {
        "id": "Tc_B22_AH8_t"
      },
      "execution_count": 5,
      "outputs": []
    },
    {
      "cell_type": "code",
      "source": [
        "def FBL(value):\n",
        "    centers_ind = [1]\n",
        "    got = defaultdict(lambda : 1)\n",
        "    got[1]=0\n",
        "    for q in range(11):\n",
        "        x = np.array(z.iloc[:,:])\n",
        "        y = np.array(gk.iloc[:,q])\n",
        "        \n",
        "        rbf = RBF(4, 1,centers_ind)\n",
        "        rbf.train(x, y)\n",
        "\n",
        "        y1 = rbf.test(x)\n",
        "        maxi,ind = 0,0\n",
        "        for i in range(len(y)):\n",
        "                if i not in centers_ind and norm(y[i]-y1[i])/(1+norm(y[i]))>maxi:\n",
        "                    maxi = norm(y[i]-y1[i])/(1+norm(y[i]))\n",
        "                    ind = i\n",
        "        p = 0.5\n",
        "        error = mean_squared_error(y,y1)**p\n",
        "\n",
        "        while error>0.15 and len(centers_ind)<len(y)//4:\n",
        "                centers_ind.append(ind)\n",
        "                for j in range(ind-3,ind+3):\n",
        "                    got[j]=0\n",
        "                rbf = RBF(4, 1, centers_ind)\n",
        "                rbf.train(x,y)\n",
        "\n",
        "                y1 = rbf.test(x)\n",
        "\n",
        "                maxi,ind = 0,0\n",
        "                for i in range(len(y)):\n",
        "                    if got[i] and norm(y[i]-y1[i])/(1+norm(y[i]))>maxi:\n",
        "                        maxi = norm(y[i]-y1[i])/(1+norm(y[i]))\n",
        "                        ind = i\n",
        "                error = mean_squared_error(y,y1)**p\n",
        "                #print(error,ind)\n",
        "        print(centers_ind)\n",
        "    return centers_ind"
      ],
      "metadata": {
        "id": "V5-F--sCH9CF"
      },
      "execution_count": 7,
      "outputs": []
    },
    {
      "cell_type": "code",
      "source": [
        "FBL(1)"
      ],
      "metadata": {
        "id": "QFphYX9zH9Ed",
        "colab": {
          "base_uri": "https://localhost:8080/"
        },
        "outputId": "35397af7-3254-4941-ce92-b4aef0221620"
      },
      "execution_count": 8,
      "outputs": [
        {
          "output_type": "stream",
          "name": "stdout",
          "text": [
            "[1, 11, 24, 38, 65, 49, 16, 3]\n",
            "[1, 11, 24, 38, 65, 49, 16, 3, 10, 32, 19, 6, 76, 61, 71, 43, 28, 57, 53]\n",
            "[1, 11, 24, 38, 65, 49, 16, 3, 10, 32, 19, 6, 76, 61, 71, 43, 28, 57, 53]\n",
            "[1, 11, 24, 38, 65, 49, 16, 3, 10, 32, 19, 6, 76, 61, 71, 43, 28, 57, 53]\n",
            "[1, 11, 24, 38, 65, 49, 16, 3, 10, 32, 19, 6, 76, 61, 71, 43, 28, 57, 53]\n",
            "[1, 11, 24, 38, 65, 49, 16, 3, 10, 32, 19, 6, 76, 61, 71, 43, 28, 57, 53]\n",
            "[1, 11, 24, 38, 65, 49, 16, 3, 10, 32, 19, 6, 76, 61, 71, 43, 28, 57, 53]\n",
            "[1, 11, 24, 38, 65, 49, 16, 3, 10, 32, 19, 6, 76, 61, 71, 43, 28, 57, 53]\n",
            "[1, 11, 24, 38, 65, 49, 16, 3, 10, 32, 19, 6, 76, 61, 71, 43, 28, 57, 53]\n",
            "[1, 11, 24, 38, 65, 49, 16, 3, 10, 32, 19, 6, 76, 61, 71, 43, 28, 57, 53]\n",
            "[1, 11, 24, 38, 65, 49, 16, 3, 10, 32, 19, 6, 76, 61, 71, 43, 28, 57, 53]\n"
          ]
        },
        {
          "output_type": "execute_result",
          "data": {
            "text/plain": [
              "[1, 11, 24, 38, 65, 49, 16, 3, 10, 32, 19, 6, 76, 61, 71, 43, 28, 57, 53]"
            ]
          },
          "metadata": {},
          "execution_count": 8
        }
      ]
    },
    {
      "cell_type": "code",
      "source": [
        ""
      ],
      "metadata": {
        "id": "RPqrYmM9H9JR"
      },
      "execution_count": null,
      "outputs": []
    }
  ]
}