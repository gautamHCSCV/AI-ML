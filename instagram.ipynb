{
  "cells": [
    {
      "cell_type": "markdown",
      "metadata": {
        "id": "view-in-github",
        "colab_type": "text"
      },
      "source": [
        "<a href=\"https://colab.research.google.com/github/gautamHCSCV/AI-ML/blob/main/instagram.ipynb\" target=\"_parent\"><img src=\"https://colab.research.google.com/assets/colab-badge.svg\" alt=\"Open In Colab\"/></a>"
      ]
    },
    {
      "cell_type": "code",
      "source": [
        "import re\n",
        "\n",
        "def parse_html(html_file):\n",
        "    # Use regex to extract username from the HTML file\n",
        "    pattern = re.compile(r'<a.*?>(.*?)</a>')\n",
        "    with open(html_file, 'r') as file:\n",
        "        contents = file.read()\n",
        "        usernames = re.findall(pattern, contents)\n",
        "    return usernames\n",
        "\n",
        "def find_non_matching_users(followers_file, following_file):\n",
        "    followers = set(parse_html(followers_file))\n",
        "    following = set(parse_html(following_file))\n",
        "    non_matching_users = following.difference(followers)\n",
        "    return non_matching_users\n",
        "\n",
        "# Example usage\n",
        "followers_file = '/content/followers.html'\n",
        "following_file = '/content/following.html'\n",
        "non_matching_users = find_non_matching_users(followers_file, following_file)\n",
        "print(\"Non-matching users:\", list(non_matching_users))"
      ],
      "metadata": {
        "id": "CNWAFB9hU9FA"
      },
      "execution_count": null,
      "outputs": []
    },
    {
      "cell_type": "code",
      "source": [],
      "metadata": {
        "id": "7cei5qMb_J91"
      },
      "execution_count": null,
      "outputs": []
    },
    {
      "cell_type": "code",
      "source": [],
      "metadata": {
        "id": "eXBRhoII_KAN"
      },
      "execution_count": null,
      "outputs": []
    }
  ],
  "metadata": {
    "colab": {
      "provenance": [],
      "include_colab_link": true
    },
    "kernelspec": {
      "display_name": "Python 3",
      "language": "python",
      "name": "python3"
    },
    "language_info": {
      "codemirror_mode": {
        "name": "ipython",
        "version": 3
      },
      "file_extension": ".py",
      "mimetype": "text/x-python",
      "name": "python",
      "nbconvert_exporter": "python",
      "pygments_lexer": "ipython3",
      "version": "3.7.4"
    },
    "accelerator": "GPU",
    "gpuClass": "standard"
  },
  "nbformat": 4,
  "nbformat_minor": 0
}